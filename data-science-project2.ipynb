{
 "cells": [
  {
   "cell_type": "markdown",
   "id": "be81658b",
   "metadata": {
    "deletable": false,
    "editable": false,
    "id": "c81daeeb"
   },
   "source": [
    "# Исследование надежности заемщиков\n"
   ]
  },
  {
   "cell_type": "markdown",
   "id": "56bc3fc6",
   "metadata": {
    "deletable": false,
    "editable": false,
    "id": "744d7639"
   },
   "source": [
    "## Откройте таблицу и изучите общую информацию о данных"
   ]
  },
  {
   "cell_type": "markdown",
   "id": "637a714b",
   "metadata": {
    "deletable": false,
    "editable": false,
    "id": "e7a14c31"
   },
   "source": [
    "**Задание 1. Импортируйте библиотеку pandas. Считайте данные из csv-файла в датафрейм и сохраните в переменную `data`. Путь к файлу:**\n",
    "\n",
    "`/datasets/data.csv`"
   ]
  },
  {
   "cell_type": "code",
   "execution_count": 1,
   "id": "06004ab1",
   "metadata": {
    "deletable": false,
    "id": "7bcf75c9"
   },
   "outputs": [],
   "source": [
    "import pandas as pd\n",
    "\n",
    "try:\n",
    "    data = pd.read_csv('/datasets/data.csv')\n",
    "except:\n",
    "    data = pd.read_csv('https://code.s3.yandex.net/datasets/data.csv')"
   ]
  },
  {
   "cell_type": "markdown",
   "id": "71d15131",
   "metadata": {
    "deletable": false,
    "editable": false,
    "id": "b8038fe3"
   },
   "source": [
    "**Задание 2. Выведите первые 20 строчек датафрейма `data` на экран.**"
   ]
  },
  {
   "cell_type": "code",
   "execution_count": 2,
   "id": "0c393fad",
   "metadata": {
    "deletable": false,
    "id": "2a7cab99",
    "outputId": "1a8f3ef2-d323-4ec2-ddf7-89670b5944c4"
   },
   "outputs": [
    {
     "data": {
      "text/html": [
       "<div>\n",
       "<style scoped>\n",
       "    .dataframe tbody tr th:only-of-type {\n",
       "        vertical-align: middle;\n",
       "    }\n",
       "\n",
       "    .dataframe tbody tr th {\n",
       "        vertical-align: top;\n",
       "    }\n",
       "\n",
       "    .dataframe thead th {\n",
       "        text-align: right;\n",
       "    }\n",
       "</style>\n",
       "<table border=\"1\" class=\"dataframe\">\n",
       "  <thead>\n",
       "    <tr style=\"text-align: right;\">\n",
       "      <th></th>\n",
       "      <th>children</th>\n",
       "      <th>days_employed</th>\n",
       "      <th>dob_years</th>\n",
       "      <th>education</th>\n",
       "      <th>education_id</th>\n",
       "      <th>family_status</th>\n",
       "      <th>family_status_id</th>\n",
       "      <th>gender</th>\n",
       "      <th>income_type</th>\n",
       "      <th>debt</th>\n",
       "      <th>total_income</th>\n",
       "      <th>purpose</th>\n",
       "    </tr>\n",
       "  </thead>\n",
       "  <tbody>\n",
       "    <tr>\n",
       "      <th>0</th>\n",
       "      <td>1</td>\n",
       "      <td>-8437.673028</td>\n",
       "      <td>42</td>\n",
       "      <td>высшее</td>\n",
       "      <td>0</td>\n",
       "      <td>женат / замужем</td>\n",
       "      <td>0</td>\n",
       "      <td>F</td>\n",
       "      <td>сотрудник</td>\n",
       "      <td>0</td>\n",
       "      <td>253875.639453</td>\n",
       "      <td>покупка жилья</td>\n",
       "    </tr>\n",
       "    <tr>\n",
       "      <th>1</th>\n",
       "      <td>1</td>\n",
       "      <td>-4024.803754</td>\n",
       "      <td>36</td>\n",
       "      <td>среднее</td>\n",
       "      <td>1</td>\n",
       "      <td>женат / замужем</td>\n",
       "      <td>0</td>\n",
       "      <td>F</td>\n",
       "      <td>сотрудник</td>\n",
       "      <td>0</td>\n",
       "      <td>112080.014102</td>\n",
       "      <td>приобретение автомобиля</td>\n",
       "    </tr>\n",
       "    <tr>\n",
       "      <th>2</th>\n",
       "      <td>0</td>\n",
       "      <td>-5623.422610</td>\n",
       "      <td>33</td>\n",
       "      <td>Среднее</td>\n",
       "      <td>1</td>\n",
       "      <td>женат / замужем</td>\n",
       "      <td>0</td>\n",
       "      <td>M</td>\n",
       "      <td>сотрудник</td>\n",
       "      <td>0</td>\n",
       "      <td>145885.952297</td>\n",
       "      <td>покупка жилья</td>\n",
       "    </tr>\n",
       "    <tr>\n",
       "      <th>3</th>\n",
       "      <td>3</td>\n",
       "      <td>-4124.747207</td>\n",
       "      <td>32</td>\n",
       "      <td>среднее</td>\n",
       "      <td>1</td>\n",
       "      <td>женат / замужем</td>\n",
       "      <td>0</td>\n",
       "      <td>M</td>\n",
       "      <td>сотрудник</td>\n",
       "      <td>0</td>\n",
       "      <td>267628.550329</td>\n",
       "      <td>дополнительное образование</td>\n",
       "    </tr>\n",
       "    <tr>\n",
       "      <th>4</th>\n",
       "      <td>0</td>\n",
       "      <td>340266.072047</td>\n",
       "      <td>53</td>\n",
       "      <td>среднее</td>\n",
       "      <td>1</td>\n",
       "      <td>гражданский брак</td>\n",
       "      <td>1</td>\n",
       "      <td>F</td>\n",
       "      <td>пенсионер</td>\n",
       "      <td>0</td>\n",
       "      <td>158616.077870</td>\n",
       "      <td>сыграть свадьбу</td>\n",
       "    </tr>\n",
       "    <tr>\n",
       "      <th>5</th>\n",
       "      <td>0</td>\n",
       "      <td>-926.185831</td>\n",
       "      <td>27</td>\n",
       "      <td>высшее</td>\n",
       "      <td>0</td>\n",
       "      <td>гражданский брак</td>\n",
       "      <td>1</td>\n",
       "      <td>M</td>\n",
       "      <td>компаньон</td>\n",
       "      <td>0</td>\n",
       "      <td>255763.565419</td>\n",
       "      <td>покупка жилья</td>\n",
       "    </tr>\n",
       "    <tr>\n",
       "      <th>6</th>\n",
       "      <td>0</td>\n",
       "      <td>-2879.202052</td>\n",
       "      <td>43</td>\n",
       "      <td>высшее</td>\n",
       "      <td>0</td>\n",
       "      <td>женат / замужем</td>\n",
       "      <td>0</td>\n",
       "      <td>F</td>\n",
       "      <td>компаньон</td>\n",
       "      <td>0</td>\n",
       "      <td>240525.971920</td>\n",
       "      <td>операции с жильем</td>\n",
       "    </tr>\n",
       "    <tr>\n",
       "      <th>7</th>\n",
       "      <td>0</td>\n",
       "      <td>-152.779569</td>\n",
       "      <td>50</td>\n",
       "      <td>СРЕДНЕЕ</td>\n",
       "      <td>1</td>\n",
       "      <td>женат / замужем</td>\n",
       "      <td>0</td>\n",
       "      <td>M</td>\n",
       "      <td>сотрудник</td>\n",
       "      <td>0</td>\n",
       "      <td>135823.934197</td>\n",
       "      <td>образование</td>\n",
       "    </tr>\n",
       "    <tr>\n",
       "      <th>8</th>\n",
       "      <td>2</td>\n",
       "      <td>-6929.865299</td>\n",
       "      <td>35</td>\n",
       "      <td>ВЫСШЕЕ</td>\n",
       "      <td>0</td>\n",
       "      <td>гражданский брак</td>\n",
       "      <td>1</td>\n",
       "      <td>F</td>\n",
       "      <td>сотрудник</td>\n",
       "      <td>0</td>\n",
       "      <td>95856.832424</td>\n",
       "      <td>на проведение свадьбы</td>\n",
       "    </tr>\n",
       "    <tr>\n",
       "      <th>9</th>\n",
       "      <td>0</td>\n",
       "      <td>-2188.756445</td>\n",
       "      <td>41</td>\n",
       "      <td>среднее</td>\n",
       "      <td>1</td>\n",
       "      <td>женат / замужем</td>\n",
       "      <td>0</td>\n",
       "      <td>M</td>\n",
       "      <td>сотрудник</td>\n",
       "      <td>0</td>\n",
       "      <td>144425.938277</td>\n",
       "      <td>покупка жилья для семьи</td>\n",
       "    </tr>\n",
       "    <tr>\n",
       "      <th>10</th>\n",
       "      <td>2</td>\n",
       "      <td>-4171.483647</td>\n",
       "      <td>36</td>\n",
       "      <td>высшее</td>\n",
       "      <td>0</td>\n",
       "      <td>женат / замужем</td>\n",
       "      <td>0</td>\n",
       "      <td>M</td>\n",
       "      <td>компаньон</td>\n",
       "      <td>0</td>\n",
       "      <td>113943.491460</td>\n",
       "      <td>покупка недвижимости</td>\n",
       "    </tr>\n",
       "    <tr>\n",
       "      <th>11</th>\n",
       "      <td>0</td>\n",
       "      <td>-792.701887</td>\n",
       "      <td>40</td>\n",
       "      <td>среднее</td>\n",
       "      <td>1</td>\n",
       "      <td>женат / замужем</td>\n",
       "      <td>0</td>\n",
       "      <td>F</td>\n",
       "      <td>сотрудник</td>\n",
       "      <td>0</td>\n",
       "      <td>77069.234271</td>\n",
       "      <td>покупка коммерческой недвижимости</td>\n",
       "    </tr>\n",
       "    <tr>\n",
       "      <th>12</th>\n",
       "      <td>0</td>\n",
       "      <td>NaN</td>\n",
       "      <td>65</td>\n",
       "      <td>среднее</td>\n",
       "      <td>1</td>\n",
       "      <td>гражданский брак</td>\n",
       "      <td>1</td>\n",
       "      <td>M</td>\n",
       "      <td>пенсионер</td>\n",
       "      <td>0</td>\n",
       "      <td>NaN</td>\n",
       "      <td>сыграть свадьбу</td>\n",
       "    </tr>\n",
       "    <tr>\n",
       "      <th>13</th>\n",
       "      <td>0</td>\n",
       "      <td>-1846.641941</td>\n",
       "      <td>54</td>\n",
       "      <td>неоконченное высшее</td>\n",
       "      <td>2</td>\n",
       "      <td>женат / замужем</td>\n",
       "      <td>0</td>\n",
       "      <td>F</td>\n",
       "      <td>сотрудник</td>\n",
       "      <td>0</td>\n",
       "      <td>130458.228857</td>\n",
       "      <td>приобретение автомобиля</td>\n",
       "    </tr>\n",
       "    <tr>\n",
       "      <th>14</th>\n",
       "      <td>0</td>\n",
       "      <td>-1844.956182</td>\n",
       "      <td>56</td>\n",
       "      <td>высшее</td>\n",
       "      <td>0</td>\n",
       "      <td>гражданский брак</td>\n",
       "      <td>1</td>\n",
       "      <td>F</td>\n",
       "      <td>компаньон</td>\n",
       "      <td>1</td>\n",
       "      <td>165127.911772</td>\n",
       "      <td>покупка жилой недвижимости</td>\n",
       "    </tr>\n",
       "    <tr>\n",
       "      <th>15</th>\n",
       "      <td>1</td>\n",
       "      <td>-972.364419</td>\n",
       "      <td>26</td>\n",
       "      <td>среднее</td>\n",
       "      <td>1</td>\n",
       "      <td>женат / замужем</td>\n",
       "      <td>0</td>\n",
       "      <td>F</td>\n",
       "      <td>сотрудник</td>\n",
       "      <td>0</td>\n",
       "      <td>116820.904450</td>\n",
       "      <td>строительство собственной недвижимости</td>\n",
       "    </tr>\n",
       "    <tr>\n",
       "      <th>16</th>\n",
       "      <td>0</td>\n",
       "      <td>-1719.934226</td>\n",
       "      <td>35</td>\n",
       "      <td>среднее</td>\n",
       "      <td>1</td>\n",
       "      <td>женат / замужем</td>\n",
       "      <td>0</td>\n",
       "      <td>F</td>\n",
       "      <td>сотрудник</td>\n",
       "      <td>0</td>\n",
       "      <td>289202.704229</td>\n",
       "      <td>недвижимость</td>\n",
       "    </tr>\n",
       "    <tr>\n",
       "      <th>17</th>\n",
       "      <td>0</td>\n",
       "      <td>-2369.999720</td>\n",
       "      <td>33</td>\n",
       "      <td>высшее</td>\n",
       "      <td>0</td>\n",
       "      <td>гражданский брак</td>\n",
       "      <td>1</td>\n",
       "      <td>M</td>\n",
       "      <td>сотрудник</td>\n",
       "      <td>0</td>\n",
       "      <td>90410.586745</td>\n",
       "      <td>строительство недвижимости</td>\n",
       "    </tr>\n",
       "    <tr>\n",
       "      <th>18</th>\n",
       "      <td>0</td>\n",
       "      <td>400281.136913</td>\n",
       "      <td>53</td>\n",
       "      <td>среднее</td>\n",
       "      <td>1</td>\n",
       "      <td>вдовец / вдова</td>\n",
       "      <td>2</td>\n",
       "      <td>F</td>\n",
       "      <td>пенсионер</td>\n",
       "      <td>0</td>\n",
       "      <td>56823.777243</td>\n",
       "      <td>на покупку подержанного автомобиля</td>\n",
       "    </tr>\n",
       "    <tr>\n",
       "      <th>19</th>\n",
       "      <td>0</td>\n",
       "      <td>-10038.818549</td>\n",
       "      <td>48</td>\n",
       "      <td>СРЕДНЕЕ</td>\n",
       "      <td>1</td>\n",
       "      <td>в разводе</td>\n",
       "      <td>3</td>\n",
       "      <td>F</td>\n",
       "      <td>сотрудник</td>\n",
       "      <td>0</td>\n",
       "      <td>242831.107982</td>\n",
       "      <td>на покупку своего автомобиля</td>\n",
       "    </tr>\n",
       "  </tbody>\n",
       "</table>\n",
       "</div>"
      ],
      "text/plain": [
       "    children  days_employed  dob_years            education  education_id  \\\n",
       "0          1   -8437.673028         42               высшее             0   \n",
       "1          1   -4024.803754         36              среднее             1   \n",
       "2          0   -5623.422610         33              Среднее             1   \n",
       "3          3   -4124.747207         32              среднее             1   \n",
       "4          0  340266.072047         53              среднее             1   \n",
       "5          0    -926.185831         27               высшее             0   \n",
       "6          0   -2879.202052         43               высшее             0   \n",
       "7          0    -152.779569         50              СРЕДНЕЕ             1   \n",
       "8          2   -6929.865299         35               ВЫСШЕЕ             0   \n",
       "9          0   -2188.756445         41              среднее             1   \n",
       "10         2   -4171.483647         36               высшее             0   \n",
       "11         0    -792.701887         40              среднее             1   \n",
       "12         0            NaN         65              среднее             1   \n",
       "13         0   -1846.641941         54  неоконченное высшее             2   \n",
       "14         0   -1844.956182         56               высшее             0   \n",
       "15         1    -972.364419         26              среднее             1   \n",
       "16         0   -1719.934226         35              среднее             1   \n",
       "17         0   -2369.999720         33               высшее             0   \n",
       "18         0  400281.136913         53              среднее             1   \n",
       "19         0  -10038.818549         48              СРЕДНЕЕ             1   \n",
       "\n",
       "       family_status  family_status_id gender income_type  debt  \\\n",
       "0    женат / замужем                 0      F   сотрудник     0   \n",
       "1    женат / замужем                 0      F   сотрудник     0   \n",
       "2    женат / замужем                 0      M   сотрудник     0   \n",
       "3    женат / замужем                 0      M   сотрудник     0   \n",
       "4   гражданский брак                 1      F   пенсионер     0   \n",
       "5   гражданский брак                 1      M   компаньон     0   \n",
       "6    женат / замужем                 0      F   компаньон     0   \n",
       "7    женат / замужем                 0      M   сотрудник     0   \n",
       "8   гражданский брак                 1      F   сотрудник     0   \n",
       "9    женат / замужем                 0      M   сотрудник     0   \n",
       "10   женат / замужем                 0      M   компаньон     0   \n",
       "11   женат / замужем                 0      F   сотрудник     0   \n",
       "12  гражданский брак                 1      M   пенсионер     0   \n",
       "13   женат / замужем                 0      F   сотрудник     0   \n",
       "14  гражданский брак                 1      F   компаньон     1   \n",
       "15   женат / замужем                 0      F   сотрудник     0   \n",
       "16   женат / замужем                 0      F   сотрудник     0   \n",
       "17  гражданский брак                 1      M   сотрудник     0   \n",
       "18    вдовец / вдова                 2      F   пенсионер     0   \n",
       "19         в разводе                 3      F   сотрудник     0   \n",
       "\n",
       "     total_income                                 purpose  \n",
       "0   253875.639453                           покупка жилья  \n",
       "1   112080.014102                 приобретение автомобиля  \n",
       "2   145885.952297                           покупка жилья  \n",
       "3   267628.550329              дополнительное образование  \n",
       "4   158616.077870                         сыграть свадьбу  \n",
       "5   255763.565419                           покупка жилья  \n",
       "6   240525.971920                       операции с жильем  \n",
       "7   135823.934197                             образование  \n",
       "8    95856.832424                   на проведение свадьбы  \n",
       "9   144425.938277                 покупка жилья для семьи  \n",
       "10  113943.491460                    покупка недвижимости  \n",
       "11   77069.234271       покупка коммерческой недвижимости  \n",
       "12            NaN                         сыграть свадьбу  \n",
       "13  130458.228857                 приобретение автомобиля  \n",
       "14  165127.911772              покупка жилой недвижимости  \n",
       "15  116820.904450  строительство собственной недвижимости  \n",
       "16  289202.704229                            недвижимость  \n",
       "17   90410.586745              строительство недвижимости  \n",
       "18   56823.777243      на покупку подержанного автомобиля  \n",
       "19  242831.107982            на покупку своего автомобиля  "
      ]
     },
     "execution_count": 2,
     "metadata": {},
     "output_type": "execute_result"
    }
   ],
   "source": [
    "data.head(20)"
   ]
  },
  {
   "cell_type": "markdown",
   "id": "bc1af9ae",
   "metadata": {
    "deletable": false,
    "editable": false,
    "id": "1c12e233"
   },
   "source": [
    "**Задание 3. Выведите основную информацию о датафрейме с помощью метода `info()`.**"
   ]
  },
  {
   "cell_type": "code",
   "execution_count": 3,
   "id": "faa616bd",
   "metadata": {
    "deletable": false,
    "id": "2b757bca",
    "outputId": "15376089-8dad-46c9-b520-c05248d43158"
   },
   "outputs": [
    {
     "name": "stdout",
     "output_type": "stream",
     "text": [
      "<class 'pandas.core.frame.DataFrame'>\n",
      "RangeIndex: 21525 entries, 0 to 21524\n",
      "Data columns (total 12 columns):\n",
      " #   Column            Non-Null Count  Dtype  \n",
      "---  ------            --------------  -----  \n",
      " 0   children          21525 non-null  int64  \n",
      " 1   days_employed     19351 non-null  float64\n",
      " 2   dob_years         21525 non-null  int64  \n",
      " 3   education         21525 non-null  object \n",
      " 4   education_id      21525 non-null  int64  \n",
      " 5   family_status     21525 non-null  object \n",
      " 6   family_status_id  21525 non-null  int64  \n",
      " 7   gender            21525 non-null  object \n",
      " 8   income_type       21525 non-null  object \n",
      " 9   debt              21525 non-null  int64  \n",
      " 10  total_income      19351 non-null  float64\n",
      " 11  purpose           21525 non-null  object \n",
      "dtypes: float64(2), int64(5), object(5)\n",
      "memory usage: 2.0+ MB\n"
     ]
    }
   ],
   "source": [
    "data.info()"
   ]
  },
  {
   "cell_type": "markdown",
   "id": "5294ac59",
   "metadata": {
    "deletable": false,
    "editable": false,
    "id": "333ec665"
   },
   "source": [
    "## Предобработка данных"
   ]
  },
  {
   "cell_type": "markdown",
   "id": "65f44e85",
   "metadata": {
    "deletable": false,
    "editable": false,
    "id": "02d92d53"
   },
   "source": [
    "### Удаление пропусков"
   ]
  },
  {
   "cell_type": "markdown",
   "id": "9f0f30cb",
   "metadata": {
    "deletable": false,
    "editable": false,
    "id": "cd84967c"
   },
   "source": [
    "**Задание 4. Выведите количество пропущенных значений для каждого столбца. Используйте комбинацию двух методов.**"
   ]
  },
  {
   "cell_type": "code",
   "execution_count": 4,
   "id": "760173a3",
   "metadata": {
    "deletable": false,
    "id": "7f9b2309",
    "outputId": "81f4d817-781c-465c-ed15-91ce4446810d"
   },
   "outputs": [
    {
     "data": {
      "text/plain": [
       "children               0\n",
       "days_employed       2174\n",
       "dob_years              0\n",
       "education              0\n",
       "education_id           0\n",
       "family_status          0\n",
       "family_status_id       0\n",
       "gender                 0\n",
       "income_type            0\n",
       "debt                   0\n",
       "total_income        2174\n",
       "purpose                0\n",
       "dtype: int64"
      ]
     },
     "execution_count": 4,
     "metadata": {},
     "output_type": "execute_result"
    }
   ],
   "source": [
    "data.isna().sum()"
   ]
  },
  {
   "cell_type": "markdown",
   "id": "bbdceda3",
   "metadata": {
    "deletable": false,
    "editable": false,
    "id": "db86e27b"
   },
   "source": [
    "**Задание 5. В двух столбцах есть пропущенные значения. Один из них — `days_employed`. Пропуски в этом столбце вы обработаете на следующем этапе. Другой столбец с пропущенными значениями — `total_income` — хранит данные о доходах. На сумму дохода сильнее всего влияет тип занятости, поэтому заполнить пропуски в этом столбце нужно медианным значением по каждому типу из столбца `income_type`. Например, у человека с типом занятости `сотрудник` пропуск в столбце `total_income` должен быть заполнен медианным доходом среди всех записей с тем же типом.**"
   ]
  },
  {
   "cell_type": "code",
   "execution_count": 5,
   "id": "3e60465c",
   "metadata": {
    "deletable": false,
    "id": "42006a93"
   },
   "outputs": [],
   "source": [
    "for t in data['income_type'].unique():\n",
    "    data.loc[(data['income_type'] == t) & (data['total_income'].isna()), 'total_income'] = \\\n",
    "    data.loc[(data['income_type'] == t), 'total_income'].median()"
   ]
  },
  {
   "cell_type": "markdown",
   "id": "5f39840d",
   "metadata": {
    "deletable": false,
    "editable": false,
    "id": "89da5ece"
   },
   "source": [
    "### Обработка аномальных значений"
   ]
  },
  {
   "cell_type": "markdown",
   "id": "fa667adf",
   "metadata": {
    "deletable": false,
    "editable": false,
    "id": "57964554"
   },
   "source": [
    "**Задание 6. В данных могут встречаться артефакты (аномалии) — значения, которые не отражают действительность и появились по какой-то ошибке. таким артефактом будет отрицательное количество дней трудового стажа в столбце `days_employed`. Для реальных данных это нормально. Обработайте значения в этом столбце: замените все отрицательные значения положительными с помощью метода `abs()`.**"
   ]
  },
  {
   "cell_type": "code",
   "execution_count": 6,
   "id": "171689f6",
   "metadata": {
    "deletable": false,
    "id": "f6f055bf"
   },
   "outputs": [],
   "source": [
    "data['days_employed'] = data['days_employed'].abs()"
   ]
  },
  {
   "cell_type": "markdown",
   "id": "ed396646",
   "metadata": {
    "deletable": false,
    "editable": false,
    "id": "6107dd2f"
   },
   "source": [
    "**Задание 7. Для каждого типа занятости выведите медианное значение трудового стажа `days_employed` в днях.**"
   ]
  },
  {
   "cell_type": "code",
   "execution_count": 7,
   "id": "bfbc1fcc",
   "metadata": {
    "deletable": false,
    "id": "85a5faf6",
    "outputId": "801ef80e-522b-4668-f34e-565af7432bcf"
   },
   "outputs": [
    {
     "data": {
      "text/plain": [
       "income_type\n",
       "безработный        366413.652744\n",
       "в декрете            3296.759962\n",
       "госслужащий          2689.368353\n",
       "компаньон            1547.382223\n",
       "пенсионер          365213.306266\n",
       "предприниматель       520.848083\n",
       "сотрудник            1574.202821\n",
       "студент               578.751554\n",
       "Name: days_employed, dtype: float64"
      ]
     },
     "execution_count": 7,
     "metadata": {},
     "output_type": "execute_result"
    }
   ],
   "source": [
    "data.groupby('income_type')['days_employed'].agg('median')"
   ]
  },
  {
   "cell_type": "markdown",
   "id": "eaa49223",
   "metadata": {
    "deletable": false,
    "editable": false,
    "id": "38d1a030"
   },
   "source": [
    "У двух типов (безработные и пенсионеры) получатся аномально большие значения. Исправить такие значения сложно, поэтому оставьте их как есть. Тем более этот столбец не понадобится вам для исследования."
   ]
  },
  {
   "cell_type": "markdown",
   "id": "699984ac",
   "metadata": {
    "deletable": false,
    "editable": false,
    "id": "d8a9f147"
   },
   "source": [
    "**Задание 8. Выведите перечень уникальных значений столбца `children`.**"
   ]
  },
  {
   "cell_type": "code",
   "execution_count": 8,
   "id": "b841e768",
   "metadata": {
    "deletable": false,
    "id": "ef5056eb",
    "outputId": "6975b15c-7f95-4697-d16d-a0c79b657b03"
   },
   "outputs": [
    {
     "data": {
      "text/plain": [
       "array([ 1,  0,  3,  2, -1,  4, 20,  5])"
      ]
     },
     "execution_count": 8,
     "metadata": {},
     "output_type": "execute_result"
    }
   ],
   "source": [
    "data['children'].unique()"
   ]
  },
  {
   "cell_type": "markdown",
   "id": "f1eebd5d",
   "metadata": {
    "deletable": false,
    "editable": false,
    "id": "40b9ebf2"
   },
   "source": [
    "**Задание 9. В столбце `children` есть два аномальных значения. Удалите строки, в которых встречаются такие аномальные значения из датафрейма `data`.**"
   ]
  },
  {
   "cell_type": "code",
   "execution_count": 9,
   "id": "2cb9c876",
   "metadata": {
    "deletable": false,
    "id": "3ff9801d"
   },
   "outputs": [],
   "source": [
    "data = data[(data['children'] != -1) & (data['children'] != 20)]"
   ]
  },
  {
   "cell_type": "markdown",
   "id": "85f6cf97",
   "metadata": {
    "deletable": false,
    "editable": false,
    "id": "bbc4d0ce"
   },
   "source": [
    "**Задание 10. Ещё раз выведите перечень уникальных значений столбца `children`, чтобы убедиться, что артефакты удалены.**"
   ]
  },
  {
   "cell_type": "code",
   "execution_count": 10,
   "id": "202c24aa",
   "metadata": {
    "deletable": false,
    "id": "ad4fa8b7",
    "outputId": "b2097101-d49d-44d9-901b-32a65c9463d1"
   },
   "outputs": [
    {
     "data": {
      "text/plain": [
       "array([1, 0, 3, 2, 4, 5])"
      ]
     },
     "execution_count": 10,
     "metadata": {},
     "output_type": "execute_result"
    }
   ],
   "source": [
    "data['children'].unique()"
   ]
  },
  {
   "cell_type": "markdown",
   "id": "f73234d3",
   "metadata": {
    "deletable": false,
    "editable": false,
    "id": "75440b63"
   },
   "source": [
    "### Удаление пропусков (продолжение)"
   ]
  },
  {
   "cell_type": "markdown",
   "id": "752fc7e3",
   "metadata": {
    "deletable": false,
    "editable": false,
    "id": "f4ea573f"
   },
   "source": [
    "**Задание 11. Заполните пропуски в столбце `days_employed` медианными значениями по каждого типа занятости `income_type`.**"
   ]
  },
  {
   "cell_type": "code",
   "execution_count": 11,
   "id": "df2e3e4c",
   "metadata": {
    "deletable": false,
    "id": "af6b1a7e"
   },
   "outputs": [],
   "source": [
    "for t in data['income_type'].unique():\n",
    "    data.loc[(data['income_type'] == t) & (data['days_employed'].isna()), 'days_employed'] = \\\n",
    "    data.loc[(data['income_type'] == t), 'days_employed'].median()"
   ]
  },
  {
   "cell_type": "markdown",
   "id": "9eaf330a",
   "metadata": {
    "deletable": false,
    "editable": false,
    "id": "2753f40d"
   },
   "source": [
    "**Задание 12. Убедитесь, что все пропуски заполнены. Проверьте себя и ещё раз выведите количество пропущенных значений для каждого столбца с помощью двух методов.**"
   ]
  },
  {
   "cell_type": "code",
   "execution_count": 12,
   "id": "86b2eda8",
   "metadata": {
    "deletable": false,
    "id": "55f78bc2",
    "outputId": "8da1e4e1-358e-4e87-98c9-f261bce0a7b2"
   },
   "outputs": [
    {
     "data": {
      "text/plain": [
       "children            0\n",
       "days_employed       0\n",
       "dob_years           0\n",
       "education           0\n",
       "education_id        0\n",
       "family_status       0\n",
       "family_status_id    0\n",
       "gender              0\n",
       "income_type         0\n",
       "debt                0\n",
       "total_income        0\n",
       "purpose             0\n",
       "dtype: int64"
      ]
     },
     "execution_count": 12,
     "metadata": {},
     "output_type": "execute_result"
    }
   ],
   "source": [
    "data.isna().sum()"
   ]
  },
  {
   "cell_type": "markdown",
   "id": "aae67055",
   "metadata": {
    "deletable": false,
    "editable": false,
    "id": "ddc81e43"
   },
   "source": [
    "### Изменение типов данных"
   ]
  },
  {
   "cell_type": "markdown",
   "id": "c10a5449",
   "metadata": {
    "deletable": false,
    "editable": false,
    "id": "42d19d24"
   },
   "source": [
    "**Задание 13. Замените вещественный тип данных в столбце `total_income` на целочисленный с помощью метода `astype()`.**"
   ]
  },
  {
   "cell_type": "code",
   "execution_count": 13,
   "id": "e29dc0ad",
   "metadata": {
    "deletable": false,
    "id": "920b65ad"
   },
   "outputs": [],
   "source": [
    "data['total_income'] = data['total_income'].astype(int)"
   ]
  },
  {
   "cell_type": "markdown",
   "id": "b1fa32fe",
   "metadata": {
    "deletable": false,
    "editable": false,
    "id": "80c420ba"
   },
   "source": [
    "### Обработка дубликатов"
   ]
  },
  {
   "cell_type": "markdown",
   "id": "18aa99a1",
   "metadata": {
    "deletable": false,
    "editable": false
   },
   "source": [
    "**Задание 14. Обработайте неявные дубликаты в столбце `education`. В этом столбце есть одни и те же значения, но записанные по-разному: с использованием заглавных и строчных букв. Приведите их к нижнему регистру. Проверьте остальные столбцы.**"
   ]
  },
  {
   "cell_type": "code",
   "execution_count": 14,
   "id": "f7ce50c9",
   "metadata": {
    "deletable": false
   },
   "outputs": [],
   "source": [
    "data['education'] = data['education'].str.lower()"
   ]
  },
  {
   "cell_type": "markdown",
   "id": "5ee89267",
   "metadata": {
    "deletable": false,
    "editable": false,
    "id": "dc587695"
   },
   "source": [
    "**Задание 15. Выведите на экран количество строк-дубликатов в данных. Если такие строки присутствуют, удалите их.**"
   ]
  },
  {
   "cell_type": "code",
   "execution_count": 15,
   "id": "0fdb640d",
   "metadata": {
    "deletable": false,
    "id": "3ee445e4",
    "outputId": "9684deba-1934-42d1-99e1-cda61740f822"
   },
   "outputs": [
    {
     "data": {
      "text/plain": [
       "71"
      ]
     },
     "execution_count": 15,
     "metadata": {},
     "output_type": "execute_result"
    }
   ],
   "source": [
    "data.duplicated().sum()"
   ]
  },
  {
   "cell_type": "code",
   "execution_count": 16,
   "id": "93a36b25",
   "metadata": {
    "deletable": false,
    "id": "8575fe05"
   },
   "outputs": [],
   "source": [
    "data = data.drop_duplicates()"
   ]
  },
  {
   "cell_type": "markdown",
   "id": "18b48bb2",
   "metadata": {
    "deletable": false,
    "editable": false,
    "id": "9904cf55"
   },
   "source": [
    "### Категоризация данных"
   ]
  },
  {
   "cell_type": "markdown",
   "id": "faf1268c",
   "metadata": {
    "deletable": false,
    "editable": false,
    "id": "72fcc8a2"
   },
   "source": [
    "**Задание 16. На основании диапазонов, указанных ниже, создайте в датафрейме `data` столбец `total_income_category` с категориями:**\n",
    "\n",
    "- 0–30000 — `'E'`;\n",
    "- 30001–50000 — `'D'`;\n",
    "- 50001–200000 — `'C'`;\n",
    "- 200001–1000000 — `'B'`;\n",
    "- 1000001 и выше — `'A'`.\n",
    "\n",
    "\n",
    "**Например, кредитополучателю с доходом 25000 нужно назначить категорию `'E'`, а клиенту, получающему 235000, — `'B'`. Используйте собственную функцию с именем `categorize_income()` и метод `apply()`.**"
   ]
  },
  {
   "cell_type": "code",
   "execution_count": 17,
   "id": "0816d196",
   "metadata": {
    "deletable": false,
    "id": "e1771346"
   },
   "outputs": [],
   "source": [
    "def categorize_income(income):\n",
    "    try:\n",
    "        if 0 <= income <= 30000:\n",
    "            return 'E'\n",
    "        elif 30001 <= income <= 50000:\n",
    "            return 'D'\n",
    "        elif 50001 <= income <= 200000:\n",
    "            return 'C'\n",
    "        elif 200001 <= income <= 1000000:\n",
    "            return 'B'\n",
    "        elif income >= 1000001:\n",
    "            return 'A'\n",
    "    except:\n",
    "        pass"
   ]
  },
  {
   "cell_type": "code",
   "execution_count": 18,
   "id": "042117b6",
   "metadata": {
    "deletable": false,
    "id": "d5f3586d"
   },
   "outputs": [],
   "source": [
    "data['total_income_category'] = data['total_income'].apply(categorize_income)"
   ]
  },
  {
   "cell_type": "markdown",
   "id": "2638036f",
   "metadata": {
    "deletable": false,
    "editable": false,
    "id": "dde49b5c"
   },
   "source": [
    "**Задание 17. Выведите на экран перечень уникальных целей взятия кредита из столбца `purpose`.**"
   ]
  },
  {
   "cell_type": "code",
   "execution_count": 19,
   "id": "5bf9d85e",
   "metadata": {
    "deletable": false,
    "id": "f67ce9b3",
    "outputId": "673c12d9-7d7e-4ae0-9812-c622c89dd244"
   },
   "outputs": [
    {
     "data": {
      "text/plain": [
       "array(['покупка жилья', 'приобретение автомобиля',\n",
       "       'дополнительное образование', 'сыграть свадьбу',\n",
       "       'операции с жильем', 'образование', 'на проведение свадьбы',\n",
       "       'покупка жилья для семьи', 'покупка недвижимости',\n",
       "       'покупка коммерческой недвижимости', 'покупка жилой недвижимости',\n",
       "       'строительство собственной недвижимости', 'недвижимость',\n",
       "       'строительство недвижимости', 'на покупку подержанного автомобиля',\n",
       "       'на покупку своего автомобиля',\n",
       "       'операции с коммерческой недвижимостью',\n",
       "       'строительство жилой недвижимости', 'жилье',\n",
       "       'операции со своей недвижимостью', 'автомобили',\n",
       "       'заняться образованием', 'сделка с подержанным автомобилем',\n",
       "       'получение образования', 'автомобиль', 'свадьба',\n",
       "       'получение дополнительного образования', 'покупка своего жилья',\n",
       "       'операции с недвижимостью', 'получение высшего образования',\n",
       "       'свой автомобиль', 'сделка с автомобилем',\n",
       "       'профильное образование', 'высшее образование',\n",
       "       'покупка жилья для сдачи', 'на покупку автомобиля', 'ремонт жилью',\n",
       "       'заняться высшим образованием'], dtype=object)"
      ]
     },
     "execution_count": 19,
     "metadata": {},
     "output_type": "execute_result"
    }
   ],
   "source": [
    "data['purpose'].unique()"
   ]
  },
  {
   "cell_type": "markdown",
   "id": "420874fb",
   "metadata": {
    "deletable": false,
    "editable": false,
    "id": "85d0aef0"
   },
   "source": [
    "**Задание 18. Создайте функцию, которая на основании данных из столбца `purpose` сформирует новый столбец `purpose_category`, в который войдут следующие категории:**\n",
    "\n",
    "- `'операции с автомобилем'`,\n",
    "- `'операции с недвижимостью'`,\n",
    "- `'проведение свадьбы'`,\n",
    "- `'получение образования'`.\n",
    "\n",
    "**Например, если в столбце `purpose` находится подстрока `'на покупку автомобиля'`, то в столбце `purpose_category` должна появиться строка `'операции с автомобилем'`.**\n",
    "\n",
    "**Используйте собственную функцию с именем `categorize_purpose()` и метод `apply()`. Изучите данные в столбце `purpose` и определите, какие подстроки помогут вам правильно определить категорию.**"
   ]
  },
  {
   "cell_type": "code",
   "execution_count": 20,
   "id": "e85f88cb",
   "metadata": {
    "deletable": false,
    "id": "e149fab4"
   },
   "outputs": [],
   "source": [
    "def categorize_purpose(row):\n",
    "    try:\n",
    "        if 'автом' in row:\n",
    "            return 'операции с автомобилем'\n",
    "        elif 'жил' in row or 'недвиж' in row:\n",
    "            return 'операции с недвижимостью'\n",
    "        elif 'свад' in row:\n",
    "            return 'проведение свадьбы'\n",
    "        elif 'образов' in row:\n",
    "            return 'получение образования'\n",
    "    except:\n",
    "        return 'нет категории'"
   ]
  },
  {
   "cell_type": "code",
   "execution_count": 21,
   "id": "756e9227",
   "metadata": {
    "deletable": false,
    "id": "bf36e69b"
   },
   "outputs": [],
   "source": [
    "data['purpose_category'] = data['purpose'].apply(categorize_purpose)"
   ]
  },
  {
   "cell_type": "markdown",
   "id": "0d460a36",
   "metadata": {
    "deletable": false,
    "editable": false,
    "id": "09b242bf"
   },
   "source": [
    "### Шаг 3. Исследуйте данные и ответьте на вопросы"
   ]
  },
  {
   "cell_type": "markdown",
   "id": "8632e6aa",
   "metadata": {
    "deletable": false,
    "editable": false,
    "id": "c5d66278"
   },
   "source": [
    "#### 3.1 Есть ли зависимость между количеством детей и возвратом кредита в срок?"
   ]
  },
  {
   "cell_type": "code",
   "execution_count": 22,
   "id": "b753609e",
   "metadata": {},
   "outputs": [],
   "source": [
    "# Создаем функцию обновления количества многодетных детей для копии датафрейма \n",
    "def add_children_category_id(item):\n",
    "    if item > 2:\n",
    "        return 3\n",
    "    else:\n",
    "        return item\n",
    "\n",
    "# Создаем функцию добавления категории для записей по количеству детей \n",
    "def add_children_category(item):\n",
    "    try:\n",
    "        if item == 0:\n",
    "            return 'нет детей'\n",
    "        elif item == 1:\n",
    "            return 'один ребенок'\n",
    "        elif item == 2:\n",
    "            return 'двое детей'\n",
    "        else:\n",
    "            return 'трое детей и более'\n",
    "    except:\n",
    "        return 'нет категории'\n",
    "    \n",
    "# Создадим копию основного объекта датафрейма\n",
    "data_children = data\n",
    "\n",
    "# Заменим количество детей '4' и '5' на количество '3'\n",
    "data_children['children_category_id'] = data_children['children'].apply(add_children_category_id)\n",
    "\n",
    "# Добавим категории по количеству детей\n",
    "data_children['children_category'] = data_children['children'].apply(add_children_category)"
   ]
  },
  {
   "cell_type": "code",
   "execution_count": 23,
   "id": "7c1a9071",
   "metadata": {
    "deletable": false,
    "id": "2cacfc4a"
   },
   "outputs": [
    {
     "name": "stdout",
     "output_type": "stream",
     "text": [
      "                                                   debt\n",
      "children children_category_id children_category        \n",
      "0        0                    нет детей           14091\n",
      "1        1                    один ребенок         4808\n",
      "2        2                    двое детей           2052\n",
      "3        3                    трое детей и более    330\n",
      "4        3                    трое детей и более     41\n",
      "5        3                    трое детей и более      9\n",
      "                                          debt\n",
      "children_category_id children_category        \n",
      "0                    нет детей           14091\n",
      "1                    один ребенок         4808\n",
      "2                    двое детей           2052\n",
      "3                    трое детей и более    380\n"
     ]
    }
   ],
   "source": [
    "# Проверим полученные данные\n",
    "print(data_children.pivot_table(index=['children', 'children_category_id', 'children_category'], values='debt', aggfunc='count'))\n",
    "print(data_children.pivot_table(index=['children_category_id', 'children_category'], values='debt', aggfunc='count'))"
   ]
  },
  {
   "cell_type": "code",
   "execution_count": 24,
   "id": "0c4449b5",
   "metadata": {},
   "outputs": [
    {
     "name": "stdout",
     "output_type": "stream",
     "text": [
      "   children_category_id   children_category   debt  debt_percent_per_group\n",
      "0                     0           нет детей  14091                7.543822\n",
      "1                     1        один ребенок   4808                9.234609\n",
      "2                     2          двое детей   2052                9.454191\n",
      "3                     3  трое детей и более    380                8.157895\n"
     ]
    }
   ],
   "source": [
    "# Создадим сводную таблицу\n",
    "data_children_pivot = data_children.pivot_table(\n",
    "    index=['children_category_id', 'children_category'], values='debt', aggfunc='count'\n",
    ").reset_index()\n",
    "\n",
    "# Посчитаем процент должников от общего числа заемщиков в группе. Добавим в сводную таблицу и выведем на экран.\n",
    "# Создадим объект только с должниками и сгруппируем должников по количеству детей и посчитаем их\n",
    "debt_only_by_children_category_id = data_children[data_children['debt'] != 0].groupby('children_category_id')['debt'].count()\n",
    "\n",
    "# Посчитаем всех заемщиков по группам\n",
    "all_by_children_category_id = data_children.groupby('children_category_id')['debt'].count()\n",
    "\n",
    "# Определим процент должников от общего числа заемщиков по группе и выведем на экран\n",
    "data_children_pivot['debt_percent_per_group'] = (debt_only_by_children_category_id / all_by_children_category_id) * 100\n",
    "print(data_children_pivot)"
   ]
  },
  {
   "cell_type": "markdown",
   "id": "4b5310d4",
   "metadata": {
    "deletable": false,
    "id": "3a6b99ec"
   },
   "source": [
    "**Вывод:** \n",
    "На первый взгляд, зависимость между количеством детей и возвратом кредита в срок отсутствует. т.к. из полученных данных видно, что во всех группах, примерно одинаковый процент должников. Но из полученных данных, все-таки, можно сделать вывод, что заемщики, которые не имеют детей возвращают кредиты в срок чаще, т.к. процент должников по их группе меньше. "
   ]
  },
  {
   "cell_type": "markdown",
   "id": "504ce139",
   "metadata": {
    "deletable": false,
    "editable": false,
    "id": "97be82ca"
   },
   "source": [
    "#### 3.2 Есть ли зависимость между семейным положением и возвратом кредита в срок?"
   ]
  },
  {
   "cell_type": "code",
   "execution_count": 25,
   "id": "13a7ae3b",
   "metadata": {
    "deletable": false,
    "id": "dc3f7ee8"
   },
   "outputs": [
    {
     "name": "stdout",
     "output_type": "stream",
     "text": [
      "   family_status_id          family_status   debt  debt_percent_per_group\n",
      "0                 0        женат / замужем  12261                7.560558\n",
      "1                 1       гражданский брак   4134                9.313014\n",
      "2                 2         вдовец / вдова    951                6.624606\n",
      "3                 3              в разводе   1189                7.064760\n",
      "4                 4  Не женат / не замужем   2796                9.763948\n"
     ]
    }
   ],
   "source": [
    "# Создадим копию основного объекта датафрейма\n",
    "data_family = data\n",
    "\n",
    "# Создадим сводную таблицу\n",
    "data_family_pivot = data_family.pivot_table(\n",
    "    index=['family_status_id', 'family_status'], values='debt', aggfunc='count'\n",
    ").reset_index()\n",
    "\n",
    "# Посчитаем процент должников от общего числа заемщиков в группе. Добавим в сводную таблицу и выведем на экран.\n",
    "# Создадим объект только с должниками и сгруппируем должников по семейному статусу и посчитаем их\n",
    "debt_only_by_family_status_id = data_family[data_family['debt'] != 0].groupby('family_status_id')['debt'].count()\n",
    "\n",
    "# Посчитаем всех заемщиков по группам\n",
    "all_by_family_status_id = data_family.groupby('family_status_id')['debt'].count()\n",
    "\n",
    "# Определим процент должников от общего числа заемщиков по группе и выведем на экран\n",
    "data_family_pivot['debt_percent_per_group'] = (debt_only_by_family_status_id / all_by_family_status_id) * 100\n",
    "print(data_family_pivot)"
   ]
  },
  {
   "cell_type": "markdown",
   "id": "827e895b",
   "metadata": {
    "deletable": false,
    "id": "1cef7837"
   },
   "source": [
    "**Вывод:** Исходя из полученных данных можно сделать вывод, что чаще всего задолженность по кредитам возникает у заемщиков не состоящих в официальных отношениях или не имеющих партнера. "
   ]
  },
  {
   "cell_type": "markdown",
   "id": "cd2102b5",
   "metadata": {
    "deletable": false,
    "editable": false,
    "id": "1e8b2fca"
   },
   "source": [
    "#### 3.3 Есть ли зависимость между уровнем дохода и возвратом кредита в срок?"
   ]
  },
  {
   "cell_type": "code",
   "execution_count": 26,
   "id": "c8864c4d",
   "metadata": {
    "deletable": false,
    "id": "cd7e3720",
    "scrolled": true
   },
   "outputs": [
    {
     "name": "stdout",
     "output_type": "stream",
     "text": [
      "   total_income_category_id   debt  debt_percent_per_group\n",
      "0                         0     25                8.000000\n",
      "1                         1   5014                7.060231\n",
      "2                         2  15921                8.498210\n",
      "3                         3    349                6.017192\n",
      "4                         4     22                9.090909\n"
     ]
    }
   ],
   "source": [
    "# Создаем функцию добавления индексов для копии датафрейма \n",
    "def add_total_income_category_id(item):\n",
    "    try:\n",
    "        if item == 'A':\n",
    "            return 0\n",
    "        elif item == 'B':\n",
    "            return 1\n",
    "        elif item == 'C':\n",
    "            return 2\n",
    "        elif item == 'D':\n",
    "            return 3\n",
    "        elif item == 'E':\n",
    "            return 4\n",
    "        else:\n",
    "            return 'ERROR'\n",
    "    except:\n",
    "        return 'error'\n",
    "\n",
    "# Создадим копию основного объекта датафрейма\n",
    "data_income = data\n",
    "\n",
    "data_income['total_income_category_id'] = data_income['total_income_category'].apply(add_total_income_category_id)\n",
    "\n",
    "# Создадим сводную таблицу\n",
    "data_income_pivot = data_income.pivot_table(\n",
    "    index=['total_income_category_id'], values='debt', aggfunc='count'\n",
    ").reset_index()\n",
    "\n",
    "# Посчитаем процент должников от общего числа заемщиков в группе. Добавим в сводную таблицу и выведем на экран.\n",
    "# Создадим объект только с должниками и сгруппируем должников по доходу и посчитаем их\n",
    "debt_only_by_total_income_category = data_income[data_income['debt'] != 0].groupby('total_income_category_id')['debt'].count()\n",
    "\n",
    "# Посчитаем всех заемщиков по группам\n",
    "all_by_total_income_category = data_income.groupby('total_income_category_id')['debt'].count()\n",
    "\n",
    "# Определим процент должников от общего числа заемщиков по группе и выведем на экран\n",
    "data_income_pivot['debt_percent_per_group'] = (debt_only_by_total_income_category / all_by_total_income_category) * 100\n",
    "print(data_income_pivot)"
   ]
  },
  {
   "cell_type": "markdown",
   "id": "6294675d",
   "metadata": {
    "deletable": false,
    "id": "e8593def"
   },
   "source": [
    "**Вывод:** Из полученных данных можно предположить, что заемщики с доходом выше среднего и ниже среднего по выборке чаще возвращают кредиты в срок."
   ]
  },
  {
   "cell_type": "markdown",
   "id": "cde7e8f4",
   "metadata": {
    "deletable": false,
    "editable": false,
    "id": "99ecbd1f"
   },
   "source": [
    "#### 3.4 Как разные цели кредита влияют на его возврат в срок?"
   ]
  },
  {
   "cell_type": "code",
   "execution_count": 27,
   "id": "1995a37a",
   "metadata": {
    "deletable": false,
    "id": "2b687290"
   },
   "outputs": [
    {
     "name": "stdout",
     "output_type": "stream",
     "text": [
      "   purpose_category_id   debt  debt_percent_per_group\n",
      "0                    0   4279                9.347978\n",
      "1                    1  10751                7.255139\n",
      "2                    2   3988                9.252758\n",
      "3                    3   2313                7.911803\n"
     ]
    }
   ],
   "source": [
    "# Создаем функцию добавления индексов для копии датафрейма \n",
    "def add_purpose_category_id(item):\n",
    "    try:\n",
    "        if item == 'операции с автомобилем':\n",
    "            return 0\n",
    "        elif item == 'операции с недвижимостью':\n",
    "            return 1\n",
    "        elif item == 'получение образования':\n",
    "            return 2\n",
    "        elif item == 'проведение свадьбы':\n",
    "            return 3\n",
    "        else:\n",
    "            return 'ERROR'\n",
    "    except:\n",
    "        return 'error'\n",
    "\n",
    "# Создадим копию основного объекта датафрейма\n",
    "data_purpose = data\n",
    "\n",
    "data_purpose['purpose_category_id'] = data_purpose['purpose_category'].apply(add_purpose_category_id)\n",
    "\n",
    "# Создадим сводную таблицу\n",
    "data_purpose_pivot = data_purpose.pivot_table(\n",
    "    index=['purpose_category_id'], values='debt', aggfunc='count'\n",
    ").reset_index()\n",
    "\n",
    "# Посчитаем процент должников от общего числа заемщиков в группе. Добавим в сводную таблицу и выведем на экран.\n",
    "# Создадим объект только с должниками и сгруппируем должников по доходу и посчитаем их\n",
    "debt_only_by_purpose_category_id = data_purpose[data_purpose['debt'] != 0].groupby('purpose_category_id')['debt'].count()\n",
    "\n",
    "# Посчитаем всех заемщиков по группам\n",
    "all_by_purpose_category_id = data_purpose.groupby('purpose_category_id')['debt'].count()\n",
    "\n",
    "# Определим процент должников от общего числа заемщиков по группе и выведем на экран\n",
    "data_purpose_pivot['debt_percent_per_group'] = (debt_only_by_purpose_category_id / all_by_purpose_category_id) * 100\n",
    "print(data_purpose_pivot)"
   ]
  },
  {
   "cell_type": "markdown",
   "id": "e60923ae",
   "metadata": {
    "deletable": false,
    "id": "b4bb2ce6"
   },
   "source": [
    "**Вывод:** Заемщики, которые берут кредиты на операции с недвижимостью и свадьбу возвращают в кредиты в срок раньше, чем другие группы заемщиков."
   ]
  },
  {
   "cell_type": "markdown",
   "id": "712d837e",
   "metadata": {
    "deletable": false,
    "editable": false,
    "id": "09c3ac4c"
   },
   "source": [
    "#### 3.5 Приведите возможные причины появления пропусков в исходных данных."
   ]
  },
  {
   "cell_type": "markdown",
   "id": "db8971f4",
   "metadata": {
    "deletable": false,
    "id": "9da2ceda"
   },
   "source": [
    "*Ответ:* Возможно, некорректный формат дат или типа данных в столбцах. Возможно, появление пропусков при подготовке исходного датафрейма. Возможно, каким-то образом получил кредит заемщик, который не работал или не работает."
   ]
  },
  {
   "cell_type": "markdown",
   "id": "bd73b26f",
   "metadata": {
    "deletable": false,
    "editable": false,
    "id": "7b0487d6"
   },
   "source": [
    "#### 3.6 Объясните, почему заполнить пропуски медианным значением — лучшее решение для количественных переменных."
   ]
  },
  {
   "cell_type": "markdown",
   "id": "9dc59fff",
   "metadata": {
    "deletable": false,
    "id": "7ecf2b8e"
   },
   "source": [
    "*Ответ:* Когда есть оторванные от основной массы лидеры, их результаты сильно смещают значение среднего вверх. Вот почему оценивать лучше медианой."
   ]
  },
  {
   "cell_type": "markdown",
   "id": "1e23d01d",
   "metadata": {
    "deletable": false,
    "editable": false,
    "id": "6db5255a"
   },
   "source": [
    "### Шаг 4: общий вывод."
   ]
  },
  {
   "cell_type": "markdown",
   "id": "aa483f42",
   "metadata": {
    "deletable": false,
    "id": "bad65432"
   },
   "source": [
    "Как показал анализ данных, зависимости между возвратом кредита в срок и данными заемщика имеются.\n",
    "\n",
    "1. Заемщики, которые не имеют детей возвращают кредиты в срок чаще.\n",
    "2. Чаще всего задолженность по кредитам возникает у заемщиков не состоящих в официальных отношениях или не имеющих партнера.\n",
    "3. Заемщики с доходом выше среднего и ниже среднего по выборке чаще возвращают кредиты в срок.\n",
    "4. Заемщики, которые берут кредиты на операции с недвижимостью и свадьбу возвращают в кредиты в срок раньше, чем другие группы заемщиков."
   ]
  },
  {
   "cell_type": "code",
   "execution_count": null,
   "id": "a8388dbb",
   "metadata": {},
   "outputs": [],
   "source": []
  }
 ],
 "metadata": {
  "ExecuteTimeLog": [
   {
    "duration": 540,
    "start_time": "2024-12-23T17:55:33.474Z"
   },
   {
    "duration": 24,
    "start_time": "2024-12-23T17:55:34.016Z"
   },
   {
    "duration": 17,
    "start_time": "2024-12-23T17:55:34.042Z"
   },
   {
    "duration": 15,
    "start_time": "2024-12-23T17:55:34.070Z"
   },
   {
    "duration": 48,
    "start_time": "2024-12-23T17:55:34.090Z"
   },
   {
    "duration": 4,
    "start_time": "2024-12-23T17:55:34.139Z"
   },
   {
    "duration": 29,
    "start_time": "2024-12-23T17:55:34.145Z"
   },
   {
    "duration": 5,
    "start_time": "2024-12-23T17:55:34.177Z"
   },
   {
    "duration": 8,
    "start_time": "2024-12-23T17:55:34.184Z"
   },
   {
    "duration": 7,
    "start_time": "2024-12-23T17:55:34.194Z"
   },
   {
    "duration": 40,
    "start_time": "2024-12-23T17:55:34.202Z"
   },
   {
    "duration": 36,
    "start_time": "2024-12-23T17:55:34.244Z"
   },
   {
    "duration": 38,
    "start_time": "2024-12-23T17:55:34.282Z"
   },
   {
    "duration": 13,
    "start_time": "2024-12-23T17:55:34.323Z"
   },
   {
    "duration": 50,
    "start_time": "2024-12-23T17:55:34.338Z"
   },
   {
    "duration": 17,
    "start_time": "2024-12-23T17:55:34.390Z"
   },
   {
    "duration": 79,
    "start_time": "2024-12-23T17:55:34.408Z"
   },
   {
    "duration": 29,
    "start_time": "2024-12-23T17:55:34.488Z"
   },
   {
    "duration": 31,
    "start_time": "2024-12-23T17:55:34.519Z"
   },
   {
    "duration": 4,
    "start_time": "2024-12-23T17:55:34.552Z"
   },
   {
    "duration": 10,
    "start_time": "2024-12-23T17:55:34.559Z"
   },
   {
    "duration": 5,
    "start_time": "2024-12-23T17:55:34.571Z"
   },
   {
    "duration": 6,
    "start_time": "2024-12-23T17:55:34.577Z"
   },
   {
    "duration": 21,
    "start_time": "2024-12-23T17:55:34.585Z"
   },
   {
    "duration": 9,
    "start_time": "2024-12-23T17:55:34.608Z"
   },
   {
    "duration": 85,
    "start_time": "2024-12-23T20:18:40.297Z"
   },
   {
    "duration": 16,
    "start_time": "2024-12-23T20:18:40.384Z"
   },
   {
    "duration": 17,
    "start_time": "2024-12-23T20:18:40.402Z"
   },
   {
    "duration": 10,
    "start_time": "2024-12-23T20:18:40.421Z"
   },
   {
    "duration": 55,
    "start_time": "2024-12-23T20:18:40.433Z"
   },
   {
    "duration": 3,
    "start_time": "2024-12-23T20:18:40.490Z"
   },
   {
    "duration": 9,
    "start_time": "2024-12-23T20:18:40.495Z"
   },
   {
    "duration": 4,
    "start_time": "2024-12-23T20:18:40.506Z"
   },
   {
    "duration": 8,
    "start_time": "2024-12-23T20:18:40.512Z"
   },
   {
    "duration": 4,
    "start_time": "2024-12-23T20:18:40.523Z"
   },
   {
    "duration": 148,
    "start_time": "2024-12-23T20:18:40.528Z"
   },
   {
    "duration": 12,
    "start_time": "2024-12-23T20:18:40.677Z"
   },
   {
    "duration": 5,
    "start_time": "2024-12-23T20:18:40.690Z"
   },
   {
    "duration": 12,
    "start_time": "2024-12-23T20:18:40.697Z"
   },
   {
    "duration": 30,
    "start_time": "2024-12-23T20:18:40.710Z"
   },
   {
    "duration": 40,
    "start_time": "2024-12-23T20:18:40.741Z"
   },
   {
    "duration": 3,
    "start_time": "2024-12-23T20:18:40.783Z"
   },
   {
    "duration": 32,
    "start_time": "2024-12-23T20:18:40.788Z"
   },
   {
    "duration": 14,
    "start_time": "2024-12-23T20:18:40.822Z"
   },
   {
    "duration": 32,
    "start_time": "2024-12-23T20:18:40.838Z"
   },
   {
    "duration": 14,
    "start_time": "2024-12-23T20:18:40.871Z"
   },
   {
    "duration": 14,
    "start_time": "2024-12-23T20:18:40.886Z"
   },
   {
    "duration": 4,
    "start_time": "2024-12-23T20:18:40.902Z"
   },
   {
    "duration": 55,
    "start_time": "2024-12-23T20:18:40.908Z"
   },
   {
    "duration": 7,
    "start_time": "2024-12-23T20:18:40.965Z"
   },
   {
    "duration": 78,
    "start_time": "2024-12-23T20:19:47.349Z"
   },
   {
    "duration": 16,
    "start_time": "2024-12-23T20:19:47.430Z"
   },
   {
    "duration": 29,
    "start_time": "2024-12-23T20:19:47.448Z"
   },
   {
    "duration": 11,
    "start_time": "2024-12-23T20:19:47.479Z"
   },
   {
    "duration": 50,
    "start_time": "2024-12-23T20:19:47.492Z"
   },
   {
    "duration": 3,
    "start_time": "2024-12-23T20:19:47.544Z"
   },
   {
    "duration": 27,
    "start_time": "2024-12-23T20:19:47.549Z"
   },
   {
    "duration": 4,
    "start_time": "2024-12-23T20:19:47.577Z"
   },
   {
    "duration": 8,
    "start_time": "2024-12-23T20:19:47.583Z"
   },
   {
    "duration": 11,
    "start_time": "2024-12-23T20:19:47.592Z"
   },
   {
    "duration": 39,
    "start_time": "2024-12-23T20:19:47.605Z"
   },
   {
    "duration": 33,
    "start_time": "2024-12-23T20:19:47.646Z"
   },
   {
    "duration": 3,
    "start_time": "2024-12-23T20:19:47.681Z"
   },
   {
    "duration": 12,
    "start_time": "2024-12-23T20:19:47.687Z"
   },
   {
    "duration": 69,
    "start_time": "2024-12-23T20:19:47.700Z"
   },
   {
    "duration": 19,
    "start_time": "2024-12-23T20:19:47.770Z"
   },
   {
    "duration": 3,
    "start_time": "2024-12-23T20:19:47.791Z"
   },
   {
    "duration": 30,
    "start_time": "2024-12-23T20:19:47.796Z"
   },
   {
    "duration": 16,
    "start_time": "2024-12-23T20:19:47.828Z"
   },
   {
    "duration": 4,
    "start_time": "2024-12-23T20:19:47.846Z"
   },
   {
    "duration": 24,
    "start_time": "2024-12-23T20:19:47.852Z"
   },
   {
    "duration": 502,
    "start_time": "2024-12-23T20:19:58.677Z"
   },
   {
    "duration": 24,
    "start_time": "2024-12-23T20:19:59.180Z"
   },
   {
    "duration": 16,
    "start_time": "2024-12-23T20:19:59.206Z"
   },
   {
    "duration": 10,
    "start_time": "2024-12-23T20:19:59.224Z"
   },
   {
    "duration": 63,
    "start_time": "2024-12-23T20:19:59.236Z"
   },
   {
    "duration": 3,
    "start_time": "2024-12-23T20:19:59.301Z"
   },
   {
    "duration": 9,
    "start_time": "2024-12-23T20:19:59.306Z"
   },
   {
    "duration": 4,
    "start_time": "2024-12-23T20:19:59.316Z"
   },
   {
    "duration": 12,
    "start_time": "2024-12-23T20:19:59.322Z"
   },
   {
    "duration": 8,
    "start_time": "2024-12-23T20:19:59.336Z"
   },
   {
    "duration": 56,
    "start_time": "2024-12-23T20:19:59.346Z"
   },
   {
    "duration": 11,
    "start_time": "2024-12-23T20:19:59.404Z"
   },
   {
    "duration": 3,
    "start_time": "2024-12-23T20:19:59.417Z"
   },
   {
    "duration": 13,
    "start_time": "2024-12-23T20:19:59.422Z"
   },
   {
    "duration": 42,
    "start_time": "2024-12-23T20:19:59.436Z"
   },
   {
    "duration": 18,
    "start_time": "2024-12-23T20:19:59.479Z"
   },
   {
    "duration": 4,
    "start_time": "2024-12-23T20:19:59.499Z"
   },
   {
    "duration": 19,
    "start_time": "2024-12-23T20:19:59.504Z"
   },
   {
    "duration": 5,
    "start_time": "2024-12-23T20:19:59.525Z"
   },
   {
    "duration": 6,
    "start_time": "2024-12-23T20:19:59.532Z"
   },
   {
    "duration": 34,
    "start_time": "2024-12-23T20:19:59.539Z"
   },
   {
    "duration": 19,
    "start_time": "2024-12-23T20:19:59.575Z"
   },
   {
    "duration": 2,
    "start_time": "2024-12-23T20:19:59.596Z"
   },
   {
    "duration": 5,
    "start_time": "2024-12-23T20:19:59.600Z"
   },
   {
    "duration": 6,
    "start_time": "2024-12-23T20:19:59.606Z"
   },
   {
    "duration": 82,
    "start_time": "2024-12-23T20:21:00.438Z"
   },
   {
    "duration": 16,
    "start_time": "2024-12-23T20:21:00.522Z"
   },
   {
    "duration": 55,
    "start_time": "2024-12-23T20:21:00.539Z"
   },
   {
    "duration": 14,
    "start_time": "2024-12-23T20:21:00.596Z"
   },
   {
    "duration": 100,
    "start_time": "2024-12-23T20:21:00.612Z"
   },
   {
    "duration": 3,
    "start_time": "2024-12-23T20:21:00.714Z"
   },
   {
    "duration": 15,
    "start_time": "2024-12-23T20:21:00.719Z"
   },
   {
    "duration": 18,
    "start_time": "2024-12-23T20:21:00.735Z"
   },
   {
    "duration": 7,
    "start_time": "2024-12-23T20:21:00.755Z"
   },
   {
    "duration": 5,
    "start_time": "2024-12-23T20:21:00.765Z"
   },
   {
    "duration": 43,
    "start_time": "2024-12-23T20:21:00.771Z"
   },
   {
    "duration": 11,
    "start_time": "2024-12-23T20:21:00.816Z"
   },
   {
    "duration": 19,
    "start_time": "2024-12-23T20:21:00.829Z"
   },
   {
    "duration": 19,
    "start_time": "2024-12-23T20:21:00.850Z"
   },
   {
    "duration": 19,
    "start_time": "2024-12-23T20:21:00.871Z"
   },
   {
    "duration": 17,
    "start_time": "2024-12-23T20:21:00.891Z"
   },
   {
    "duration": 12,
    "start_time": "2024-12-23T20:21:00.910Z"
   },
   {
    "duration": 31,
    "start_time": "2024-12-23T20:21:00.923Z"
   },
   {
    "duration": 8,
    "start_time": "2024-12-23T20:21:00.956Z"
   },
   {
    "duration": 9,
    "start_time": "2024-12-23T20:21:00.966Z"
   },
   {
    "duration": 18,
    "start_time": "2024-12-23T20:21:00.977Z"
   },
   {
    "duration": 21,
    "start_time": "2024-12-23T20:21:00.997Z"
   },
   {
    "duration": 17,
    "start_time": "2024-12-23T20:21:01.020Z"
   },
   {
    "duration": 6,
    "start_time": "2024-12-23T20:21:01.038Z"
   },
   {
    "duration": 4,
    "start_time": "2024-12-23T20:21:01.046Z"
   },
   {
    "duration": 79,
    "start_time": "2024-12-23T20:23:31.714Z"
   },
   {
    "duration": 45,
    "start_time": "2024-12-23T20:23:31.795Z"
   },
   {
    "duration": 43,
    "start_time": "2024-12-23T20:23:31.841Z"
   },
   {
    "duration": 34,
    "start_time": "2024-12-23T20:23:31.887Z"
   },
   {
    "duration": 50,
    "start_time": "2024-12-23T20:23:31.922Z"
   },
   {
    "duration": 8,
    "start_time": "2024-12-23T20:23:31.973Z"
   },
   {
    "duration": 109,
    "start_time": "2024-12-23T20:23:31.982Z"
   },
   {
    "duration": 19,
    "start_time": "2024-12-23T20:23:32.093Z"
   },
   {
    "duration": 13,
    "start_time": "2024-12-23T20:23:32.113Z"
   },
   {
    "duration": 29,
    "start_time": "2024-12-23T20:23:32.128Z"
   },
   {
    "duration": 50,
    "start_time": "2024-12-23T20:23:32.158Z"
   },
   {
    "duration": 10,
    "start_time": "2024-12-23T20:23:32.210Z"
   },
   {
    "duration": 36,
    "start_time": "2024-12-23T20:23:32.222Z"
   },
   {
    "duration": 29,
    "start_time": "2024-12-23T20:23:32.260Z"
   },
   {
    "duration": 59,
    "start_time": "2024-12-23T20:23:32.291Z"
   },
   {
    "duration": 56,
    "start_time": "2024-12-23T20:23:32.351Z"
   },
   {
    "duration": 34,
    "start_time": "2024-12-23T20:23:32.409Z"
   },
   {
    "duration": 18,
    "start_time": "2024-12-23T20:23:32.445Z"
   },
   {
    "duration": 22,
    "start_time": "2024-12-23T20:23:32.465Z"
   },
   {
    "duration": 6,
    "start_time": "2024-12-23T20:23:32.488Z"
   },
   {
    "duration": 119,
    "start_time": "2024-12-23T20:23:32.496Z"
   },
   {
    "duration": 42,
    "start_time": "2024-12-23T20:23:32.617Z"
   },
   {
    "duration": 8,
    "start_time": "2024-12-23T20:23:32.661Z"
   },
   {
    "duration": 23,
    "start_time": "2024-12-23T20:23:32.670Z"
   },
   {
    "duration": 25,
    "start_time": "2024-12-23T20:23:32.696Z"
   },
   {
    "duration": 83,
    "start_time": "2024-12-23T20:26:38.637Z"
   },
   {
    "duration": 15,
    "start_time": "2024-12-23T20:26:38.722Z"
   },
   {
    "duration": 17,
    "start_time": "2024-12-23T20:26:38.739Z"
   },
   {
    "duration": 11,
    "start_time": "2024-12-23T20:26:38.770Z"
   },
   {
    "duration": 38,
    "start_time": "2024-12-23T20:26:38.784Z"
   },
   {
    "duration": 4,
    "start_time": "2024-12-23T20:26:38.824Z"
   },
   {
    "duration": 12,
    "start_time": "2024-12-23T20:26:38.829Z"
   },
   {
    "duration": 28,
    "start_time": "2024-12-23T20:26:38.843Z"
   },
   {
    "duration": 6,
    "start_time": "2024-12-23T20:26:38.872Z"
   },
   {
    "duration": 11,
    "start_time": "2024-12-23T20:26:38.880Z"
   },
   {
    "duration": 43,
    "start_time": "2024-12-23T20:26:38.892Z"
   },
   {
    "duration": 12,
    "start_time": "2024-12-23T20:26:38.936Z"
   },
   {
    "duration": 20,
    "start_time": "2024-12-23T20:26:38.950Z"
   },
   {
    "duration": 12,
    "start_time": "2024-12-23T20:26:38.973Z"
   },
   {
    "duration": 39,
    "start_time": "2024-12-23T20:26:38.987Z"
   },
   {
    "duration": 17,
    "start_time": "2024-12-23T20:26:39.028Z"
   },
   {
    "duration": 4,
    "start_time": "2024-12-23T20:26:39.047Z"
   },
   {
    "duration": 20,
    "start_time": "2024-12-23T20:26:39.052Z"
   },
   {
    "duration": 6,
    "start_time": "2024-12-23T20:26:39.074Z"
   },
   {
    "duration": 13,
    "start_time": "2024-12-23T20:26:39.082Z"
   },
   {
    "duration": 14,
    "start_time": "2024-12-23T20:26:39.097Z"
   },
   {
    "duration": 11,
    "start_time": "2024-12-23T20:26:39.112Z"
   },
   {
    "duration": 13,
    "start_time": "2024-12-23T20:26:39.124Z"
   },
   {
    "duration": 8,
    "start_time": "2024-12-23T20:26:39.139Z"
   },
   {
    "duration": 11,
    "start_time": "2024-12-23T20:26:39.148Z"
   },
   {
    "duration": 89,
    "start_time": "2024-12-23T20:26:50.535Z"
   },
   {
    "duration": 15,
    "start_time": "2024-12-23T20:26:50.626Z"
   },
   {
    "duration": 40,
    "start_time": "2024-12-23T20:26:50.642Z"
   },
   {
    "duration": 12,
    "start_time": "2024-12-23T20:26:50.684Z"
   },
   {
    "duration": 40,
    "start_time": "2024-12-23T20:26:50.698Z"
   },
   {
    "duration": 3,
    "start_time": "2024-12-23T20:26:50.740Z"
   },
   {
    "duration": 17,
    "start_time": "2024-12-23T20:26:50.745Z"
   },
   {
    "duration": 19,
    "start_time": "2024-12-23T20:26:50.764Z"
   },
   {
    "duration": 5,
    "start_time": "2024-12-23T20:26:50.785Z"
   },
   {
    "duration": 6,
    "start_time": "2024-12-23T20:26:50.791Z"
   },
   {
    "duration": 37,
    "start_time": "2024-12-23T20:26:50.799Z"
   },
   {
    "duration": 11,
    "start_time": "2024-12-23T20:26:50.837Z"
   },
   {
    "duration": 4,
    "start_time": "2024-12-23T20:26:50.849Z"
   },
   {
    "duration": 12,
    "start_time": "2024-12-23T20:26:50.881Z"
   },
   {
    "duration": 22,
    "start_time": "2024-12-23T20:26:50.895Z"
   },
   {
    "duration": 19,
    "start_time": "2024-12-23T20:26:50.919Z"
   },
   {
    "duration": 4,
    "start_time": "2024-12-23T20:26:50.939Z"
   },
   {
    "duration": 15,
    "start_time": "2024-12-23T20:26:50.944Z"
   },
   {
    "duration": 7,
    "start_time": "2024-12-23T20:26:50.978Z"
   },
   {
    "duration": 4,
    "start_time": "2024-12-23T20:26:50.987Z"
   },
   {
    "duration": 9,
    "start_time": "2024-12-23T20:26:50.992Z"
   },
   {
    "duration": 11,
    "start_time": "2024-12-23T20:26:51.002Z"
   },
   {
    "duration": 16,
    "start_time": "2024-12-23T20:26:51.014Z"
   },
   {
    "duration": 21,
    "start_time": "2024-12-23T20:26:51.032Z"
   },
   {
    "duration": 29,
    "start_time": "2024-12-23T20:26:51.054Z"
   },
   {
    "duration": 79,
    "start_time": "2024-12-23T20:27:23.941Z"
   },
   {
    "duration": 15,
    "start_time": "2024-12-23T20:27:24.023Z"
   },
   {
    "duration": 50,
    "start_time": "2024-12-23T20:27:24.040Z"
   },
   {
    "duration": 14,
    "start_time": "2024-12-23T20:27:24.093Z"
   },
   {
    "duration": 80,
    "start_time": "2024-12-23T20:27:24.108Z"
   },
   {
    "duration": 4,
    "start_time": "2024-12-23T20:27:24.190Z"
   },
   {
    "duration": 12,
    "start_time": "2024-12-23T20:27:24.196Z"
   },
   {
    "duration": 5,
    "start_time": "2024-12-23T20:27:24.209Z"
   },
   {
    "duration": 34,
    "start_time": "2024-12-23T20:27:24.215Z"
   },
   {
    "duration": 14,
    "start_time": "2024-12-23T20:27:24.252Z"
   },
   {
    "duration": 54,
    "start_time": "2024-12-23T20:27:24.268Z"
   },
   {
    "duration": 11,
    "start_time": "2024-12-23T20:27:24.323Z"
   },
   {
    "duration": 8,
    "start_time": "2024-12-23T20:27:24.335Z"
   },
   {
    "duration": 29,
    "start_time": "2024-12-23T20:27:24.345Z"
   },
   {
    "duration": 24,
    "start_time": "2024-12-23T20:27:24.377Z"
   },
   {
    "duration": 19,
    "start_time": "2024-12-23T20:27:24.402Z"
   },
   {
    "duration": 4,
    "start_time": "2024-12-23T20:27:24.423Z"
   },
   {
    "duration": 18,
    "start_time": "2024-12-23T20:27:24.428Z"
   },
   {
    "duration": 25,
    "start_time": "2024-12-23T20:27:24.447Z"
   },
   {
    "duration": 6,
    "start_time": "2024-12-23T20:27:24.474Z"
   },
   {
    "duration": 11,
    "start_time": "2024-12-23T20:27:24.482Z"
   },
   {
    "duration": 20,
    "start_time": "2024-12-23T20:27:24.495Z"
   },
   {
    "duration": 3,
    "start_time": "2024-12-23T20:27:24.516Z"
   },
   {
    "duration": 16,
    "start_time": "2024-12-23T20:27:24.520Z"
   },
   {
    "duration": 46,
    "start_time": "2024-12-23T20:27:24.537Z"
   },
   {
    "duration": 79,
    "start_time": "2024-12-23T20:27:48.940Z"
   },
   {
    "duration": 16,
    "start_time": "2024-12-23T20:27:49.021Z"
   },
   {
    "duration": 19,
    "start_time": "2024-12-23T20:27:49.038Z"
   },
   {
    "duration": 20,
    "start_time": "2024-12-23T20:27:49.059Z"
   },
   {
    "duration": 37,
    "start_time": "2024-12-23T20:27:49.082Z"
   },
   {
    "duration": 4,
    "start_time": "2024-12-23T20:27:49.120Z"
   },
   {
    "duration": 42,
    "start_time": "2024-12-23T20:27:49.126Z"
   },
   {
    "duration": 5,
    "start_time": "2024-12-23T20:27:49.169Z"
   },
   {
    "duration": 6,
    "start_time": "2024-12-23T20:27:49.176Z"
   },
   {
    "duration": 5,
    "start_time": "2024-12-23T20:27:49.184Z"
   },
   {
    "duration": 38,
    "start_time": "2024-12-23T20:27:49.191Z"
   },
   {
    "duration": 10,
    "start_time": "2024-12-23T20:27:49.230Z"
   },
   {
    "duration": 33,
    "start_time": "2024-12-23T20:27:49.242Z"
   },
   {
    "duration": 25,
    "start_time": "2024-12-23T20:27:49.278Z"
   },
   {
    "duration": 40,
    "start_time": "2024-12-23T20:27:49.304Z"
   },
   {
    "duration": 19,
    "start_time": "2024-12-23T20:27:49.345Z"
   },
   {
    "duration": 4,
    "start_time": "2024-12-23T20:27:49.366Z"
   },
   {
    "duration": 25,
    "start_time": "2024-12-23T20:27:49.371Z"
   },
   {
    "duration": 31,
    "start_time": "2024-12-23T20:27:49.398Z"
   },
   {
    "duration": 15,
    "start_time": "2024-12-23T20:27:49.431Z"
   },
   {
    "duration": 22,
    "start_time": "2024-12-23T20:27:49.447Z"
   },
   {
    "duration": 22,
    "start_time": "2024-12-23T20:27:49.471Z"
   },
   {
    "duration": 5,
    "start_time": "2024-12-23T20:27:49.495Z"
   },
   {
    "duration": 50,
    "start_time": "2024-12-23T20:27:49.502Z"
   },
   {
    "duration": 29,
    "start_time": "2024-12-23T20:27:49.554Z"
   },
   {
    "duration": 78,
    "start_time": "2024-12-23T20:28:17.596Z"
   },
   {
    "duration": 16,
    "start_time": "2024-12-23T20:28:17.676Z"
   },
   {
    "duration": 21,
    "start_time": "2024-12-23T20:28:17.693Z"
   },
   {
    "duration": 11,
    "start_time": "2024-12-23T20:28:17.715Z"
   },
   {
    "duration": 66,
    "start_time": "2024-12-23T20:28:17.728Z"
   },
   {
    "duration": 4,
    "start_time": "2024-12-23T20:28:17.795Z"
   },
   {
    "duration": 8,
    "start_time": "2024-12-23T20:28:17.800Z"
   },
   {
    "duration": 4,
    "start_time": "2024-12-23T20:28:17.810Z"
   },
   {
    "duration": 17,
    "start_time": "2024-12-23T20:28:17.816Z"
   },
   {
    "duration": 5,
    "start_time": "2024-12-23T20:28:17.834Z"
   },
   {
    "duration": 54,
    "start_time": "2024-12-23T20:28:17.840Z"
   },
   {
    "duration": 11,
    "start_time": "2024-12-23T20:28:17.895Z"
   },
   {
    "duration": 4,
    "start_time": "2024-12-23T20:28:17.908Z"
   },
   {
    "duration": 12,
    "start_time": "2024-12-23T20:28:17.915Z"
   },
   {
    "duration": 48,
    "start_time": "2024-12-23T20:28:17.929Z"
   },
   {
    "duration": 19,
    "start_time": "2024-12-23T20:28:17.979Z"
   },
   {
    "duration": 4,
    "start_time": "2024-12-23T20:28:18.000Z"
   },
   {
    "duration": 18,
    "start_time": "2024-12-23T20:28:18.005Z"
   },
   {
    "duration": 78,
    "start_time": "2024-12-23T20:28:18.024Z"
   },
   {
    "duration": 6,
    "start_time": "2024-12-23T20:28:18.103Z"
   },
   {
    "duration": 10,
    "start_time": "2024-12-23T20:28:18.111Z"
   },
   {
    "duration": 5,
    "start_time": "2024-12-23T20:28:18.123Z"
   },
   {
    "duration": 4,
    "start_time": "2024-12-23T20:28:18.129Z"
   },
   {
    "duration": 3,
    "start_time": "2024-12-23T20:28:18.134Z"
   },
   {
    "duration": 3,
    "start_time": "2024-12-23T20:28:18.139Z"
   },
   {
    "duration": 78,
    "start_time": "2024-12-23T20:28:38.588Z"
   },
   {
    "duration": 16,
    "start_time": "2024-12-23T20:28:38.668Z"
   },
   {
    "duration": 21,
    "start_time": "2024-12-23T20:28:38.685Z"
   },
   {
    "duration": 11,
    "start_time": "2024-12-23T20:28:38.707Z"
   },
   {
    "duration": 58,
    "start_time": "2024-12-23T20:28:38.720Z"
   },
   {
    "duration": 4,
    "start_time": "2024-12-23T20:28:38.780Z"
   },
   {
    "duration": 14,
    "start_time": "2024-12-23T20:28:38.785Z"
   },
   {
    "duration": 4,
    "start_time": "2024-12-23T20:28:38.801Z"
   },
   {
    "duration": 12,
    "start_time": "2024-12-23T20:28:38.806Z"
   },
   {
    "duration": 4,
    "start_time": "2024-12-23T20:28:38.820Z"
   },
   {
    "duration": 59,
    "start_time": "2024-12-23T20:28:38.826Z"
   },
   {
    "duration": 11,
    "start_time": "2024-12-23T20:28:38.886Z"
   },
   {
    "duration": 3,
    "start_time": "2024-12-23T20:28:38.899Z"
   },
   {
    "duration": 11,
    "start_time": "2024-12-23T20:28:38.905Z"
   },
   {
    "duration": 33,
    "start_time": "2024-12-23T20:28:38.917Z"
   },
   {
    "duration": 36,
    "start_time": "2024-12-23T20:28:38.952Z"
   },
   {
    "duration": 3,
    "start_time": "2024-12-23T20:28:38.990Z"
   },
   {
    "duration": 25,
    "start_time": "2024-12-23T20:28:38.995Z"
   },
   {
    "duration": 6,
    "start_time": "2024-12-23T20:28:39.021Z"
   },
   {
    "duration": 14,
    "start_time": "2024-12-23T20:28:39.029Z"
   },
   {
    "duration": 12,
    "start_time": "2024-12-23T20:28:39.044Z"
   },
   {
    "duration": 2,
    "start_time": "2024-12-23T20:28:39.058Z"
   },
   {
    "duration": 3,
    "start_time": "2024-12-23T20:28:39.070Z"
   },
   {
    "duration": 7,
    "start_time": "2024-12-23T20:28:39.075Z"
   },
   {
    "duration": 4,
    "start_time": "2024-12-23T20:28:39.084Z"
   },
   {
    "duration": 609,
    "start_time": "2024-12-25T14:43:59.699Z"
   },
   {
    "duration": 23,
    "start_time": "2024-12-25T14:44:00.310Z"
   },
   {
    "duration": 43,
    "start_time": "2024-12-25T14:44:00.334Z"
   },
   {
    "duration": 24,
    "start_time": "2024-12-25T14:44:00.379Z"
   },
   {
    "duration": 68,
    "start_time": "2024-12-25T14:44:00.404Z"
   },
   {
    "duration": 12,
    "start_time": "2024-12-25T14:44:00.474Z"
   },
   {
    "duration": 14,
    "start_time": "2024-12-25T14:44:00.488Z"
   },
   {
    "duration": 15,
    "start_time": "2024-12-25T14:44:00.503Z"
   },
   {
    "duration": 35,
    "start_time": "2024-12-25T14:44:00.519Z"
   },
   {
    "duration": 19,
    "start_time": "2024-12-25T14:44:00.557Z"
   },
   {
    "duration": 43,
    "start_time": "2024-12-25T14:44:00.578Z"
   },
   {
    "duration": 47,
    "start_time": "2024-12-25T14:44:00.623Z"
   },
   {
    "duration": 27,
    "start_time": "2024-12-25T14:44:00.672Z"
   },
   {
    "duration": 21,
    "start_time": "2024-12-25T14:44:00.701Z"
   },
   {
    "duration": 22,
    "start_time": "2024-12-25T14:44:00.724Z"
   },
   {
    "duration": 82,
    "start_time": "2024-12-25T14:44:00.748Z"
   },
   {
    "duration": 12,
    "start_time": "2024-12-25T14:44:00.831Z"
   },
   {
    "duration": 36,
    "start_time": "2024-12-25T14:44:00.845Z"
   },
   {
    "duration": 8,
    "start_time": "2024-12-25T14:44:00.883Z"
   },
   {
    "duration": 4,
    "start_time": "2024-12-25T14:44:00.893Z"
   },
   {
    "duration": 35,
    "start_time": "2024-12-25T14:44:00.899Z"
   },
   {
    "duration": 14,
    "start_time": "2024-12-25T14:44:00.936Z"
   },
   {
    "duration": 15,
    "start_time": "2024-12-25T14:44:00.952Z"
   },
   {
    "duration": 5,
    "start_time": "2024-12-25T14:44:00.969Z"
   },
   {
    "duration": 3,
    "start_time": "2024-12-25T14:44:00.975Z"
   },
   {
    "duration": 12,
    "start_time": "2024-12-25T14:44:27.616Z"
   },
   {
    "duration": 87,
    "start_time": "2024-12-25T14:45:32.970Z"
   },
   {
    "duration": 16,
    "start_time": "2024-12-25T14:45:33.059Z"
   },
   {
    "duration": 38,
    "start_time": "2024-12-25T14:45:33.077Z"
   },
   {
    "duration": 49,
    "start_time": "2024-12-25T14:45:33.116Z"
   },
   {
    "duration": 54,
    "start_time": "2024-12-25T14:45:33.167Z"
   },
   {
    "duration": 4,
    "start_time": "2024-12-25T14:45:33.223Z"
   },
   {
    "duration": 33,
    "start_time": "2024-12-25T14:45:33.228Z"
   },
   {
    "duration": 35,
    "start_time": "2024-12-25T14:45:33.263Z"
   },
   {
    "duration": 6,
    "start_time": "2024-12-25T14:45:33.300Z"
   },
   {
    "duration": 5,
    "start_time": "2024-12-25T14:45:33.307Z"
   },
   {
    "duration": 44,
    "start_time": "2024-12-25T14:45:33.314Z"
   },
   {
    "duration": 11,
    "start_time": "2024-12-25T14:45:33.360Z"
   },
   {
    "duration": 6,
    "start_time": "2024-12-25T14:45:33.372Z"
   },
   {
    "duration": 34,
    "start_time": "2024-12-25T14:45:33.381Z"
   },
   {
    "duration": 47,
    "start_time": "2024-12-25T14:45:33.417Z"
   },
   {
    "duration": 32,
    "start_time": "2024-12-25T14:45:33.466Z"
   },
   {
    "duration": 4,
    "start_time": "2024-12-25T14:45:33.499Z"
   },
   {
    "duration": 25,
    "start_time": "2024-12-25T14:45:33.505Z"
   },
   {
    "duration": 30,
    "start_time": "2024-12-25T14:45:33.532Z"
   },
   {
    "duration": 8,
    "start_time": "2024-12-25T14:45:33.564Z"
   },
   {
    "duration": 16,
    "start_time": "2024-12-25T14:45:33.575Z"
   },
   {
    "duration": 4,
    "start_time": "2024-12-25T14:45:33.593Z"
   },
   {
    "duration": 5,
    "start_time": "2024-12-25T14:45:33.599Z"
   },
   {
    "duration": 13,
    "start_time": "2024-12-25T14:45:33.605Z"
   },
   {
    "duration": 37,
    "start_time": "2024-12-25T14:45:33.619Z"
   },
   {
    "duration": 82,
    "start_time": "2024-12-25T14:46:34.096Z"
   },
   {
    "duration": 17,
    "start_time": "2024-12-25T14:46:34.180Z"
   },
   {
    "duration": 40,
    "start_time": "2024-12-25T14:46:34.198Z"
   },
   {
    "duration": 20,
    "start_time": "2024-12-25T14:46:34.240Z"
   },
   {
    "duration": 69,
    "start_time": "2024-12-25T14:46:34.261Z"
   },
   {
    "duration": 4,
    "start_time": "2024-12-25T14:46:34.331Z"
   },
   {
    "duration": 34,
    "start_time": "2024-12-25T14:46:34.336Z"
   },
   {
    "duration": 5,
    "start_time": "2024-12-25T14:46:34.372Z"
   },
   {
    "duration": 13,
    "start_time": "2024-12-25T14:46:34.379Z"
   },
   {
    "duration": 22,
    "start_time": "2024-12-25T14:46:34.394Z"
   },
   {
    "duration": 91,
    "start_time": "2024-12-25T14:46:34.418Z"
   },
   {
    "duration": 10,
    "start_time": "2024-12-25T14:46:34.511Z"
   },
   {
    "duration": 21,
    "start_time": "2024-12-25T14:46:34.523Z"
   },
   {
    "duration": 28,
    "start_time": "2024-12-25T14:46:34.546Z"
   },
   {
    "duration": 26,
    "start_time": "2024-12-25T14:46:34.576Z"
   },
   {
    "duration": 18,
    "start_time": "2024-12-25T14:46:34.604Z"
   },
   {
    "duration": 38,
    "start_time": "2024-12-25T14:46:34.624Z"
   },
   {
    "duration": 32,
    "start_time": "2024-12-25T14:46:34.664Z"
   },
   {
    "duration": 14,
    "start_time": "2024-12-25T14:46:34.697Z"
   },
   {
    "duration": 57,
    "start_time": "2024-12-25T14:46:34.713Z"
   },
   {
    "duration": 68,
    "start_time": "2024-12-25T14:46:34.772Z"
   },
   {
    "duration": 53,
    "start_time": "2024-12-25T14:46:34.842Z"
   },
   {
    "duration": 59,
    "start_time": "2024-12-25T14:46:34.897Z"
   },
   {
    "duration": 25,
    "start_time": "2024-12-25T14:46:34.959Z"
   },
   {
    "duration": 7,
    "start_time": "2024-12-25T14:46:34.986Z"
   },
   {
    "duration": 78,
    "start_time": "2024-12-25T14:48:08.929Z"
   },
   {
    "duration": 16,
    "start_time": "2024-12-25T14:48:09.009Z"
   },
   {
    "duration": 48,
    "start_time": "2024-12-25T14:48:09.026Z"
   },
   {
    "duration": 55,
    "start_time": "2024-12-25T14:48:09.076Z"
   },
   {
    "duration": 36,
    "start_time": "2024-12-25T14:48:09.133Z"
   },
   {
    "duration": 4,
    "start_time": "2024-12-25T14:48:09.171Z"
   },
   {
    "duration": 12,
    "start_time": "2024-12-25T14:48:09.176Z"
   },
   {
    "duration": 25,
    "start_time": "2024-12-25T14:48:09.190Z"
   },
   {
    "duration": 6,
    "start_time": "2024-12-25T14:48:09.217Z"
   },
   {
    "duration": 5,
    "start_time": "2024-12-25T14:48:09.226Z"
   },
   {
    "duration": 39,
    "start_time": "2024-12-25T14:48:09.233Z"
   },
   {
    "duration": 43,
    "start_time": "2024-12-25T14:48:09.274Z"
   },
   {
    "duration": 5,
    "start_time": "2024-12-25T14:48:09.319Z"
   },
   {
    "duration": 14,
    "start_time": "2024-12-25T14:48:09.326Z"
   },
   {
    "duration": 22,
    "start_time": "2024-12-25T14:48:09.341Z"
   },
   {
    "duration": 50,
    "start_time": "2024-12-25T14:48:09.365Z"
   },
   {
    "duration": 3,
    "start_time": "2024-12-25T14:48:09.417Z"
   },
   {
    "duration": 16,
    "start_time": "2024-12-25T14:48:09.422Z"
   },
   {
    "duration": 6,
    "start_time": "2024-12-25T14:48:09.440Z"
   },
   {
    "duration": 4,
    "start_time": "2024-12-25T14:48:09.447Z"
   },
   {
    "duration": 18,
    "start_time": "2024-12-25T14:48:09.452Z"
   },
   {
    "duration": 43,
    "start_time": "2024-12-25T14:48:09.472Z"
   },
   {
    "duration": 2,
    "start_time": "2024-12-25T14:48:09.517Z"
   },
   {
    "duration": 4,
    "start_time": "2024-12-25T14:48:09.521Z"
   },
   {
    "duration": 3,
    "start_time": "2024-12-25T14:48:09.526Z"
   },
   {
    "duration": 90,
    "start_time": "2024-12-25T14:48:45.227Z"
   },
   {
    "duration": 16,
    "start_time": "2024-12-25T14:48:45.319Z"
   },
   {
    "duration": 49,
    "start_time": "2024-12-25T14:48:45.336Z"
   },
   {
    "duration": 53,
    "start_time": "2024-12-25T14:48:45.387Z"
   },
   {
    "duration": 46,
    "start_time": "2024-12-25T14:48:45.442Z"
   },
   {
    "duration": 4,
    "start_time": "2024-12-25T14:48:45.490Z"
   },
   {
    "duration": 39,
    "start_time": "2024-12-25T14:48:45.495Z"
   },
   {
    "duration": 18,
    "start_time": "2024-12-25T14:48:45.536Z"
   },
   {
    "duration": 7,
    "start_time": "2024-12-25T14:48:45.555Z"
   },
   {
    "duration": 15,
    "start_time": "2024-12-25T14:48:45.564Z"
   },
   {
    "duration": 70,
    "start_time": "2024-12-25T14:48:45.580Z"
   },
   {
    "duration": 11,
    "start_time": "2024-12-25T14:48:45.652Z"
   },
   {
    "duration": 17,
    "start_time": "2024-12-25T14:48:45.665Z"
   },
   {
    "duration": 16,
    "start_time": "2024-12-25T14:48:45.684Z"
   },
   {
    "duration": 84,
    "start_time": "2024-12-25T14:48:45.702Z"
   },
   {
    "duration": 31,
    "start_time": "2024-12-25T14:48:45.787Z"
   },
   {
    "duration": 4,
    "start_time": "2024-12-25T14:48:45.819Z"
   },
   {
    "duration": 21,
    "start_time": "2024-12-25T14:48:45.825Z"
   },
   {
    "duration": 7,
    "start_time": "2024-12-25T14:48:45.848Z"
   },
   {
    "duration": 4,
    "start_time": "2024-12-25T14:48:45.857Z"
   },
   {
    "duration": 16,
    "start_time": "2024-12-25T14:48:45.863Z"
   },
   {
    "duration": 22,
    "start_time": "2024-12-25T14:48:45.881Z"
   },
   {
    "duration": 3,
    "start_time": "2024-12-25T14:48:45.915Z"
   },
   {
    "duration": 21,
    "start_time": "2024-12-25T14:48:45.919Z"
   },
   {
    "duration": 7,
    "start_time": "2024-12-25T14:48:45.941Z"
   },
   {
    "duration": 79,
    "start_time": "2024-12-25T14:49:03.390Z"
   },
   {
    "duration": 15,
    "start_time": "2024-12-25T14:49:03.471Z"
   },
   {
    "duration": 32,
    "start_time": "2024-12-25T14:49:03.487Z"
   },
   {
    "duration": 10,
    "start_time": "2024-12-25T14:49:03.521Z"
   },
   {
    "duration": 36,
    "start_time": "2024-12-25T14:49:03.533Z"
   },
   {
    "duration": 3,
    "start_time": "2024-12-25T14:49:03.571Z"
   },
   {
    "duration": 17,
    "start_time": "2024-12-25T14:49:03.576Z"
   },
   {
    "duration": 5,
    "start_time": "2024-12-25T14:49:03.614Z"
   },
   {
    "duration": 23,
    "start_time": "2024-12-25T14:49:03.620Z"
   },
   {
    "duration": 26,
    "start_time": "2024-12-25T14:49:03.645Z"
   },
   {
    "duration": 37,
    "start_time": "2024-12-25T14:49:03.672Z"
   },
   {
    "duration": 14,
    "start_time": "2024-12-25T14:49:03.710Z"
   },
   {
    "duration": 6,
    "start_time": "2024-12-25T14:49:03.725Z"
   },
   {
    "duration": 23,
    "start_time": "2024-12-25T14:49:03.734Z"
   },
   {
    "duration": 33,
    "start_time": "2024-12-25T14:49:03.759Z"
   },
   {
    "duration": 20,
    "start_time": "2024-12-25T14:49:03.794Z"
   },
   {
    "duration": 7,
    "start_time": "2024-12-25T14:49:03.816Z"
   },
   {
    "duration": 12,
    "start_time": "2024-12-25T14:49:03.825Z"
   },
   {
    "duration": 33,
    "start_time": "2024-12-25T14:49:03.839Z"
   },
   {
    "duration": 4,
    "start_time": "2024-12-25T14:49:03.874Z"
   },
   {
    "duration": 21,
    "start_time": "2024-12-25T14:49:03.879Z"
   },
   {
    "duration": 19,
    "start_time": "2024-12-25T14:49:03.901Z"
   },
   {
    "duration": 9,
    "start_time": "2024-12-25T14:49:03.921Z"
   },
   {
    "duration": 24,
    "start_time": "2024-12-25T14:49:03.932Z"
   },
   {
    "duration": 15,
    "start_time": "2024-12-25T14:49:03.957Z"
   },
   {
    "duration": 76,
    "start_time": "2024-12-25T14:49:34.302Z"
   },
   {
    "duration": 16,
    "start_time": "2024-12-25T14:49:34.380Z"
   },
   {
    "duration": 41,
    "start_time": "2024-12-25T14:49:34.398Z"
   },
   {
    "duration": 15,
    "start_time": "2024-12-25T14:49:34.441Z"
   },
   {
    "duration": 54,
    "start_time": "2024-12-25T14:49:34.458Z"
   },
   {
    "duration": 4,
    "start_time": "2024-12-25T14:49:34.513Z"
   },
   {
    "duration": 29,
    "start_time": "2024-12-25T14:49:34.518Z"
   },
   {
    "duration": 39,
    "start_time": "2024-12-25T14:49:34.548Z"
   },
   {
    "duration": 13,
    "start_time": "2024-12-25T14:49:34.588Z"
   },
   {
    "duration": 12,
    "start_time": "2024-12-25T14:49:34.605Z"
   },
   {
    "duration": 65,
    "start_time": "2024-12-25T14:49:34.620Z"
   },
   {
    "duration": 38,
    "start_time": "2024-12-25T14:49:34.687Z"
   },
   {
    "duration": 10,
    "start_time": "2024-12-25T14:49:34.727Z"
   },
   {
    "duration": 36,
    "start_time": "2024-12-25T14:49:34.740Z"
   },
   {
    "duration": 103,
    "start_time": "2024-12-25T14:49:34.778Z"
   },
   {
    "duration": 19,
    "start_time": "2024-12-25T14:49:34.883Z"
   },
   {
    "duration": 3,
    "start_time": "2024-12-25T14:49:34.904Z"
   },
   {
    "duration": 12,
    "start_time": "2024-12-25T14:49:34.909Z"
   },
   {
    "duration": 8,
    "start_time": "2024-12-25T14:49:34.922Z"
   },
   {
    "duration": 37,
    "start_time": "2024-12-25T14:49:34.931Z"
   },
   {
    "duration": 19,
    "start_time": "2024-12-25T14:49:34.970Z"
   },
   {
    "duration": 96,
    "start_time": "2024-12-25T14:49:34.991Z"
   },
   {
    "duration": 0,
    "start_time": "2024-12-25T14:49:35.090Z"
   },
   {
    "duration": 0,
    "start_time": "2024-12-25T14:49:35.091Z"
   },
   {
    "duration": 0,
    "start_time": "2024-12-25T14:49:35.092Z"
   },
   {
    "duration": 81,
    "start_time": "2024-12-25T14:52:52.588Z"
   },
   {
    "duration": 17,
    "start_time": "2024-12-25T14:52:52.671Z"
   },
   {
    "duration": 61,
    "start_time": "2024-12-25T14:52:52.690Z"
   },
   {
    "duration": 12,
    "start_time": "2024-12-25T14:52:52.753Z"
   },
   {
    "duration": 92,
    "start_time": "2024-12-25T14:52:52.768Z"
   },
   {
    "duration": 4,
    "start_time": "2024-12-25T14:52:52.862Z"
   },
   {
    "duration": 23,
    "start_time": "2024-12-25T14:52:52.867Z"
   },
   {
    "duration": 8,
    "start_time": "2024-12-25T14:52:52.892Z"
   },
   {
    "duration": 20,
    "start_time": "2024-12-25T14:52:52.902Z"
   },
   {
    "duration": 28,
    "start_time": "2024-12-25T14:52:52.924Z"
   },
   {
    "duration": 48,
    "start_time": "2024-12-25T14:52:52.954Z"
   },
   {
    "duration": 11,
    "start_time": "2024-12-25T14:52:53.004Z"
   },
   {
    "duration": 5,
    "start_time": "2024-12-25T14:52:53.016Z"
   },
   {
    "duration": 15,
    "start_time": "2024-12-25T14:52:53.024Z"
   },
   {
    "duration": 28,
    "start_time": "2024-12-25T14:52:53.040Z"
   },
   {
    "duration": 20,
    "start_time": "2024-12-25T14:52:53.070Z"
   },
   {
    "duration": 22,
    "start_time": "2024-12-25T14:52:53.092Z"
   },
   {
    "duration": 111,
    "start_time": "2024-12-25T14:52:53.116Z"
   },
   {
    "duration": 23,
    "start_time": "2024-12-25T14:52:53.228Z"
   },
   {
    "duration": 6,
    "start_time": "2024-12-25T14:52:53.252Z"
   },
   {
    "duration": 13,
    "start_time": "2024-12-25T14:52:53.260Z"
   },
   {
    "duration": 10,
    "start_time": "2024-12-25T14:52:53.275Z"
   },
   {
    "duration": 6,
    "start_time": "2024-12-25T14:52:53.286Z"
   },
   {
    "duration": 5,
    "start_time": "2024-12-25T14:52:53.294Z"
   },
   {
    "duration": 10,
    "start_time": "2024-12-25T14:52:53.301Z"
   },
   {
    "duration": 79,
    "start_time": "2024-12-25T14:54:30.132Z"
   },
   {
    "duration": 16,
    "start_time": "2024-12-25T14:54:30.213Z"
   },
   {
    "duration": 78,
    "start_time": "2024-12-25T14:54:30.230Z"
   },
   {
    "duration": 44,
    "start_time": "2024-12-25T14:54:30.310Z"
   },
   {
    "duration": 77,
    "start_time": "2024-12-25T14:54:30.356Z"
   },
   {
    "duration": 27,
    "start_time": "2024-12-25T14:54:30.435Z"
   },
   {
    "duration": 24,
    "start_time": "2024-12-25T14:54:30.464Z"
   },
   {
    "duration": 14,
    "start_time": "2024-12-25T14:54:30.489Z"
   },
   {
    "duration": 20,
    "start_time": "2024-12-25T14:54:30.505Z"
   },
   {
    "duration": 42,
    "start_time": "2024-12-25T14:54:30.528Z"
   },
   {
    "duration": 45,
    "start_time": "2024-12-25T14:54:30.572Z"
   },
   {
    "duration": 11,
    "start_time": "2024-12-25T14:54:30.619Z"
   },
   {
    "duration": 63,
    "start_time": "2024-12-25T14:54:30.631Z"
   },
   {
    "duration": 81,
    "start_time": "2024-12-25T14:54:30.696Z"
   },
   {
    "duration": 103,
    "start_time": "2024-12-25T14:54:30.779Z"
   },
   {
    "duration": 23,
    "start_time": "2024-12-25T14:54:30.884Z"
   },
   {
    "duration": 11,
    "start_time": "2024-12-25T14:54:30.909Z"
   },
   {
    "duration": 27,
    "start_time": "2024-12-25T14:54:30.922Z"
   },
   {
    "duration": 36,
    "start_time": "2024-12-25T14:54:30.951Z"
   },
   {
    "duration": 14,
    "start_time": "2024-12-25T14:54:30.989Z"
   },
   {
    "duration": 31,
    "start_time": "2024-12-25T14:54:31.005Z"
   },
   {
    "duration": 45,
    "start_time": "2024-12-25T14:54:31.038Z"
   },
   {
    "duration": 2,
    "start_time": "2024-12-25T14:54:31.085Z"
   },
   {
    "duration": 23,
    "start_time": "2024-12-25T14:54:31.089Z"
   },
   {
    "duration": 111,
    "start_time": "2024-12-25T14:54:31.115Z"
   },
   {
    "duration": 80,
    "start_time": "2024-12-25T14:55:25.864Z"
   },
   {
    "duration": 17,
    "start_time": "2024-12-25T14:55:25.946Z"
   },
   {
    "duration": 31,
    "start_time": "2024-12-25T14:55:25.964Z"
   },
   {
    "duration": 18,
    "start_time": "2024-12-25T14:55:25.998Z"
   },
   {
    "duration": 52,
    "start_time": "2024-12-25T14:55:26.018Z"
   },
   {
    "duration": 5,
    "start_time": "2024-12-25T14:55:26.072Z"
   },
   {
    "duration": 16,
    "start_time": "2024-12-25T14:55:26.079Z"
   },
   {
    "duration": 29,
    "start_time": "2024-12-25T14:55:26.097Z"
   },
   {
    "duration": 22,
    "start_time": "2024-12-25T14:55:26.127Z"
   },
   {
    "duration": 6,
    "start_time": "2024-12-25T14:55:26.152Z"
   },
   {
    "duration": 43,
    "start_time": "2024-12-25T14:55:26.160Z"
   },
   {
    "duration": 11,
    "start_time": "2024-12-25T14:55:26.204Z"
   },
   {
    "duration": 5,
    "start_time": "2024-12-25T14:55:26.217Z"
   },
   {
    "duration": 13,
    "start_time": "2024-12-25T14:55:26.224Z"
   },
   {
    "duration": 20,
    "start_time": "2024-12-25T14:55:26.239Z"
   },
   {
    "duration": 20,
    "start_time": "2024-12-25T14:55:26.261Z"
   },
   {
    "duration": 32,
    "start_time": "2024-12-25T14:55:26.283Z"
   },
   {
    "duration": 12,
    "start_time": "2024-12-25T14:55:26.317Z"
   },
   {
    "duration": 31,
    "start_time": "2024-12-25T14:55:26.331Z"
   },
   {
    "duration": 4,
    "start_time": "2024-12-25T14:55:26.364Z"
   },
   {
    "duration": 13,
    "start_time": "2024-12-25T14:55:26.370Z"
   },
   {
    "duration": 33,
    "start_time": "2024-12-25T14:55:26.385Z"
   },
   {
    "duration": 3,
    "start_time": "2024-12-25T14:55:26.420Z"
   },
   {
    "duration": 15,
    "start_time": "2024-12-25T14:55:26.425Z"
   },
   {
    "duration": 5,
    "start_time": "2024-12-25T14:55:26.442Z"
   },
   {
    "duration": 79,
    "start_time": "2024-12-25T14:56:28.280Z"
   },
   {
    "duration": 16,
    "start_time": "2024-12-25T14:56:28.361Z"
   },
   {
    "duration": 17,
    "start_time": "2024-12-25T14:56:28.378Z"
   },
   {
    "duration": 27,
    "start_time": "2024-12-25T14:56:28.397Z"
   },
   {
    "duration": 43,
    "start_time": "2024-12-25T14:56:28.426Z"
   },
   {
    "duration": 4,
    "start_time": "2024-12-25T14:56:28.470Z"
   },
   {
    "duration": 15,
    "start_time": "2024-12-25T14:56:28.475Z"
   },
   {
    "duration": 5,
    "start_time": "2024-12-25T14:56:28.492Z"
   },
   {
    "duration": 7,
    "start_time": "2024-12-25T14:56:28.516Z"
   },
   {
    "duration": 5,
    "start_time": "2024-12-25T14:56:28.526Z"
   },
   {
    "duration": 44,
    "start_time": "2024-12-25T14:56:28.533Z"
   },
   {
    "duration": 12,
    "start_time": "2024-12-25T14:56:28.579Z"
   },
   {
    "duration": 5,
    "start_time": "2024-12-25T14:56:28.615Z"
   },
   {
    "duration": 17,
    "start_time": "2024-12-25T14:56:28.622Z"
   },
   {
    "duration": 21,
    "start_time": "2024-12-25T14:56:28.641Z"
   },
   {
    "duration": 19,
    "start_time": "2024-12-25T14:56:28.664Z"
   },
   {
    "duration": 3,
    "start_time": "2024-12-25T14:56:28.685Z"
   },
   {
    "duration": 11,
    "start_time": "2024-12-25T14:56:28.715Z"
   },
   {
    "duration": 8,
    "start_time": "2024-12-25T14:56:28.728Z"
   },
   {
    "duration": 4,
    "start_time": "2024-12-25T14:56:28.737Z"
   },
   {
    "duration": 14,
    "start_time": "2024-12-25T14:56:28.743Z"
   },
   {
    "duration": 23,
    "start_time": "2024-12-25T14:56:28.759Z"
   },
   {
    "duration": 26,
    "start_time": "2024-12-25T14:56:28.784Z"
   },
   {
    "duration": 40,
    "start_time": "2024-12-25T14:56:28.812Z"
   },
   {
    "duration": 5,
    "start_time": "2024-12-25T14:56:28.854Z"
   },
   {
    "duration": 77,
    "start_time": "2024-12-25T14:57:39.115Z"
   },
   {
    "duration": 16,
    "start_time": "2024-12-25T14:57:39.195Z"
   },
   {
    "duration": 57,
    "start_time": "2024-12-25T14:57:39.213Z"
   },
   {
    "duration": 15,
    "start_time": "2024-12-25T14:57:39.272Z"
   },
   {
    "duration": 36,
    "start_time": "2024-12-25T14:57:39.288Z"
   },
   {
    "duration": 3,
    "start_time": "2024-12-25T14:57:39.325Z"
   },
   {
    "duration": 14,
    "start_time": "2024-12-25T14:57:39.330Z"
   },
   {
    "duration": 3,
    "start_time": "2024-12-25T14:57:39.346Z"
   },
   {
    "duration": 14,
    "start_time": "2024-12-25T14:57:39.351Z"
   },
   {
    "duration": 32,
    "start_time": "2024-12-25T14:57:39.368Z"
   },
   {
    "duration": 53,
    "start_time": "2024-12-25T14:57:39.402Z"
   },
   {
    "duration": 11,
    "start_time": "2024-12-25T14:57:39.456Z"
   },
   {
    "duration": 12,
    "start_time": "2024-12-25T14:57:39.468Z"
   },
   {
    "duration": 11,
    "start_time": "2024-12-25T14:57:39.482Z"
   },
   {
    "duration": 42,
    "start_time": "2024-12-25T14:57:39.495Z"
   },
   {
    "duration": 19,
    "start_time": "2024-12-25T14:57:39.539Z"
   },
   {
    "duration": 4,
    "start_time": "2024-12-25T14:57:39.559Z"
   },
   {
    "duration": 21,
    "start_time": "2024-12-25T14:57:39.564Z"
   },
   {
    "duration": 34,
    "start_time": "2024-12-25T14:57:39.587Z"
   },
   {
    "duration": 8,
    "start_time": "2024-12-25T14:57:39.623Z"
   },
   {
    "duration": 36,
    "start_time": "2024-12-25T14:57:39.632Z"
   },
   {
    "duration": 11,
    "start_time": "2024-12-25T14:57:39.670Z"
   },
   {
    "duration": 2,
    "start_time": "2024-12-25T14:57:39.683Z"
   },
   {
    "duration": 27,
    "start_time": "2024-12-25T14:57:39.687Z"
   },
   {
    "duration": 4,
    "start_time": "2024-12-25T14:57:39.715Z"
   },
   {
    "duration": 77,
    "start_time": "2024-12-25T14:57:51.954Z"
   },
   {
    "duration": 15,
    "start_time": "2024-12-25T14:57:52.033Z"
   },
   {
    "duration": 34,
    "start_time": "2024-12-25T14:57:52.050Z"
   },
   {
    "duration": 11,
    "start_time": "2024-12-25T14:57:52.086Z"
   },
   {
    "duration": 44,
    "start_time": "2024-12-25T14:57:52.099Z"
   },
   {
    "duration": 4,
    "start_time": "2024-12-25T14:57:52.145Z"
   },
   {
    "duration": 11,
    "start_time": "2024-12-25T14:57:52.151Z"
   },
   {
    "duration": 26,
    "start_time": "2024-12-25T14:57:52.164Z"
   },
   {
    "duration": 13,
    "start_time": "2024-12-25T14:57:52.191Z"
   },
   {
    "duration": 7,
    "start_time": "2024-12-25T14:57:52.207Z"
   },
   {
    "duration": 100,
    "start_time": "2024-12-25T14:57:52.215Z"
   },
   {
    "duration": 10,
    "start_time": "2024-12-25T14:57:52.316Z"
   },
   {
    "duration": 16,
    "start_time": "2024-12-25T14:57:52.327Z"
   },
   {
    "duration": 36,
    "start_time": "2024-12-25T14:57:52.345Z"
   },
   {
    "duration": 31,
    "start_time": "2024-12-25T14:57:52.383Z"
   },
   {
    "duration": 22,
    "start_time": "2024-12-25T14:57:52.416Z"
   },
   {
    "duration": 5,
    "start_time": "2024-12-25T14:57:52.440Z"
   },
   {
    "duration": 20,
    "start_time": "2024-12-25T14:57:52.446Z"
   },
   {
    "duration": 20,
    "start_time": "2024-12-25T14:57:52.468Z"
   },
   {
    "duration": 7,
    "start_time": "2024-12-25T14:57:52.490Z"
   },
   {
    "duration": 25,
    "start_time": "2024-12-25T14:57:52.499Z"
   },
   {
    "duration": 38,
    "start_time": "2024-12-25T14:57:52.526Z"
   },
   {
    "duration": 19,
    "start_time": "2024-12-25T14:57:52.566Z"
   },
   {
    "duration": 13,
    "start_time": "2024-12-25T14:57:52.588Z"
   },
   {
    "duration": 5,
    "start_time": "2024-12-25T14:57:52.603Z"
   },
   {
    "duration": 78,
    "start_time": "2024-12-25T14:58:34.009Z"
   },
   {
    "duration": 16,
    "start_time": "2024-12-25T14:58:34.089Z"
   },
   {
    "duration": 32,
    "start_time": "2024-12-25T14:58:34.106Z"
   },
   {
    "duration": 28,
    "start_time": "2024-12-25T14:58:34.141Z"
   },
   {
    "duration": 49,
    "start_time": "2024-12-25T14:58:34.171Z"
   },
   {
    "duration": 5,
    "start_time": "2024-12-25T14:58:34.221Z"
   },
   {
    "duration": 50,
    "start_time": "2024-12-25T14:58:34.227Z"
   },
   {
    "duration": 5,
    "start_time": "2024-12-25T14:58:34.278Z"
   },
   {
    "duration": 10,
    "start_time": "2024-12-25T14:58:34.284Z"
   },
   {
    "duration": 10,
    "start_time": "2024-12-25T14:58:34.297Z"
   },
   {
    "duration": 40,
    "start_time": "2024-12-25T14:58:34.309Z"
   },
   {
    "duration": 13,
    "start_time": "2024-12-25T14:58:34.351Z"
   },
   {
    "duration": 5,
    "start_time": "2024-12-25T14:58:34.366Z"
   },
   {
    "duration": 18,
    "start_time": "2024-12-25T14:58:34.373Z"
   },
   {
    "duration": 50,
    "start_time": "2024-12-25T14:58:34.393Z"
   },
   {
    "duration": 32,
    "start_time": "2024-12-25T14:58:34.445Z"
   },
   {
    "duration": 5,
    "start_time": "2024-12-25T14:58:34.478Z"
   },
   {
    "duration": 27,
    "start_time": "2024-12-25T14:58:34.485Z"
   },
   {
    "duration": 37,
    "start_time": "2024-12-25T14:58:34.514Z"
   },
   {
    "duration": 18,
    "start_time": "2024-12-25T14:58:34.553Z"
   },
   {
    "duration": 16,
    "start_time": "2024-12-25T14:58:34.573Z"
   },
   {
    "duration": 15,
    "start_time": "2024-12-25T14:58:34.591Z"
   },
   {
    "duration": 3,
    "start_time": "2024-12-25T14:58:34.608Z"
   },
   {
    "duration": 50,
    "start_time": "2024-12-25T14:58:34.613Z"
   },
   {
    "duration": 11,
    "start_time": "2024-12-25T14:58:34.666Z"
   },
   {
    "duration": 79,
    "start_time": "2024-12-25T15:01:32.318Z"
   },
   {
    "duration": 16,
    "start_time": "2024-12-25T15:01:32.399Z"
   },
   {
    "duration": 48,
    "start_time": "2024-12-25T15:01:32.416Z"
   },
   {
    "duration": 28,
    "start_time": "2024-12-25T15:01:32.466Z"
   },
   {
    "duration": 83,
    "start_time": "2024-12-25T15:01:32.496Z"
   },
   {
    "duration": 3,
    "start_time": "2024-12-25T15:01:32.581Z"
   },
   {
    "duration": 10,
    "start_time": "2024-12-25T15:01:32.586Z"
   },
   {
    "duration": 31,
    "start_time": "2024-12-25T15:01:32.597Z"
   },
   {
    "duration": 33,
    "start_time": "2024-12-25T15:01:32.630Z"
   },
   {
    "duration": 11,
    "start_time": "2024-12-25T15:01:32.666Z"
   },
   {
    "duration": 49,
    "start_time": "2024-12-25T15:01:32.679Z"
   },
   {
    "duration": 45,
    "start_time": "2024-12-25T15:01:32.730Z"
   },
   {
    "duration": 6,
    "start_time": "2024-12-25T15:01:32.778Z"
   },
   {
    "duration": 76,
    "start_time": "2024-12-25T15:01:32.786Z"
   },
   {
    "duration": 78,
    "start_time": "2024-12-25T15:01:32.864Z"
   },
   {
    "duration": 38,
    "start_time": "2024-12-25T15:01:32.945Z"
   },
   {
    "duration": 10,
    "start_time": "2024-12-25T15:01:32.985Z"
   },
   {
    "duration": 58,
    "start_time": "2024-12-25T15:01:32.997Z"
   },
   {
    "duration": 46,
    "start_time": "2024-12-25T15:01:33.057Z"
   },
   {
    "duration": 31,
    "start_time": "2024-12-25T15:01:33.105Z"
   },
   {
    "duration": 41,
    "start_time": "2024-12-25T15:01:33.138Z"
   },
   {
    "duration": 160,
    "start_time": "2024-12-25T15:01:33.181Z"
   },
   {
    "duration": 0,
    "start_time": "2024-12-25T15:01:33.343Z"
   },
   {
    "duration": 0,
    "start_time": "2024-12-25T15:01:33.344Z"
   },
   {
    "duration": 0,
    "start_time": "2024-12-25T15:01:33.345Z"
   },
   {
    "duration": 78,
    "start_time": "2024-12-25T15:01:51.235Z"
   },
   {
    "duration": 16,
    "start_time": "2024-12-25T15:01:51.315Z"
   },
   {
    "duration": 16,
    "start_time": "2024-12-25T15:01:51.332Z"
   },
   {
    "duration": 11,
    "start_time": "2024-12-25T15:01:51.351Z"
   },
   {
    "duration": 63,
    "start_time": "2024-12-25T15:01:51.364Z"
   },
   {
    "duration": 4,
    "start_time": "2024-12-25T15:01:51.429Z"
   },
   {
    "duration": 39,
    "start_time": "2024-12-25T15:01:51.434Z"
   },
   {
    "duration": 23,
    "start_time": "2024-12-25T15:01:51.475Z"
   },
   {
    "duration": 17,
    "start_time": "2024-12-25T15:01:51.500Z"
   },
   {
    "duration": 16,
    "start_time": "2024-12-25T15:01:51.520Z"
   },
   {
    "duration": 65,
    "start_time": "2024-12-25T15:01:51.538Z"
   },
   {
    "duration": 11,
    "start_time": "2024-12-25T15:01:51.605Z"
   },
   {
    "duration": 12,
    "start_time": "2024-12-25T15:01:51.618Z"
   },
   {
    "duration": 38,
    "start_time": "2024-12-25T15:01:51.632Z"
   },
   {
    "duration": 35,
    "start_time": "2024-12-25T15:01:51.672Z"
   },
   {
    "duration": 21,
    "start_time": "2024-12-25T15:01:51.709Z"
   },
   {
    "duration": 4,
    "start_time": "2024-12-25T15:01:51.731Z"
   },
   {
    "duration": 32,
    "start_time": "2024-12-25T15:01:51.737Z"
   },
   {
    "duration": 78,
    "start_time": "2024-12-25T15:01:51.771Z"
   },
   {
    "duration": 62,
    "start_time": "2024-12-25T15:01:51.851Z"
   },
   {
    "duration": 45,
    "start_time": "2024-12-25T15:01:51.915Z"
   },
   {
    "duration": 28,
    "start_time": "2024-12-25T15:01:51.962Z"
   },
   {
    "duration": 8,
    "start_time": "2024-12-25T15:01:51.992Z"
   },
   {
    "duration": 31,
    "start_time": "2024-12-25T15:01:52.001Z"
   },
   {
    "duration": 33,
    "start_time": "2024-12-25T15:01:52.034Z"
   },
   {
    "duration": 79,
    "start_time": "2024-12-25T15:02:27.322Z"
   },
   {
    "duration": 15,
    "start_time": "2024-12-25T15:02:27.404Z"
   },
   {
    "duration": 24,
    "start_time": "2024-12-25T15:02:27.422Z"
   },
   {
    "duration": 15,
    "start_time": "2024-12-25T15:02:27.448Z"
   },
   {
    "duration": 64,
    "start_time": "2024-12-25T15:02:27.465Z"
   },
   {
    "duration": 4,
    "start_time": "2024-12-25T15:02:27.531Z"
   },
   {
    "duration": 17,
    "start_time": "2024-12-25T15:02:27.537Z"
   },
   {
    "duration": 7,
    "start_time": "2024-12-25T15:02:27.556Z"
   },
   {
    "duration": 11,
    "start_time": "2024-12-25T15:02:27.565Z"
   },
   {
    "duration": 14,
    "start_time": "2024-12-25T15:02:27.580Z"
   },
   {
    "duration": 51,
    "start_time": "2024-12-25T15:02:27.596Z"
   },
   {
    "duration": 13,
    "start_time": "2024-12-25T15:02:27.649Z"
   },
   {
    "duration": 42,
    "start_time": "2024-12-25T15:02:27.664Z"
   },
   {
    "duration": 32,
    "start_time": "2024-12-25T15:02:27.708Z"
   },
   {
    "duration": 21,
    "start_time": "2024-12-25T15:02:27.742Z"
   },
   {
    "duration": 22,
    "start_time": "2024-12-25T15:02:27.765Z"
   },
   {
    "duration": 4,
    "start_time": "2024-12-25T15:02:27.789Z"
   },
   {
    "duration": 58,
    "start_time": "2024-12-25T15:02:27.795Z"
   },
   {
    "duration": 5,
    "start_time": "2024-12-25T15:02:27.855Z"
   },
   {
    "duration": 5,
    "start_time": "2024-12-25T15:02:27.862Z"
   },
   {
    "duration": 12,
    "start_time": "2024-12-25T15:02:27.868Z"
   },
   {
    "duration": 20,
    "start_time": "2024-12-25T15:02:27.881Z"
   },
   {
    "duration": 3,
    "start_time": "2024-12-25T15:02:27.903Z"
   },
   {
    "duration": 4,
    "start_time": "2024-12-25T15:02:27.907Z"
   },
   {
    "duration": 5,
    "start_time": "2024-12-25T15:02:27.913Z"
   },
   {
    "duration": 79,
    "start_time": "2024-12-25T15:02:58.250Z"
   },
   {
    "duration": 15,
    "start_time": "2024-12-25T15:02:58.331Z"
   },
   {
    "duration": 30,
    "start_time": "2024-12-25T15:02:58.348Z"
   },
   {
    "duration": 11,
    "start_time": "2024-12-25T15:02:58.380Z"
   },
   {
    "duration": 56,
    "start_time": "2024-12-25T15:02:58.392Z"
   },
   {
    "duration": 3,
    "start_time": "2024-12-25T15:02:58.450Z"
   },
   {
    "duration": 22,
    "start_time": "2024-12-25T15:02:58.455Z"
   },
   {
    "duration": 8,
    "start_time": "2024-12-25T15:02:58.479Z"
   },
   {
    "duration": 10,
    "start_time": "2024-12-25T15:02:58.489Z"
   },
   {
    "duration": 6,
    "start_time": "2024-12-25T15:02:58.514Z"
   },
   {
    "duration": 39,
    "start_time": "2024-12-25T15:02:58.521Z"
   },
   {
    "duration": 12,
    "start_time": "2024-12-25T15:02:58.562Z"
   },
   {
    "duration": 5,
    "start_time": "2024-12-25T15:02:58.576Z"
   },
   {
    "duration": 46,
    "start_time": "2024-12-25T15:02:58.582Z"
   },
   {
    "duration": 35,
    "start_time": "2024-12-25T15:02:58.630Z"
   },
   {
    "duration": 21,
    "start_time": "2024-12-25T15:02:58.668Z"
   },
   {
    "duration": 5,
    "start_time": "2024-12-25T15:02:58.690Z"
   },
   {
    "duration": 25,
    "start_time": "2024-12-25T15:02:58.697Z"
   },
   {
    "duration": 13,
    "start_time": "2024-12-25T15:02:58.725Z"
   },
   {
    "duration": 20,
    "start_time": "2024-12-25T15:02:58.741Z"
   },
   {
    "duration": 21,
    "start_time": "2024-12-25T15:02:58.763Z"
   },
   {
    "duration": 61,
    "start_time": "2024-12-25T15:02:58.786Z"
   },
   {
    "duration": 34,
    "start_time": "2024-12-25T15:02:58.848Z"
   },
   {
    "duration": 4,
    "start_time": "2024-12-25T15:02:58.884Z"
   },
   {
    "duration": 7,
    "start_time": "2024-12-25T15:02:58.889Z"
   },
   {
    "duration": 80,
    "start_time": "2024-12-25T15:03:22.503Z"
   },
   {
    "duration": 15,
    "start_time": "2024-12-25T15:03:22.585Z"
   },
   {
    "duration": 45,
    "start_time": "2024-12-25T15:03:22.602Z"
   },
   {
    "duration": 12,
    "start_time": "2024-12-25T15:03:22.649Z"
   },
   {
    "duration": 36,
    "start_time": "2024-12-25T15:03:22.663Z"
   },
   {
    "duration": 3,
    "start_time": "2024-12-25T15:03:22.701Z"
   },
   {
    "duration": 13,
    "start_time": "2024-12-25T15:03:22.706Z"
   },
   {
    "duration": 6,
    "start_time": "2024-12-25T15:03:22.721Z"
   },
   {
    "duration": 17,
    "start_time": "2024-12-25T15:03:22.728Z"
   },
   {
    "duration": 7,
    "start_time": "2024-12-25T15:03:22.748Z"
   },
   {
    "duration": 69,
    "start_time": "2024-12-25T15:03:22.757Z"
   },
   {
    "duration": 13,
    "start_time": "2024-12-25T15:03:22.827Z"
   },
   {
    "duration": 55,
    "start_time": "2024-12-25T15:03:22.842Z"
   },
   {
    "duration": 17,
    "start_time": "2024-12-25T15:03:22.899Z"
   },
   {
    "duration": 24,
    "start_time": "2024-12-25T15:03:22.918Z"
   },
   {
    "duration": 24,
    "start_time": "2024-12-25T15:03:22.944Z"
   },
   {
    "duration": 4,
    "start_time": "2024-12-25T15:03:22.970Z"
   },
   {
    "duration": 28,
    "start_time": "2024-12-25T15:03:22.976Z"
   },
   {
    "duration": 16,
    "start_time": "2024-12-25T15:03:23.005Z"
   },
   {
    "duration": 4,
    "start_time": "2024-12-25T15:03:23.024Z"
   },
   {
    "duration": 12,
    "start_time": "2024-12-25T15:03:23.030Z"
   },
   {
    "duration": 17,
    "start_time": "2024-12-25T15:03:23.044Z"
   },
   {
    "duration": 3,
    "start_time": "2024-12-25T15:03:23.064Z"
   },
   {
    "duration": 4,
    "start_time": "2024-12-25T15:03:23.069Z"
   },
   {
    "duration": 3,
    "start_time": "2024-12-25T15:03:23.075Z"
   },
   {
    "duration": 81,
    "start_time": "2024-12-25T15:04:02.186Z"
   },
   {
    "duration": 17,
    "start_time": "2024-12-25T15:04:02.269Z"
   },
   {
    "duration": 38,
    "start_time": "2024-12-25T15:04:02.288Z"
   },
   {
    "duration": 55,
    "start_time": "2024-12-25T15:04:02.328Z"
   },
   {
    "duration": 41,
    "start_time": "2024-12-25T15:04:02.385Z"
   },
   {
    "duration": 15,
    "start_time": "2024-12-25T15:04:02.428Z"
   },
   {
    "duration": 63,
    "start_time": "2024-12-25T15:04:02.444Z"
   },
   {
    "duration": 54,
    "start_time": "2024-12-25T15:04:02.509Z"
   },
   {
    "duration": 35,
    "start_time": "2024-12-25T15:04:02.564Z"
   },
   {
    "duration": 35,
    "start_time": "2024-12-25T15:04:02.602Z"
   },
   {
    "duration": 86,
    "start_time": "2024-12-25T15:04:02.639Z"
   },
   {
    "duration": 16,
    "start_time": "2024-12-25T15:04:02.727Z"
   },
   {
    "duration": 122,
    "start_time": "2024-12-25T15:04:02.745Z"
   },
   {
    "duration": 29,
    "start_time": "2024-12-25T15:04:02.869Z"
   },
   {
    "duration": 51,
    "start_time": "2024-12-25T15:04:02.900Z"
   },
   {
    "duration": 43,
    "start_time": "2024-12-25T15:04:02.953Z"
   },
   {
    "duration": 4,
    "start_time": "2024-12-25T15:04:02.997Z"
   },
   {
    "duration": 51,
    "start_time": "2024-12-25T15:04:03.003Z"
   },
   {
    "duration": 20,
    "start_time": "2024-12-25T15:04:03.056Z"
   },
   {
    "duration": 4,
    "start_time": "2024-12-25T15:04:03.079Z"
   },
   {
    "duration": 46,
    "start_time": "2024-12-25T15:04:03.084Z"
   },
   {
    "duration": 47,
    "start_time": "2024-12-25T15:04:03.131Z"
   },
   {
    "duration": 2,
    "start_time": "2024-12-25T15:04:03.180Z"
   },
   {
    "duration": 7,
    "start_time": "2024-12-25T15:04:03.184Z"
   },
   {
    "duration": 139,
    "start_time": "2024-12-25T15:04:03.192Z"
   },
   {
    "duration": 78,
    "start_time": "2024-12-25T15:11:34.391Z"
   },
   {
    "duration": 16,
    "start_time": "2024-12-25T15:11:34.471Z"
   },
   {
    "duration": 55,
    "start_time": "2024-12-25T15:11:34.489Z"
   },
   {
    "duration": 24,
    "start_time": "2024-12-25T15:11:34.546Z"
   },
   {
    "duration": 40,
    "start_time": "2024-12-25T15:11:34.572Z"
   },
   {
    "duration": 21,
    "start_time": "2024-12-25T15:11:34.614Z"
   },
   {
    "duration": 29,
    "start_time": "2024-12-25T15:11:34.636Z"
   },
   {
    "duration": 11,
    "start_time": "2024-12-25T15:11:34.667Z"
   },
   {
    "duration": 34,
    "start_time": "2024-12-25T15:11:34.680Z"
   },
   {
    "duration": 13,
    "start_time": "2024-12-25T15:11:34.717Z"
   },
   {
    "duration": 86,
    "start_time": "2024-12-25T15:11:34.731Z"
   },
   {
    "duration": 11,
    "start_time": "2024-12-25T15:11:34.819Z"
   },
   {
    "duration": 85,
    "start_time": "2024-12-25T15:11:34.831Z"
   },
   {
    "duration": 21,
    "start_time": "2024-12-25T15:11:34.918Z"
   },
   {
    "duration": 35,
    "start_time": "2024-12-25T15:11:34.941Z"
   },
   {
    "duration": 23,
    "start_time": "2024-12-25T15:11:34.978Z"
   },
   {
    "duration": 4,
    "start_time": "2024-12-25T15:11:35.004Z"
   },
   {
    "duration": 16,
    "start_time": "2024-12-25T15:11:35.011Z"
   },
   {
    "duration": 8,
    "start_time": "2024-12-25T15:11:35.030Z"
   },
   {
    "duration": 21,
    "start_time": "2024-12-25T15:11:35.040Z"
   },
   {
    "duration": 13,
    "start_time": "2024-12-25T15:11:35.063Z"
   },
   {
    "duration": 14,
    "start_time": "2024-12-25T15:11:35.077Z"
   },
   {
    "duration": 0,
    "start_time": "2024-12-25T15:11:35.092Z"
   },
   {
    "duration": 0,
    "start_time": "2024-12-25T15:11:35.115Z"
   },
   {
    "duration": 0,
    "start_time": "2024-12-25T15:11:35.116Z"
   },
   {
    "duration": 78,
    "start_time": "2024-12-25T15:12:36.105Z"
   },
   {
    "duration": 16,
    "start_time": "2024-12-25T15:12:36.185Z"
   },
   {
    "duration": 40,
    "start_time": "2024-12-25T15:12:36.203Z"
   },
   {
    "duration": 28,
    "start_time": "2024-12-25T15:12:36.245Z"
   },
   {
    "duration": 36,
    "start_time": "2024-12-25T15:12:36.275Z"
   },
   {
    "duration": 3,
    "start_time": "2024-12-25T15:12:36.313Z"
   },
   {
    "duration": 36,
    "start_time": "2024-12-25T15:12:36.317Z"
   },
   {
    "duration": 7,
    "start_time": "2024-12-25T15:12:36.356Z"
   },
   {
    "duration": 32,
    "start_time": "2024-12-25T15:12:36.365Z"
   },
   {
    "duration": 24,
    "start_time": "2024-12-25T15:12:36.400Z"
   },
   {
    "duration": 42,
    "start_time": "2024-12-25T15:12:36.426Z"
   },
   {
    "duration": 11,
    "start_time": "2024-12-25T15:12:36.471Z"
   },
   {
    "duration": 9,
    "start_time": "2024-12-25T15:12:36.483Z"
   },
   {
    "duration": 21,
    "start_time": "2024-12-25T15:12:36.494Z"
   },
   {
    "duration": 21,
    "start_time": "2024-12-25T15:12:36.516Z"
   },
   {
    "duration": 25,
    "start_time": "2024-12-25T15:12:36.539Z"
   },
   {
    "duration": 3,
    "start_time": "2024-12-25T15:12:36.566Z"
   },
   {
    "duration": 43,
    "start_time": "2024-12-25T15:12:36.572Z"
   },
   {
    "duration": 7,
    "start_time": "2024-12-25T15:12:36.618Z"
   },
   {
    "duration": 4,
    "start_time": "2024-12-25T15:12:36.627Z"
   },
   {
    "duration": 11,
    "start_time": "2024-12-25T15:12:36.633Z"
   },
   {
    "duration": 38,
    "start_time": "2024-12-25T15:12:36.646Z"
   },
   {
    "duration": 3,
    "start_time": "2024-12-25T15:12:36.686Z"
   },
   {
    "duration": 7,
    "start_time": "2024-12-25T15:12:36.690Z"
   },
   {
    "duration": 24,
    "start_time": "2024-12-25T15:12:36.699Z"
   },
   {
    "duration": 79,
    "start_time": "2024-12-25T15:19:29.196Z"
   },
   {
    "duration": 18,
    "start_time": "2024-12-25T15:19:29.277Z"
   },
   {
    "duration": 39,
    "start_time": "2024-12-25T15:19:29.296Z"
   },
   {
    "duration": 11,
    "start_time": "2024-12-25T15:19:29.337Z"
   },
   {
    "duration": 36,
    "start_time": "2024-12-25T15:19:29.351Z"
   },
   {
    "duration": 4,
    "start_time": "2024-12-25T15:19:29.388Z"
   },
   {
    "duration": 27,
    "start_time": "2024-12-25T15:19:29.393Z"
   },
   {
    "duration": 16,
    "start_time": "2024-12-25T15:19:29.421Z"
   },
   {
    "duration": 6,
    "start_time": "2024-12-25T15:19:29.438Z"
   },
   {
    "duration": 12,
    "start_time": "2024-12-25T15:19:29.445Z"
   },
   {
    "duration": 36,
    "start_time": "2024-12-25T15:19:29.459Z"
   },
   {
    "duration": 19,
    "start_time": "2024-12-25T15:19:29.497Z"
   },
   {
    "duration": 3,
    "start_time": "2024-12-25T15:19:29.518Z"
   },
   {
    "duration": 17,
    "start_time": "2024-12-25T15:19:29.524Z"
   },
   {
    "duration": 23,
    "start_time": "2024-12-25T15:19:29.543Z"
   },
   {
    "duration": 21,
    "start_time": "2024-12-25T15:19:29.567Z"
   },
   {
    "duration": 28,
    "start_time": "2024-12-25T15:19:29.589Z"
   },
   {
    "duration": 12,
    "start_time": "2024-12-25T15:19:29.619Z"
   },
   {
    "duration": 7,
    "start_time": "2024-12-25T15:19:29.633Z"
   },
   {
    "duration": 6,
    "start_time": "2024-12-25T15:19:29.642Z"
   },
   {
    "duration": 15,
    "start_time": "2024-12-25T15:19:29.650Z"
   },
   {
    "duration": 13,
    "start_time": "2024-12-25T15:19:29.667Z"
   },
   {
    "duration": 39,
    "start_time": "2024-12-25T15:19:29.683Z"
   },
   {
    "duration": 8,
    "start_time": "2024-12-25T15:19:29.724Z"
   },
   {
    "duration": 0,
    "start_time": "2024-12-25T15:19:29.734Z"
   },
   {
    "duration": 79,
    "start_time": "2024-12-25T15:21:56.599Z"
   },
   {
    "duration": 14,
    "start_time": "2024-12-25T15:21:56.680Z"
   },
   {
    "duration": 28,
    "start_time": "2024-12-25T15:21:56.696Z"
   },
   {
    "duration": 10,
    "start_time": "2024-12-25T15:21:56.726Z"
   },
   {
    "duration": 37,
    "start_time": "2024-12-25T15:21:56.738Z"
   },
   {
    "duration": 3,
    "start_time": "2024-12-25T15:21:56.777Z"
   },
   {
    "duration": 57,
    "start_time": "2024-12-25T15:21:56.781Z"
   },
   {
    "duration": 5,
    "start_time": "2024-12-25T15:21:56.840Z"
   },
   {
    "duration": 7,
    "start_time": "2024-12-25T15:21:56.847Z"
   },
   {
    "duration": 19,
    "start_time": "2024-12-25T15:21:56.856Z"
   },
   {
    "duration": 74,
    "start_time": "2024-12-25T15:21:56.877Z"
   },
   {
    "duration": 10,
    "start_time": "2024-12-25T15:21:56.952Z"
   },
   {
    "duration": 4,
    "start_time": "2024-12-25T15:21:56.963Z"
   },
   {
    "duration": 16,
    "start_time": "2024-12-25T15:21:56.969Z"
   },
   {
    "duration": 43,
    "start_time": "2024-12-25T15:21:56.987Z"
   },
   {
    "duration": 29,
    "start_time": "2024-12-25T15:21:57.031Z"
   },
   {
    "duration": 4,
    "start_time": "2024-12-25T15:21:57.061Z"
   },
   {
    "duration": 29,
    "start_time": "2024-12-25T15:21:57.067Z"
   },
   {
    "duration": 12,
    "start_time": "2024-12-25T15:21:57.097Z"
   },
   {
    "duration": 10,
    "start_time": "2024-12-25T15:21:57.114Z"
   },
   {
    "duration": 11,
    "start_time": "2024-12-25T15:21:57.125Z"
   },
   {
    "duration": 12,
    "start_time": "2024-12-25T15:21:57.138Z"
   },
   {
    "duration": 19,
    "start_time": "2024-12-25T15:21:57.151Z"
   },
   {
    "duration": 0,
    "start_time": "2024-12-25T15:21:57.172Z"
   },
   {
    "duration": 0,
    "start_time": "2024-12-25T15:21:57.173Z"
   },
   {
    "duration": 77,
    "start_time": "2024-12-25T15:22:44.450Z"
   },
   {
    "duration": 16,
    "start_time": "2024-12-25T15:22:44.529Z"
   },
   {
    "duration": 23,
    "start_time": "2024-12-25T15:22:44.547Z"
   },
   {
    "duration": 11,
    "start_time": "2024-12-25T15:22:44.572Z"
   },
   {
    "duration": 60,
    "start_time": "2024-12-25T15:22:44.584Z"
   },
   {
    "duration": 3,
    "start_time": "2024-12-25T15:22:44.646Z"
   },
   {
    "duration": 8,
    "start_time": "2024-12-25T15:22:44.651Z"
   },
   {
    "duration": 5,
    "start_time": "2024-12-25T15:22:44.661Z"
   },
   {
    "duration": 5,
    "start_time": "2024-12-25T15:22:44.668Z"
   },
   {
    "duration": 5,
    "start_time": "2024-12-25T15:22:44.676Z"
   },
   {
    "duration": 67,
    "start_time": "2024-12-25T15:22:44.682Z"
   },
   {
    "duration": 10,
    "start_time": "2024-12-25T15:22:44.751Z"
   },
   {
    "duration": 4,
    "start_time": "2024-12-25T15:22:44.763Z"
   },
   {
    "duration": 12,
    "start_time": "2024-12-25T15:22:44.768Z"
   },
   {
    "duration": 84,
    "start_time": "2024-12-25T15:22:44.782Z"
   },
   {
    "duration": 20,
    "start_time": "2024-12-25T15:22:44.868Z"
   },
   {
    "duration": 50,
    "start_time": "2024-12-25T15:22:44.890Z"
   },
   {
    "duration": 11,
    "start_time": "2024-12-25T15:22:44.942Z"
   },
   {
    "duration": 9,
    "start_time": "2024-12-25T15:22:44.955Z"
   },
   {
    "duration": 5,
    "start_time": "2024-12-25T15:22:44.966Z"
   },
   {
    "duration": 16,
    "start_time": "2024-12-25T15:22:44.972Z"
   },
   {
    "duration": 19,
    "start_time": "2024-12-25T15:22:44.992Z"
   },
   {
    "duration": 56,
    "start_time": "2024-12-25T15:22:45.013Z"
   },
   {
    "duration": 0,
    "start_time": "2024-12-25T15:22:45.071Z"
   },
   {
    "duration": 0,
    "start_time": "2024-12-25T15:22:45.073Z"
   },
   {
    "duration": 77,
    "start_time": "2024-12-25T15:23:03.336Z"
   },
   {
    "duration": 15,
    "start_time": "2024-12-25T15:23:03.416Z"
   },
   {
    "duration": 39,
    "start_time": "2024-12-25T15:23:03.433Z"
   },
   {
    "duration": 46,
    "start_time": "2024-12-25T15:23:03.474Z"
   },
   {
    "duration": 66,
    "start_time": "2024-12-25T15:23:03.522Z"
   },
   {
    "duration": 11,
    "start_time": "2024-12-25T15:23:03.590Z"
   },
   {
    "duration": 35,
    "start_time": "2024-12-25T15:23:03.603Z"
   },
   {
    "duration": 32,
    "start_time": "2024-12-25T15:23:03.639Z"
   },
   {
    "duration": 20,
    "start_time": "2024-12-25T15:23:03.672Z"
   },
   {
    "duration": 19,
    "start_time": "2024-12-25T15:23:03.694Z"
   },
   {
    "duration": 59,
    "start_time": "2024-12-25T15:23:03.714Z"
   },
   {
    "duration": 11,
    "start_time": "2024-12-25T15:23:03.775Z"
   },
   {
    "duration": 21,
    "start_time": "2024-12-25T15:23:03.787Z"
   },
   {
    "duration": 30,
    "start_time": "2024-12-25T15:23:03.811Z"
   },
   {
    "duration": 40,
    "start_time": "2024-12-25T15:23:03.843Z"
   },
   {
    "duration": 32,
    "start_time": "2024-12-25T15:23:03.884Z"
   },
   {
    "duration": 3,
    "start_time": "2024-12-25T15:23:03.918Z"
   },
   {
    "duration": 32,
    "start_time": "2024-12-25T15:23:03.923Z"
   },
   {
    "duration": 15,
    "start_time": "2024-12-25T15:23:03.956Z"
   },
   {
    "duration": 3,
    "start_time": "2024-12-25T15:23:03.973Z"
   },
   {
    "duration": 9,
    "start_time": "2024-12-25T15:23:03.978Z"
   },
   {
    "duration": 17,
    "start_time": "2024-12-25T15:23:03.989Z"
   },
   {
    "duration": 10,
    "start_time": "2024-12-25T15:23:04.008Z"
   },
   {
    "duration": 0,
    "start_time": "2024-12-25T15:23:04.020Z"
   },
   {
    "duration": 0,
    "start_time": "2024-12-25T15:23:04.021Z"
   },
   {
    "duration": 77,
    "start_time": "2024-12-25T15:23:14.207Z"
   },
   {
    "duration": 16,
    "start_time": "2024-12-25T15:23:14.286Z"
   },
   {
    "duration": 29,
    "start_time": "2024-12-25T15:23:14.304Z"
   },
   {
    "duration": 11,
    "start_time": "2024-12-25T15:23:14.335Z"
   },
   {
    "duration": 42,
    "start_time": "2024-12-25T15:23:14.347Z"
   },
   {
    "duration": 23,
    "start_time": "2024-12-25T15:23:14.391Z"
   },
   {
    "duration": 9,
    "start_time": "2024-12-25T15:23:14.415Z"
   },
   {
    "duration": 4,
    "start_time": "2024-12-25T15:23:14.426Z"
   },
   {
    "duration": 9,
    "start_time": "2024-12-25T15:23:14.432Z"
   },
   {
    "duration": 21,
    "start_time": "2024-12-25T15:23:14.444Z"
   },
   {
    "duration": 56,
    "start_time": "2024-12-25T15:23:14.466Z"
   },
   {
    "duration": 11,
    "start_time": "2024-12-25T15:23:14.523Z"
   },
   {
    "duration": 4,
    "start_time": "2024-12-25T15:23:14.535Z"
   },
   {
    "duration": 14,
    "start_time": "2024-12-25T15:23:14.541Z"
   },
   {
    "duration": 116,
    "start_time": "2024-12-25T15:23:14.557Z"
   },
   {
    "duration": 75,
    "start_time": "2024-12-25T15:23:14.675Z"
   },
   {
    "duration": 8,
    "start_time": "2024-12-25T15:23:14.752Z"
   },
   {
    "duration": 23,
    "start_time": "2024-12-25T15:23:14.762Z"
   },
   {
    "duration": 82,
    "start_time": "2024-12-25T15:23:14.786Z"
   },
   {
    "duration": 71,
    "start_time": "2024-12-25T15:23:14.869Z"
   },
   {
    "duration": 11,
    "start_time": "2024-12-25T15:23:14.941Z"
   },
   {
    "duration": 33,
    "start_time": "2024-12-25T15:23:14.954Z"
   },
   {
    "duration": 17,
    "start_time": "2024-12-25T15:23:14.992Z"
   },
   {
    "duration": 46,
    "start_time": "2024-12-25T15:23:15.011Z"
   },
   {
    "duration": 56,
    "start_time": "2024-12-25T15:23:15.059Z"
   },
   {
    "duration": 78,
    "start_time": "2024-12-25T15:24:13.329Z"
   },
   {
    "duration": 16,
    "start_time": "2024-12-25T15:24:13.408Z"
   },
   {
    "duration": 16,
    "start_time": "2024-12-25T15:24:13.425Z"
   },
   {
    "duration": 12,
    "start_time": "2024-12-25T15:24:13.442Z"
   },
   {
    "duration": 47,
    "start_time": "2024-12-25T15:24:13.455Z"
   },
   {
    "duration": 13,
    "start_time": "2024-12-25T15:24:13.504Z"
   },
   {
    "duration": 16,
    "start_time": "2024-12-25T15:24:13.518Z"
   },
   {
    "duration": 5,
    "start_time": "2024-12-25T15:24:13.535Z"
   },
   {
    "duration": 8,
    "start_time": "2024-12-25T15:24:13.541Z"
   },
   {
    "duration": 4,
    "start_time": "2024-12-25T15:24:13.552Z"
   },
   {
    "duration": 57,
    "start_time": "2024-12-25T15:24:13.558Z"
   },
   {
    "duration": 12,
    "start_time": "2024-12-25T15:24:13.616Z"
   },
   {
    "duration": 15,
    "start_time": "2024-12-25T15:24:13.629Z"
   },
   {
    "duration": 13,
    "start_time": "2024-12-25T15:24:13.646Z"
   },
   {
    "duration": 23,
    "start_time": "2024-12-25T15:24:13.660Z"
   },
   {
    "duration": 43,
    "start_time": "2024-12-25T15:24:13.684Z"
   },
   {
    "duration": 4,
    "start_time": "2024-12-25T15:24:13.729Z"
   },
   {
    "duration": 14,
    "start_time": "2024-12-25T15:24:13.734Z"
   },
   {
    "duration": 13,
    "start_time": "2024-12-25T15:24:13.750Z"
   },
   {
    "duration": 18,
    "start_time": "2024-12-25T15:24:13.764Z"
   },
   {
    "duration": 17,
    "start_time": "2024-12-25T15:24:13.784Z"
   },
   {
    "duration": 16,
    "start_time": "2024-12-25T15:24:13.803Z"
   },
   {
    "duration": 10,
    "start_time": "2024-12-25T15:24:13.821Z"
   },
   {
    "duration": 13,
    "start_time": "2024-12-25T15:24:13.833Z"
   },
   {
    "duration": 10,
    "start_time": "2024-12-25T15:24:13.848Z"
   },
   {
    "duration": 78,
    "start_time": "2024-12-25T15:24:55.460Z"
   },
   {
    "duration": 16,
    "start_time": "2024-12-25T15:24:55.540Z"
   },
   {
    "duration": 27,
    "start_time": "2024-12-25T15:24:55.558Z"
   },
   {
    "duration": 25,
    "start_time": "2024-12-25T15:24:55.587Z"
   },
   {
    "duration": 38,
    "start_time": "2024-12-25T15:24:55.615Z"
   },
   {
    "duration": 3,
    "start_time": "2024-12-25T15:24:55.655Z"
   },
   {
    "duration": 25,
    "start_time": "2024-12-25T15:24:55.660Z"
   },
   {
    "duration": 17,
    "start_time": "2024-12-25T15:24:55.687Z"
   },
   {
    "duration": 7,
    "start_time": "2024-12-25T15:24:55.705Z"
   },
   {
    "duration": 5,
    "start_time": "2024-12-25T15:24:55.715Z"
   },
   {
    "duration": 43,
    "start_time": "2024-12-25T15:24:55.721Z"
   },
   {
    "duration": 11,
    "start_time": "2024-12-25T15:24:55.766Z"
   },
   {
    "duration": 9,
    "start_time": "2024-12-25T15:24:55.779Z"
   },
   {
    "duration": 33,
    "start_time": "2024-12-25T15:24:55.791Z"
   },
   {
    "duration": 22,
    "start_time": "2024-12-25T15:24:55.825Z"
   },
   {
    "duration": 19,
    "start_time": "2024-12-25T15:24:55.849Z"
   },
   {
    "duration": 34,
    "start_time": "2024-12-25T15:24:55.870Z"
   },
   {
    "duration": 32,
    "start_time": "2024-12-25T15:24:55.906Z"
   },
   {
    "duration": 11,
    "start_time": "2024-12-25T15:24:55.940Z"
   },
   {
    "duration": 4,
    "start_time": "2024-12-25T15:24:55.953Z"
   },
   {
    "duration": 18,
    "start_time": "2024-12-25T15:24:55.959Z"
   },
   {
    "duration": 21,
    "start_time": "2024-12-25T15:24:55.978Z"
   },
   {
    "duration": 10,
    "start_time": "2024-12-25T15:24:56.001Z"
   },
   {
    "duration": 16,
    "start_time": "2024-12-25T15:24:56.013Z"
   },
   {
    "duration": 4,
    "start_time": "2024-12-25T15:24:56.031Z"
   },
   {
    "duration": 77,
    "start_time": "2024-12-25T15:25:22.372Z"
   },
   {
    "duration": 15,
    "start_time": "2024-12-25T15:25:22.451Z"
   },
   {
    "duration": 34,
    "start_time": "2024-12-25T15:25:22.468Z"
   },
   {
    "duration": 28,
    "start_time": "2024-12-25T15:25:22.504Z"
   },
   {
    "duration": 60,
    "start_time": "2024-12-25T15:25:22.534Z"
   },
   {
    "duration": 4,
    "start_time": "2024-12-25T15:25:22.595Z"
   },
   {
    "duration": 8,
    "start_time": "2024-12-25T15:25:22.600Z"
   },
   {
    "duration": 5,
    "start_time": "2024-12-25T15:25:22.610Z"
   },
   {
    "duration": 7,
    "start_time": "2024-12-25T15:25:22.616Z"
   },
   {
    "duration": 5,
    "start_time": "2024-12-25T15:25:22.624Z"
   },
   {
    "duration": 37,
    "start_time": "2024-12-25T15:25:22.630Z"
   },
   {
    "duration": 11,
    "start_time": "2024-12-25T15:25:22.668Z"
   },
   {
    "duration": 4,
    "start_time": "2024-12-25T15:25:22.681Z"
   },
   {
    "duration": 37,
    "start_time": "2024-12-25T15:25:22.688Z"
   },
   {
    "duration": 20,
    "start_time": "2024-12-25T15:25:22.727Z"
   },
   {
    "duration": 19,
    "start_time": "2024-12-25T15:25:22.749Z"
   },
   {
    "duration": 4,
    "start_time": "2024-12-25T15:25:22.770Z"
   },
   {
    "duration": 40,
    "start_time": "2024-12-25T15:25:22.775Z"
   },
   {
    "duration": 55,
    "start_time": "2024-12-25T15:25:22.816Z"
   },
   {
    "duration": 76,
    "start_time": "2024-12-25T15:25:22.873Z"
   },
   {
    "duration": 16,
    "start_time": "2024-12-25T15:25:22.950Z"
   },
   {
    "duration": 25,
    "start_time": "2024-12-25T15:25:22.968Z"
   },
   {
    "duration": 10,
    "start_time": "2024-12-25T15:25:22.995Z"
   },
   {
    "duration": 29,
    "start_time": "2024-12-25T15:25:23.007Z"
   },
   {
    "duration": 8,
    "start_time": "2024-12-25T15:25:23.038Z"
   },
   {
    "duration": 78,
    "start_time": "2024-12-25T15:29:41.992Z"
   },
   {
    "duration": 16,
    "start_time": "2024-12-25T15:29:42.072Z"
   },
   {
    "duration": 36,
    "start_time": "2024-12-25T15:29:42.089Z"
   },
   {
    "duration": 12,
    "start_time": "2024-12-25T15:29:42.127Z"
   },
   {
    "duration": 74,
    "start_time": "2024-12-25T15:29:42.141Z"
   },
   {
    "duration": 4,
    "start_time": "2024-12-25T15:29:42.217Z"
   },
   {
    "duration": 9,
    "start_time": "2024-12-25T15:29:42.223Z"
   },
   {
    "duration": 8,
    "start_time": "2024-12-25T15:29:42.234Z"
   },
   {
    "duration": 9,
    "start_time": "2024-12-25T15:29:42.244Z"
   },
   {
    "duration": 5,
    "start_time": "2024-12-25T15:29:42.257Z"
   },
   {
    "duration": 75,
    "start_time": "2024-12-25T15:29:42.264Z"
   },
   {
    "duration": 12,
    "start_time": "2024-12-25T15:29:42.341Z"
   },
   {
    "duration": 9,
    "start_time": "2024-12-25T15:29:42.365Z"
   },
   {
    "duration": 33,
    "start_time": "2024-12-25T15:29:42.376Z"
   },
   {
    "duration": 30,
    "start_time": "2024-12-25T15:29:42.411Z"
   },
   {
    "duration": 20,
    "start_time": "2024-12-25T15:29:42.443Z"
   },
   {
    "duration": 4,
    "start_time": "2024-12-25T15:29:42.465Z"
   },
   {
    "duration": 17,
    "start_time": "2024-12-25T15:29:42.471Z"
   },
   {
    "duration": 21,
    "start_time": "2024-12-25T15:29:42.490Z"
   },
   {
    "duration": 5,
    "start_time": "2024-12-25T15:29:42.515Z"
   },
   {
    "duration": 26,
    "start_time": "2024-12-25T15:29:42.521Z"
   },
   {
    "duration": 24,
    "start_time": "2024-12-25T15:29:42.548Z"
   },
   {
    "duration": 14,
    "start_time": "2024-12-25T15:29:42.574Z"
   },
   {
    "duration": 27,
    "start_time": "2024-12-25T15:29:42.589Z"
   },
   {
    "duration": 4,
    "start_time": "2024-12-25T15:29:42.617Z"
   },
   {
    "duration": 81,
    "start_time": "2024-12-25T15:30:43.658Z"
   },
   {
    "duration": 16,
    "start_time": "2024-12-25T15:30:43.741Z"
   },
   {
    "duration": 47,
    "start_time": "2024-12-25T15:30:43.760Z"
   },
   {
    "duration": 21,
    "start_time": "2024-12-25T15:30:43.809Z"
   },
   {
    "duration": 48,
    "start_time": "2024-12-25T15:30:43.832Z"
   },
   {
    "duration": 4,
    "start_time": "2024-12-25T15:30:43.881Z"
   },
   {
    "duration": 15,
    "start_time": "2024-12-25T15:30:43.886Z"
   },
   {
    "duration": 5,
    "start_time": "2024-12-25T15:30:43.903Z"
   },
   {
    "duration": 27,
    "start_time": "2024-12-25T15:30:43.909Z"
   },
   {
    "duration": 13,
    "start_time": "2024-12-25T15:30:43.939Z"
   },
   {
    "duration": 41,
    "start_time": "2024-12-25T15:30:43.953Z"
   },
   {
    "duration": 36,
    "start_time": "2024-12-25T15:30:43.995Z"
   },
   {
    "duration": 5,
    "start_time": "2024-12-25T15:30:44.033Z"
   },
   {
    "duration": 14,
    "start_time": "2024-12-25T15:30:44.040Z"
   },
   {
    "duration": 53,
    "start_time": "2024-12-25T15:30:44.056Z"
   },
   {
    "duration": 36,
    "start_time": "2024-12-25T15:30:44.111Z"
   },
   {
    "duration": 5,
    "start_time": "2024-12-25T15:30:44.149Z"
   },
   {
    "duration": 46,
    "start_time": "2024-12-25T15:30:44.156Z"
   },
   {
    "duration": 8,
    "start_time": "2024-12-25T15:30:44.204Z"
   },
   {
    "duration": 17,
    "start_time": "2024-12-25T15:30:44.213Z"
   },
   {
    "duration": 28,
    "start_time": "2024-12-25T15:30:44.233Z"
   },
   {
    "duration": 24,
    "start_time": "2024-12-25T15:30:44.263Z"
   },
   {
    "duration": 11,
    "start_time": "2024-12-25T15:30:44.288Z"
   },
   {
    "duration": 26,
    "start_time": "2024-12-25T15:30:44.301Z"
   },
   {
    "duration": 80,
    "start_time": "2024-12-25T15:32:25.120Z"
   },
   {
    "duration": 17,
    "start_time": "2024-12-25T15:32:25.202Z"
   },
   {
    "duration": 18,
    "start_time": "2024-12-25T15:32:25.221Z"
   },
   {
    "duration": 14,
    "start_time": "2024-12-25T15:32:25.242Z"
   },
   {
    "duration": 79,
    "start_time": "2024-12-25T15:32:25.258Z"
   },
   {
    "duration": 4,
    "start_time": "2024-12-25T15:32:25.339Z"
   },
   {
    "duration": 25,
    "start_time": "2024-12-25T15:32:25.344Z"
   },
   {
    "duration": 39,
    "start_time": "2024-12-25T15:32:25.371Z"
   },
   {
    "duration": 8,
    "start_time": "2024-12-25T15:32:25.412Z"
   },
   {
    "duration": 8,
    "start_time": "2024-12-25T15:32:25.424Z"
   },
   {
    "duration": 65,
    "start_time": "2024-12-25T15:32:25.435Z"
   },
   {
    "duration": 18,
    "start_time": "2024-12-25T15:32:25.502Z"
   },
   {
    "duration": 4,
    "start_time": "2024-12-25T15:32:25.523Z"
   },
   {
    "duration": 31,
    "start_time": "2024-12-25T15:32:25.529Z"
   },
   {
    "duration": 37,
    "start_time": "2024-12-25T15:32:25.563Z"
   },
   {
    "duration": 22,
    "start_time": "2024-12-25T15:32:25.602Z"
   },
   {
    "duration": 5,
    "start_time": "2024-12-25T15:32:25.626Z"
   },
   {
    "duration": 25,
    "start_time": "2024-12-25T15:32:25.632Z"
   },
   {
    "duration": 9,
    "start_time": "2024-12-25T15:32:25.659Z"
   },
   {
    "duration": 5,
    "start_time": "2024-12-25T15:32:25.670Z"
   },
   {
    "duration": 45,
    "start_time": "2024-12-25T15:32:25.677Z"
   },
   {
    "duration": 15,
    "start_time": "2024-12-25T15:32:25.724Z"
   },
   {
    "duration": 16,
    "start_time": "2024-12-25T15:32:25.741Z"
   },
   {
    "duration": 45,
    "start_time": "2024-12-25T15:32:25.759Z"
   },
   {
    "duration": 3,
    "start_time": "2024-12-25T15:32:25.806Z"
   },
   {
    "duration": 81,
    "start_time": "2024-12-25T15:32:45.135Z"
   },
   {
    "duration": 16,
    "start_time": "2024-12-25T15:32:45.218Z"
   },
   {
    "duration": 44,
    "start_time": "2024-12-25T15:32:45.236Z"
   },
   {
    "duration": 32,
    "start_time": "2024-12-25T15:32:45.282Z"
   },
   {
    "duration": 60,
    "start_time": "2024-12-25T15:32:45.316Z"
   },
   {
    "duration": 35,
    "start_time": "2024-12-25T15:32:45.378Z"
   },
   {
    "duration": 18,
    "start_time": "2024-12-25T15:32:45.414Z"
   },
   {
    "duration": 14,
    "start_time": "2024-12-25T15:32:45.433Z"
   },
   {
    "duration": 49,
    "start_time": "2024-12-25T15:32:45.448Z"
   },
   {
    "duration": 15,
    "start_time": "2024-12-25T15:32:45.499Z"
   },
   {
    "duration": 92,
    "start_time": "2024-12-25T15:32:45.515Z"
   },
   {
    "duration": 20,
    "start_time": "2024-12-25T15:32:45.609Z"
   },
   {
    "duration": 30,
    "start_time": "2024-12-25T15:32:45.631Z"
   },
   {
    "duration": 28,
    "start_time": "2024-12-25T15:32:45.663Z"
   },
   {
    "duration": 50,
    "start_time": "2024-12-25T15:32:45.693Z"
   },
   {
    "duration": 21,
    "start_time": "2024-12-25T15:32:45.745Z"
   },
   {
    "duration": 32,
    "start_time": "2024-12-25T15:32:45.768Z"
   },
   {
    "duration": 92,
    "start_time": "2024-12-25T15:32:45.801Z"
   },
   {
    "duration": 83,
    "start_time": "2024-12-25T15:32:45.896Z"
   },
   {
    "duration": 24,
    "start_time": "2024-12-25T15:32:45.981Z"
   },
   {
    "duration": 28,
    "start_time": "2024-12-25T15:32:46.008Z"
   },
   {
    "duration": 34,
    "start_time": "2024-12-25T15:32:46.038Z"
   },
   {
    "duration": 14,
    "start_time": "2024-12-25T15:32:46.074Z"
   },
   {
    "duration": 21,
    "start_time": "2024-12-25T15:32:46.090Z"
   },
   {
    "duration": 0,
    "start_time": "2024-12-25T15:32:46.113Z"
   },
   {
    "duration": 81,
    "start_time": "2024-12-25T15:33:38.001Z"
   },
   {
    "duration": 17,
    "start_time": "2024-12-25T15:33:38.084Z"
   },
   {
    "duration": 30,
    "start_time": "2024-12-25T15:33:38.114Z"
   },
   {
    "duration": 15,
    "start_time": "2024-12-25T15:33:38.148Z"
   },
   {
    "duration": 52,
    "start_time": "2024-12-25T15:33:38.165Z"
   },
   {
    "duration": 4,
    "start_time": "2024-12-25T15:33:38.219Z"
   },
   {
    "duration": 14,
    "start_time": "2024-12-25T15:33:38.225Z"
   },
   {
    "duration": 10,
    "start_time": "2024-12-25T15:33:38.241Z"
   },
   {
    "duration": 23,
    "start_time": "2024-12-25T15:33:38.253Z"
   },
   {
    "duration": 18,
    "start_time": "2024-12-25T15:33:38.279Z"
   },
   {
    "duration": 62,
    "start_time": "2024-12-25T15:33:38.299Z"
   },
   {
    "duration": 12,
    "start_time": "2024-12-25T15:33:38.363Z"
   },
   {
    "duration": 4,
    "start_time": "2024-12-25T15:33:38.376Z"
   },
   {
    "duration": 13,
    "start_time": "2024-12-25T15:33:38.382Z"
   },
   {
    "duration": 27,
    "start_time": "2024-12-25T15:33:38.422Z"
   },
   {
    "duration": 20,
    "start_time": "2024-12-25T15:33:38.452Z"
   },
   {
    "duration": 4,
    "start_time": "2024-12-25T15:33:38.474Z"
   },
   {
    "duration": 26,
    "start_time": "2024-12-25T15:33:38.480Z"
   },
   {
    "duration": 27,
    "start_time": "2024-12-25T15:33:38.508Z"
   },
   {
    "duration": 12,
    "start_time": "2024-12-25T15:33:38.537Z"
   },
   {
    "duration": 19,
    "start_time": "2024-12-25T15:33:38.551Z"
   },
   {
    "duration": 29,
    "start_time": "2024-12-25T15:33:38.572Z"
   },
   {
    "duration": 16,
    "start_time": "2024-12-25T15:33:38.602Z"
   },
   {
    "duration": 12,
    "start_time": "2024-12-25T15:33:38.629Z"
   },
   {
    "duration": 0,
    "start_time": "2024-12-25T15:33:38.643Z"
   },
   {
    "duration": 77,
    "start_time": "2024-12-25T15:34:11.468Z"
   },
   {
    "duration": 16,
    "start_time": "2024-12-25T15:34:11.547Z"
   },
   {
    "duration": 17,
    "start_time": "2024-12-25T15:34:11.565Z"
   },
   {
    "duration": 32,
    "start_time": "2024-12-25T15:34:11.584Z"
   },
   {
    "duration": 38,
    "start_time": "2024-12-25T15:34:11.618Z"
   },
   {
    "duration": 3,
    "start_time": "2024-12-25T15:34:11.658Z"
   },
   {
    "duration": 9,
    "start_time": "2024-12-25T15:34:11.663Z"
   },
   {
    "duration": 4,
    "start_time": "2024-12-25T15:34:11.673Z"
   },
   {
    "duration": 36,
    "start_time": "2024-12-25T15:34:11.679Z"
   },
   {
    "duration": 6,
    "start_time": "2024-12-25T15:34:11.719Z"
   },
   {
    "duration": 52,
    "start_time": "2024-12-25T15:34:11.727Z"
   },
   {
    "duration": 11,
    "start_time": "2024-12-25T15:34:11.780Z"
   },
   {
    "duration": 5,
    "start_time": "2024-12-25T15:34:11.815Z"
   },
   {
    "duration": 33,
    "start_time": "2024-12-25T15:34:11.821Z"
   },
   {
    "duration": 23,
    "start_time": "2024-12-25T15:34:11.856Z"
   },
   {
    "duration": 20,
    "start_time": "2024-12-25T15:34:11.881Z"
   },
   {
    "duration": 37,
    "start_time": "2024-12-25T15:34:11.903Z"
   },
   {
    "duration": 19,
    "start_time": "2024-12-25T15:34:11.942Z"
   },
   {
    "duration": 20,
    "start_time": "2024-12-25T15:34:11.963Z"
   },
   {
    "duration": 4,
    "start_time": "2024-12-25T15:34:11.985Z"
   },
   {
    "duration": 11,
    "start_time": "2024-12-25T15:34:11.990Z"
   },
   {
    "duration": 26,
    "start_time": "2024-12-25T15:34:12.003Z"
   },
   {
    "duration": 10,
    "start_time": "2024-12-25T15:34:12.031Z"
   },
   {
    "duration": 7,
    "start_time": "2024-12-25T15:34:12.043Z"
   },
   {
    "duration": 5,
    "start_time": "2024-12-25T15:34:12.052Z"
   },
   {
    "duration": 89,
    "start_time": "2024-12-25T15:39:22.222Z"
   },
   {
    "duration": 15,
    "start_time": "2024-12-25T15:39:22.313Z"
   },
   {
    "duration": 23,
    "start_time": "2024-12-25T15:39:22.330Z"
   },
   {
    "duration": 19,
    "start_time": "2024-12-25T15:39:22.355Z"
   },
   {
    "duration": 45,
    "start_time": "2024-12-25T15:39:22.376Z"
   },
   {
    "duration": 4,
    "start_time": "2024-12-25T15:39:22.423Z"
   },
   {
    "duration": 45,
    "start_time": "2024-12-25T15:39:22.428Z"
   },
   {
    "duration": 16,
    "start_time": "2024-12-25T15:39:22.476Z"
   },
   {
    "duration": 18,
    "start_time": "2024-12-25T15:39:22.494Z"
   },
   {
    "duration": 7,
    "start_time": "2024-12-25T15:39:22.515Z"
   },
   {
    "duration": 49,
    "start_time": "2024-12-25T15:39:22.524Z"
   },
   {
    "duration": 10,
    "start_time": "2024-12-25T15:39:22.575Z"
   },
   {
    "duration": 4,
    "start_time": "2024-12-25T15:39:22.587Z"
   },
   {
    "duration": 13,
    "start_time": "2024-12-25T15:39:22.615Z"
   },
   {
    "duration": 22,
    "start_time": "2024-12-25T15:39:22.630Z"
   },
   {
    "duration": 20,
    "start_time": "2024-12-25T15:39:22.654Z"
   },
   {
    "duration": 3,
    "start_time": "2024-12-25T15:39:22.675Z"
   },
   {
    "duration": 35,
    "start_time": "2024-12-25T15:39:22.680Z"
   },
   {
    "duration": 8,
    "start_time": "2024-12-25T15:39:22.716Z"
   },
   {
    "duration": 15,
    "start_time": "2024-12-25T15:39:22.726Z"
   },
   {
    "duration": 11,
    "start_time": "2024-12-25T15:39:22.743Z"
   },
   {
    "duration": 12,
    "start_time": "2024-12-25T15:39:22.756Z"
   },
   {
    "duration": 10,
    "start_time": "2024-12-25T15:39:22.770Z"
   },
   {
    "duration": 16,
    "start_time": "2024-12-25T15:39:22.781Z"
   },
   {
    "duration": 3,
    "start_time": "2024-12-25T15:39:22.815Z"
   },
   {
    "duration": 95,
    "start_time": "2024-12-25T15:41:24.998Z"
   },
   {
    "duration": 20,
    "start_time": "2024-12-25T15:41:25.096Z"
   },
   {
    "duration": 23,
    "start_time": "2024-12-25T15:41:25.118Z"
   },
   {
    "duration": 11,
    "start_time": "2024-12-25T15:41:25.143Z"
   },
   {
    "duration": 34,
    "start_time": "2024-12-25T15:41:25.156Z"
   },
   {
    "duration": 3,
    "start_time": "2024-12-25T15:41:25.192Z"
   },
   {
    "duration": 8,
    "start_time": "2024-12-25T15:41:25.215Z"
   },
   {
    "duration": 12,
    "start_time": "2024-12-25T15:41:25.225Z"
   },
   {
    "duration": 10,
    "start_time": "2024-12-25T15:41:25.238Z"
   },
   {
    "duration": 4,
    "start_time": "2024-12-25T15:41:25.251Z"
   },
   {
    "duration": 37,
    "start_time": "2024-12-25T15:41:25.257Z"
   },
   {
    "duration": 12,
    "start_time": "2024-12-25T15:41:25.315Z"
   },
   {
    "duration": 3,
    "start_time": "2024-12-25T15:41:25.329Z"
   },
   {
    "duration": 15,
    "start_time": "2024-12-25T15:41:25.334Z"
   },
   {
    "duration": 43,
    "start_time": "2024-12-25T15:41:25.351Z"
   },
   {
    "duration": 28,
    "start_time": "2024-12-25T15:41:25.396Z"
   },
   {
    "duration": 5,
    "start_time": "2024-12-25T15:41:25.426Z"
   },
   {
    "duration": 75,
    "start_time": "2024-12-25T15:41:25.432Z"
   },
   {
    "duration": 10,
    "start_time": "2024-12-25T15:41:25.509Z"
   },
   {
    "duration": 25,
    "start_time": "2024-12-25T15:41:25.520Z"
   },
   {
    "duration": 23,
    "start_time": "2024-12-25T15:41:25.547Z"
   },
   {
    "duration": 26,
    "start_time": "2024-12-25T15:41:25.571Z"
   },
   {
    "duration": 11,
    "start_time": "2024-12-25T15:41:25.599Z"
   },
   {
    "duration": 10,
    "start_time": "2024-12-25T15:41:25.611Z"
   },
   {
    "duration": 2,
    "start_time": "2024-12-25T15:41:25.623Z"
   },
   {
    "duration": 78,
    "start_time": "2024-12-25T15:42:08.657Z"
   },
   {
    "duration": 15,
    "start_time": "2024-12-25T15:42:08.737Z"
   },
   {
    "duration": 27,
    "start_time": "2024-12-25T15:42:08.754Z"
   },
   {
    "duration": 12,
    "start_time": "2024-12-25T15:42:08.783Z"
   },
   {
    "duration": 52,
    "start_time": "2024-12-25T15:42:08.797Z"
   },
   {
    "duration": 4,
    "start_time": "2024-12-25T15:42:08.851Z"
   },
   {
    "duration": 10,
    "start_time": "2024-12-25T15:42:08.856Z"
   },
   {
    "duration": 33,
    "start_time": "2024-12-25T15:42:08.868Z"
   },
   {
    "duration": 86,
    "start_time": "2024-12-25T15:42:08.903Z"
   },
   {
    "duration": 7,
    "start_time": "2024-12-25T15:42:08.993Z"
   },
   {
    "duration": 39,
    "start_time": "2024-12-25T15:42:09.002Z"
   },
   {
    "duration": 13,
    "start_time": "2024-12-25T15:42:09.042Z"
   },
   {
    "duration": 10,
    "start_time": "2024-12-25T15:42:09.057Z"
   },
   {
    "duration": 44,
    "start_time": "2024-12-25T15:42:09.069Z"
   },
   {
    "duration": 47,
    "start_time": "2024-12-25T15:42:09.115Z"
   },
   {
    "duration": 21,
    "start_time": "2024-12-25T15:42:09.164Z"
   },
   {
    "duration": 6,
    "start_time": "2024-12-25T15:42:09.187Z"
   },
   {
    "duration": 13,
    "start_time": "2024-12-25T15:42:09.194Z"
   },
   {
    "duration": 58,
    "start_time": "2024-12-25T15:42:09.209Z"
   },
   {
    "duration": 23,
    "start_time": "2024-12-25T15:42:09.269Z"
   },
   {
    "duration": 10,
    "start_time": "2024-12-25T15:42:09.294Z"
   },
   {
    "duration": 20,
    "start_time": "2024-12-25T15:42:09.306Z"
   },
   {
    "duration": 22,
    "start_time": "2024-12-25T15:42:09.327Z"
   },
   {
    "duration": 35,
    "start_time": "2024-12-25T15:42:09.351Z"
   },
   {
    "duration": 10,
    "start_time": "2024-12-25T15:42:09.388Z"
   },
   {
    "duration": 79,
    "start_time": "2024-12-25T15:42:21.470Z"
   },
   {
    "duration": 17,
    "start_time": "2024-12-25T15:42:21.551Z"
   },
   {
    "duration": 40,
    "start_time": "2024-12-25T15:42:21.570Z"
   },
   {
    "duration": 17,
    "start_time": "2024-12-25T15:42:21.612Z"
   },
   {
    "duration": 44,
    "start_time": "2024-12-25T15:42:21.631Z"
   },
   {
    "duration": 5,
    "start_time": "2024-12-25T15:42:21.677Z"
   },
   {
    "duration": 28,
    "start_time": "2024-12-25T15:42:21.684Z"
   },
   {
    "duration": 53,
    "start_time": "2024-12-25T15:42:21.715Z"
   },
   {
    "duration": 11,
    "start_time": "2024-12-25T15:42:21.770Z"
   },
   {
    "duration": 42,
    "start_time": "2024-12-25T15:42:21.784Z"
   },
   {
    "duration": 62,
    "start_time": "2024-12-25T15:42:21.831Z"
   },
   {
    "duration": 14,
    "start_time": "2024-12-25T15:42:21.895Z"
   },
   {
    "duration": 18,
    "start_time": "2024-12-25T15:42:21.910Z"
   },
   {
    "duration": 45,
    "start_time": "2024-12-25T15:42:21.931Z"
   },
   {
    "duration": 78,
    "start_time": "2024-12-25T15:42:21.978Z"
   },
   {
    "duration": 20,
    "start_time": "2024-12-25T15:42:22.058Z"
   },
   {
    "duration": 11,
    "start_time": "2024-12-25T15:42:22.080Z"
   },
   {
    "duration": 25,
    "start_time": "2024-12-25T15:42:22.093Z"
   },
   {
    "duration": 14,
    "start_time": "2024-12-25T15:42:22.120Z"
   },
   {
    "duration": 4,
    "start_time": "2024-12-25T15:42:22.136Z"
   },
   {
    "duration": 74,
    "start_time": "2024-12-25T15:42:22.142Z"
   },
   {
    "duration": 26,
    "start_time": "2024-12-25T15:42:22.219Z"
   },
   {
    "duration": 24,
    "start_time": "2024-12-25T15:42:22.247Z"
   },
   {
    "duration": 20,
    "start_time": "2024-12-25T15:42:22.273Z"
   },
   {
    "duration": 16,
    "start_time": "2024-12-25T15:42:22.295Z"
   },
   {
    "duration": 77,
    "start_time": "2024-12-25T15:43:20.568Z"
   },
   {
    "duration": 17,
    "start_time": "2024-12-25T15:43:20.647Z"
   },
   {
    "duration": 18,
    "start_time": "2024-12-25T15:43:20.666Z"
   },
   {
    "duration": 29,
    "start_time": "2024-12-25T15:43:20.687Z"
   },
   {
    "duration": 37,
    "start_time": "2024-12-25T15:43:20.717Z"
   },
   {
    "duration": 4,
    "start_time": "2024-12-25T15:43:20.756Z"
   },
   {
    "duration": 17,
    "start_time": "2024-12-25T15:43:20.761Z"
   },
   {
    "duration": 21,
    "start_time": "2024-12-25T15:43:20.780Z"
   },
   {
    "duration": 36,
    "start_time": "2024-12-25T15:43:20.803Z"
   },
   {
    "duration": 12,
    "start_time": "2024-12-25T15:43:20.842Z"
   },
   {
    "duration": 62,
    "start_time": "2024-12-25T15:43:20.855Z"
   },
   {
    "duration": 93,
    "start_time": "2024-12-25T15:43:20.919Z"
   },
   {
    "duration": 14,
    "start_time": "2024-12-25T15:43:21.014Z"
   },
   {
    "duration": 38,
    "start_time": "2024-12-25T15:43:21.029Z"
   },
   {
    "duration": 31,
    "start_time": "2024-12-25T15:43:21.069Z"
   },
   {
    "duration": 20,
    "start_time": "2024-12-25T15:43:21.102Z"
   },
   {
    "duration": 3,
    "start_time": "2024-12-25T15:43:21.124Z"
   },
   {
    "duration": 31,
    "start_time": "2024-12-25T15:43:21.128Z"
   },
   {
    "duration": 26,
    "start_time": "2024-12-25T15:43:21.161Z"
   },
   {
    "duration": 27,
    "start_time": "2024-12-25T15:43:21.189Z"
   },
   {
    "duration": 36,
    "start_time": "2024-12-25T15:43:21.218Z"
   },
   {
    "duration": 41,
    "start_time": "2024-12-25T15:43:21.256Z"
   },
   {
    "duration": 11,
    "start_time": "2024-12-25T15:43:21.299Z"
   },
   {
    "duration": 20,
    "start_time": "2024-12-25T15:43:21.311Z"
   },
   {
    "duration": 50,
    "start_time": "2024-12-25T15:43:21.333Z"
   },
   {
    "duration": 78,
    "start_time": "2024-12-25T15:43:24.202Z"
   },
   {
    "duration": 16,
    "start_time": "2024-12-25T15:43:24.283Z"
   },
   {
    "duration": 56,
    "start_time": "2024-12-25T15:43:24.301Z"
   },
   {
    "duration": 28,
    "start_time": "2024-12-25T15:43:24.360Z"
   },
   {
    "duration": 38,
    "start_time": "2024-12-25T15:43:24.390Z"
   },
   {
    "duration": 5,
    "start_time": "2024-12-25T15:43:24.430Z"
   },
   {
    "duration": 16,
    "start_time": "2024-12-25T15:43:24.436Z"
   },
   {
    "duration": 5,
    "start_time": "2024-12-25T15:43:24.454Z"
   },
   {
    "duration": 25,
    "start_time": "2024-12-25T15:43:24.460Z"
   },
   {
    "duration": 10,
    "start_time": "2024-12-25T15:43:24.488Z"
   },
   {
    "duration": 42,
    "start_time": "2024-12-25T15:43:24.499Z"
   },
   {
    "duration": 11,
    "start_time": "2024-12-25T15:43:24.543Z"
   },
   {
    "duration": 14,
    "start_time": "2024-12-25T15:43:24.555Z"
   },
   {
    "duration": 13,
    "start_time": "2024-12-25T15:43:24.571Z"
   },
   {
    "duration": 39,
    "start_time": "2024-12-25T15:43:24.586Z"
   },
   {
    "duration": 21,
    "start_time": "2024-12-25T15:43:24.627Z"
   },
   {
    "duration": 4,
    "start_time": "2024-12-25T15:43:24.650Z"
   },
   {
    "duration": 15,
    "start_time": "2024-12-25T15:43:24.655Z"
   },
   {
    "duration": 6,
    "start_time": "2024-12-25T15:43:24.672Z"
   },
   {
    "duration": 37,
    "start_time": "2024-12-25T15:43:24.680Z"
   },
   {
    "duration": 9,
    "start_time": "2024-12-25T15:43:24.719Z"
   },
   {
    "duration": 18,
    "start_time": "2024-12-25T15:43:24.730Z"
   },
   {
    "duration": 11,
    "start_time": "2024-12-25T15:43:24.749Z"
   },
   {
    "duration": 34,
    "start_time": "2024-12-25T15:43:24.762Z"
   },
   {
    "duration": 25,
    "start_time": "2024-12-25T15:43:24.798Z"
   },
   {
    "duration": 76,
    "start_time": "2024-12-25T15:45:37.219Z"
   },
   {
    "duration": 16,
    "start_time": "2024-12-25T15:45:37.297Z"
   },
   {
    "duration": 21,
    "start_time": "2024-12-25T15:45:37.314Z"
   },
   {
    "duration": 15,
    "start_time": "2024-12-25T15:45:37.336Z"
   },
   {
    "duration": 70,
    "start_time": "2024-12-25T15:45:37.354Z"
   },
   {
    "duration": 3,
    "start_time": "2024-12-25T15:45:37.426Z"
   },
   {
    "duration": 57,
    "start_time": "2024-12-25T15:45:37.431Z"
   },
   {
    "duration": 82,
    "start_time": "2024-12-25T15:45:37.490Z"
   },
   {
    "duration": 22,
    "start_time": "2024-12-25T15:45:37.573Z"
   },
   {
    "duration": 9,
    "start_time": "2024-12-25T15:45:37.597Z"
   },
   {
    "duration": 59,
    "start_time": "2024-12-25T15:45:37.607Z"
   },
   {
    "duration": 11,
    "start_time": "2024-12-25T15:45:37.668Z"
   },
   {
    "duration": 9,
    "start_time": "2024-12-25T15:45:37.680Z"
   },
   {
    "duration": 13,
    "start_time": "2024-12-25T15:45:37.692Z"
   },
   {
    "duration": 37,
    "start_time": "2024-12-25T15:45:37.706Z"
   },
   {
    "duration": 21,
    "start_time": "2024-12-25T15:45:37.745Z"
   },
   {
    "duration": 3,
    "start_time": "2024-12-25T15:45:37.768Z"
   },
   {
    "duration": 14,
    "start_time": "2024-12-25T15:45:37.773Z"
   },
   {
    "duration": 18,
    "start_time": "2024-12-25T15:45:37.788Z"
   },
   {
    "duration": 4,
    "start_time": "2024-12-25T15:45:37.815Z"
   },
   {
    "duration": 11,
    "start_time": "2024-12-25T15:45:37.821Z"
   },
   {
    "duration": 27,
    "start_time": "2024-12-25T15:45:37.834Z"
   },
   {
    "duration": 22,
    "start_time": "2024-12-25T15:45:37.862Z"
   },
   {
    "duration": 14,
    "start_time": "2024-12-25T15:45:37.886Z"
   },
   {
    "duration": 26,
    "start_time": "2024-12-25T15:45:37.915Z"
   },
   {
    "duration": 80,
    "start_time": "2024-12-25T15:48:30.209Z"
   },
   {
    "duration": 16,
    "start_time": "2024-12-25T15:48:30.291Z"
   },
   {
    "duration": 72,
    "start_time": "2024-12-25T15:48:30.308Z"
   },
   {
    "duration": 40,
    "start_time": "2024-12-25T15:48:30.382Z"
   },
   {
    "duration": 51,
    "start_time": "2024-12-25T15:48:30.425Z"
   },
   {
    "duration": 3,
    "start_time": "2024-12-25T15:48:30.479Z"
   },
   {
    "duration": 15,
    "start_time": "2024-12-25T15:48:30.485Z"
   },
   {
    "duration": 20,
    "start_time": "2024-12-25T15:48:30.502Z"
   },
   {
    "duration": 29,
    "start_time": "2024-12-25T15:48:30.524Z"
   },
   {
    "duration": 43,
    "start_time": "2024-12-25T15:48:30.554Z"
   },
   {
    "duration": 72,
    "start_time": "2024-12-25T15:48:30.599Z"
   },
   {
    "duration": 35,
    "start_time": "2024-12-25T15:48:30.673Z"
   },
   {
    "duration": 22,
    "start_time": "2024-12-25T15:48:30.710Z"
   },
   {
    "duration": 91,
    "start_time": "2024-12-25T15:48:30.735Z"
   },
   {
    "duration": 42,
    "start_time": "2024-12-25T15:48:30.828Z"
   },
   {
    "duration": 35,
    "start_time": "2024-12-25T15:48:30.871Z"
   },
   {
    "duration": 54,
    "start_time": "2024-12-25T15:48:30.907Z"
   },
   {
    "duration": 68,
    "start_time": "2024-12-25T15:48:30.962Z"
   },
   {
    "duration": 42,
    "start_time": "2024-12-25T15:48:31.032Z"
   },
   {
    "duration": 4,
    "start_time": "2024-12-25T15:48:31.076Z"
   },
   {
    "duration": 25,
    "start_time": "2024-12-25T15:48:31.081Z"
   },
   {
    "duration": 35,
    "start_time": "2024-12-25T15:48:31.108Z"
   },
   {
    "duration": 30,
    "start_time": "2024-12-25T15:48:31.144Z"
   },
   {
    "duration": 34,
    "start_time": "2024-12-25T15:48:31.176Z"
   },
   {
    "duration": 33,
    "start_time": "2024-12-25T15:48:31.212Z"
   },
   {
    "duration": 76,
    "start_time": "2024-12-25T15:50:53.679Z"
   },
   {
    "duration": 13,
    "start_time": "2024-12-25T15:50:53.757Z"
   },
   {
    "duration": 15,
    "start_time": "2024-12-25T15:50:53.772Z"
   },
   {
    "duration": 32,
    "start_time": "2024-12-25T15:50:53.789Z"
   },
   {
    "duration": 38,
    "start_time": "2024-12-25T15:50:53.822Z"
   },
   {
    "duration": 4,
    "start_time": "2024-12-25T15:50:53.861Z"
   },
   {
    "duration": 19,
    "start_time": "2024-12-25T15:50:53.867Z"
   },
   {
    "duration": 11,
    "start_time": "2024-12-25T15:50:53.888Z"
   },
   {
    "duration": 19,
    "start_time": "2024-12-25T15:50:53.901Z"
   },
   {
    "duration": 14,
    "start_time": "2024-12-25T15:50:53.923Z"
   },
   {
    "duration": 53,
    "start_time": "2024-12-25T15:50:53.939Z"
   },
   {
    "duration": 12,
    "start_time": "2024-12-25T15:50:53.994Z"
   },
   {
    "duration": 19,
    "start_time": "2024-12-25T15:50:54.007Z"
   },
   {
    "duration": 15,
    "start_time": "2024-12-25T15:50:54.028Z"
   },
   {
    "duration": 51,
    "start_time": "2024-12-25T15:50:54.045Z"
   },
   {
    "duration": 25,
    "start_time": "2024-12-25T15:50:54.097Z"
   },
   {
    "duration": 27,
    "start_time": "2024-12-25T15:50:54.124Z"
   },
   {
    "duration": 34,
    "start_time": "2024-12-25T15:50:54.153Z"
   },
   {
    "duration": 37,
    "start_time": "2024-12-25T15:50:54.189Z"
   },
   {
    "duration": 27,
    "start_time": "2024-12-25T15:50:54.227Z"
   },
   {
    "duration": 28,
    "start_time": "2024-12-25T15:50:54.256Z"
   },
   {
    "duration": 30,
    "start_time": "2024-12-25T15:50:54.287Z"
   },
   {
    "duration": 17,
    "start_time": "2024-12-25T15:50:54.319Z"
   },
   {
    "duration": 35,
    "start_time": "2024-12-25T15:50:54.338Z"
   },
   {
    "duration": 48,
    "start_time": "2024-12-25T15:50:54.375Z"
   },
   {
    "duration": 79,
    "start_time": "2024-12-25T15:52:12.692Z"
   },
   {
    "duration": 6,
    "start_time": "2024-12-25T15:52:12.773Z"
   },
   {
    "duration": 58,
    "start_time": "2024-12-25T15:52:12.780Z"
   },
   {
    "duration": 11,
    "start_time": "2024-12-25T15:52:12.840Z"
   },
   {
    "duration": 38,
    "start_time": "2024-12-25T15:52:12.853Z"
   },
   {
    "duration": 4,
    "start_time": "2024-12-25T15:52:12.893Z"
   },
   {
    "duration": 57,
    "start_time": "2024-12-25T15:52:12.899Z"
   },
   {
    "duration": 58,
    "start_time": "2024-12-25T15:52:12.958Z"
   },
   {
    "duration": 16,
    "start_time": "2024-12-25T15:52:13.018Z"
   },
   {
    "duration": 12,
    "start_time": "2024-12-25T15:52:13.037Z"
   },
   {
    "duration": 42,
    "start_time": "2024-12-25T15:52:13.051Z"
   },
   {
    "duration": 11,
    "start_time": "2024-12-25T15:52:13.095Z"
   },
   {
    "duration": 23,
    "start_time": "2024-12-25T15:52:13.107Z"
   },
   {
    "duration": 24,
    "start_time": "2024-12-25T15:52:13.132Z"
   },
   {
    "duration": 37,
    "start_time": "2024-12-25T15:52:13.157Z"
   },
   {
    "duration": 20,
    "start_time": "2024-12-25T15:52:13.195Z"
   },
   {
    "duration": 14,
    "start_time": "2024-12-25T15:52:13.216Z"
   },
   {
    "duration": 29,
    "start_time": "2024-12-25T15:52:13.232Z"
   },
   {
    "duration": 14,
    "start_time": "2024-12-25T15:52:13.262Z"
   },
   {
    "duration": 4,
    "start_time": "2024-12-25T15:52:13.277Z"
   },
   {
    "duration": 20,
    "start_time": "2024-12-25T15:52:13.282Z"
   },
   {
    "duration": 14,
    "start_time": "2024-12-25T15:52:13.304Z"
   },
   {
    "duration": 30,
    "start_time": "2024-12-25T15:52:13.319Z"
   },
   {
    "duration": 16,
    "start_time": "2024-12-25T15:52:13.351Z"
   },
   {
    "duration": 11,
    "start_time": "2024-12-25T15:52:13.369Z"
   },
   {
    "duration": 87,
    "start_time": "2024-12-25T15:52:54.933Z"
   },
   {
    "duration": 23,
    "start_time": "2024-12-25T15:52:55.024Z"
   },
   {
    "duration": 0,
    "start_time": "2024-12-25T15:52:55.050Z"
   },
   {
    "duration": 0,
    "start_time": "2024-12-25T15:52:55.052Z"
   },
   {
    "duration": 1,
    "start_time": "2024-12-25T15:52:55.053Z"
   },
   {
    "duration": 0,
    "start_time": "2024-12-25T15:52:55.055Z"
   },
   {
    "duration": 0,
    "start_time": "2024-12-25T15:52:55.057Z"
   },
   {
    "duration": 0,
    "start_time": "2024-12-25T15:52:55.058Z"
   },
   {
    "duration": 0,
    "start_time": "2024-12-25T15:52:55.060Z"
   },
   {
    "duration": 0,
    "start_time": "2024-12-25T15:52:55.061Z"
   },
   {
    "duration": 0,
    "start_time": "2024-12-25T15:52:55.063Z"
   },
   {
    "duration": 0,
    "start_time": "2024-12-25T15:52:55.065Z"
   },
   {
    "duration": 1,
    "start_time": "2024-12-25T15:52:55.065Z"
   },
   {
    "duration": 0,
    "start_time": "2024-12-25T15:52:55.067Z"
   },
   {
    "duration": 0,
    "start_time": "2024-12-25T15:52:55.069Z"
   },
   {
    "duration": 0,
    "start_time": "2024-12-25T15:52:55.071Z"
   },
   {
    "duration": 0,
    "start_time": "2024-12-25T15:52:55.073Z"
   },
   {
    "duration": 0,
    "start_time": "2024-12-25T15:52:55.075Z"
   },
   {
    "duration": 1,
    "start_time": "2024-12-25T15:52:55.076Z"
   },
   {
    "duration": 0,
    "start_time": "2024-12-25T15:52:55.079Z"
   },
   {
    "duration": 0,
    "start_time": "2024-12-25T15:52:55.080Z"
   },
   {
    "duration": 0,
    "start_time": "2024-12-25T15:52:55.114Z"
   },
   {
    "duration": 0,
    "start_time": "2024-12-25T15:52:55.116Z"
   },
   {
    "duration": 0,
    "start_time": "2024-12-25T15:52:55.118Z"
   },
   {
    "duration": 0,
    "start_time": "2024-12-25T15:52:55.120Z"
   },
   {
    "duration": 76,
    "start_time": "2024-12-25T15:53:32.020Z"
   },
   {
    "duration": 5,
    "start_time": "2024-12-25T15:53:32.098Z"
   },
   {
    "duration": 41,
    "start_time": "2024-12-25T15:53:32.105Z"
   },
   {
    "duration": 23,
    "start_time": "2024-12-25T15:53:32.148Z"
   },
   {
    "duration": 38,
    "start_time": "2024-12-25T15:53:32.173Z"
   },
   {
    "duration": 3,
    "start_time": "2024-12-25T15:53:32.213Z"
   },
   {
    "duration": 45,
    "start_time": "2024-12-25T15:53:32.217Z"
   },
   {
    "duration": 21,
    "start_time": "2024-12-25T15:53:32.264Z"
   },
   {
    "duration": 33,
    "start_time": "2024-12-25T15:53:32.287Z"
   },
   {
    "duration": 15,
    "start_time": "2024-12-25T15:53:32.323Z"
   },
   {
    "duration": 65,
    "start_time": "2024-12-25T15:53:32.339Z"
   },
   {
    "duration": 12,
    "start_time": "2024-12-25T15:53:32.405Z"
   },
   {
    "duration": 21,
    "start_time": "2024-12-25T15:53:32.418Z"
   },
   {
    "duration": 41,
    "start_time": "2024-12-25T15:53:32.441Z"
   },
   {
    "duration": 20,
    "start_time": "2024-12-25T15:53:32.484Z"
   },
   {
    "duration": 20,
    "start_time": "2024-12-25T15:53:32.506Z"
   },
   {
    "duration": 3,
    "start_time": "2024-12-25T15:53:32.528Z"
   },
   {
    "duration": 47,
    "start_time": "2024-12-25T15:53:32.533Z"
   },
   {
    "duration": 13,
    "start_time": "2024-12-25T15:53:32.582Z"
   },
   {
    "duration": 20,
    "start_time": "2024-12-25T15:53:32.596Z"
   },
   {
    "duration": 24,
    "start_time": "2024-12-25T15:53:32.618Z"
   },
   {
    "duration": 55,
    "start_time": "2024-12-25T15:53:32.644Z"
   },
   {
    "duration": 10,
    "start_time": "2024-12-25T15:53:32.701Z"
   },
   {
    "duration": 32,
    "start_time": "2024-12-25T15:53:32.713Z"
   },
   {
    "duration": 52,
    "start_time": "2024-12-25T15:53:32.747Z"
   },
   {
    "duration": 78,
    "start_time": "2024-12-25T15:53:50.377Z"
   },
   {
    "duration": 15,
    "start_time": "2024-12-25T15:53:50.458Z"
   },
   {
    "duration": 18,
    "start_time": "2024-12-25T15:53:50.475Z"
   },
   {
    "duration": 28,
    "start_time": "2024-12-25T15:53:50.496Z"
   },
   {
    "duration": 51,
    "start_time": "2024-12-25T15:53:50.526Z"
   },
   {
    "duration": 3,
    "start_time": "2024-12-25T15:53:50.579Z"
   },
   {
    "duration": 16,
    "start_time": "2024-12-25T15:53:50.584Z"
   },
   {
    "duration": 6,
    "start_time": "2024-12-25T15:53:50.602Z"
   },
   {
    "duration": 6,
    "start_time": "2024-12-25T15:53:50.614Z"
   },
   {
    "duration": 5,
    "start_time": "2024-12-25T15:53:50.623Z"
   },
   {
    "duration": 50,
    "start_time": "2024-12-25T15:53:50.630Z"
   },
   {
    "duration": 13,
    "start_time": "2024-12-25T15:53:50.682Z"
   },
   {
    "duration": 21,
    "start_time": "2024-12-25T15:53:50.696Z"
   },
   {
    "duration": 15,
    "start_time": "2024-12-25T15:53:50.719Z"
   },
   {
    "duration": 22,
    "start_time": "2024-12-25T15:53:50.736Z"
   },
   {
    "duration": 29,
    "start_time": "2024-12-25T15:53:50.760Z"
   },
   {
    "duration": 4,
    "start_time": "2024-12-25T15:53:50.792Z"
   },
   {
    "duration": 24,
    "start_time": "2024-12-25T15:53:50.798Z"
   },
   {
    "duration": 7,
    "start_time": "2024-12-25T15:53:50.824Z"
   },
   {
    "duration": 10,
    "start_time": "2024-12-25T15:53:50.833Z"
   },
   {
    "duration": 24,
    "start_time": "2024-12-25T15:53:50.845Z"
   },
   {
    "duration": 27,
    "start_time": "2024-12-25T15:53:50.871Z"
   },
   {
    "duration": 11,
    "start_time": "2024-12-25T15:53:50.900Z"
   },
   {
    "duration": 27,
    "start_time": "2024-12-25T15:53:50.915Z"
   },
   {
    "duration": 60,
    "start_time": "2024-12-25T15:53:50.944Z"
   },
   {
    "duration": 76,
    "start_time": "2024-12-25T15:58:57.858Z"
   },
   {
    "duration": 16,
    "start_time": "2024-12-25T15:58:57.936Z"
   },
   {
    "duration": 40,
    "start_time": "2024-12-25T15:58:57.954Z"
   },
   {
    "duration": 11,
    "start_time": "2024-12-25T15:58:57.996Z"
   },
   {
    "duration": 36,
    "start_time": "2024-12-25T15:58:58.010Z"
   },
   {
    "duration": 3,
    "start_time": "2024-12-25T15:58:58.048Z"
   },
   {
    "duration": 21,
    "start_time": "2024-12-25T15:58:58.052Z"
   },
   {
    "duration": 4,
    "start_time": "2024-12-25T15:58:58.075Z"
   },
   {
    "duration": 8,
    "start_time": "2024-12-25T15:58:58.081Z"
   },
   {
    "duration": 4,
    "start_time": "2024-12-25T15:58:58.091Z"
   },
   {
    "duration": 51,
    "start_time": "2024-12-25T15:58:58.097Z"
   },
   {
    "duration": 11,
    "start_time": "2024-12-25T15:58:58.149Z"
   },
   {
    "duration": 4,
    "start_time": "2024-12-25T15:58:58.162Z"
   },
   {
    "duration": 14,
    "start_time": "2024-12-25T15:58:58.169Z"
   },
   {
    "duration": 41,
    "start_time": "2024-12-25T15:58:58.184Z"
   },
   {
    "duration": 21,
    "start_time": "2024-12-25T15:58:58.227Z"
   },
   {
    "duration": 4,
    "start_time": "2024-12-25T15:58:58.250Z"
   },
   {
    "duration": 17,
    "start_time": "2024-12-25T15:58:58.255Z"
   },
   {
    "duration": 6,
    "start_time": "2024-12-25T15:58:58.274Z"
   },
   {
    "duration": 6,
    "start_time": "2024-12-25T15:58:58.282Z"
   },
   {
    "duration": 34,
    "start_time": "2024-12-25T15:58:58.289Z"
   },
   {
    "duration": 14,
    "start_time": "2024-12-25T15:58:58.325Z"
   },
   {
    "duration": 37,
    "start_time": "2024-12-25T15:58:58.340Z"
   },
   {
    "duration": 10,
    "start_time": "2024-12-25T15:58:58.379Z"
   },
   {
    "duration": 18,
    "start_time": "2024-12-25T15:58:58.391Z"
   },
   {
    "duration": 80,
    "start_time": "2024-12-25T16:06:01.364Z"
   },
   {
    "duration": 17,
    "start_time": "2024-12-25T16:06:01.446Z"
   },
   {
    "duration": 34,
    "start_time": "2024-12-25T16:06:01.465Z"
   },
   {
    "duration": 16,
    "start_time": "2024-12-25T16:06:01.501Z"
   },
   {
    "duration": 69,
    "start_time": "2024-12-25T16:06:01.519Z"
   },
   {
    "duration": 4,
    "start_time": "2024-12-25T16:06:01.590Z"
   },
   {
    "duration": 18,
    "start_time": "2024-12-25T16:06:01.595Z"
   },
   {
    "duration": 19,
    "start_time": "2024-12-25T16:06:01.615Z"
   },
   {
    "duration": 59,
    "start_time": "2024-12-25T16:06:01.636Z"
   },
   {
    "duration": 18,
    "start_time": "2024-12-25T16:06:01.698Z"
   },
   {
    "duration": 56,
    "start_time": "2024-12-25T16:06:01.718Z"
   },
   {
    "duration": 27,
    "start_time": "2024-12-25T16:06:01.776Z"
   },
   {
    "duration": 19,
    "start_time": "2024-12-25T16:06:01.805Z"
   },
   {
    "duration": 54,
    "start_time": "2024-12-25T16:06:01.827Z"
   },
   {
    "duration": 33,
    "start_time": "2024-12-25T16:06:01.882Z"
   },
   {
    "duration": 22,
    "start_time": "2024-12-25T16:06:01.917Z"
   },
   {
    "duration": 30,
    "start_time": "2024-12-25T16:06:01.941Z"
   },
   {
    "duration": 28,
    "start_time": "2024-12-25T16:06:01.973Z"
   },
   {
    "duration": 116,
    "start_time": "2024-12-25T16:06:02.003Z"
   },
   {
    "duration": 47,
    "start_time": "2024-12-25T16:06:02.121Z"
   },
   {
    "duration": 30,
    "start_time": "2024-12-25T16:06:02.170Z"
   },
   {
    "duration": 15,
    "start_time": "2024-12-25T16:06:02.202Z"
   },
   {
    "duration": 10,
    "start_time": "2024-12-25T16:06:02.219Z"
   },
   {
    "duration": 36,
    "start_time": "2024-12-25T16:06:02.231Z"
   },
   {
    "duration": 30,
    "start_time": "2024-12-25T16:06:02.269Z"
   },
   {
    "duration": 540,
    "start_time": "2024-12-25T16:20:41.354Z"
   },
   {
    "duration": 22,
    "start_time": "2024-12-25T16:20:41.896Z"
   },
   {
    "duration": 16,
    "start_time": "2024-12-25T16:20:41.920Z"
   },
   {
    "duration": 10,
    "start_time": "2024-12-25T16:20:41.938Z"
   },
   {
    "duration": 42,
    "start_time": "2024-12-25T16:20:41.949Z"
   },
   {
    "duration": 4,
    "start_time": "2024-12-25T16:20:41.992Z"
   },
   {
    "duration": 11,
    "start_time": "2024-12-25T16:20:41.997Z"
   },
   {
    "duration": 5,
    "start_time": "2024-12-25T16:20:42.009Z"
   },
   {
    "duration": 25,
    "start_time": "2024-12-25T16:20:42.015Z"
   },
   {
    "duration": 5,
    "start_time": "2024-12-25T16:20:42.043Z"
   },
   {
    "duration": 36,
    "start_time": "2024-12-25T16:20:42.050Z"
   },
   {
    "duration": 11,
    "start_time": "2024-12-25T16:20:42.088Z"
   },
   {
    "duration": 4,
    "start_time": "2024-12-25T16:20:42.100Z"
   },
   {
    "duration": 40,
    "start_time": "2024-12-25T16:20:42.105Z"
   },
   {
    "duration": 20,
    "start_time": "2024-12-25T16:20:42.146Z"
   },
   {
    "duration": 20,
    "start_time": "2024-12-25T16:20:42.168Z"
   },
   {
    "duration": 4,
    "start_time": "2024-12-25T16:20:42.189Z"
   },
   {
    "duration": 25,
    "start_time": "2024-12-25T16:20:42.194Z"
   },
   {
    "duration": 29,
    "start_time": "2024-12-25T16:20:42.221Z"
   },
   {
    "duration": 21,
    "start_time": "2024-12-25T16:20:42.251Z"
   },
   {
    "duration": 19,
    "start_time": "2024-12-25T16:20:42.274Z"
   },
   {
    "duration": 14,
    "start_time": "2024-12-25T16:20:42.295Z"
   },
   {
    "duration": 11,
    "start_time": "2024-12-25T16:20:42.311Z"
   },
   {
    "duration": 11,
    "start_time": "2024-12-25T16:20:42.323Z"
   },
   {
    "duration": 13,
    "start_time": "2024-12-25T16:20:42.335Z"
   },
   {
    "duration": 522,
    "start_time": "2024-12-25T16:53:27.516Z"
   },
   {
    "duration": 22,
    "start_time": "2024-12-25T16:53:28.040Z"
   },
   {
    "duration": 21,
    "start_time": "2024-12-25T16:53:28.063Z"
   },
   {
    "duration": 10,
    "start_time": "2024-12-25T16:53:28.085Z"
   },
   {
    "duration": 51,
    "start_time": "2024-12-25T16:53:28.097Z"
   },
   {
    "duration": 4,
    "start_time": "2024-12-25T16:53:28.150Z"
   },
   {
    "duration": 37,
    "start_time": "2024-12-25T16:53:28.156Z"
   },
   {
    "duration": 10,
    "start_time": "2024-12-25T16:53:28.195Z"
   },
   {
    "duration": 25,
    "start_time": "2024-12-25T16:53:28.207Z"
   },
   {
    "duration": 8,
    "start_time": "2024-12-25T16:53:28.235Z"
   },
   {
    "duration": 48,
    "start_time": "2024-12-25T16:53:28.245Z"
   },
   {
    "duration": 11,
    "start_time": "2024-12-25T16:53:28.294Z"
   },
   {
    "duration": 4,
    "start_time": "2024-12-25T16:53:28.306Z"
   },
   {
    "duration": 34,
    "start_time": "2024-12-25T16:53:28.313Z"
   },
   {
    "duration": 22,
    "start_time": "2024-12-25T16:53:28.349Z"
   },
   {
    "duration": 22,
    "start_time": "2024-12-25T16:53:28.372Z"
   },
   {
    "duration": 5,
    "start_time": "2024-12-25T16:53:28.396Z"
   },
   {
    "duration": 37,
    "start_time": "2024-12-25T16:53:28.403Z"
   },
   {
    "duration": 6,
    "start_time": "2024-12-25T16:53:28.441Z"
   },
   {
    "duration": 4,
    "start_time": "2024-12-25T16:53:28.448Z"
   },
   {
    "duration": 9,
    "start_time": "2024-12-25T16:53:28.454Z"
   },
   {
    "duration": 12,
    "start_time": "2024-12-25T16:53:28.465Z"
   },
   {
    "duration": 9,
    "start_time": "2024-12-25T16:53:28.479Z"
   },
   {
    "duration": 50,
    "start_time": "2024-12-25T16:53:28.491Z"
   },
   {
    "duration": 14,
    "start_time": "2024-12-25T16:53:28.543Z"
   },
   {
    "duration": 698,
    "start_time": "2024-12-26T08:52:29.794Z"
   },
   {
    "duration": 26,
    "start_time": "2024-12-26T08:52:30.499Z"
   },
   {
    "duration": 16,
    "start_time": "2024-12-26T08:52:30.526Z"
   },
   {
    "duration": 9,
    "start_time": "2024-12-26T08:52:30.544Z"
   },
   {
    "duration": 50,
    "start_time": "2024-12-26T08:52:30.554Z"
   },
   {
    "duration": 4,
    "start_time": "2024-12-26T08:52:30.606Z"
   },
   {
    "duration": 31,
    "start_time": "2024-12-26T08:52:30.612Z"
   },
   {
    "duration": 36,
    "start_time": "2024-12-26T08:52:30.645Z"
   },
   {
    "duration": 27,
    "start_time": "2024-12-26T08:52:30.683Z"
   },
   {
    "duration": 6,
    "start_time": "2024-12-26T08:52:30.715Z"
   },
   {
    "duration": 40,
    "start_time": "2024-12-26T08:52:30.722Z"
   },
   {
    "duration": 9,
    "start_time": "2024-12-26T08:52:30.763Z"
   },
   {
    "duration": 10,
    "start_time": "2024-12-26T08:52:30.773Z"
   },
   {
    "duration": 34,
    "start_time": "2024-12-26T08:52:30.785Z"
   },
   {
    "duration": 33,
    "start_time": "2024-12-26T08:52:30.820Z"
   },
   {
    "duration": 17,
    "start_time": "2024-12-26T08:52:30.855Z"
   },
   {
    "duration": 4,
    "start_time": "2024-12-26T08:52:30.873Z"
   },
   {
    "duration": 43,
    "start_time": "2024-12-26T08:52:30.878Z"
   },
   {
    "duration": 14,
    "start_time": "2024-12-26T08:52:30.922Z"
   },
   {
    "duration": 16,
    "start_time": "2024-12-26T08:52:30.937Z"
   },
   {
    "duration": 72,
    "start_time": "2024-12-26T08:52:30.954Z"
   },
   {
    "duration": 103,
    "start_time": "2024-12-26T08:52:31.028Z"
   },
   {
    "duration": 0,
    "start_time": "2024-12-26T08:52:31.132Z"
   },
   {
    "duration": 0,
    "start_time": "2024-12-26T08:52:31.134Z"
   },
   {
    "duration": 0,
    "start_time": "2024-12-26T08:52:31.134Z"
   },
   {
    "duration": 70,
    "start_time": "2024-12-26T09:06:45.109Z"
   },
   {
    "duration": 29,
    "start_time": "2024-12-26T09:06:45.181Z"
   },
   {
    "duration": 55,
    "start_time": "2024-12-26T09:06:45.212Z"
   },
   {
    "duration": 36,
    "start_time": "2024-12-26T09:06:45.269Z"
   },
   {
    "duration": 60,
    "start_time": "2024-12-26T09:06:45.306Z"
   },
   {
    "duration": 30,
    "start_time": "2024-12-26T09:06:45.367Z"
   },
   {
    "duration": 11,
    "start_time": "2024-12-26T09:06:45.406Z"
   },
   {
    "duration": 26,
    "start_time": "2024-12-26T09:06:45.418Z"
   },
   {
    "duration": 18,
    "start_time": "2024-12-26T09:06:45.446Z"
   },
   {
    "duration": 16,
    "start_time": "2024-12-26T09:06:45.466Z"
   },
   {
    "duration": 58,
    "start_time": "2024-12-26T09:06:45.484Z"
   },
   {
    "duration": 9,
    "start_time": "2024-12-26T09:06:45.545Z"
   },
   {
    "duration": 104,
    "start_time": "2024-12-26T09:06:45.556Z"
   },
   {
    "duration": 24,
    "start_time": "2024-12-26T09:06:45.661Z"
   },
   {
    "duration": 29,
    "start_time": "2024-12-26T09:06:45.691Z"
   },
   {
    "duration": 17,
    "start_time": "2024-12-26T09:06:45.721Z"
   },
   {
    "duration": 16,
    "start_time": "2024-12-26T09:06:45.739Z"
   },
   {
    "duration": 14,
    "start_time": "2024-12-26T09:06:45.756Z"
   },
   {
    "duration": 19,
    "start_time": "2024-12-26T09:06:45.772Z"
   },
   {
    "duration": 15,
    "start_time": "2024-12-26T09:06:45.792Z"
   },
   {
    "duration": 19,
    "start_time": "2024-12-26T09:06:45.809Z"
   },
   {
    "duration": 25,
    "start_time": "2024-12-26T09:06:45.830Z"
   },
   {
    "duration": 9,
    "start_time": "2024-12-26T09:06:45.856Z"
   },
   {
    "duration": 8,
    "start_time": "2024-12-26T09:06:45.867Z"
   },
   {
    "duration": 23,
    "start_time": "2024-12-26T09:06:45.876Z"
   },
   {
    "duration": 81,
    "start_time": "2024-12-26T09:10:41.946Z"
   },
   {
    "duration": 15,
    "start_time": "2024-12-26T09:10:42.028Z"
   },
   {
    "duration": 14,
    "start_time": "2024-12-26T09:10:42.044Z"
   },
   {
    "duration": 9,
    "start_time": "2024-12-26T09:10:42.060Z"
   },
   {
    "duration": 61,
    "start_time": "2024-12-26T09:10:42.070Z"
   },
   {
    "duration": 3,
    "start_time": "2024-12-26T09:10:42.133Z"
   },
   {
    "duration": 8,
    "start_time": "2024-12-26T09:10:42.138Z"
   },
   {
    "duration": 3,
    "start_time": "2024-12-26T09:10:42.148Z"
   },
   {
    "duration": 6,
    "start_time": "2024-12-26T09:10:42.153Z"
   },
   {
    "duration": 16,
    "start_time": "2024-12-26T09:10:42.190Z"
   },
   {
    "duration": 46,
    "start_time": "2024-12-26T09:10:42.207Z"
   },
   {
    "duration": 9,
    "start_time": "2024-12-26T09:10:42.255Z"
   },
   {
    "duration": 7,
    "start_time": "2024-12-26T09:10:42.265Z"
   },
   {
    "duration": 24,
    "start_time": "2024-12-26T09:10:42.273Z"
   },
   {
    "duration": 25,
    "start_time": "2024-12-26T09:10:42.302Z"
   },
   {
    "duration": 17,
    "start_time": "2024-12-26T09:10:42.329Z"
   },
   {
    "duration": 3,
    "start_time": "2024-12-26T09:10:42.347Z"
   },
   {
    "duration": 11,
    "start_time": "2024-12-26T09:10:42.352Z"
   },
   {
    "duration": 31,
    "start_time": "2024-12-26T09:10:42.364Z"
   },
   {
    "duration": 3,
    "start_time": "2024-12-26T09:10:42.397Z"
   },
   {
    "duration": 16,
    "start_time": "2024-12-26T09:10:42.402Z"
   },
   {
    "duration": 27,
    "start_time": "2024-12-26T09:10:42.419Z"
   },
   {
    "duration": 0,
    "start_time": "2024-12-26T09:10:42.447Z"
   },
   {
    "duration": 0,
    "start_time": "2024-12-26T09:10:42.448Z"
   },
   {
    "duration": 0,
    "start_time": "2024-12-26T09:10:42.449Z"
   },
   {
    "duration": 70,
    "start_time": "2024-12-26T09:14:53.411Z"
   },
   {
    "duration": 30,
    "start_time": "2024-12-26T09:14:53.482Z"
   },
   {
    "duration": 14,
    "start_time": "2024-12-26T09:14:53.514Z"
   },
   {
    "duration": 20,
    "start_time": "2024-12-26T09:14:53.530Z"
   },
   {
    "duration": 55,
    "start_time": "2024-12-26T09:14:53.552Z"
   },
   {
    "duration": 7,
    "start_time": "2024-12-26T09:14:53.609Z"
   },
   {
    "duration": 45,
    "start_time": "2024-12-26T09:14:53.619Z"
   },
   {
    "duration": 8,
    "start_time": "2024-12-26T09:14:53.665Z"
   },
   {
    "duration": 5,
    "start_time": "2024-12-26T09:14:53.674Z"
   },
   {
    "duration": 12,
    "start_time": "2024-12-26T09:14:53.681Z"
   },
   {
    "duration": 43,
    "start_time": "2024-12-26T09:14:53.695Z"
   },
   {
    "duration": 9,
    "start_time": "2024-12-26T09:14:53.739Z"
   },
   {
    "duration": 22,
    "start_time": "2024-12-26T09:14:53.750Z"
   },
   {
    "duration": 26,
    "start_time": "2024-12-26T09:14:53.773Z"
   },
   {
    "duration": 60,
    "start_time": "2024-12-26T09:14:53.800Z"
   },
   {
    "duration": 27,
    "start_time": "2024-12-26T09:14:53.862Z"
   },
   {
    "duration": 4,
    "start_time": "2024-12-26T09:14:53.891Z"
   },
   {
    "duration": 43,
    "start_time": "2024-12-26T09:14:53.896Z"
   },
   {
    "duration": 33,
    "start_time": "2024-12-26T09:14:53.941Z"
   },
   {
    "duration": 3,
    "start_time": "2024-12-26T09:14:53.975Z"
   },
   {
    "duration": 38,
    "start_time": "2024-12-26T09:14:53.980Z"
   },
   {
    "duration": 46,
    "start_time": "2024-12-26T09:14:54.019Z"
   },
   {
    "duration": 10,
    "start_time": "2024-12-26T09:14:54.067Z"
   },
   {
    "duration": 15,
    "start_time": "2024-12-26T09:14:54.079Z"
   },
   {
    "duration": 20,
    "start_time": "2024-12-26T09:14:54.095Z"
   },
   {
    "duration": 86,
    "start_time": "2024-12-26T09:17:22.815Z"
   },
   {
    "duration": 18,
    "start_time": "2024-12-26T09:17:22.909Z"
   },
   {
    "duration": 20,
    "start_time": "2024-12-26T09:17:22.928Z"
   },
   {
    "duration": 21,
    "start_time": "2024-12-26T09:17:22.951Z"
   },
   {
    "duration": 64,
    "start_time": "2024-12-26T09:17:22.973Z"
   },
   {
    "duration": 9,
    "start_time": "2024-12-26T09:17:23.038Z"
   },
   {
    "duration": 66,
    "start_time": "2024-12-26T09:17:23.048Z"
   },
   {
    "duration": 36,
    "start_time": "2024-12-26T09:17:23.116Z"
   },
   {
    "duration": 18,
    "start_time": "2024-12-26T09:17:23.153Z"
   },
   {
    "duration": 5,
    "start_time": "2024-12-26T09:17:23.174Z"
   },
   {
    "duration": 49,
    "start_time": "2024-12-26T09:17:23.180Z"
   },
   {
    "duration": 9,
    "start_time": "2024-12-26T09:17:23.231Z"
   },
   {
    "duration": 24,
    "start_time": "2024-12-26T09:17:23.241Z"
   },
   {
    "duration": 17,
    "start_time": "2024-12-26T09:17:23.267Z"
   },
   {
    "duration": 57,
    "start_time": "2024-12-26T09:17:23.285Z"
   },
   {
    "duration": 24,
    "start_time": "2024-12-26T09:17:23.344Z"
   },
   {
    "duration": 64,
    "start_time": "2024-12-26T09:17:23.370Z"
   },
   {
    "duration": 33,
    "start_time": "2024-12-26T09:17:23.436Z"
   },
   {
    "duration": 23,
    "start_time": "2024-12-26T09:17:23.470Z"
   },
   {
    "duration": 6,
    "start_time": "2024-12-26T09:17:23.495Z"
   },
   {
    "duration": 17,
    "start_time": "2024-12-26T09:17:23.502Z"
   },
   {
    "duration": 15,
    "start_time": "2024-12-26T09:17:23.521Z"
   },
   {
    "duration": 9,
    "start_time": "2024-12-26T09:17:23.538Z"
   },
   {
    "duration": 18,
    "start_time": "2024-12-26T09:17:23.549Z"
   },
   {
    "duration": 34,
    "start_time": "2024-12-26T09:17:23.569Z"
   },
   {
    "duration": 68,
    "start_time": "2024-12-26T09:23:56.404Z"
   },
   {
    "duration": 24,
    "start_time": "2024-12-26T09:23:56.476Z"
   },
   {
    "duration": 19,
    "start_time": "2024-12-26T09:23:56.501Z"
   },
   {
    "duration": 8,
    "start_time": "2024-12-26T09:23:56.521Z"
   },
   {
    "duration": 31,
    "start_time": "2024-12-26T09:23:56.531Z"
   },
   {
    "duration": 29,
    "start_time": "2024-12-26T09:23:56.564Z"
   },
   {
    "duration": 38,
    "start_time": "2024-12-26T09:23:56.599Z"
   },
   {
    "duration": 4,
    "start_time": "2024-12-26T09:23:56.639Z"
   },
   {
    "duration": 21,
    "start_time": "2024-12-26T09:23:56.645Z"
   },
   {
    "duration": 84,
    "start_time": "2024-12-26T09:23:56.668Z"
   },
   {
    "duration": 45,
    "start_time": "2024-12-26T09:23:56.754Z"
   },
   {
    "duration": 10,
    "start_time": "2024-12-26T09:23:56.801Z"
   },
   {
    "duration": 17,
    "start_time": "2024-12-26T09:23:56.812Z"
   },
   {
    "duration": 11,
    "start_time": "2024-12-26T09:23:56.831Z"
   },
   {
    "duration": 22,
    "start_time": "2024-12-26T09:23:56.843Z"
   },
   {
    "duration": 28,
    "start_time": "2024-12-26T09:23:56.867Z"
   },
   {
    "duration": 5,
    "start_time": "2024-12-26T09:23:56.897Z"
   },
   {
    "duration": 36,
    "start_time": "2024-12-26T09:23:56.903Z"
   },
   {
    "duration": 10,
    "start_time": "2024-12-26T09:23:56.940Z"
   },
   {
    "duration": 4,
    "start_time": "2024-12-26T09:23:56.952Z"
   },
   {
    "duration": 11,
    "start_time": "2024-12-26T09:23:56.958Z"
   },
   {
    "duration": 10,
    "start_time": "2024-12-26T09:23:56.970Z"
   },
   {
    "duration": 20,
    "start_time": "2024-12-26T09:23:56.982Z"
   },
   {
    "duration": 13,
    "start_time": "2024-12-26T09:23:57.004Z"
   },
   {
    "duration": 10,
    "start_time": "2024-12-26T09:23:57.018Z"
   },
   {
    "duration": 77,
    "start_time": "2024-12-26T09:25:03.423Z"
   },
   {
    "duration": 15,
    "start_time": "2024-12-26T09:25:03.502Z"
   },
   {
    "duration": 15,
    "start_time": "2024-12-26T09:25:03.518Z"
   },
   {
    "duration": 8,
    "start_time": "2024-12-26T09:25:03.535Z"
   },
   {
    "duration": 82,
    "start_time": "2024-12-26T09:25:03.545Z"
   },
   {
    "duration": 4,
    "start_time": "2024-12-26T09:25:03.628Z"
   },
   {
    "duration": 18,
    "start_time": "2024-12-26T09:25:03.634Z"
   },
   {
    "duration": 4,
    "start_time": "2024-12-26T09:25:03.653Z"
   },
   {
    "duration": 78,
    "start_time": "2024-12-26T09:25:03.658Z"
   },
   {
    "duration": 20,
    "start_time": "2024-12-26T09:25:03.738Z"
   },
   {
    "duration": 45,
    "start_time": "2024-12-26T09:25:03.759Z"
   },
   {
    "duration": 9,
    "start_time": "2024-12-26T09:25:03.806Z"
   },
   {
    "duration": 17,
    "start_time": "2024-12-26T09:25:03.816Z"
   },
   {
    "duration": 14,
    "start_time": "2024-12-26T09:25:03.835Z"
   },
   {
    "duration": 24,
    "start_time": "2024-12-26T09:25:03.850Z"
   },
   {
    "duration": 30,
    "start_time": "2024-12-26T09:25:03.875Z"
   },
   {
    "duration": 4,
    "start_time": "2024-12-26T09:25:03.906Z"
   },
   {
    "duration": 19,
    "start_time": "2024-12-26T09:25:03.912Z"
   },
   {
    "duration": 35,
    "start_time": "2024-12-26T09:25:03.933Z"
   },
   {
    "duration": 50,
    "start_time": "2024-12-26T09:25:03.970Z"
   },
   {
    "duration": 13,
    "start_time": "2024-12-26T09:25:04.022Z"
   },
   {
    "duration": 20,
    "start_time": "2024-12-26T09:25:04.037Z"
   },
   {
    "duration": 0,
    "start_time": "2024-12-26T09:25:04.058Z"
   },
   {
    "duration": 0,
    "start_time": "2024-12-26T09:25:04.060Z"
   },
   {
    "duration": 0,
    "start_time": "2024-12-26T09:25:04.061Z"
   },
   {
    "duration": 67,
    "start_time": "2024-12-26T09:25:30.695Z"
   },
   {
    "duration": 14,
    "start_time": "2024-12-26T09:25:30.764Z"
   },
   {
    "duration": 33,
    "start_time": "2024-12-26T09:25:30.779Z"
   },
   {
    "duration": 27,
    "start_time": "2024-12-26T09:25:30.814Z"
   },
   {
    "duration": 46,
    "start_time": "2024-12-26T09:25:30.843Z"
   },
   {
    "duration": 3,
    "start_time": "2024-12-26T09:25:30.891Z"
   },
   {
    "duration": 9,
    "start_time": "2024-12-26T09:25:30.896Z"
   },
   {
    "duration": 39,
    "start_time": "2024-12-26T09:25:30.907Z"
   },
   {
    "duration": 21,
    "start_time": "2024-12-26T09:25:30.948Z"
   },
   {
    "duration": 35,
    "start_time": "2024-12-26T09:25:30.970Z"
   },
   {
    "duration": 52,
    "start_time": "2024-12-26T09:25:31.007Z"
   },
   {
    "duration": 11,
    "start_time": "2024-12-26T09:25:31.061Z"
   },
   {
    "duration": 15,
    "start_time": "2024-12-26T09:25:31.074Z"
   },
   {
    "duration": 68,
    "start_time": "2024-12-26T09:25:31.092Z"
   },
   {
    "duration": 38,
    "start_time": "2024-12-26T09:25:31.162Z"
   },
   {
    "duration": 23,
    "start_time": "2024-12-26T09:25:31.202Z"
   },
   {
    "duration": 3,
    "start_time": "2024-12-26T09:25:31.226Z"
   },
   {
    "duration": 15,
    "start_time": "2024-12-26T09:25:31.231Z"
   },
   {
    "duration": 8,
    "start_time": "2024-12-26T09:25:31.248Z"
   },
   {
    "duration": 4,
    "start_time": "2024-12-26T09:25:31.257Z"
   },
   {
    "duration": 34,
    "start_time": "2024-12-26T09:25:31.263Z"
   },
   {
    "duration": 12,
    "start_time": "2024-12-26T09:25:31.300Z"
   },
   {
    "duration": 40,
    "start_time": "2024-12-26T09:25:31.314Z"
   },
   {
    "duration": 8,
    "start_time": "2024-12-26T09:25:31.356Z"
   },
   {
    "duration": 36,
    "start_time": "2024-12-26T09:25:31.366Z"
   },
   {
    "duration": 68,
    "start_time": "2024-12-26T09:28:40.305Z"
   },
   {
    "duration": 28,
    "start_time": "2024-12-26T09:28:40.375Z"
   },
   {
    "duration": 14,
    "start_time": "2024-12-26T09:28:40.405Z"
   },
   {
    "duration": 10,
    "start_time": "2024-12-26T09:28:40.421Z"
   },
   {
    "duration": 29,
    "start_time": "2024-12-26T09:28:40.433Z"
   },
   {
    "duration": 3,
    "start_time": "2024-12-26T09:28:40.464Z"
   },
   {
    "duration": 24,
    "start_time": "2024-12-26T09:28:40.468Z"
   },
   {
    "duration": 5,
    "start_time": "2024-12-26T09:28:40.499Z"
   },
   {
    "duration": 15,
    "start_time": "2024-12-26T09:28:40.505Z"
   },
   {
    "duration": 6,
    "start_time": "2024-12-26T09:28:40.521Z"
   },
   {
    "duration": 30,
    "start_time": "2024-12-26T09:28:40.528Z"
   },
   {
    "duration": 39,
    "start_time": "2024-12-26T09:28:40.560Z"
   },
   {
    "duration": 5,
    "start_time": "2024-12-26T09:28:40.601Z"
   },
   {
    "duration": 10,
    "start_time": "2024-12-26T09:28:40.608Z"
   },
   {
    "duration": 17,
    "start_time": "2024-12-26T09:28:40.619Z"
   },
   {
    "duration": 18,
    "start_time": "2024-12-26T09:28:40.638Z"
   },
   {
    "duration": 3,
    "start_time": "2024-12-26T09:28:40.657Z"
   },
   {
    "duration": 15,
    "start_time": "2024-12-26T09:28:40.690Z"
   },
   {
    "duration": 8,
    "start_time": "2024-12-26T09:28:40.707Z"
   },
   {
    "duration": 10,
    "start_time": "2024-12-26T09:28:40.716Z"
   },
   {
    "duration": 9,
    "start_time": "2024-12-26T09:28:40.727Z"
   },
   {
    "duration": 63,
    "start_time": "2024-12-26T09:28:40.738Z"
   },
   {
    "duration": 0,
    "start_time": "2024-12-26T09:28:40.803Z"
   },
   {
    "duration": 0,
    "start_time": "2024-12-26T09:28:40.804Z"
   },
   {
    "duration": 1,
    "start_time": "2024-12-26T09:28:40.805Z"
   },
   {
    "duration": 69,
    "start_time": "2024-12-26T09:30:57.100Z"
   },
   {
    "duration": 15,
    "start_time": "2024-12-26T09:30:57.171Z"
   },
   {
    "duration": 28,
    "start_time": "2024-12-26T09:30:57.187Z"
   },
   {
    "duration": 9,
    "start_time": "2024-12-26T09:30:57.217Z"
   },
   {
    "duration": 72,
    "start_time": "2024-12-26T09:30:57.228Z"
   },
   {
    "duration": 4,
    "start_time": "2024-12-26T09:30:57.301Z"
   },
   {
    "duration": 20,
    "start_time": "2024-12-26T09:30:57.307Z"
   },
   {
    "duration": 12,
    "start_time": "2024-12-26T09:30:57.329Z"
   },
   {
    "duration": 9,
    "start_time": "2024-12-26T09:30:57.342Z"
   },
   {
    "duration": 15,
    "start_time": "2024-12-26T09:30:57.352Z"
   },
   {
    "duration": 42,
    "start_time": "2024-12-26T09:30:57.369Z"
   },
   {
    "duration": 9,
    "start_time": "2024-12-26T09:30:57.413Z"
   },
   {
    "duration": 74,
    "start_time": "2024-12-26T09:30:57.423Z"
   },
   {
    "duration": 11,
    "start_time": "2024-12-26T09:30:57.501Z"
   },
   {
    "duration": 21,
    "start_time": "2024-12-26T09:30:57.513Z"
   },
   {
    "duration": 18,
    "start_time": "2024-12-26T09:30:57.535Z"
   },
   {
    "duration": 4,
    "start_time": "2024-12-26T09:30:57.554Z"
   },
   {
    "duration": 12,
    "start_time": "2024-12-26T09:30:57.559Z"
   },
   {
    "duration": 27,
    "start_time": "2024-12-26T09:30:57.572Z"
   },
   {
    "duration": 4,
    "start_time": "2024-12-26T09:30:57.600Z"
   },
   {
    "duration": 12,
    "start_time": "2024-12-26T09:30:57.606Z"
   },
   {
    "duration": 15,
    "start_time": "2024-12-26T09:30:57.619Z"
   },
   {
    "duration": 9,
    "start_time": "2024-12-26T09:30:57.636Z"
   },
   {
    "duration": 15,
    "start_time": "2024-12-26T09:30:57.646Z"
   },
   {
    "duration": 36,
    "start_time": "2024-12-26T09:30:57.663Z"
   },
   {
    "duration": 68,
    "start_time": "2024-12-26T09:31:29.913Z"
   },
   {
    "duration": 21,
    "start_time": "2024-12-26T09:31:29.983Z"
   },
   {
    "duration": 20,
    "start_time": "2024-12-26T09:31:30.006Z"
   },
   {
    "duration": 27,
    "start_time": "2024-12-26T09:31:30.028Z"
   },
   {
    "duration": 58,
    "start_time": "2024-12-26T09:31:30.057Z"
   },
   {
    "duration": 4,
    "start_time": "2024-12-26T09:31:30.117Z"
   },
   {
    "duration": 18,
    "start_time": "2024-12-26T09:31:30.123Z"
   },
   {
    "duration": 21,
    "start_time": "2024-12-26T09:31:30.143Z"
   },
   {
    "duration": 10,
    "start_time": "2024-12-26T09:31:30.166Z"
   },
   {
    "duration": 24,
    "start_time": "2024-12-26T09:31:30.179Z"
   },
   {
    "duration": 46,
    "start_time": "2024-12-26T09:31:30.205Z"
   },
   {
    "duration": 9,
    "start_time": "2024-12-26T09:31:30.253Z"
   },
   {
    "duration": 40,
    "start_time": "2024-12-26T09:31:30.263Z"
   },
   {
    "duration": 52,
    "start_time": "2024-12-26T09:31:30.304Z"
   },
   {
    "duration": 65,
    "start_time": "2024-12-26T09:31:30.358Z"
   },
   {
    "duration": 21,
    "start_time": "2024-12-26T09:31:30.425Z"
   },
   {
    "duration": 7,
    "start_time": "2024-12-26T09:31:30.448Z"
   },
   {
    "duration": 28,
    "start_time": "2024-12-26T09:31:30.457Z"
   },
   {
    "duration": 19,
    "start_time": "2024-12-26T09:31:30.486Z"
   },
   {
    "duration": 29,
    "start_time": "2024-12-26T09:31:30.506Z"
   },
   {
    "duration": 63,
    "start_time": "2024-12-26T09:31:30.537Z"
   },
   {
    "duration": 33,
    "start_time": "2024-12-26T09:31:30.603Z"
   },
   {
    "duration": 9,
    "start_time": "2024-12-26T09:31:30.638Z"
   },
   {
    "duration": 20,
    "start_time": "2024-12-26T09:31:30.649Z"
   },
   {
    "duration": 30,
    "start_time": "2024-12-26T09:31:30.671Z"
   },
   {
    "duration": 72,
    "start_time": "2024-12-26T09:34:09.325Z"
   },
   {
    "duration": 16,
    "start_time": "2024-12-26T09:34:09.400Z"
   },
   {
    "duration": 22,
    "start_time": "2024-12-26T09:34:09.417Z"
   },
   {
    "duration": 12,
    "start_time": "2024-12-26T09:34:09.440Z"
   },
   {
    "duration": 70,
    "start_time": "2024-12-26T09:34:09.456Z"
   },
   {
    "duration": 4,
    "start_time": "2024-12-26T09:34:09.527Z"
   },
   {
    "duration": 19,
    "start_time": "2024-12-26T09:34:09.533Z"
   },
   {
    "duration": 4,
    "start_time": "2024-12-26T09:34:09.554Z"
   },
   {
    "duration": 6,
    "start_time": "2024-12-26T09:34:09.560Z"
   },
   {
    "duration": 22,
    "start_time": "2024-12-26T09:34:09.568Z"
   },
   {
    "duration": 36,
    "start_time": "2024-12-26T09:34:09.592Z"
   },
   {
    "duration": 9,
    "start_time": "2024-12-26T09:34:09.631Z"
   },
   {
    "duration": 6,
    "start_time": "2024-12-26T09:34:09.641Z"
   },
   {
    "duration": 10,
    "start_time": "2024-12-26T09:34:09.649Z"
   },
   {
    "duration": 27,
    "start_time": "2024-12-26T09:34:09.686Z"
   },
   {
    "duration": 20,
    "start_time": "2024-12-26T09:34:09.715Z"
   },
   {
    "duration": 33,
    "start_time": "2024-12-26T09:34:09.736Z"
   },
   {
    "duration": 51,
    "start_time": "2024-12-26T09:34:09.771Z"
   },
   {
    "duration": 14,
    "start_time": "2024-12-26T09:34:09.824Z"
   },
   {
    "duration": 5,
    "start_time": "2024-12-26T09:34:09.839Z"
   },
   {
    "duration": 11,
    "start_time": "2024-12-26T09:34:09.845Z"
   },
   {
    "duration": 19,
    "start_time": "2024-12-26T09:34:09.858Z"
   },
   {
    "duration": 19,
    "start_time": "2024-12-26T09:34:09.879Z"
   },
   {
    "duration": 11,
    "start_time": "2024-12-26T09:34:09.900Z"
   },
   {
    "duration": 15,
    "start_time": "2024-12-26T09:34:09.913Z"
   },
   {
    "duration": 80,
    "start_time": "2024-12-26T09:34:39.300Z"
   },
   {
    "duration": 27,
    "start_time": "2024-12-26T09:34:39.381Z"
   },
   {
    "duration": 14,
    "start_time": "2024-12-26T09:34:39.409Z"
   },
   {
    "duration": 15,
    "start_time": "2024-12-26T09:34:39.427Z"
   },
   {
    "duration": 86,
    "start_time": "2024-12-26T09:34:39.444Z"
   },
   {
    "duration": 3,
    "start_time": "2024-12-26T09:34:39.531Z"
   },
   {
    "duration": 12,
    "start_time": "2024-12-26T09:34:39.536Z"
   },
   {
    "duration": 4,
    "start_time": "2024-12-26T09:34:39.549Z"
   },
   {
    "duration": 8,
    "start_time": "2024-12-26T09:34:39.555Z"
   },
   {
    "duration": 4,
    "start_time": "2024-12-26T09:34:39.567Z"
   },
   {
    "duration": 56,
    "start_time": "2024-12-26T09:34:39.573Z"
   },
   {
    "duration": 14,
    "start_time": "2024-12-26T09:34:39.631Z"
   },
   {
    "duration": 55,
    "start_time": "2024-12-26T09:34:39.647Z"
   },
   {
    "duration": 12,
    "start_time": "2024-12-26T09:34:39.703Z"
   },
   {
    "duration": 22,
    "start_time": "2024-12-26T09:34:39.717Z"
   },
   {
    "duration": 52,
    "start_time": "2024-12-26T09:34:39.741Z"
   },
   {
    "duration": 5,
    "start_time": "2024-12-26T09:34:39.800Z"
   },
   {
    "duration": 19,
    "start_time": "2024-12-26T09:34:39.806Z"
   },
   {
    "duration": 6,
    "start_time": "2024-12-26T09:34:39.826Z"
   },
   {
    "duration": 16,
    "start_time": "2024-12-26T09:34:39.833Z"
   },
   {
    "duration": 11,
    "start_time": "2024-12-26T09:34:39.850Z"
   },
   {
    "duration": 12,
    "start_time": "2024-12-26T09:34:39.863Z"
   },
   {
    "duration": 25,
    "start_time": "2024-12-26T09:34:39.877Z"
   },
   {
    "duration": 9,
    "start_time": "2024-12-26T09:34:39.904Z"
   },
   {
    "duration": 11,
    "start_time": "2024-12-26T09:34:39.914Z"
   },
   {
    "duration": 77,
    "start_time": "2024-12-26T09:45:09.532Z"
   },
   {
    "duration": 17,
    "start_time": "2024-12-26T09:45:09.611Z"
   },
   {
    "duration": 17,
    "start_time": "2024-12-26T09:45:09.630Z"
   },
   {
    "duration": 9,
    "start_time": "2024-12-26T09:45:09.649Z"
   },
   {
    "duration": 64,
    "start_time": "2024-12-26T09:45:09.660Z"
   },
   {
    "duration": 3,
    "start_time": "2024-12-26T09:45:09.725Z"
   },
   {
    "duration": 8,
    "start_time": "2024-12-26T09:45:09.730Z"
   },
   {
    "duration": 5,
    "start_time": "2024-12-26T09:45:09.739Z"
   },
   {
    "duration": 6,
    "start_time": "2024-12-26T09:45:09.745Z"
   },
   {
    "duration": 52,
    "start_time": "2024-12-26T09:45:09.753Z"
   },
   {
    "duration": 30,
    "start_time": "2024-12-26T09:45:09.807Z"
   },
   {
    "duration": 8,
    "start_time": "2024-12-26T09:45:09.839Z"
   },
   {
    "duration": 3,
    "start_time": "2024-12-26T09:45:09.849Z"
   },
   {
    "duration": 49,
    "start_time": "2024-12-26T09:45:09.855Z"
   },
   {
    "duration": 32,
    "start_time": "2024-12-26T09:45:09.906Z"
   },
   {
    "duration": 17,
    "start_time": "2024-12-26T09:45:09.939Z"
   },
   {
    "duration": 4,
    "start_time": "2024-12-26T09:45:09.958Z"
   },
   {
    "duration": 39,
    "start_time": "2024-12-26T09:45:09.963Z"
   },
   {
    "duration": 8,
    "start_time": "2024-12-26T09:45:10.007Z"
   },
   {
    "duration": 10,
    "start_time": "2024-12-26T09:45:10.017Z"
   },
   {
    "duration": 21,
    "start_time": "2024-12-26T09:45:10.029Z"
   },
   {
    "duration": 75,
    "start_time": "2024-12-26T09:45:10.052Z"
   },
   {
    "duration": 0,
    "start_time": "2024-12-26T09:45:10.129Z"
   },
   {
    "duration": 0,
    "start_time": "2024-12-26T09:45:10.131Z"
   },
   {
    "duration": 0,
    "start_time": "2024-12-26T09:45:10.132Z"
   },
   {
    "duration": 76,
    "start_time": "2024-12-26T09:46:48.741Z"
   },
   {
    "duration": 14,
    "start_time": "2024-12-26T09:46:48.819Z"
   },
   {
    "duration": 27,
    "start_time": "2024-12-26T09:46:48.834Z"
   },
   {
    "duration": 9,
    "start_time": "2024-12-26T09:46:48.863Z"
   },
   {
    "duration": 69,
    "start_time": "2024-12-26T09:46:48.874Z"
   },
   {
    "duration": 4,
    "start_time": "2024-12-26T09:46:48.944Z"
   },
   {
    "duration": 8,
    "start_time": "2024-12-26T09:46:48.949Z"
   },
   {
    "duration": 5,
    "start_time": "2024-12-26T09:46:48.959Z"
   },
   {
    "duration": 29,
    "start_time": "2024-12-26T09:46:48.965Z"
   },
   {
    "duration": 5,
    "start_time": "2024-12-26T09:46:49.002Z"
   },
   {
    "duration": 45,
    "start_time": "2024-12-26T09:46:49.009Z"
   },
   {
    "duration": 10,
    "start_time": "2024-12-26T09:46:49.056Z"
   },
   {
    "duration": 34,
    "start_time": "2024-12-26T09:46:49.068Z"
   },
   {
    "duration": 11,
    "start_time": "2024-12-26T09:46:49.104Z"
   },
   {
    "duration": 28,
    "start_time": "2024-12-26T09:46:49.117Z"
   },
   {
    "duration": 20,
    "start_time": "2024-12-26T09:46:49.147Z"
   },
   {
    "duration": 32,
    "start_time": "2024-12-26T09:46:49.169Z"
   },
   {
    "duration": 9,
    "start_time": "2024-12-26T09:46:49.203Z"
   },
   {
    "duration": 5,
    "start_time": "2024-12-26T09:46:49.213Z"
   },
   {
    "duration": 8,
    "start_time": "2024-12-26T09:46:49.219Z"
   },
   {
    "duration": 10,
    "start_time": "2024-12-26T09:46:49.228Z"
   },
   {
    "duration": 19,
    "start_time": "2024-12-26T09:46:49.240Z"
   },
   {
    "duration": 45,
    "start_time": "2024-12-26T09:46:49.261Z"
   },
   {
    "duration": 9,
    "start_time": "2024-12-26T09:46:49.308Z"
   },
   {
    "duration": 10,
    "start_time": "2024-12-26T09:46:49.319Z"
   },
   {
    "duration": 68,
    "start_time": "2024-12-26T09:53:04.706Z"
   },
   {
    "duration": 16,
    "start_time": "2024-12-26T09:53:04.776Z"
   },
   {
    "duration": 33,
    "start_time": "2024-12-26T09:53:04.793Z"
   },
   {
    "duration": 19,
    "start_time": "2024-12-26T09:53:04.828Z"
   },
   {
    "duration": 31,
    "start_time": "2024-12-26T09:53:04.850Z"
   },
   {
    "duration": 23,
    "start_time": "2024-12-26T09:53:04.883Z"
   },
   {
    "duration": 12,
    "start_time": "2024-12-26T09:53:04.908Z"
   },
   {
    "duration": 11,
    "start_time": "2024-12-26T09:53:04.921Z"
   },
   {
    "duration": 12,
    "start_time": "2024-12-26T09:53:04.933Z"
   },
   {
    "duration": 5,
    "start_time": "2024-12-26T09:53:04.946Z"
   },
   {
    "duration": 54,
    "start_time": "2024-12-26T09:53:04.953Z"
   },
   {
    "duration": 9,
    "start_time": "2024-12-26T09:53:05.009Z"
   },
   {
    "duration": 31,
    "start_time": "2024-12-26T09:53:05.020Z"
   },
   {
    "duration": 21,
    "start_time": "2024-12-26T09:53:05.054Z"
   },
   {
    "duration": 52,
    "start_time": "2024-12-26T09:53:05.076Z"
   },
   {
    "duration": 19,
    "start_time": "2024-12-26T09:53:05.130Z"
   },
   {
    "duration": 4,
    "start_time": "2024-12-26T09:53:05.151Z"
   },
   {
    "duration": 11,
    "start_time": "2024-12-26T09:53:05.157Z"
   },
   {
    "duration": 33,
    "start_time": "2024-12-26T09:53:05.169Z"
   },
   {
    "duration": 55,
    "start_time": "2024-12-26T09:53:05.204Z"
   },
   {
    "duration": 49,
    "start_time": "2024-12-26T09:53:05.261Z"
   },
   {
    "duration": 38,
    "start_time": "2024-12-26T09:53:05.312Z"
   },
   {
    "duration": 49,
    "start_time": "2024-12-26T09:53:05.352Z"
   },
   {
    "duration": 48,
    "start_time": "2024-12-26T09:53:05.403Z"
   },
   {
    "duration": 30,
    "start_time": "2024-12-26T09:53:05.453Z"
   },
   {
    "duration": 67,
    "start_time": "2024-12-26T09:53:26.914Z"
   },
   {
    "duration": 28,
    "start_time": "2024-12-26T09:53:26.983Z"
   },
   {
    "duration": 16,
    "start_time": "2024-12-26T09:53:27.013Z"
   },
   {
    "duration": 9,
    "start_time": "2024-12-26T09:53:27.031Z"
   },
   {
    "duration": 47,
    "start_time": "2024-12-26T09:53:27.042Z"
   },
   {
    "duration": 4,
    "start_time": "2024-12-26T09:53:27.103Z"
   },
   {
    "duration": 15,
    "start_time": "2024-12-26T09:53:27.110Z"
   },
   {
    "duration": 4,
    "start_time": "2024-12-26T09:53:27.129Z"
   },
   {
    "duration": 9,
    "start_time": "2024-12-26T09:53:27.134Z"
   },
   {
    "duration": 5,
    "start_time": "2024-12-26T09:53:27.145Z"
   },
   {
    "duration": 62,
    "start_time": "2024-12-26T09:53:27.152Z"
   },
   {
    "duration": 19,
    "start_time": "2024-12-26T09:53:27.216Z"
   },
   {
    "duration": 24,
    "start_time": "2024-12-26T09:53:27.236Z"
   },
   {
    "duration": 12,
    "start_time": "2024-12-26T09:53:27.264Z"
   },
   {
    "duration": 32,
    "start_time": "2024-12-26T09:53:27.278Z"
   },
   {
    "duration": 20,
    "start_time": "2024-12-26T09:53:27.311Z"
   },
   {
    "duration": 3,
    "start_time": "2024-12-26T09:53:27.333Z"
   },
   {
    "duration": 10,
    "start_time": "2024-12-26T09:53:27.338Z"
   },
   {
    "duration": 11,
    "start_time": "2024-12-26T09:53:27.350Z"
   },
   {
    "duration": 36,
    "start_time": "2024-12-26T09:53:27.363Z"
   },
   {
    "duration": 10,
    "start_time": "2024-12-26T09:53:27.400Z"
   },
   {
    "duration": 16,
    "start_time": "2024-12-26T09:53:27.411Z"
   },
   {
    "duration": 10,
    "start_time": "2024-12-26T09:53:27.428Z"
   },
   {
    "duration": 8,
    "start_time": "2024-12-26T09:53:27.439Z"
   },
   {
    "duration": 48,
    "start_time": "2024-12-26T09:53:27.449Z"
   },
   {
    "duration": 81,
    "start_time": "2024-12-26T09:56:01.149Z"
   },
   {
    "duration": 14,
    "start_time": "2024-12-26T09:56:01.232Z"
   },
   {
    "duration": 31,
    "start_time": "2024-12-26T09:56:01.248Z"
   },
   {
    "duration": 31,
    "start_time": "2024-12-26T09:56:01.281Z"
   },
   {
    "duration": 30,
    "start_time": "2024-12-26T09:56:01.314Z"
   },
   {
    "duration": 3,
    "start_time": "2024-12-26T09:56:01.346Z"
   },
   {
    "duration": 52,
    "start_time": "2024-12-26T09:56:01.350Z"
   },
   {
    "duration": 23,
    "start_time": "2024-12-26T09:56:01.404Z"
   },
   {
    "duration": 19,
    "start_time": "2024-12-26T09:56:01.428Z"
   },
   {
    "duration": 21,
    "start_time": "2024-12-26T09:56:01.450Z"
   },
   {
    "duration": 62,
    "start_time": "2024-12-26T09:56:01.473Z"
   },
   {
    "duration": 8,
    "start_time": "2024-12-26T09:56:01.537Z"
   },
   {
    "duration": 53,
    "start_time": "2024-12-26T09:56:01.547Z"
   },
   {
    "duration": 37,
    "start_time": "2024-12-26T09:56:01.602Z"
   },
   {
    "duration": 71,
    "start_time": "2024-12-26T09:56:01.640Z"
   },
   {
    "duration": 19,
    "start_time": "2024-12-26T09:56:01.713Z"
   },
   {
    "duration": 4,
    "start_time": "2024-12-26T09:56:01.733Z"
   },
   {
    "duration": 59,
    "start_time": "2024-12-26T09:56:01.738Z"
   },
   {
    "duration": 30,
    "start_time": "2024-12-26T09:56:01.799Z"
   },
   {
    "duration": 14,
    "start_time": "2024-12-26T09:56:01.831Z"
   },
   {
    "duration": 74,
    "start_time": "2024-12-26T09:56:01.846Z"
   },
   {
    "duration": 50,
    "start_time": "2024-12-26T09:56:01.922Z"
   },
   {
    "duration": 32,
    "start_time": "2024-12-26T09:56:01.974Z"
   },
   {
    "duration": 28,
    "start_time": "2024-12-26T09:56:02.008Z"
   },
   {
    "duration": 21,
    "start_time": "2024-12-26T09:56:02.039Z"
   },
   {
    "duration": 76,
    "start_time": "2024-12-26T09:56:30.764Z"
   },
   {
    "duration": 15,
    "start_time": "2024-12-26T09:56:30.842Z"
   },
   {
    "duration": 42,
    "start_time": "2024-12-26T09:56:30.859Z"
   },
   {
    "duration": 11,
    "start_time": "2024-12-26T09:56:30.904Z"
   },
   {
    "duration": 40,
    "start_time": "2024-12-26T09:56:30.916Z"
   },
   {
    "duration": 3,
    "start_time": "2024-12-26T09:56:30.958Z"
   },
   {
    "duration": 38,
    "start_time": "2024-12-26T09:56:30.963Z"
   },
   {
    "duration": 4,
    "start_time": "2024-12-26T09:56:31.004Z"
   },
   {
    "duration": 40,
    "start_time": "2024-12-26T09:56:31.009Z"
   },
   {
    "duration": 67,
    "start_time": "2024-12-26T09:56:31.051Z"
   },
   {
    "duration": 118,
    "start_time": "2024-12-26T09:56:31.119Z"
   },
   {
    "duration": 98,
    "start_time": "2024-12-26T09:56:31.239Z"
   },
   {
    "duration": 80,
    "start_time": "2024-12-26T09:56:31.339Z"
   },
   {
    "duration": 29,
    "start_time": "2024-12-26T09:56:31.421Z"
   },
   {
    "duration": 62,
    "start_time": "2024-12-26T09:56:31.452Z"
   },
   {
    "duration": 33,
    "start_time": "2024-12-26T09:56:31.516Z"
   },
   {
    "duration": 79,
    "start_time": "2024-12-26T09:56:31.551Z"
   },
   {
    "duration": 72,
    "start_time": "2024-12-26T09:56:31.632Z"
   },
   {
    "duration": 25,
    "start_time": "2024-12-26T09:56:31.705Z"
   },
   {
    "duration": 16,
    "start_time": "2024-12-26T09:56:31.732Z"
   },
   {
    "duration": 55,
    "start_time": "2024-12-26T09:56:31.749Z"
   },
   {
    "duration": 30,
    "start_time": "2024-12-26T09:56:31.807Z"
   },
   {
    "duration": 32,
    "start_time": "2024-12-26T09:56:31.839Z"
   },
   {
    "duration": 55,
    "start_time": "2024-12-26T09:56:31.872Z"
   },
   {
    "duration": 82,
    "start_time": "2024-12-26T09:56:31.928Z"
   },
   {
    "duration": 71,
    "start_time": "2024-12-26T09:58:41.138Z"
   },
   {
    "duration": 15,
    "start_time": "2024-12-26T09:58:41.211Z"
   },
   {
    "duration": 27,
    "start_time": "2024-12-26T09:58:41.228Z"
   },
   {
    "duration": 45,
    "start_time": "2024-12-26T09:58:41.258Z"
   },
   {
    "duration": 31,
    "start_time": "2024-12-26T09:58:41.304Z"
   },
   {
    "duration": 3,
    "start_time": "2024-12-26T09:58:41.337Z"
   },
   {
    "duration": 9,
    "start_time": "2024-12-26T09:58:41.341Z"
   },
   {
    "duration": 4,
    "start_time": "2024-12-26T09:58:41.351Z"
   },
   {
    "duration": 45,
    "start_time": "2024-12-26T09:58:41.356Z"
   },
   {
    "duration": 5,
    "start_time": "2024-12-26T09:58:41.405Z"
   },
   {
    "duration": 33,
    "start_time": "2024-12-26T09:58:41.412Z"
   },
   {
    "duration": 9,
    "start_time": "2024-12-26T09:58:41.447Z"
   },
   {
    "duration": 4,
    "start_time": "2024-12-26T09:58:41.457Z"
   },
   {
    "duration": 42,
    "start_time": "2024-12-26T09:58:41.463Z"
   },
   {
    "duration": 23,
    "start_time": "2024-12-26T09:58:41.507Z"
   },
   {
    "duration": 18,
    "start_time": "2024-12-26T09:58:41.532Z"
   },
   {
    "duration": 22,
    "start_time": "2024-12-26T09:58:41.552Z"
   },
   {
    "duration": 21,
    "start_time": "2024-12-26T09:58:41.575Z"
   },
   {
    "duration": 12,
    "start_time": "2024-12-26T09:58:41.597Z"
   },
   {
    "duration": 11,
    "start_time": "2024-12-26T09:58:41.611Z"
   },
   {
    "duration": 14,
    "start_time": "2024-12-26T09:58:41.624Z"
   },
   {
    "duration": 23,
    "start_time": "2024-12-26T09:58:41.640Z"
   },
   {
    "duration": 37,
    "start_time": "2024-12-26T09:58:41.664Z"
   },
   {
    "duration": 10,
    "start_time": "2024-12-26T09:58:41.703Z"
   },
   {
    "duration": 11,
    "start_time": "2024-12-26T09:58:41.714Z"
   },
   {
    "duration": 68,
    "start_time": "2024-12-26T10:04:54.015Z"
   },
   {
    "duration": 22,
    "start_time": "2024-12-26T10:04:54.084Z"
   },
   {
    "duration": 46,
    "start_time": "2024-12-26T10:04:54.108Z"
   },
   {
    "duration": 26,
    "start_time": "2024-12-26T10:04:54.156Z"
   },
   {
    "duration": 49,
    "start_time": "2024-12-26T10:04:54.183Z"
   },
   {
    "duration": 14,
    "start_time": "2024-12-26T10:04:54.234Z"
   },
   {
    "duration": 54,
    "start_time": "2024-12-26T10:04:54.249Z"
   },
   {
    "duration": 5,
    "start_time": "2024-12-26T10:04:54.305Z"
   },
   {
    "duration": 19,
    "start_time": "2024-12-26T10:04:54.312Z"
   },
   {
    "duration": 5,
    "start_time": "2024-12-26T10:04:54.334Z"
   },
   {
    "duration": 75,
    "start_time": "2024-12-26T10:04:54.341Z"
   },
   {
    "duration": 13,
    "start_time": "2024-12-26T10:04:54.418Z"
   },
   {
    "duration": 23,
    "start_time": "2024-12-26T10:04:54.433Z"
   },
   {
    "duration": 34,
    "start_time": "2024-12-26T10:04:54.458Z"
   },
   {
    "duration": 47,
    "start_time": "2024-12-26T10:04:54.494Z"
   },
   {
    "duration": 38,
    "start_time": "2024-12-26T10:04:54.543Z"
   },
   {
    "duration": 18,
    "start_time": "2024-12-26T10:04:54.582Z"
   },
   {
    "duration": 16,
    "start_time": "2024-12-26T10:04:54.601Z"
   },
   {
    "duration": 25,
    "start_time": "2024-12-26T10:04:54.618Z"
   },
   {
    "duration": 15,
    "start_time": "2024-12-26T10:04:54.645Z"
   },
   {
    "duration": 43,
    "start_time": "2024-12-26T10:04:54.661Z"
   },
   {
    "duration": 79,
    "start_time": "2024-12-26T10:04:54.706Z"
   },
   {
    "duration": 43,
    "start_time": "2024-12-26T10:04:54.786Z"
   },
   {
    "duration": 12,
    "start_time": "2024-12-26T10:04:54.831Z"
   },
   {
    "duration": 40,
    "start_time": "2024-12-26T10:04:54.845Z"
   },
   {
    "duration": 71,
    "start_time": "2024-12-26T10:11:20.718Z"
   },
   {
    "duration": 18,
    "start_time": "2024-12-26T10:11:20.791Z"
   },
   {
    "duration": 36,
    "start_time": "2024-12-26T10:11:20.811Z"
   },
   {
    "duration": 23,
    "start_time": "2024-12-26T10:11:20.850Z"
   },
   {
    "duration": 43,
    "start_time": "2024-12-26T10:11:20.874Z"
   },
   {
    "duration": 4,
    "start_time": "2024-12-26T10:11:20.919Z"
   },
   {
    "duration": 24,
    "start_time": "2024-12-26T10:11:20.924Z"
   },
   {
    "duration": 5,
    "start_time": "2024-12-26T10:11:20.950Z"
   },
   {
    "duration": 7,
    "start_time": "2024-12-26T10:11:20.956Z"
   },
   {
    "duration": 4,
    "start_time": "2024-12-26T10:11:20.965Z"
   },
   {
    "duration": 53,
    "start_time": "2024-12-26T10:11:20.971Z"
   },
   {
    "duration": 14,
    "start_time": "2024-12-26T10:11:21.026Z"
   },
   {
    "duration": 4,
    "start_time": "2024-12-26T10:11:21.041Z"
   },
   {
    "duration": 24,
    "start_time": "2024-12-26T10:11:21.047Z"
   },
   {
    "duration": 41,
    "start_time": "2024-12-26T10:11:21.073Z"
   },
   {
    "duration": 26,
    "start_time": "2024-12-26T10:11:21.116Z"
   },
   {
    "duration": 5,
    "start_time": "2024-12-26T10:11:21.144Z"
   },
   {
    "duration": 19,
    "start_time": "2024-12-26T10:11:21.151Z"
   },
   {
    "duration": 11,
    "start_time": "2024-12-26T10:11:21.190Z"
   },
   {
    "duration": 5,
    "start_time": "2024-12-26T10:11:21.204Z"
   },
   {
    "duration": 37,
    "start_time": "2024-12-26T10:11:21.211Z"
   },
   {
    "duration": 68,
    "start_time": "2024-12-26T10:11:21.249Z"
   },
   {
    "duration": 10,
    "start_time": "2024-12-26T10:11:21.319Z"
   },
   {
    "duration": 10,
    "start_time": "2024-12-26T10:11:21.331Z"
   },
   {
    "duration": 17,
    "start_time": "2024-12-26T10:11:21.342Z"
   },
   {
    "duration": 67,
    "start_time": "2024-12-26T10:11:58.511Z"
   },
   {
    "duration": 23,
    "start_time": "2024-12-26T10:11:58.580Z"
   },
   {
    "duration": 15,
    "start_time": "2024-12-26T10:11:58.605Z"
   },
   {
    "duration": 9,
    "start_time": "2024-12-26T10:11:58.621Z"
   },
   {
    "duration": 68,
    "start_time": "2024-12-26T10:11:58.633Z"
   },
   {
    "duration": 3,
    "start_time": "2024-12-26T10:11:58.703Z"
   },
   {
    "duration": 26,
    "start_time": "2024-12-26T10:11:58.708Z"
   },
   {
    "duration": 9,
    "start_time": "2024-12-26T10:11:58.736Z"
   },
   {
    "duration": 38,
    "start_time": "2024-12-26T10:11:58.747Z"
   },
   {
    "duration": 6,
    "start_time": "2024-12-26T10:11:58.795Z"
   },
   {
    "duration": 50,
    "start_time": "2024-12-26T10:11:58.803Z"
   },
   {
    "duration": 13,
    "start_time": "2024-12-26T10:11:58.855Z"
   },
   {
    "duration": 11,
    "start_time": "2024-12-26T10:11:58.870Z"
   },
   {
    "duration": 22,
    "start_time": "2024-12-26T10:11:58.884Z"
   },
   {
    "duration": 58,
    "start_time": "2024-12-26T10:11:58.908Z"
   },
   {
    "duration": 31,
    "start_time": "2024-12-26T10:11:58.968Z"
   },
   {
    "duration": 5,
    "start_time": "2024-12-26T10:11:59.001Z"
   },
   {
    "duration": 23,
    "start_time": "2024-12-26T10:11:59.007Z"
   },
   {
    "duration": 31,
    "start_time": "2024-12-26T10:11:59.032Z"
   },
   {
    "duration": 11,
    "start_time": "2024-12-26T10:11:59.066Z"
   },
   {
    "duration": 14,
    "start_time": "2024-12-26T10:11:59.079Z"
   },
   {
    "duration": 22,
    "start_time": "2024-12-26T10:11:59.094Z"
   },
   {
    "duration": 12,
    "start_time": "2024-12-26T10:11:59.118Z"
   },
   {
    "duration": 24,
    "start_time": "2024-12-26T10:11:59.131Z"
   },
   {
    "duration": 12,
    "start_time": "2024-12-26T10:11:59.157Z"
   },
   {
    "duration": 67,
    "start_time": "2024-12-26T10:16:44.480Z"
   },
   {
    "duration": 15,
    "start_time": "2024-12-26T10:16:44.548Z"
   },
   {
    "duration": 36,
    "start_time": "2024-12-26T10:16:44.564Z"
   },
   {
    "duration": 12,
    "start_time": "2024-12-26T10:16:44.601Z"
   },
   {
    "duration": 30,
    "start_time": "2024-12-26T10:16:44.614Z"
   },
   {
    "duration": 3,
    "start_time": "2024-12-26T10:16:44.645Z"
   },
   {
    "duration": 30,
    "start_time": "2024-12-26T10:16:44.649Z"
   },
   {
    "duration": 4,
    "start_time": "2024-12-26T10:16:44.681Z"
   },
   {
    "duration": 6,
    "start_time": "2024-12-26T10:16:44.699Z"
   },
   {
    "duration": 5,
    "start_time": "2024-12-26T10:16:44.708Z"
   },
   {
    "duration": 50,
    "start_time": "2024-12-26T10:16:44.714Z"
   },
   {
    "duration": 12,
    "start_time": "2024-12-26T10:16:44.766Z"
   },
   {
    "duration": 7,
    "start_time": "2024-12-26T10:16:44.794Z"
   },
   {
    "duration": 19,
    "start_time": "2024-12-26T10:16:44.802Z"
   },
   {
    "duration": 26,
    "start_time": "2024-12-26T10:16:44.823Z"
   },
   {
    "duration": 19,
    "start_time": "2024-12-26T10:16:44.850Z"
   },
   {
    "duration": 30,
    "start_time": "2024-12-26T10:16:44.870Z"
   },
   {
    "duration": 10,
    "start_time": "2024-12-26T10:16:44.901Z"
   },
   {
    "duration": 25,
    "start_time": "2024-12-26T10:16:44.912Z"
   },
   {
    "duration": 19,
    "start_time": "2024-12-26T10:16:44.938Z"
   },
   {
    "duration": 25,
    "start_time": "2024-12-26T10:16:44.958Z"
   },
   {
    "duration": 43,
    "start_time": "2024-12-26T10:16:44.984Z"
   },
   {
    "duration": 29,
    "start_time": "2024-12-26T10:16:45.029Z"
   },
   {
    "duration": 53,
    "start_time": "2024-12-26T10:16:45.059Z"
   },
   {
    "duration": 24,
    "start_time": "2024-12-26T10:16:45.114Z"
   },
   {
    "duration": 70,
    "start_time": "2024-12-26T10:17:31.621Z"
   },
   {
    "duration": 15,
    "start_time": "2024-12-26T10:17:31.692Z"
   },
   {
    "duration": 41,
    "start_time": "2024-12-26T10:17:31.709Z"
   },
   {
    "duration": 10,
    "start_time": "2024-12-26T10:17:31.753Z"
   },
   {
    "duration": 55,
    "start_time": "2024-12-26T10:17:31.765Z"
   },
   {
    "duration": 4,
    "start_time": "2024-12-26T10:17:31.822Z"
   },
   {
    "duration": 10,
    "start_time": "2024-12-26T10:17:31.827Z"
   },
   {
    "duration": 8,
    "start_time": "2024-12-26T10:17:31.839Z"
   },
   {
    "duration": 52,
    "start_time": "2024-12-26T10:17:31.849Z"
   },
   {
    "duration": 8,
    "start_time": "2024-12-26T10:17:31.903Z"
   },
   {
    "duration": 45,
    "start_time": "2024-12-26T10:17:31.913Z"
   },
   {
    "duration": 14,
    "start_time": "2024-12-26T10:17:31.960Z"
   },
   {
    "duration": 17,
    "start_time": "2024-12-26T10:17:31.976Z"
   },
   {
    "duration": 30,
    "start_time": "2024-12-26T10:17:31.995Z"
   },
   {
    "duration": 126,
    "start_time": "2024-12-26T10:17:32.027Z"
   },
   {
    "duration": 18,
    "start_time": "2024-12-26T10:17:32.155Z"
   },
   {
    "duration": 3,
    "start_time": "2024-12-26T10:17:32.175Z"
   },
   {
    "duration": 14,
    "start_time": "2024-12-26T10:17:32.180Z"
   },
   {
    "duration": 7,
    "start_time": "2024-12-26T10:17:32.195Z"
   },
   {
    "duration": 29,
    "start_time": "2024-12-26T10:17:32.203Z"
   },
   {
    "duration": 10,
    "start_time": "2024-12-26T10:17:32.234Z"
   },
   {
    "duration": 20,
    "start_time": "2024-12-26T10:17:32.245Z"
   },
   {
    "duration": 10,
    "start_time": "2024-12-26T10:17:32.267Z"
   },
   {
    "duration": 20,
    "start_time": "2024-12-26T10:17:32.278Z"
   },
   {
    "duration": 12,
    "start_time": "2024-12-26T10:17:32.300Z"
   },
   {
    "duration": 69,
    "start_time": "2024-12-26T10:18:06.208Z"
   },
   {
    "duration": 21,
    "start_time": "2024-12-26T10:18:06.279Z"
   },
   {
    "duration": 41,
    "start_time": "2024-12-26T10:18:06.302Z"
   },
   {
    "duration": 19,
    "start_time": "2024-12-26T10:18:06.346Z"
   },
   {
    "duration": 83,
    "start_time": "2024-12-26T10:18:06.367Z"
   },
   {
    "duration": 3,
    "start_time": "2024-12-26T10:18:06.452Z"
   },
   {
    "duration": 27,
    "start_time": "2024-12-26T10:18:06.457Z"
   },
   {
    "duration": 26,
    "start_time": "2024-12-26T10:18:06.489Z"
   },
   {
    "duration": 9,
    "start_time": "2024-12-26T10:18:06.517Z"
   },
   {
    "duration": 4,
    "start_time": "2024-12-26T10:18:06.529Z"
   },
   {
    "duration": 31,
    "start_time": "2024-12-26T10:18:06.535Z"
   },
   {
    "duration": 8,
    "start_time": "2024-12-26T10:18:06.568Z"
   },
   {
    "duration": 23,
    "start_time": "2024-12-26T10:18:06.578Z"
   },
   {
    "duration": 40,
    "start_time": "2024-12-26T10:18:06.603Z"
   },
   {
    "duration": 36,
    "start_time": "2024-12-26T10:18:06.644Z"
   },
   {
    "duration": 25,
    "start_time": "2024-12-26T10:18:06.682Z"
   },
   {
    "duration": 4,
    "start_time": "2024-12-26T10:18:06.709Z"
   },
   {
    "duration": 30,
    "start_time": "2024-12-26T10:18:06.715Z"
   },
   {
    "duration": 7,
    "start_time": "2024-12-26T10:18:06.747Z"
   },
   {
    "duration": 21,
    "start_time": "2024-12-26T10:18:06.756Z"
   },
   {
    "duration": 20,
    "start_time": "2024-12-26T10:18:06.779Z"
   },
   {
    "duration": 15,
    "start_time": "2024-12-26T10:18:06.801Z"
   },
   {
    "duration": 9,
    "start_time": "2024-12-26T10:18:06.817Z"
   },
   {
    "duration": 8,
    "start_time": "2024-12-26T10:18:06.828Z"
   },
   {
    "duration": 36,
    "start_time": "2024-12-26T10:18:06.837Z"
   },
   {
    "duration": 83,
    "start_time": "2024-12-26T10:24:09.414Z"
   },
   {
    "duration": 24,
    "start_time": "2024-12-26T10:24:09.504Z"
   },
   {
    "duration": 24,
    "start_time": "2024-12-26T10:24:09.530Z"
   },
   {
    "duration": 9,
    "start_time": "2024-12-26T10:24:09.557Z"
   },
   {
    "duration": 55,
    "start_time": "2024-12-26T10:24:09.568Z"
   },
   {
    "duration": 6,
    "start_time": "2024-12-26T10:24:09.624Z"
   },
   {
    "duration": 25,
    "start_time": "2024-12-26T10:24:09.631Z"
   },
   {
    "duration": 4,
    "start_time": "2024-12-26T10:24:09.658Z"
   },
   {
    "duration": 6,
    "start_time": "2024-12-26T10:24:09.663Z"
   },
   {
    "duration": 27,
    "start_time": "2024-12-26T10:24:09.673Z"
   },
   {
    "duration": 38,
    "start_time": "2024-12-26T10:24:09.702Z"
   },
   {
    "duration": 9,
    "start_time": "2024-12-26T10:24:09.741Z"
   },
   {
    "duration": 17,
    "start_time": "2024-12-26T10:24:09.752Z"
   },
   {
    "duration": 13,
    "start_time": "2024-12-26T10:24:09.771Z"
   },
   {
    "duration": 25,
    "start_time": "2024-12-26T10:24:09.785Z"
   },
   {
    "duration": 19,
    "start_time": "2024-12-26T10:24:09.812Z"
   },
   {
    "duration": 4,
    "start_time": "2024-12-26T10:24:09.832Z"
   },
   {
    "duration": 25,
    "start_time": "2024-12-26T10:24:09.838Z"
   },
   {
    "duration": 7,
    "start_time": "2024-12-26T10:24:09.865Z"
   },
   {
    "duration": 3,
    "start_time": "2024-12-26T10:24:09.873Z"
   },
   {
    "duration": 31,
    "start_time": "2024-12-26T10:24:09.878Z"
   },
   {
    "duration": 73,
    "start_time": "2024-12-26T10:24:09.910Z"
   },
   {
    "duration": 0,
    "start_time": "2024-12-26T10:24:09.984Z"
   },
   {
    "duration": 0,
    "start_time": "2024-12-26T10:24:09.985Z"
   },
   {
    "duration": 0,
    "start_time": "2024-12-26T10:24:09.986Z"
   },
   {
    "duration": 70,
    "start_time": "2024-12-26T10:24:21.503Z"
   },
   {
    "duration": 28,
    "start_time": "2024-12-26T10:24:21.574Z"
   },
   {
    "duration": 19,
    "start_time": "2024-12-26T10:24:21.604Z"
   },
   {
    "duration": 11,
    "start_time": "2024-12-26T10:24:21.626Z"
   },
   {
    "duration": 58,
    "start_time": "2024-12-26T10:24:21.639Z"
   },
   {
    "duration": 7,
    "start_time": "2024-12-26T10:24:21.699Z"
   },
   {
    "duration": 10,
    "start_time": "2024-12-26T10:24:21.708Z"
   },
   {
    "duration": 4,
    "start_time": "2024-12-26T10:24:21.719Z"
   },
   {
    "duration": 6,
    "start_time": "2024-12-26T10:24:21.724Z"
   },
   {
    "duration": 4,
    "start_time": "2024-12-26T10:24:21.732Z"
   },
   {
    "duration": 55,
    "start_time": "2024-12-26T10:24:21.737Z"
   },
   {
    "duration": 9,
    "start_time": "2024-12-26T10:24:21.806Z"
   },
   {
    "duration": 14,
    "start_time": "2024-12-26T10:24:21.817Z"
   },
   {
    "duration": 29,
    "start_time": "2024-12-26T10:24:21.833Z"
   },
   {
    "duration": 18,
    "start_time": "2024-12-26T10:24:21.864Z"
   },
   {
    "duration": 25,
    "start_time": "2024-12-26T10:24:21.884Z"
   },
   {
    "duration": 12,
    "start_time": "2024-12-26T10:24:21.911Z"
   },
   {
    "duration": 23,
    "start_time": "2024-12-26T10:24:21.924Z"
   },
   {
    "duration": 17,
    "start_time": "2024-12-26T10:24:21.949Z"
   },
   {
    "duration": 4,
    "start_time": "2024-12-26T10:24:21.967Z"
   },
   {
    "duration": 8,
    "start_time": "2024-12-26T10:24:21.972Z"
   },
   {
    "duration": 25,
    "start_time": "2024-12-26T10:24:21.982Z"
   },
   {
    "duration": 0,
    "start_time": "2024-12-26T10:24:22.008Z"
   },
   {
    "duration": 0,
    "start_time": "2024-12-26T10:24:22.009Z"
   },
   {
    "duration": 0,
    "start_time": "2024-12-26T10:24:22.010Z"
   },
   {
    "duration": 66,
    "start_time": "2024-12-26T10:24:38.517Z"
   },
   {
    "duration": 25,
    "start_time": "2024-12-26T10:24:38.584Z"
   },
   {
    "duration": 13,
    "start_time": "2024-12-26T10:24:38.610Z"
   },
   {
    "duration": 8,
    "start_time": "2024-12-26T10:24:38.625Z"
   },
   {
    "duration": 58,
    "start_time": "2024-12-26T10:24:38.635Z"
   },
   {
    "duration": 3,
    "start_time": "2024-12-26T10:24:38.700Z"
   },
   {
    "duration": 17,
    "start_time": "2024-12-26T10:24:38.705Z"
   },
   {
    "duration": 3,
    "start_time": "2024-12-26T10:24:38.724Z"
   },
   {
    "duration": 13,
    "start_time": "2024-12-26T10:24:38.728Z"
   },
   {
    "duration": 5,
    "start_time": "2024-12-26T10:24:38.743Z"
   },
   {
    "duration": 48,
    "start_time": "2024-12-26T10:24:38.750Z"
   },
   {
    "duration": 14,
    "start_time": "2024-12-26T10:24:38.800Z"
   },
   {
    "duration": 5,
    "start_time": "2024-12-26T10:24:38.816Z"
   },
   {
    "duration": 16,
    "start_time": "2024-12-26T10:24:38.822Z"
   },
   {
    "duration": 31,
    "start_time": "2024-12-26T10:24:38.839Z"
   },
   {
    "duration": 21,
    "start_time": "2024-12-26T10:24:38.872Z"
   },
   {
    "duration": 7,
    "start_time": "2024-12-26T10:24:38.894Z"
   },
   {
    "duration": 14,
    "start_time": "2024-12-26T10:24:38.903Z"
   },
   {
    "duration": 5,
    "start_time": "2024-12-26T10:24:38.918Z"
   },
   {
    "duration": 8,
    "start_time": "2024-12-26T10:24:38.925Z"
   },
   {
    "duration": 11,
    "start_time": "2024-12-26T10:24:38.935Z"
   },
   {
    "duration": 19,
    "start_time": "2024-12-26T10:24:38.948Z"
   },
   {
    "duration": 29,
    "start_time": "2024-12-26T10:24:38.969Z"
   },
   {
    "duration": 20,
    "start_time": "2024-12-26T10:24:39.000Z"
   },
   {
    "duration": 11,
    "start_time": "2024-12-26T10:24:39.021Z"
   },
   {
    "duration": 66,
    "start_time": "2024-12-26T10:26:51.299Z"
   },
   {
    "duration": 16,
    "start_time": "2024-12-26T10:26:51.368Z"
   },
   {
    "duration": 30,
    "start_time": "2024-12-26T10:26:51.385Z"
   },
   {
    "duration": 24,
    "start_time": "2024-12-26T10:26:51.417Z"
   },
   {
    "duration": 35,
    "start_time": "2024-12-26T10:26:51.443Z"
   },
   {
    "duration": 3,
    "start_time": "2024-12-26T10:26:51.481Z"
   },
   {
    "duration": 17,
    "start_time": "2024-12-26T10:26:51.485Z"
   },
   {
    "duration": 4,
    "start_time": "2024-12-26T10:26:51.504Z"
   },
   {
    "duration": 6,
    "start_time": "2024-12-26T10:26:51.509Z"
   },
   {
    "duration": 27,
    "start_time": "2024-12-26T10:26:51.517Z"
   },
   {
    "duration": 56,
    "start_time": "2024-12-26T10:26:51.545Z"
   },
   {
    "duration": 9,
    "start_time": "2024-12-26T10:26:51.603Z"
   },
   {
    "duration": 9,
    "start_time": "2024-12-26T10:26:51.614Z"
   },
   {
    "duration": 36,
    "start_time": "2024-12-26T10:26:51.625Z"
   },
   {
    "duration": 23,
    "start_time": "2024-12-26T10:26:51.663Z"
   },
   {
    "duration": 34,
    "start_time": "2024-12-26T10:26:51.692Z"
   },
   {
    "duration": 4,
    "start_time": "2024-12-26T10:26:51.728Z"
   },
   {
    "duration": 33,
    "start_time": "2024-12-26T10:26:51.734Z"
   },
   {
    "duration": 12,
    "start_time": "2024-12-26T10:26:51.769Z"
   },
   {
    "duration": 14,
    "start_time": "2024-12-26T10:26:51.783Z"
   },
   {
    "duration": 29,
    "start_time": "2024-12-26T10:26:51.800Z"
   },
   {
    "duration": 12,
    "start_time": "2024-12-26T10:26:51.831Z"
   },
   {
    "duration": 11,
    "start_time": "2024-12-26T10:26:51.844Z"
   },
   {
    "duration": 18,
    "start_time": "2024-12-26T10:26:51.856Z"
   },
   {
    "duration": 9,
    "start_time": "2024-12-26T10:26:51.876Z"
   },
   {
    "duration": 83,
    "start_time": "2024-12-26T10:28:44.943Z"
   },
   {
    "duration": 15,
    "start_time": "2024-12-26T10:28:45.028Z"
   },
   {
    "duration": 27,
    "start_time": "2024-12-26T10:28:45.044Z"
   },
   {
    "duration": 9,
    "start_time": "2024-12-26T10:28:45.073Z"
   },
   {
    "duration": 57,
    "start_time": "2024-12-26T10:28:45.084Z"
   },
   {
    "duration": 3,
    "start_time": "2024-12-26T10:28:45.143Z"
   },
   {
    "duration": 14,
    "start_time": "2024-12-26T10:28:45.147Z"
   },
   {
    "duration": 15,
    "start_time": "2024-12-26T10:28:45.163Z"
   },
   {
    "duration": 36,
    "start_time": "2024-12-26T10:28:45.179Z"
   },
   {
    "duration": 16,
    "start_time": "2024-12-26T10:28:45.217Z"
   },
   {
    "duration": 50,
    "start_time": "2024-12-26T10:28:45.234Z"
   },
   {
    "duration": 36,
    "start_time": "2024-12-26T10:28:45.286Z"
   },
   {
    "duration": 36,
    "start_time": "2024-12-26T10:28:45.324Z"
   },
   {
    "duration": 51,
    "start_time": "2024-12-26T10:28:45.363Z"
   },
   {
    "duration": 28,
    "start_time": "2024-12-26T10:28:45.416Z"
   },
   {
    "duration": 25,
    "start_time": "2024-12-26T10:28:45.446Z"
   },
   {
    "duration": 4,
    "start_time": "2024-12-26T10:28:45.472Z"
   },
   {
    "duration": 37,
    "start_time": "2024-12-26T10:28:45.477Z"
   },
   {
    "duration": 8,
    "start_time": "2024-12-26T10:28:45.519Z"
   },
   {
    "duration": 4,
    "start_time": "2024-12-26T10:28:45.528Z"
   },
   {
    "duration": 18,
    "start_time": "2024-12-26T10:28:45.534Z"
   },
   {
    "duration": 42,
    "start_time": "2024-12-26T10:28:45.554Z"
   },
   {
    "duration": 0,
    "start_time": "2024-12-26T10:28:45.610Z"
   },
   {
    "duration": 0,
    "start_time": "2024-12-26T10:28:45.611Z"
   },
   {
    "duration": 0,
    "start_time": "2024-12-26T10:28:45.612Z"
   },
   {
    "duration": 27,
    "start_time": "2024-12-26T10:30:49.552Z"
   },
   {
    "duration": 14,
    "start_time": "2024-12-26T10:30:55.901Z"
   },
   {
    "duration": 74,
    "start_time": "2024-12-26T10:32:22.931Z"
   },
   {
    "duration": 15,
    "start_time": "2024-12-26T10:32:23.007Z"
   },
   {
    "duration": 26,
    "start_time": "2024-12-26T10:32:23.024Z"
   },
   {
    "duration": 85,
    "start_time": "2024-12-26T10:32:23.052Z"
   },
   {
    "duration": 58,
    "start_time": "2024-12-26T10:32:23.139Z"
   },
   {
    "duration": 5,
    "start_time": "2024-12-26T10:32:23.199Z"
   },
   {
    "duration": 29,
    "start_time": "2024-12-26T10:32:23.205Z"
   },
   {
    "duration": 25,
    "start_time": "2024-12-26T10:32:23.236Z"
   },
   {
    "duration": 23,
    "start_time": "2024-12-26T10:32:23.262Z"
   },
   {
    "duration": 12,
    "start_time": "2024-12-26T10:32:23.291Z"
   },
   {
    "duration": 105,
    "start_time": "2024-12-26T10:32:23.307Z"
   },
   {
    "duration": 14,
    "start_time": "2024-12-26T10:32:23.413Z"
   },
   {
    "duration": 23,
    "start_time": "2024-12-26T10:32:23.428Z"
   },
   {
    "duration": 40,
    "start_time": "2024-12-26T10:32:23.452Z"
   },
   {
    "duration": 45,
    "start_time": "2024-12-26T10:32:23.494Z"
   },
   {
    "duration": 27,
    "start_time": "2024-12-26T10:32:23.541Z"
   },
   {
    "duration": 5,
    "start_time": "2024-12-26T10:32:23.570Z"
   },
   {
    "duration": 37,
    "start_time": "2024-12-26T10:32:23.576Z"
   },
   {
    "duration": 14,
    "start_time": "2024-12-26T10:32:23.614Z"
   },
   {
    "duration": 4,
    "start_time": "2024-12-26T10:32:23.630Z"
   },
   {
    "duration": 39,
    "start_time": "2024-12-26T10:32:23.636Z"
   },
   {
    "duration": 88,
    "start_time": "2024-12-26T10:32:23.676Z"
   },
   {
    "duration": 9,
    "start_time": "2024-12-26T10:32:23.765Z"
   },
   {
    "duration": 26,
    "start_time": "2024-12-26T10:32:23.775Z"
   },
   {
    "duration": 49,
    "start_time": "2024-12-26T10:32:23.802Z"
   },
   {
    "duration": 68,
    "start_time": "2024-12-26T10:35:21.598Z"
   },
   {
    "duration": 15,
    "start_time": "2024-12-26T10:35:21.667Z"
   },
   {
    "duration": 73,
    "start_time": "2024-12-26T10:35:21.683Z"
   },
   {
    "duration": 9,
    "start_time": "2024-12-26T10:35:21.757Z"
   },
   {
    "duration": 40,
    "start_time": "2024-12-26T10:35:21.768Z"
   },
   {
    "duration": 3,
    "start_time": "2024-12-26T10:35:21.810Z"
   },
   {
    "duration": 16,
    "start_time": "2024-12-26T10:35:21.814Z"
   },
   {
    "duration": 5,
    "start_time": "2024-12-26T10:35:21.832Z"
   },
   {
    "duration": 5,
    "start_time": "2024-12-26T10:35:21.838Z"
   },
   {
    "duration": 4,
    "start_time": "2024-12-26T10:35:21.845Z"
   },
   {
    "duration": 68,
    "start_time": "2024-12-26T10:35:21.850Z"
   },
   {
    "duration": 9,
    "start_time": "2024-12-26T10:35:21.920Z"
   },
   {
    "duration": 3,
    "start_time": "2024-12-26T10:35:21.931Z"
   },
   {
    "duration": 66,
    "start_time": "2024-12-26T10:35:21.936Z"
   },
   {
    "duration": 30,
    "start_time": "2024-12-26T10:35:22.004Z"
   },
   {
    "duration": 17,
    "start_time": "2024-12-26T10:35:22.036Z"
   },
   {
    "duration": 3,
    "start_time": "2024-12-26T10:35:22.054Z"
   },
   {
    "duration": 9,
    "start_time": "2024-12-26T10:35:22.059Z"
   },
   {
    "duration": 5,
    "start_time": "2024-12-26T10:35:22.070Z"
   },
   {
    "duration": 4,
    "start_time": "2024-12-26T10:35:22.077Z"
   },
   {
    "duration": 10,
    "start_time": "2024-12-26T10:35:22.082Z"
   },
   {
    "duration": 21,
    "start_time": "2024-12-26T10:35:22.093Z"
   },
   {
    "duration": 10,
    "start_time": "2024-12-26T10:35:22.115Z"
   },
   {
    "duration": 9,
    "start_time": "2024-12-26T10:35:22.126Z"
   },
   {
    "duration": 9,
    "start_time": "2024-12-26T10:35:22.136Z"
   },
   {
    "duration": 69,
    "start_time": "2024-12-26T10:36:04.671Z"
   },
   {
    "duration": 15,
    "start_time": "2024-12-26T10:36:04.742Z"
   },
   {
    "duration": 25,
    "start_time": "2024-12-26T10:36:04.758Z"
   },
   {
    "duration": 32,
    "start_time": "2024-12-26T10:36:04.785Z"
   },
   {
    "duration": 34,
    "start_time": "2024-12-26T10:36:04.818Z"
   },
   {
    "duration": 44,
    "start_time": "2024-12-26T10:36:04.854Z"
   },
   {
    "duration": 21,
    "start_time": "2024-12-26T10:36:04.900Z"
   },
   {
    "duration": 31,
    "start_time": "2024-12-26T10:36:04.922Z"
   },
   {
    "duration": 24,
    "start_time": "2024-12-26T10:36:04.955Z"
   },
   {
    "duration": 24,
    "start_time": "2024-12-26T10:36:04.982Z"
   },
   {
    "duration": 31,
    "start_time": "2024-12-26T10:36:05.007Z"
   },
   {
    "duration": 9,
    "start_time": "2024-12-26T10:36:05.040Z"
   },
   {
    "duration": 12,
    "start_time": "2024-12-26T10:36:05.051Z"
   },
   {
    "duration": 20,
    "start_time": "2024-12-26T10:36:05.064Z"
   },
   {
    "duration": 26,
    "start_time": "2024-12-26T10:36:05.089Z"
   },
   {
    "duration": 19,
    "start_time": "2024-12-26T10:36:05.117Z"
   },
   {
    "duration": 3,
    "start_time": "2024-12-26T10:36:05.138Z"
   },
   {
    "duration": 28,
    "start_time": "2024-12-26T10:36:05.142Z"
   },
   {
    "duration": 27,
    "start_time": "2024-12-26T10:36:05.171Z"
   },
   {
    "duration": 4,
    "start_time": "2024-12-26T10:36:05.201Z"
   },
   {
    "duration": 15,
    "start_time": "2024-12-26T10:36:05.207Z"
   },
   {
    "duration": 28,
    "start_time": "2024-12-26T10:36:05.224Z"
   },
   {
    "duration": 8,
    "start_time": "2024-12-26T10:36:05.254Z"
   },
   {
    "duration": 38,
    "start_time": "2024-12-26T10:36:05.264Z"
   },
   {
    "duration": 22,
    "start_time": "2024-12-26T10:36:05.303Z"
   },
   {
    "duration": 68,
    "start_time": "2024-12-26T10:36:47.034Z"
   },
   {
    "duration": 17,
    "start_time": "2024-12-26T10:36:47.109Z"
   },
   {
    "duration": 36,
    "start_time": "2024-12-26T10:36:47.127Z"
   },
   {
    "duration": 14,
    "start_time": "2024-12-26T10:36:47.166Z"
   },
   {
    "duration": 51,
    "start_time": "2024-12-26T10:36:47.182Z"
   },
   {
    "duration": 4,
    "start_time": "2024-12-26T10:36:47.235Z"
   },
   {
    "duration": 14,
    "start_time": "2024-12-26T10:36:47.249Z"
   },
   {
    "duration": 4,
    "start_time": "2024-12-26T10:36:47.265Z"
   },
   {
    "duration": 26,
    "start_time": "2024-12-26T10:36:47.271Z"
   },
   {
    "duration": 5,
    "start_time": "2024-12-26T10:36:47.302Z"
   },
   {
    "duration": 35,
    "start_time": "2024-12-26T10:36:47.308Z"
   },
   {
    "duration": 10,
    "start_time": "2024-12-26T10:36:47.345Z"
   },
   {
    "duration": 54,
    "start_time": "2024-12-26T10:36:47.357Z"
   },
   {
    "duration": 12,
    "start_time": "2024-12-26T10:36:47.413Z"
   },
   {
    "duration": 19,
    "start_time": "2024-12-26T10:36:47.427Z"
   },
   {
    "duration": 18,
    "start_time": "2024-12-26T10:36:47.448Z"
   },
   {
    "duration": 3,
    "start_time": "2024-12-26T10:36:47.467Z"
   },
   {
    "duration": 10,
    "start_time": "2024-12-26T10:36:47.472Z"
   },
   {
    "duration": 12,
    "start_time": "2024-12-26T10:36:47.483Z"
   },
   {
    "duration": 5,
    "start_time": "2024-12-26T10:36:47.496Z"
   },
   {
    "duration": 11,
    "start_time": "2024-12-26T10:36:47.503Z"
   },
   {
    "duration": 16,
    "start_time": "2024-12-26T10:36:47.515Z"
   },
   {
    "duration": 9,
    "start_time": "2024-12-26T10:36:47.533Z"
   },
   {
    "duration": 10,
    "start_time": "2024-12-26T10:36:47.543Z"
   },
   {
    "duration": 51,
    "start_time": "2024-12-26T10:36:47.554Z"
   },
   {
    "duration": 71,
    "start_time": "2024-12-26T10:39:39.139Z"
   },
   {
    "duration": 13,
    "start_time": "2024-12-26T10:39:39.212Z"
   },
   {
    "duration": 12,
    "start_time": "2024-12-26T10:39:39.227Z"
   },
   {
    "duration": 8,
    "start_time": "2024-12-26T10:39:39.240Z"
   },
   {
    "duration": 60,
    "start_time": "2024-12-26T10:39:39.250Z"
   },
   {
    "duration": 3,
    "start_time": "2024-12-26T10:39:39.312Z"
   },
   {
    "duration": 34,
    "start_time": "2024-12-26T10:39:39.316Z"
   },
   {
    "duration": 62,
    "start_time": "2024-12-26T10:39:39.351Z"
   },
   {
    "duration": 21,
    "start_time": "2024-12-26T10:39:39.415Z"
   },
   {
    "duration": 15,
    "start_time": "2024-12-26T10:39:39.439Z"
   },
   {
    "duration": 51,
    "start_time": "2024-12-26T10:39:39.456Z"
   },
   {
    "duration": 13,
    "start_time": "2024-12-26T10:39:39.510Z"
   },
   {
    "duration": 4,
    "start_time": "2024-12-26T10:39:39.525Z"
   },
   {
    "duration": 14,
    "start_time": "2024-12-26T10:39:39.532Z"
   },
   {
    "duration": 22,
    "start_time": "2024-12-26T10:39:39.547Z"
   },
   {
    "duration": 40,
    "start_time": "2024-12-26T10:39:39.570Z"
   },
   {
    "duration": 3,
    "start_time": "2024-12-26T10:39:39.612Z"
   },
   {
    "duration": 16,
    "start_time": "2024-12-26T10:39:39.617Z"
   },
   {
    "duration": 28,
    "start_time": "2024-12-26T10:39:39.635Z"
   },
   {
    "duration": 4,
    "start_time": "2024-12-26T10:39:39.664Z"
   },
   {
    "duration": 9,
    "start_time": "2024-12-26T10:39:39.669Z"
   },
   {
    "duration": 22,
    "start_time": "2024-12-26T10:39:39.679Z"
   },
   {
    "duration": 36,
    "start_time": "2024-12-26T10:39:39.707Z"
   },
   {
    "duration": 31,
    "start_time": "2024-12-26T10:39:39.745Z"
   },
   {
    "duration": 19,
    "start_time": "2024-12-26T10:39:39.778Z"
   },
   {
    "duration": 78,
    "start_time": "2024-12-26T10:41:01.450Z"
   },
   {
    "duration": 15,
    "start_time": "2024-12-26T10:41:01.530Z"
   },
   {
    "duration": 20,
    "start_time": "2024-12-26T10:41:01.546Z"
   },
   {
    "duration": 18,
    "start_time": "2024-12-26T10:41:01.568Z"
   },
   {
    "duration": 50,
    "start_time": "2024-12-26T10:41:01.588Z"
   },
   {
    "duration": 3,
    "start_time": "2024-12-26T10:41:01.640Z"
   },
   {
    "duration": 26,
    "start_time": "2024-12-26T10:41:01.645Z"
   },
   {
    "duration": 31,
    "start_time": "2024-12-26T10:41:01.672Z"
   },
   {
    "duration": 93,
    "start_time": "2024-12-26T10:41:01.705Z"
   },
   {
    "duration": 15,
    "start_time": "2024-12-26T10:41:01.801Z"
   },
   {
    "duration": 36,
    "start_time": "2024-12-26T10:41:01.817Z"
   },
   {
    "duration": 9,
    "start_time": "2024-12-26T10:41:01.855Z"
   },
   {
    "duration": 9,
    "start_time": "2024-12-26T10:41:01.865Z"
   },
   {
    "duration": 42,
    "start_time": "2024-12-26T10:41:01.875Z"
   },
   {
    "duration": 26,
    "start_time": "2024-12-26T10:41:01.918Z"
   },
   {
    "duration": 17,
    "start_time": "2024-12-26T10:41:01.946Z"
   },
   {
    "duration": 3,
    "start_time": "2024-12-26T10:41:01.965Z"
   },
   {
    "duration": 37,
    "start_time": "2024-12-26T10:41:01.970Z"
   },
   {
    "duration": 11,
    "start_time": "2024-12-26T10:41:02.008Z"
   },
   {
    "duration": 25,
    "start_time": "2024-12-26T10:41:02.021Z"
   },
   {
    "duration": 14,
    "start_time": "2024-12-26T10:41:02.048Z"
   },
   {
    "duration": 37,
    "start_time": "2024-12-26T10:41:02.064Z"
   },
   {
    "duration": 0,
    "start_time": "2024-12-26T10:41:02.103Z"
   },
   {
    "duration": 0,
    "start_time": "2024-12-26T10:41:02.104Z"
   },
   {
    "duration": 0,
    "start_time": "2024-12-26T10:41:02.105Z"
   },
   {
    "duration": 78,
    "start_time": "2024-12-26T10:45:52.272Z"
   },
   {
    "duration": 14,
    "start_time": "2024-12-26T10:45:52.352Z"
   },
   {
    "duration": 17,
    "start_time": "2024-12-26T10:45:52.367Z"
   },
   {
    "duration": 23,
    "start_time": "2024-12-26T10:45:52.386Z"
   },
   {
    "duration": 65,
    "start_time": "2024-12-26T10:45:52.410Z"
   },
   {
    "duration": 4,
    "start_time": "2024-12-26T10:45:52.476Z"
   },
   {
    "duration": 19,
    "start_time": "2024-12-26T10:45:52.481Z"
   },
   {
    "duration": 4,
    "start_time": "2024-12-26T10:45:52.502Z"
   },
   {
    "duration": 22,
    "start_time": "2024-12-26T10:45:52.508Z"
   },
   {
    "duration": 11,
    "start_time": "2024-12-26T10:45:52.533Z"
   },
   {
    "duration": 35,
    "start_time": "2024-12-26T10:45:52.545Z"
   },
   {
    "duration": 19,
    "start_time": "2024-12-26T10:45:52.581Z"
   },
   {
    "duration": 16,
    "start_time": "2024-12-26T10:45:52.602Z"
   },
   {
    "duration": 25,
    "start_time": "2024-12-26T10:45:52.619Z"
   },
   {
    "duration": 26,
    "start_time": "2024-12-26T10:45:52.646Z"
   },
   {
    "duration": 19,
    "start_time": "2024-12-26T10:45:52.673Z"
   },
   {
    "duration": 8,
    "start_time": "2024-12-26T10:45:52.693Z"
   },
   {
    "duration": 10,
    "start_time": "2024-12-26T10:45:52.703Z"
   },
   {
    "duration": 7,
    "start_time": "2024-12-26T10:45:52.715Z"
   },
   {
    "duration": 4,
    "start_time": "2024-12-26T10:45:52.723Z"
   },
   {
    "duration": 10,
    "start_time": "2024-12-26T10:45:52.728Z"
   },
   {
    "duration": 21,
    "start_time": "2024-12-26T10:45:52.740Z"
   },
   {
    "duration": 36,
    "start_time": "2024-12-26T10:45:52.763Z"
   },
   {
    "duration": 9,
    "start_time": "2024-12-26T10:45:52.801Z"
   },
   {
    "duration": 10,
    "start_time": "2024-12-26T10:45:52.812Z"
   },
   {
    "duration": 68,
    "start_time": "2024-12-26T10:48:41.113Z"
   },
   {
    "duration": 21,
    "start_time": "2024-12-26T10:48:41.183Z"
   },
   {
    "duration": 15,
    "start_time": "2024-12-26T10:48:41.206Z"
   },
   {
    "duration": 9,
    "start_time": "2024-12-26T10:48:41.223Z"
   },
   {
    "duration": 31,
    "start_time": "2024-12-26T10:48:41.233Z"
   },
   {
    "duration": 33,
    "start_time": "2024-12-26T10:48:41.266Z"
   },
   {
    "duration": 7,
    "start_time": "2024-12-26T10:48:41.301Z"
   },
   {
    "duration": 3,
    "start_time": "2024-12-26T10:48:41.310Z"
   },
   {
    "duration": 5,
    "start_time": "2024-12-26T10:48:41.315Z"
   },
   {
    "duration": 4,
    "start_time": "2024-12-26T10:48:41.322Z"
   },
   {
    "duration": 41,
    "start_time": "2024-12-26T10:48:41.327Z"
   },
   {
    "duration": 30,
    "start_time": "2024-12-26T10:48:41.370Z"
   },
   {
    "duration": 4,
    "start_time": "2024-12-26T10:48:41.402Z"
   },
   {
    "duration": 57,
    "start_time": "2024-12-26T10:48:41.408Z"
   },
   {
    "duration": 32,
    "start_time": "2024-12-26T10:48:41.467Z"
   },
   {
    "duration": 27,
    "start_time": "2024-12-26T10:48:41.501Z"
   },
   {
    "duration": 4,
    "start_time": "2024-12-26T10:48:41.530Z"
   },
   {
    "duration": 9,
    "start_time": "2024-12-26T10:48:41.535Z"
   },
   {
    "duration": 9,
    "start_time": "2024-12-26T10:48:41.545Z"
   },
   {
    "duration": 4,
    "start_time": "2024-12-26T10:48:41.556Z"
   },
   {
    "duration": 36,
    "start_time": "2024-12-26T10:48:41.561Z"
   },
   {
    "duration": 18,
    "start_time": "2024-12-26T10:48:41.599Z"
   },
   {
    "duration": 9,
    "start_time": "2024-12-26T10:48:41.618Z"
   },
   {
    "duration": 8,
    "start_time": "2024-12-26T10:48:41.629Z"
   },
   {
    "duration": 17,
    "start_time": "2024-12-26T10:48:41.638Z"
   },
   {
    "duration": 76,
    "start_time": "2024-12-26T10:50:13.904Z"
   },
   {
    "duration": 20,
    "start_time": "2024-12-26T10:50:13.982Z"
   },
   {
    "duration": 37,
    "start_time": "2024-12-26T10:50:14.004Z"
   },
   {
    "duration": 30,
    "start_time": "2024-12-26T10:50:14.042Z"
   },
   {
    "duration": 35,
    "start_time": "2024-12-26T10:50:14.074Z"
   },
   {
    "duration": 5,
    "start_time": "2024-12-26T10:50:14.111Z"
   },
   {
    "duration": 32,
    "start_time": "2024-12-26T10:50:14.117Z"
   },
   {
    "duration": 4,
    "start_time": "2024-12-26T10:50:14.151Z"
   },
   {
    "duration": 19,
    "start_time": "2024-12-26T10:50:14.156Z"
   },
   {
    "duration": 64,
    "start_time": "2024-12-26T10:50:14.176Z"
   },
   {
    "duration": 84,
    "start_time": "2024-12-26T10:50:14.242Z"
   },
   {
    "duration": 9,
    "start_time": "2024-12-26T10:50:14.327Z"
   },
   {
    "duration": 69,
    "start_time": "2024-12-26T10:50:14.338Z"
   },
   {
    "duration": 38,
    "start_time": "2024-12-26T10:50:14.411Z"
   },
   {
    "duration": 33,
    "start_time": "2024-12-26T10:50:14.451Z"
   },
   {
    "duration": 28,
    "start_time": "2024-12-26T10:50:14.485Z"
   },
   {
    "duration": 5,
    "start_time": "2024-12-26T10:50:14.515Z"
   },
   {
    "duration": 21,
    "start_time": "2024-12-26T10:50:14.522Z"
   },
   {
    "duration": 16,
    "start_time": "2024-12-26T10:50:14.544Z"
   },
   {
    "duration": 4,
    "start_time": "2024-12-26T10:50:14.562Z"
   },
   {
    "duration": 16,
    "start_time": "2024-12-26T10:50:14.567Z"
   },
   {
    "duration": 67,
    "start_time": "2024-12-26T10:50:14.584Z"
   },
   {
    "duration": 0,
    "start_time": "2024-12-26T10:50:14.652Z"
   },
   {
    "duration": 0,
    "start_time": "2024-12-26T10:50:14.654Z"
   },
   {
    "duration": 0,
    "start_time": "2024-12-26T10:50:14.655Z"
   },
   {
    "duration": 78,
    "start_time": "2024-12-26T10:50:30.523Z"
   },
   {
    "duration": 21,
    "start_time": "2024-12-26T10:50:30.603Z"
   },
   {
    "duration": 33,
    "start_time": "2024-12-26T10:50:30.626Z"
   },
   {
    "duration": 38,
    "start_time": "2024-12-26T10:50:30.661Z"
   },
   {
    "duration": 58,
    "start_time": "2024-12-26T10:50:30.701Z"
   },
   {
    "duration": 3,
    "start_time": "2024-12-26T10:50:30.761Z"
   },
   {
    "duration": 41,
    "start_time": "2024-12-26T10:50:30.766Z"
   },
   {
    "duration": 22,
    "start_time": "2024-12-26T10:50:30.808Z"
   },
   {
    "duration": 7,
    "start_time": "2024-12-26T10:50:30.832Z"
   },
   {
    "duration": 18,
    "start_time": "2024-12-26T10:50:30.842Z"
   },
   {
    "duration": 40,
    "start_time": "2024-12-26T10:50:30.862Z"
   },
   {
    "duration": 15,
    "start_time": "2024-12-26T10:50:30.904Z"
   },
   {
    "duration": 61,
    "start_time": "2024-12-26T10:50:30.921Z"
   },
   {
    "duration": 29,
    "start_time": "2024-12-26T10:50:30.984Z"
   },
   {
    "duration": 44,
    "start_time": "2024-12-26T10:50:31.015Z"
   },
   {
    "duration": 20,
    "start_time": "2024-12-26T10:50:31.061Z"
   },
   {
    "duration": 26,
    "start_time": "2024-12-26T10:50:31.083Z"
   },
   {
    "duration": 48,
    "start_time": "2024-12-26T10:50:31.110Z"
   },
   {
    "duration": 31,
    "start_time": "2024-12-26T10:50:31.160Z"
   },
   {
    "duration": 40,
    "start_time": "2024-12-26T10:50:31.192Z"
   },
   {
    "duration": 36,
    "start_time": "2024-12-26T10:50:31.233Z"
   },
   {
    "duration": 93,
    "start_time": "2024-12-26T10:50:31.271Z"
   },
   {
    "duration": 0,
    "start_time": "2024-12-26T10:50:31.365Z"
   },
   {
    "duration": 0,
    "start_time": "2024-12-26T10:50:31.366Z"
   },
   {
    "duration": 0,
    "start_time": "2024-12-26T10:50:31.368Z"
   },
   {
    "duration": 68,
    "start_time": "2024-12-26T10:51:08.575Z"
   },
   {
    "duration": 14,
    "start_time": "2024-12-26T10:51:08.645Z"
   },
   {
    "duration": 16,
    "start_time": "2024-12-26T10:51:08.661Z"
   },
   {
    "duration": 26,
    "start_time": "2024-12-26T10:51:08.679Z"
   },
   {
    "duration": 36,
    "start_time": "2024-12-26T10:51:08.706Z"
   },
   {
    "duration": 3,
    "start_time": "2024-12-26T10:51:08.744Z"
   },
   {
    "duration": 7,
    "start_time": "2024-12-26T10:51:08.749Z"
   },
   {
    "duration": 5,
    "start_time": "2024-12-26T10:51:08.757Z"
   },
   {
    "duration": 7,
    "start_time": "2024-12-26T10:51:08.763Z"
   },
   {
    "duration": 19,
    "start_time": "2024-12-26T10:51:08.773Z"
   },
   {
    "duration": 33,
    "start_time": "2024-12-26T10:51:08.799Z"
   },
   {
    "duration": 10,
    "start_time": "2024-12-26T10:51:08.834Z"
   },
   {
    "duration": 4,
    "start_time": "2024-12-26T10:51:08.845Z"
   },
   {
    "duration": 25,
    "start_time": "2024-12-26T10:51:08.851Z"
   },
   {
    "duration": 26,
    "start_time": "2024-12-26T10:51:08.878Z"
   },
   {
    "duration": 42,
    "start_time": "2024-12-26T10:51:08.906Z"
   },
   {
    "duration": 81,
    "start_time": "2024-12-26T10:51:08.950Z"
   },
   {
    "duration": 21,
    "start_time": "2024-12-26T10:51:09.033Z"
   },
   {
    "duration": 6,
    "start_time": "2024-12-26T10:51:09.055Z"
   },
   {
    "duration": 3,
    "start_time": "2024-12-26T10:51:09.062Z"
   },
   {
    "duration": 10,
    "start_time": "2024-12-26T10:51:09.066Z"
   },
   {
    "duration": 22,
    "start_time": "2024-12-26T10:51:09.078Z"
   },
   {
    "duration": 20,
    "start_time": "2024-12-26T10:51:09.101Z"
   },
   {
    "duration": 11,
    "start_time": "2024-12-26T10:51:09.123Z"
   },
   {
    "duration": 12,
    "start_time": "2024-12-26T10:51:09.136Z"
   },
   {
    "duration": 84,
    "start_time": "2024-12-26T10:52:24.066Z"
   },
   {
    "duration": 15,
    "start_time": "2024-12-26T10:52:24.152Z"
   },
   {
    "duration": 51,
    "start_time": "2024-12-26T10:52:24.168Z"
   },
   {
    "duration": 30,
    "start_time": "2024-12-26T10:52:24.221Z"
   },
   {
    "duration": 33,
    "start_time": "2024-12-26T10:52:24.253Z"
   },
   {
    "duration": 7,
    "start_time": "2024-12-26T10:52:24.290Z"
   },
   {
    "duration": 19,
    "start_time": "2024-12-26T10:52:24.299Z"
   },
   {
    "duration": 4,
    "start_time": "2024-12-26T10:52:24.320Z"
   },
   {
    "duration": 8,
    "start_time": "2024-12-26T10:52:24.326Z"
   },
   {
    "duration": 41,
    "start_time": "2024-12-26T10:52:24.336Z"
   },
   {
    "duration": 51,
    "start_time": "2024-12-26T10:52:24.379Z"
   },
   {
    "duration": 23,
    "start_time": "2024-12-26T10:52:24.432Z"
   },
   {
    "duration": 15,
    "start_time": "2024-12-26T10:52:24.456Z"
   },
   {
    "duration": 31,
    "start_time": "2024-12-26T10:52:24.473Z"
   },
   {
    "duration": 37,
    "start_time": "2024-12-26T10:52:24.506Z"
   },
   {
    "duration": 18,
    "start_time": "2024-12-26T10:52:24.545Z"
   },
   {
    "duration": 3,
    "start_time": "2024-12-26T10:52:24.565Z"
   },
   {
    "duration": 10,
    "start_time": "2024-12-26T10:52:24.570Z"
   },
   {
    "duration": 40,
    "start_time": "2024-12-26T10:52:24.582Z"
   },
   {
    "duration": 4,
    "start_time": "2024-12-26T10:52:24.624Z"
   },
   {
    "duration": 9,
    "start_time": "2024-12-26T10:52:24.630Z"
   },
   {
    "duration": 1108,
    "start_time": "2024-12-26T10:52:24.640Z"
   },
   {
    "duration": 0,
    "start_time": "2024-12-26T10:52:25.749Z"
   },
   {
    "duration": 0,
    "start_time": "2024-12-26T10:52:25.751Z"
   },
   {
    "duration": 0,
    "start_time": "2024-12-26T10:52:25.751Z"
   },
   {
    "duration": 69,
    "start_time": "2024-12-26T10:53:37.418Z"
   },
   {
    "duration": 19,
    "start_time": "2024-12-26T10:53:37.489Z"
   },
   {
    "duration": 22,
    "start_time": "2024-12-26T10:53:37.510Z"
   },
   {
    "duration": 8,
    "start_time": "2024-12-26T10:53:37.534Z"
   },
   {
    "duration": 53,
    "start_time": "2024-12-26T10:53:37.544Z"
   },
   {
    "duration": 4,
    "start_time": "2024-12-26T10:53:37.603Z"
   },
   {
    "duration": 11,
    "start_time": "2024-12-26T10:53:37.610Z"
   },
   {
    "duration": 6,
    "start_time": "2024-12-26T10:53:37.622Z"
   },
   {
    "duration": 9,
    "start_time": "2024-12-26T10:53:37.629Z"
   },
   {
    "duration": 9,
    "start_time": "2024-12-26T10:53:37.642Z"
   },
   {
    "duration": 50,
    "start_time": "2024-12-26T10:53:37.652Z"
   },
   {
    "duration": 9,
    "start_time": "2024-12-26T10:53:37.704Z"
   },
   {
    "duration": 3,
    "start_time": "2024-12-26T10:53:37.715Z"
   },
   {
    "duration": 14,
    "start_time": "2024-12-26T10:53:37.719Z"
   },
   {
    "duration": 19,
    "start_time": "2024-12-26T10:53:37.734Z"
   },
   {
    "duration": 51,
    "start_time": "2024-12-26T10:53:37.754Z"
   },
   {
    "duration": 5,
    "start_time": "2024-12-26T10:53:37.807Z"
   },
   {
    "duration": 14,
    "start_time": "2024-12-26T10:53:37.813Z"
   },
   {
    "duration": 7,
    "start_time": "2024-12-26T10:53:37.828Z"
   },
   {
    "duration": 5,
    "start_time": "2024-12-26T10:53:37.837Z"
   },
   {
    "duration": 13,
    "start_time": "2024-12-26T10:53:37.844Z"
   },
   {
    "duration": 43,
    "start_time": "2024-12-26T10:53:37.859Z"
   },
   {
    "duration": 13,
    "start_time": "2024-12-26T10:53:37.905Z"
   },
   {
    "duration": 11,
    "start_time": "2024-12-26T10:53:37.920Z"
   },
   {
    "duration": 13,
    "start_time": "2024-12-26T10:53:37.933Z"
   },
   {
    "duration": 83,
    "start_time": "2024-12-26T10:54:39.364Z"
   },
   {
    "duration": 22,
    "start_time": "2024-12-26T10:54:39.450Z"
   },
   {
    "duration": 30,
    "start_time": "2024-12-26T10:54:39.474Z"
   },
   {
    "duration": 10,
    "start_time": "2024-12-26T10:54:39.509Z"
   },
   {
    "duration": 47,
    "start_time": "2024-12-26T10:54:39.520Z"
   },
   {
    "duration": 3,
    "start_time": "2024-12-26T10:54:39.568Z"
   },
   {
    "duration": 10,
    "start_time": "2024-12-26T10:54:39.572Z"
   },
   {
    "duration": 15,
    "start_time": "2024-12-26T10:54:39.584Z"
   },
   {
    "duration": 18,
    "start_time": "2024-12-26T10:54:39.601Z"
   },
   {
    "duration": 4,
    "start_time": "2024-12-26T10:54:39.621Z"
   },
   {
    "duration": 31,
    "start_time": "2024-12-26T10:54:39.627Z"
   },
   {
    "duration": 9,
    "start_time": "2024-12-26T10:54:39.660Z"
   },
   {
    "duration": 3,
    "start_time": "2024-12-26T10:54:39.670Z"
   },
   {
    "duration": 13,
    "start_time": "2024-12-26T10:54:39.694Z"
   },
   {
    "duration": 22,
    "start_time": "2024-12-26T10:54:39.709Z"
   },
   {
    "duration": 20,
    "start_time": "2024-12-26T10:54:39.733Z"
   },
   {
    "duration": 4,
    "start_time": "2024-12-26T10:54:39.755Z"
   },
   {
    "duration": 44,
    "start_time": "2024-12-26T10:54:39.761Z"
   },
   {
    "duration": 27,
    "start_time": "2024-12-26T10:54:39.806Z"
   },
   {
    "duration": 15,
    "start_time": "2024-12-26T10:54:39.834Z"
   },
   {
    "duration": 9,
    "start_time": "2024-12-26T10:54:39.851Z"
   },
   {
    "duration": 18,
    "start_time": "2024-12-26T10:54:39.861Z"
   },
   {
    "duration": 21,
    "start_time": "2024-12-26T10:54:39.881Z"
   },
   {
    "duration": 12,
    "start_time": "2024-12-26T10:54:39.904Z"
   },
   {
    "duration": 21,
    "start_time": "2024-12-26T10:54:39.918Z"
   },
   {
    "duration": 76,
    "start_time": "2024-12-26T10:55:38.957Z"
   },
   {
    "duration": 15,
    "start_time": "2024-12-26T10:55:39.035Z"
   },
   {
    "duration": 15,
    "start_time": "2024-12-26T10:55:39.052Z"
   },
   {
    "duration": 13,
    "start_time": "2024-12-26T10:55:39.088Z"
   },
   {
    "duration": 33,
    "start_time": "2024-12-26T10:55:39.103Z"
   },
   {
    "duration": 4,
    "start_time": "2024-12-26T10:55:39.137Z"
   },
   {
    "duration": 12,
    "start_time": "2024-12-26T10:55:39.142Z"
   },
   {
    "duration": 6,
    "start_time": "2024-12-26T10:55:39.155Z"
   },
   {
    "duration": 12,
    "start_time": "2024-12-26T10:55:39.163Z"
   },
   {
    "duration": 26,
    "start_time": "2024-12-26T10:55:39.177Z"
   },
   {
    "duration": 42,
    "start_time": "2024-12-26T10:55:39.205Z"
   },
   {
    "duration": 9,
    "start_time": "2024-12-26T10:55:39.248Z"
   },
   {
    "duration": 3,
    "start_time": "2024-12-26T10:55:39.259Z"
   },
   {
    "duration": 33,
    "start_time": "2024-12-26T10:55:39.264Z"
   },
   {
    "duration": 22,
    "start_time": "2024-12-26T10:55:39.301Z"
   },
   {
    "duration": 20,
    "start_time": "2024-12-26T10:55:39.325Z"
   },
   {
    "duration": 7,
    "start_time": "2024-12-26T10:55:39.347Z"
   },
   {
    "duration": 14,
    "start_time": "2024-12-26T10:55:39.355Z"
   },
   {
    "duration": 10,
    "start_time": "2024-12-26T10:55:39.370Z"
   },
   {
    "duration": 6,
    "start_time": "2024-12-26T10:55:39.393Z"
   },
   {
    "duration": 15,
    "start_time": "2024-12-26T10:55:39.400Z"
   },
   {
    "duration": 1091,
    "start_time": "2024-12-26T10:55:39.417Z"
   },
   {
    "duration": 0,
    "start_time": "2024-12-26T10:55:40.510Z"
   },
   {
    "duration": 0,
    "start_time": "2024-12-26T10:55:40.511Z"
   },
   {
    "duration": 0,
    "start_time": "2024-12-26T10:55:40.512Z"
   },
   {
    "duration": 79,
    "start_time": "2024-12-26T10:56:00.562Z"
   },
   {
    "duration": 13,
    "start_time": "2024-12-26T10:56:00.643Z"
   },
   {
    "duration": 14,
    "start_time": "2024-12-26T10:56:00.658Z"
   },
   {
    "duration": 43,
    "start_time": "2024-12-26T10:56:00.674Z"
   },
   {
    "duration": 33,
    "start_time": "2024-12-26T10:56:00.719Z"
   },
   {
    "duration": 15,
    "start_time": "2024-12-26T10:56:00.754Z"
   },
   {
    "duration": 29,
    "start_time": "2024-12-26T10:56:00.771Z"
   },
   {
    "duration": 28,
    "start_time": "2024-12-26T10:56:00.802Z"
   },
   {
    "duration": 14,
    "start_time": "2024-12-26T10:56:00.831Z"
   },
   {
    "duration": 6,
    "start_time": "2024-12-26T10:56:00.846Z"
   },
   {
    "duration": 48,
    "start_time": "2024-12-26T10:56:00.853Z"
   },
   {
    "duration": 10,
    "start_time": "2024-12-26T10:56:00.902Z"
   },
   {
    "duration": 63,
    "start_time": "2024-12-26T10:56:00.913Z"
   },
   {
    "duration": 27,
    "start_time": "2024-12-26T10:56:00.979Z"
   },
   {
    "duration": 20,
    "start_time": "2024-12-26T10:56:01.007Z"
   },
   {
    "duration": 23,
    "start_time": "2024-12-26T10:56:01.028Z"
   },
   {
    "duration": 3,
    "start_time": "2024-12-26T10:56:01.052Z"
   },
   {
    "duration": 14,
    "start_time": "2024-12-26T10:56:01.057Z"
   },
   {
    "duration": 12,
    "start_time": "2024-12-26T10:56:01.072Z"
   },
   {
    "duration": 12,
    "start_time": "2024-12-26T10:56:01.086Z"
   },
   {
    "duration": 19,
    "start_time": "2024-12-26T10:56:01.099Z"
   },
   {
    "duration": 22,
    "start_time": "2024-12-26T10:56:01.120Z"
   },
   {
    "duration": 10,
    "start_time": "2024-12-26T10:56:01.143Z"
   },
   {
    "duration": 8,
    "start_time": "2024-12-26T10:56:01.154Z"
   },
   {
    "duration": 37,
    "start_time": "2024-12-26T10:56:01.163Z"
   },
   {
    "duration": 72,
    "start_time": "2024-12-26T10:56:56.541Z"
   },
   {
    "duration": 15,
    "start_time": "2024-12-26T10:56:56.615Z"
   },
   {
    "duration": 19,
    "start_time": "2024-12-26T10:56:56.632Z"
   },
   {
    "duration": 11,
    "start_time": "2024-12-26T10:56:56.652Z"
   },
   {
    "duration": 51,
    "start_time": "2024-12-26T10:56:56.664Z"
   },
   {
    "duration": 3,
    "start_time": "2024-12-26T10:56:56.717Z"
   },
   {
    "duration": 10,
    "start_time": "2024-12-26T10:56:56.722Z"
   },
   {
    "duration": 4,
    "start_time": "2024-12-26T10:56:56.734Z"
   },
   {
    "duration": 13,
    "start_time": "2024-12-26T10:56:56.739Z"
   },
   {
    "duration": 7,
    "start_time": "2024-12-26T10:56:56.754Z"
   },
   {
    "duration": 56,
    "start_time": "2024-12-26T10:56:56.763Z"
   },
   {
    "duration": 8,
    "start_time": "2024-12-26T10:56:56.821Z"
   },
   {
    "duration": 8,
    "start_time": "2024-12-26T10:56:56.831Z"
   },
   {
    "duration": 19,
    "start_time": "2024-12-26T10:56:56.840Z"
   },
   {
    "duration": 19,
    "start_time": "2024-12-26T10:56:56.860Z"
   },
   {
    "duration": 33,
    "start_time": "2024-12-26T10:56:56.880Z"
   },
   {
    "duration": 4,
    "start_time": "2024-12-26T10:56:56.914Z"
   },
   {
    "duration": 82,
    "start_time": "2024-12-26T10:56:56.919Z"
   },
   {
    "duration": 8,
    "start_time": "2024-12-26T10:56:57.003Z"
   },
   {
    "duration": 4,
    "start_time": "2024-12-26T10:56:57.012Z"
   },
   {
    "duration": 8,
    "start_time": "2024-12-26T10:56:57.018Z"
   },
   {
    "duration": 17,
    "start_time": "2024-12-26T10:56:57.028Z"
   },
   {
    "duration": 10,
    "start_time": "2024-12-26T10:56:57.046Z"
   },
   {
    "duration": 45,
    "start_time": "2024-12-26T10:56:57.057Z"
   },
   {
    "duration": 13,
    "start_time": "2024-12-26T10:56:57.104Z"
   },
   {
    "duration": 69,
    "start_time": "2024-12-26T10:57:19.200Z"
   },
   {
    "duration": 18,
    "start_time": "2024-12-26T10:57:19.271Z"
   },
   {
    "duration": 14,
    "start_time": "2024-12-26T10:57:19.298Z"
   },
   {
    "duration": 9,
    "start_time": "2024-12-26T10:57:19.313Z"
   },
   {
    "duration": 39,
    "start_time": "2024-12-26T10:57:19.324Z"
   },
   {
    "duration": 4,
    "start_time": "2024-12-26T10:57:19.364Z"
   },
   {
    "duration": 11,
    "start_time": "2024-12-26T10:57:19.369Z"
   },
   {
    "duration": 19,
    "start_time": "2024-12-26T10:57:19.381Z"
   },
   {
    "duration": 7,
    "start_time": "2024-12-26T10:57:19.401Z"
   },
   {
    "duration": 4,
    "start_time": "2024-12-26T10:57:19.410Z"
   },
   {
    "duration": 81,
    "start_time": "2024-12-26T10:57:19.416Z"
   },
   {
    "duration": 14,
    "start_time": "2024-12-26T10:57:19.510Z"
   },
   {
    "duration": 5,
    "start_time": "2024-12-26T10:57:19.525Z"
   },
   {
    "duration": 22,
    "start_time": "2024-12-26T10:57:19.532Z"
   },
   {
    "duration": 23,
    "start_time": "2024-12-26T10:57:19.556Z"
   },
   {
    "duration": 33,
    "start_time": "2024-12-26T10:57:19.580Z"
   },
   {
    "duration": 4,
    "start_time": "2024-12-26T10:57:19.615Z"
   },
   {
    "duration": 12,
    "start_time": "2024-12-26T10:57:19.620Z"
   },
   {
    "duration": 12,
    "start_time": "2024-12-26T10:57:19.634Z"
   },
   {
    "duration": 4,
    "start_time": "2024-12-26T10:57:19.647Z"
   },
   {
    "duration": 9,
    "start_time": "2024-12-26T10:57:19.652Z"
   },
   {
    "duration": 53,
    "start_time": "2024-12-26T10:57:19.662Z"
   },
   {
    "duration": 13,
    "start_time": "2024-12-26T10:57:19.717Z"
   },
   {
    "duration": 11,
    "start_time": "2024-12-26T10:57:19.732Z"
   },
   {
    "duration": 12,
    "start_time": "2024-12-26T10:57:19.745Z"
   },
   {
    "duration": 80,
    "start_time": "2024-12-26T10:59:59.377Z"
   },
   {
    "duration": 22,
    "start_time": "2024-12-26T10:59:59.460Z"
   },
   {
    "duration": 56,
    "start_time": "2024-12-26T10:59:59.484Z"
   },
   {
    "duration": 16,
    "start_time": "2024-12-26T10:59:59.541Z"
   },
   {
    "duration": 43,
    "start_time": "2024-12-26T10:59:59.559Z"
   },
   {
    "duration": 4,
    "start_time": "2024-12-26T10:59:59.603Z"
   },
   {
    "duration": 9,
    "start_time": "2024-12-26T10:59:59.609Z"
   },
   {
    "duration": 4,
    "start_time": "2024-12-26T10:59:59.620Z"
   },
   {
    "duration": 9,
    "start_time": "2024-12-26T10:59:59.625Z"
   },
   {
    "duration": 14,
    "start_time": "2024-12-26T10:59:59.635Z"
   },
   {
    "duration": 39,
    "start_time": "2024-12-26T10:59:59.650Z"
   },
   {
    "duration": 14,
    "start_time": "2024-12-26T10:59:59.691Z"
   },
   {
    "duration": 3,
    "start_time": "2024-12-26T10:59:59.707Z"
   },
   {
    "duration": 13,
    "start_time": "2024-12-26T10:59:59.713Z"
   },
   {
    "duration": 23,
    "start_time": "2024-12-26T10:59:59.727Z"
   },
   {
    "duration": 18,
    "start_time": "2024-12-26T10:59:59.752Z"
   },
   {
    "duration": 26,
    "start_time": "2024-12-26T10:59:59.772Z"
   },
   {
    "duration": 69,
    "start_time": "2024-12-26T10:59:59.800Z"
   },
   {
    "duration": 11,
    "start_time": "2024-12-26T10:59:59.871Z"
   },
   {
    "duration": 6,
    "start_time": "2024-12-26T10:59:59.883Z"
   },
   {
    "duration": 11,
    "start_time": "2024-12-26T10:59:59.890Z"
   },
   {
    "duration": 28,
    "start_time": "2024-12-26T10:59:59.906Z"
   },
   {
    "duration": 9,
    "start_time": "2024-12-26T10:59:59.936Z"
   },
   {
    "duration": 8,
    "start_time": "2024-12-26T10:59:59.946Z"
   },
   {
    "duration": 20,
    "start_time": "2024-12-26T10:59:59.956Z"
   },
   {
    "duration": 68,
    "start_time": "2024-12-26T11:20:44.002Z"
   },
   {
    "duration": 22,
    "start_time": "2024-12-26T11:20:44.072Z"
   },
   {
    "duration": 18,
    "start_time": "2024-12-26T11:20:44.103Z"
   },
   {
    "duration": 9,
    "start_time": "2024-12-26T11:20:44.123Z"
   },
   {
    "duration": 33,
    "start_time": "2024-12-26T11:20:44.134Z"
   },
   {
    "duration": 3,
    "start_time": "2024-12-26T11:20:44.168Z"
   },
   {
    "duration": 34,
    "start_time": "2024-12-26T11:20:44.173Z"
   },
   {
    "duration": 5,
    "start_time": "2024-12-26T11:20:44.209Z"
   },
   {
    "duration": 18,
    "start_time": "2024-12-26T11:20:44.215Z"
   },
   {
    "duration": 12,
    "start_time": "2024-12-26T11:20:44.236Z"
   },
   {
    "duration": 32,
    "start_time": "2024-12-26T11:20:44.250Z"
   },
   {
    "duration": 18,
    "start_time": "2024-12-26T11:20:44.284Z"
   },
   {
    "duration": 4,
    "start_time": "2024-12-26T11:20:44.304Z"
   },
   {
    "duration": 10,
    "start_time": "2024-12-26T11:20:44.310Z"
   },
   {
    "duration": 19,
    "start_time": "2024-12-26T11:20:44.321Z"
   },
   {
    "duration": 19,
    "start_time": "2024-12-26T11:20:44.342Z"
   },
   {
    "duration": 35,
    "start_time": "2024-12-26T11:20:44.363Z"
   },
   {
    "duration": 21,
    "start_time": "2024-12-26T11:20:44.400Z"
   },
   {
    "duration": 42,
    "start_time": "2024-12-26T11:20:44.423Z"
   },
   {
    "duration": 14,
    "start_time": "2024-12-26T11:20:44.467Z"
   },
   {
    "duration": 28,
    "start_time": "2024-12-26T11:20:44.483Z"
   },
   {
    "duration": 1031,
    "start_time": "2024-12-26T11:20:44.513Z"
   },
   {
    "duration": 0,
    "start_time": "2024-12-26T11:20:45.546Z"
   },
   {
    "duration": 0,
    "start_time": "2024-12-26T11:20:45.547Z"
   },
   {
    "duration": 0,
    "start_time": "2024-12-26T11:20:45.548Z"
   },
   {
    "duration": 74,
    "start_time": "2024-12-26T11:20:55.826Z"
   },
   {
    "duration": 14,
    "start_time": "2024-12-26T11:20:55.903Z"
   },
   {
    "duration": 20,
    "start_time": "2024-12-26T11:20:55.919Z"
   },
   {
    "duration": 20,
    "start_time": "2024-12-26T11:20:55.941Z"
   },
   {
    "duration": 59,
    "start_time": "2024-12-26T11:20:55.963Z"
   },
   {
    "duration": 3,
    "start_time": "2024-12-26T11:20:56.024Z"
   },
   {
    "duration": 22,
    "start_time": "2024-12-26T11:20:56.029Z"
   },
   {
    "duration": 5,
    "start_time": "2024-12-26T11:20:56.052Z"
   },
   {
    "duration": 7,
    "start_time": "2024-12-26T11:20:56.059Z"
   },
   {
    "duration": 6,
    "start_time": "2024-12-26T11:20:56.069Z"
   },
   {
    "duration": 42,
    "start_time": "2024-12-26T11:20:56.077Z"
   },
   {
    "duration": 10,
    "start_time": "2024-12-26T11:20:56.121Z"
   },
   {
    "duration": 15,
    "start_time": "2024-12-26T11:20:56.132Z"
   },
   {
    "duration": 19,
    "start_time": "2024-12-26T11:20:56.149Z"
   },
   {
    "duration": 28,
    "start_time": "2024-12-26T11:20:56.170Z"
   },
   {
    "duration": 20,
    "start_time": "2024-12-26T11:20:56.203Z"
   },
   {
    "duration": 4,
    "start_time": "2024-12-26T11:20:56.225Z"
   },
   {
    "duration": 10,
    "start_time": "2024-12-26T11:20:56.230Z"
   },
   {
    "duration": 12,
    "start_time": "2024-12-26T11:20:56.242Z"
   },
   {
    "duration": 11,
    "start_time": "2024-12-26T11:20:56.255Z"
   },
   {
    "duration": 9,
    "start_time": "2024-12-26T11:20:56.268Z"
   },
   {
    "duration": 50,
    "start_time": "2024-12-26T11:20:56.279Z"
   },
   {
    "duration": 0,
    "start_time": "2024-12-26T11:20:56.331Z"
   },
   {
    "duration": 0,
    "start_time": "2024-12-26T11:20:56.333Z"
   },
   {
    "duration": 0,
    "start_time": "2024-12-26T11:20:56.334Z"
   },
   {
    "duration": 68,
    "start_time": "2024-12-26T11:22:49.893Z"
   },
   {
    "duration": 20,
    "start_time": "2024-12-26T11:22:49.963Z"
   },
   {
    "duration": 56,
    "start_time": "2024-12-26T11:22:49.985Z"
   },
   {
    "duration": 26,
    "start_time": "2024-12-26T11:22:50.043Z"
   },
   {
    "duration": 62,
    "start_time": "2024-12-26T11:22:50.071Z"
   },
   {
    "duration": 3,
    "start_time": "2024-12-26T11:22:50.135Z"
   },
   {
    "duration": 25,
    "start_time": "2024-12-26T11:22:50.140Z"
   },
   {
    "duration": 32,
    "start_time": "2024-12-26T11:22:50.167Z"
   },
   {
    "duration": 5,
    "start_time": "2024-12-26T11:22:50.201Z"
   },
   {
    "duration": 4,
    "start_time": "2024-12-26T11:22:50.208Z"
   },
   {
    "duration": 32,
    "start_time": "2024-12-26T11:22:50.213Z"
   },
   {
    "duration": 8,
    "start_time": "2024-12-26T11:22:50.246Z"
   },
   {
    "duration": 41,
    "start_time": "2024-12-26T11:22:50.256Z"
   },
   {
    "duration": 13,
    "start_time": "2024-12-26T11:22:50.301Z"
   },
   {
    "duration": 35,
    "start_time": "2024-12-26T11:22:50.316Z"
   },
   {
    "duration": 19,
    "start_time": "2024-12-26T11:22:50.353Z"
   },
   {
    "duration": 4,
    "start_time": "2024-12-26T11:22:50.374Z"
   },
   {
    "duration": 29,
    "start_time": "2024-12-26T11:22:50.379Z"
   },
   {
    "duration": 22,
    "start_time": "2024-12-26T11:22:50.410Z"
   },
   {
    "duration": 10,
    "start_time": "2024-12-26T11:22:50.434Z"
   },
   {
    "duration": 23,
    "start_time": "2024-12-26T11:22:50.445Z"
   },
   {
    "duration": 64,
    "start_time": "2024-12-26T11:22:50.470Z"
   },
   {
    "duration": 10,
    "start_time": "2024-12-26T11:22:50.536Z"
   },
   {
    "duration": 8,
    "start_time": "2024-12-26T11:22:50.548Z"
   },
   {
    "duration": 16,
    "start_time": "2024-12-26T11:22:50.558Z"
   },
   {
    "duration": 77,
    "start_time": "2024-12-26T11:23:41.268Z"
   },
   {
    "duration": 14,
    "start_time": "2024-12-26T11:23:41.347Z"
   },
   {
    "duration": 22,
    "start_time": "2024-12-26T11:23:41.363Z"
   },
   {
    "duration": 21,
    "start_time": "2024-12-26T11:23:41.390Z"
   },
   {
    "duration": 31,
    "start_time": "2024-12-26T11:23:41.413Z"
   },
   {
    "duration": 3,
    "start_time": "2024-12-26T11:23:41.446Z"
   },
   {
    "duration": 34,
    "start_time": "2024-12-26T11:23:41.451Z"
   },
   {
    "duration": 14,
    "start_time": "2024-12-26T11:23:41.486Z"
   },
   {
    "duration": 5,
    "start_time": "2024-12-26T11:23:41.502Z"
   },
   {
    "duration": 9,
    "start_time": "2024-12-26T11:23:41.509Z"
   },
   {
    "duration": 33,
    "start_time": "2024-12-26T11:23:41.519Z"
   },
   {
    "duration": 9,
    "start_time": "2024-12-26T11:23:41.554Z"
   },
   {
    "duration": 8,
    "start_time": "2024-12-26T11:23:41.564Z"
   },
   {
    "duration": 14,
    "start_time": "2024-12-26T11:23:41.592Z"
   },
   {
    "duration": 20,
    "start_time": "2024-12-26T11:23:41.608Z"
   },
   {
    "duration": 19,
    "start_time": "2024-12-26T11:23:41.629Z"
   },
   {
    "duration": 4,
    "start_time": "2024-12-26T11:23:41.649Z"
   },
   {
    "duration": 15,
    "start_time": "2024-12-26T11:23:41.654Z"
   },
   {
    "duration": 30,
    "start_time": "2024-12-26T11:23:41.671Z"
   },
   {
    "duration": 3,
    "start_time": "2024-12-26T11:23:41.703Z"
   },
   {
    "duration": 8,
    "start_time": "2024-12-26T11:23:41.708Z"
   },
   {
    "duration": 47,
    "start_time": "2024-12-26T11:23:41.718Z"
   },
   {
    "duration": 37,
    "start_time": "2024-12-26T11:23:41.766Z"
   },
   {
    "duration": 8,
    "start_time": "2024-12-26T11:23:41.805Z"
   },
   {
    "duration": 9,
    "start_time": "2024-12-26T11:23:41.816Z"
   },
   {
    "duration": 78,
    "start_time": "2024-12-26T11:25:01.653Z"
   },
   {
    "duration": 14,
    "start_time": "2024-12-26T11:25:01.733Z"
   },
   {
    "duration": 21,
    "start_time": "2024-12-26T11:25:01.748Z"
   },
   {
    "duration": 23,
    "start_time": "2024-12-26T11:25:01.771Z"
   },
   {
    "duration": 76,
    "start_time": "2024-12-26T11:25:01.795Z"
   },
   {
    "duration": 3,
    "start_time": "2024-12-26T11:25:01.872Z"
   },
   {
    "duration": 28,
    "start_time": "2024-12-26T11:25:01.877Z"
   },
   {
    "duration": 21,
    "start_time": "2024-12-26T11:25:01.907Z"
   },
   {
    "duration": 7,
    "start_time": "2024-12-26T11:25:01.930Z"
   },
   {
    "duration": 33,
    "start_time": "2024-12-26T11:25:01.940Z"
   },
   {
    "duration": 56,
    "start_time": "2024-12-26T11:25:01.975Z"
   },
   {
    "duration": 25,
    "start_time": "2024-12-26T11:25:02.033Z"
   },
   {
    "duration": 4,
    "start_time": "2024-12-26T11:25:02.060Z"
   },
   {
    "duration": 40,
    "start_time": "2024-12-26T11:25:02.065Z"
   },
   {
    "duration": 20,
    "start_time": "2024-12-26T11:25:02.107Z"
   },
   {
    "duration": 20,
    "start_time": "2024-12-26T11:25:02.129Z"
   },
   {
    "duration": 4,
    "start_time": "2024-12-26T11:25:02.150Z"
   },
   {
    "duration": 14,
    "start_time": "2024-12-26T11:25:02.156Z"
   },
   {
    "duration": 37,
    "start_time": "2024-12-26T11:25:02.171Z"
   },
   {
    "duration": 15,
    "start_time": "2024-12-26T11:25:02.211Z"
   },
   {
    "duration": 9,
    "start_time": "2024-12-26T11:25:02.228Z"
   },
   {
    "duration": 273,
    "start_time": "2024-12-26T11:25:02.239Z"
   },
   {
    "duration": 0,
    "start_time": "2024-12-26T11:25:02.514Z"
   },
   {
    "duration": 0,
    "start_time": "2024-12-26T11:25:02.516Z"
   },
   {
    "duration": 0,
    "start_time": "2024-12-26T11:25:02.517Z"
   },
   {
    "duration": 102,
    "start_time": "2024-12-26T11:26:17.160Z"
   },
   {
    "duration": 27,
    "start_time": "2024-12-26T11:26:17.265Z"
   },
   {
    "duration": 15,
    "start_time": "2024-12-26T11:26:17.305Z"
   },
   {
    "duration": 46,
    "start_time": "2024-12-26T11:26:17.321Z"
   },
   {
    "duration": 42,
    "start_time": "2024-12-26T11:26:17.369Z"
   },
   {
    "duration": 3,
    "start_time": "2024-12-26T11:26:17.413Z"
   },
   {
    "duration": 40,
    "start_time": "2024-12-26T11:26:17.417Z"
   },
   {
    "duration": 17,
    "start_time": "2024-12-26T11:26:17.459Z"
   },
   {
    "duration": 15,
    "start_time": "2024-12-26T11:26:17.477Z"
   },
   {
    "duration": 4,
    "start_time": "2024-12-26T11:26:17.499Z"
   },
   {
    "duration": 41,
    "start_time": "2024-12-26T11:26:17.505Z"
   },
   {
    "duration": 9,
    "start_time": "2024-12-26T11:26:17.548Z"
   },
   {
    "duration": 3,
    "start_time": "2024-12-26T11:26:17.558Z"
   },
   {
    "duration": 11,
    "start_time": "2024-12-26T11:26:17.564Z"
   },
   {
    "duration": 40,
    "start_time": "2024-12-26T11:26:17.576Z"
   },
   {
    "duration": 19,
    "start_time": "2024-12-26T11:26:17.617Z"
   },
   {
    "duration": 3,
    "start_time": "2024-12-26T11:26:17.638Z"
   },
   {
    "duration": 18,
    "start_time": "2024-12-26T11:26:17.643Z"
   },
   {
    "duration": 7,
    "start_time": "2024-12-26T11:26:17.662Z"
   },
   {
    "duration": 3,
    "start_time": "2024-12-26T11:26:17.671Z"
   },
   {
    "duration": 29,
    "start_time": "2024-12-26T11:26:17.675Z"
   },
   {
    "duration": 70,
    "start_time": "2024-12-26T11:26:17.706Z"
   },
   {
    "duration": 10,
    "start_time": "2024-12-26T11:26:17.778Z"
   },
   {
    "duration": 31,
    "start_time": "2024-12-26T11:26:17.789Z"
   },
   {
    "duration": 11,
    "start_time": "2024-12-26T11:26:17.822Z"
   },
   {
    "duration": 69,
    "start_time": "2024-12-26T11:27:57.099Z"
   },
   {
    "duration": 15,
    "start_time": "2024-12-26T11:27:57.170Z"
   },
   {
    "duration": 22,
    "start_time": "2024-12-26T11:27:57.186Z"
   },
   {
    "duration": 13,
    "start_time": "2024-12-26T11:27:57.210Z"
   },
   {
    "duration": 46,
    "start_time": "2024-12-26T11:27:57.226Z"
   },
   {
    "duration": 3,
    "start_time": "2024-12-26T11:27:57.286Z"
   },
   {
    "duration": 23,
    "start_time": "2024-12-26T11:27:57.291Z"
   },
   {
    "duration": 11,
    "start_time": "2024-12-26T11:27:57.316Z"
   },
   {
    "duration": 47,
    "start_time": "2024-12-26T11:27:57.328Z"
   },
   {
    "duration": 40,
    "start_time": "2024-12-26T11:27:57.377Z"
   },
   {
    "duration": 45,
    "start_time": "2024-12-26T11:27:57.419Z"
   },
   {
    "duration": 9,
    "start_time": "2024-12-26T11:27:57.466Z"
   },
   {
    "duration": 6,
    "start_time": "2024-12-26T11:27:57.476Z"
   },
   {
    "duration": 28,
    "start_time": "2024-12-26T11:27:57.485Z"
   },
   {
    "duration": 18,
    "start_time": "2024-12-26T11:27:57.515Z"
   },
   {
    "duration": 73,
    "start_time": "2024-12-26T11:27:57.534Z"
   },
   {
    "duration": 3,
    "start_time": "2024-12-26T11:27:57.609Z"
   },
   {
    "duration": 10,
    "start_time": "2024-12-26T11:27:57.614Z"
   },
   {
    "duration": 10,
    "start_time": "2024-12-26T11:27:57.625Z"
   },
   {
    "duration": 4,
    "start_time": "2024-12-26T11:27:57.637Z"
   },
   {
    "duration": 9,
    "start_time": "2024-12-26T11:27:57.643Z"
   },
   {
    "duration": 54,
    "start_time": "2024-12-26T11:27:57.653Z"
   },
   {
    "duration": 0,
    "start_time": "2024-12-26T11:27:57.709Z"
   },
   {
    "duration": 1,
    "start_time": "2024-12-26T11:27:57.710Z"
   },
   {
    "duration": 0,
    "start_time": "2024-12-26T11:27:57.712Z"
   },
   {
    "duration": 67,
    "start_time": "2024-12-26T11:28:39.680Z"
   },
   {
    "duration": 15,
    "start_time": "2024-12-26T11:28:39.749Z"
   },
   {
    "duration": 28,
    "start_time": "2024-12-26T11:28:39.765Z"
   },
   {
    "duration": 16,
    "start_time": "2024-12-26T11:28:39.795Z"
   },
   {
    "duration": 39,
    "start_time": "2024-12-26T11:28:39.813Z"
   },
   {
    "duration": 4,
    "start_time": "2024-12-26T11:28:39.854Z"
   },
   {
    "duration": 10,
    "start_time": "2024-12-26T11:28:39.859Z"
   },
   {
    "duration": 4,
    "start_time": "2024-12-26T11:28:39.871Z"
   },
   {
    "duration": 14,
    "start_time": "2024-12-26T11:28:39.894Z"
   },
   {
    "duration": 16,
    "start_time": "2024-12-26T11:28:39.909Z"
   },
   {
    "duration": 75,
    "start_time": "2024-12-26T11:28:39.927Z"
   },
   {
    "duration": 12,
    "start_time": "2024-12-26T11:28:40.003Z"
   },
   {
    "duration": 11,
    "start_time": "2024-12-26T11:28:40.018Z"
   },
   {
    "duration": 20,
    "start_time": "2024-12-26T11:28:40.032Z"
   },
   {
    "duration": 24,
    "start_time": "2024-12-26T11:28:40.054Z"
   },
   {
    "duration": 30,
    "start_time": "2024-12-26T11:28:40.080Z"
   },
   {
    "duration": 3,
    "start_time": "2024-12-26T11:28:40.112Z"
   },
   {
    "duration": 12,
    "start_time": "2024-12-26T11:28:40.116Z"
   },
   {
    "duration": 5,
    "start_time": "2024-12-26T11:28:40.129Z"
   },
   {
    "duration": 6,
    "start_time": "2024-12-26T11:28:40.136Z"
   },
   {
    "duration": 13,
    "start_time": "2024-12-26T11:28:40.143Z"
   },
   {
    "duration": 46,
    "start_time": "2024-12-26T11:28:40.157Z"
   },
   {
    "duration": 11,
    "start_time": "2024-12-26T11:28:40.205Z"
   },
   {
    "duration": 8,
    "start_time": "2024-12-26T11:28:40.218Z"
   },
   {
    "duration": 9,
    "start_time": "2024-12-26T11:28:40.228Z"
   },
   {
    "duration": 67,
    "start_time": "2024-12-26T11:29:03.497Z"
   },
   {
    "duration": 14,
    "start_time": "2024-12-26T11:29:03.566Z"
   },
   {
    "duration": 48,
    "start_time": "2024-12-26T11:29:03.582Z"
   },
   {
    "duration": 8,
    "start_time": "2024-12-26T11:29:03.632Z"
   },
   {
    "duration": 38,
    "start_time": "2024-12-26T11:29:03.642Z"
   },
   {
    "duration": 3,
    "start_time": "2024-12-26T11:29:03.682Z"
   },
   {
    "duration": 27,
    "start_time": "2024-12-26T11:29:03.686Z"
   },
   {
    "duration": 4,
    "start_time": "2024-12-26T11:29:03.715Z"
   },
   {
    "duration": 12,
    "start_time": "2024-12-26T11:29:03.720Z"
   },
   {
    "duration": 17,
    "start_time": "2024-12-26T11:29:03.733Z"
   },
   {
    "duration": 51,
    "start_time": "2024-12-26T11:29:03.751Z"
   },
   {
    "duration": 11,
    "start_time": "2024-12-26T11:29:03.804Z"
   },
   {
    "duration": 4,
    "start_time": "2024-12-26T11:29:03.816Z"
   },
   {
    "duration": 16,
    "start_time": "2024-12-26T11:29:03.824Z"
   },
   {
    "duration": 34,
    "start_time": "2024-12-26T11:29:03.841Z"
   },
   {
    "duration": 24,
    "start_time": "2024-12-26T11:29:03.876Z"
   },
   {
    "duration": 4,
    "start_time": "2024-12-26T11:29:03.901Z"
   },
   {
    "duration": 11,
    "start_time": "2024-12-26T11:29:03.907Z"
   },
   {
    "duration": 5,
    "start_time": "2024-12-26T11:29:03.920Z"
   },
   {
    "duration": 74,
    "start_time": "2024-12-26T11:29:03.927Z"
   },
   {
    "duration": 17,
    "start_time": "2024-12-26T11:29:04.003Z"
   },
   {
    "duration": 31,
    "start_time": "2024-12-26T11:29:04.022Z"
   },
   {
    "duration": 9,
    "start_time": "2024-12-26T11:29:04.055Z"
   },
   {
    "duration": 33,
    "start_time": "2024-12-26T11:29:04.065Z"
   },
   {
    "duration": 10,
    "start_time": "2024-12-26T11:29:04.101Z"
   },
   {
    "duration": 70,
    "start_time": "2024-12-26T11:32:38.582Z"
   },
   {
    "duration": 14,
    "start_time": "2024-12-26T11:32:38.653Z"
   },
   {
    "duration": 16,
    "start_time": "2024-12-26T11:32:38.669Z"
   },
   {
    "duration": 12,
    "start_time": "2024-12-26T11:32:38.693Z"
   },
   {
    "duration": 38,
    "start_time": "2024-12-26T11:32:38.707Z"
   },
   {
    "duration": 4,
    "start_time": "2024-12-26T11:32:38.746Z"
   },
   {
    "duration": 15,
    "start_time": "2024-12-26T11:32:38.752Z"
   },
   {
    "duration": 4,
    "start_time": "2024-12-26T11:32:38.769Z"
   },
   {
    "duration": 15,
    "start_time": "2024-12-26T11:32:38.774Z"
   },
   {
    "duration": 14,
    "start_time": "2024-12-26T11:32:38.791Z"
   },
   {
    "duration": 35,
    "start_time": "2024-12-26T11:32:38.806Z"
   },
   {
    "duration": 9,
    "start_time": "2024-12-26T11:32:38.843Z"
   },
   {
    "duration": 4,
    "start_time": "2024-12-26T11:32:38.854Z"
   },
   {
    "duration": 10,
    "start_time": "2024-12-26T11:32:38.859Z"
   },
   {
    "duration": 43,
    "start_time": "2024-12-26T11:32:38.870Z"
   },
   {
    "duration": 16,
    "start_time": "2024-12-26T11:32:38.915Z"
   },
   {
    "duration": 5,
    "start_time": "2024-12-26T11:32:38.933Z"
   },
   {
    "duration": 18,
    "start_time": "2024-12-26T11:32:38.939Z"
   },
   {
    "duration": 25,
    "start_time": "2024-12-26T11:32:38.958Z"
   },
   {
    "duration": 16,
    "start_time": "2024-12-26T11:32:38.985Z"
   },
   {
    "duration": 9,
    "start_time": "2024-12-26T11:32:39.003Z"
   },
   {
    "duration": 27,
    "start_time": "2024-12-26T11:32:39.013Z"
   },
   {
    "duration": 11,
    "start_time": "2024-12-26T11:32:39.042Z"
   },
   {
    "duration": 10,
    "start_time": "2024-12-26T11:32:39.055Z"
   },
   {
    "duration": 35,
    "start_time": "2024-12-26T11:32:39.067Z"
   },
   {
    "duration": 76,
    "start_time": "2024-12-26T11:33:17.943Z"
   },
   {
    "duration": 16,
    "start_time": "2024-12-26T11:33:18.022Z"
   },
   {
    "duration": 24,
    "start_time": "2024-12-26T11:33:18.040Z"
   },
   {
    "duration": 35,
    "start_time": "2024-12-26T11:33:18.067Z"
   },
   {
    "duration": 32,
    "start_time": "2024-12-26T11:33:18.104Z"
   },
   {
    "duration": 3,
    "start_time": "2024-12-26T11:33:18.137Z"
   },
   {
    "duration": 33,
    "start_time": "2024-12-26T11:33:18.142Z"
   },
   {
    "duration": 9,
    "start_time": "2024-12-26T11:33:18.176Z"
   },
   {
    "duration": 17,
    "start_time": "2024-12-26T11:33:18.186Z"
   },
   {
    "duration": 5,
    "start_time": "2024-12-26T11:33:18.205Z"
   },
   {
    "duration": 30,
    "start_time": "2024-12-26T11:33:18.211Z"
   },
   {
    "duration": 9,
    "start_time": "2024-12-26T11:33:18.242Z"
   },
   {
    "duration": 4,
    "start_time": "2024-12-26T11:33:18.252Z"
   },
   {
    "duration": 11,
    "start_time": "2024-12-26T11:33:18.257Z"
   },
   {
    "duration": 39,
    "start_time": "2024-12-26T11:33:18.270Z"
   },
   {
    "duration": 31,
    "start_time": "2024-12-26T11:33:18.311Z"
   },
   {
    "duration": 12,
    "start_time": "2024-12-26T11:33:18.343Z"
   },
   {
    "duration": 12,
    "start_time": "2024-12-26T11:33:18.356Z"
   },
   {
    "duration": 8,
    "start_time": "2024-12-26T11:33:18.369Z"
   },
   {
    "duration": 13,
    "start_time": "2024-12-26T11:33:18.378Z"
   },
   {
    "duration": 26,
    "start_time": "2024-12-26T11:33:18.393Z"
   },
   {
    "duration": 36,
    "start_time": "2024-12-26T11:33:18.421Z"
   },
   {
    "duration": 8,
    "start_time": "2024-12-26T11:33:18.459Z"
   },
   {
    "duration": 8,
    "start_time": "2024-12-26T11:33:18.469Z"
   },
   {
    "duration": 24,
    "start_time": "2024-12-26T11:33:18.478Z"
   },
   {
    "duration": 85,
    "start_time": "2024-12-26T11:35:05.465Z"
   },
   {
    "duration": 17,
    "start_time": "2024-12-26T11:35:05.552Z"
   },
   {
    "duration": 91,
    "start_time": "2024-12-26T11:35:05.570Z"
   },
   {
    "duration": 42,
    "start_time": "2024-12-26T11:35:05.663Z"
   },
   {
    "duration": 73,
    "start_time": "2024-12-26T11:35:05.707Z"
   },
   {
    "duration": 3,
    "start_time": "2024-12-26T11:35:05.782Z"
   },
   {
    "duration": 47,
    "start_time": "2024-12-26T11:35:05.797Z"
   },
   {
    "duration": 28,
    "start_time": "2024-12-26T11:35:05.845Z"
   },
   {
    "duration": 56,
    "start_time": "2024-12-26T11:35:05.874Z"
   },
   {
    "duration": 82,
    "start_time": "2024-12-26T11:35:05.933Z"
   },
   {
    "duration": 57,
    "start_time": "2024-12-26T11:35:06.017Z"
   },
   {
    "duration": 28,
    "start_time": "2024-12-26T11:35:06.075Z"
   },
   {
    "duration": 48,
    "start_time": "2024-12-26T11:35:06.105Z"
   },
   {
    "duration": 71,
    "start_time": "2024-12-26T11:35:06.155Z"
   },
   {
    "duration": 25,
    "start_time": "2024-12-26T11:35:06.228Z"
   },
   {
    "duration": 26,
    "start_time": "2024-12-26T11:35:06.255Z"
   },
   {
    "duration": 25,
    "start_time": "2024-12-26T11:35:06.282Z"
   },
   {
    "duration": 27,
    "start_time": "2024-12-26T11:35:06.309Z"
   },
   {
    "duration": 10,
    "start_time": "2024-12-26T11:35:06.337Z"
   },
   {
    "duration": 15,
    "start_time": "2024-12-26T11:35:06.349Z"
   },
   {
    "duration": 33,
    "start_time": "2024-12-26T11:35:06.366Z"
   },
   {
    "duration": 6,
    "start_time": "2024-12-26T11:35:06.400Z"
   },
   {
    "duration": 1,
    "start_time": "2024-12-26T11:35:06.407Z"
   },
   {
    "duration": 0,
    "start_time": "2024-12-26T11:35:06.409Z"
   },
   {
    "duration": 0,
    "start_time": "2024-12-26T11:35:06.410Z"
   },
   {
    "duration": 73,
    "start_time": "2024-12-26T11:36:28.431Z"
   },
   {
    "duration": 14,
    "start_time": "2024-12-26T11:36:28.506Z"
   },
   {
    "duration": 22,
    "start_time": "2024-12-26T11:36:28.522Z"
   },
   {
    "duration": 8,
    "start_time": "2024-12-26T11:36:28.546Z"
   },
   {
    "duration": 54,
    "start_time": "2024-12-26T11:36:28.555Z"
   },
   {
    "duration": 4,
    "start_time": "2024-12-26T11:36:28.610Z"
   },
   {
    "duration": 10,
    "start_time": "2024-12-26T11:36:28.615Z"
   },
   {
    "duration": 5,
    "start_time": "2024-12-26T11:36:28.626Z"
   },
   {
    "duration": 8,
    "start_time": "2024-12-26T11:36:28.632Z"
   },
   {
    "duration": 5,
    "start_time": "2024-12-26T11:36:28.642Z"
   },
   {
    "duration": 58,
    "start_time": "2024-12-26T11:36:28.648Z"
   },
   {
    "duration": 8,
    "start_time": "2024-12-26T11:36:28.708Z"
   },
   {
    "duration": 6,
    "start_time": "2024-12-26T11:36:28.718Z"
   },
   {
    "duration": 12,
    "start_time": "2024-12-26T11:36:28.725Z"
   },
   {
    "duration": 18,
    "start_time": "2024-12-26T11:36:28.738Z"
   },
   {
    "duration": 47,
    "start_time": "2024-12-26T11:36:28.758Z"
   },
   {
    "duration": 3,
    "start_time": "2024-12-26T11:36:28.807Z"
   },
   {
    "duration": 16,
    "start_time": "2024-12-26T11:36:28.812Z"
   },
   {
    "duration": 7,
    "start_time": "2024-12-26T11:36:28.829Z"
   },
   {
    "duration": 4,
    "start_time": "2024-12-26T11:36:28.838Z"
   },
   {
    "duration": 9,
    "start_time": "2024-12-26T11:36:28.844Z"
   },
   {
    "duration": 5,
    "start_time": "2024-12-26T11:36:28.855Z"
   },
   {
    "duration": 0,
    "start_time": "2024-12-26T11:36:28.862Z"
   },
   {
    "duration": 0,
    "start_time": "2024-12-26T11:36:28.899Z"
   },
   {
    "duration": 0,
    "start_time": "2024-12-26T11:36:28.900Z"
   },
   {
    "duration": 85,
    "start_time": "2024-12-26T11:36:42.513Z"
   },
   {
    "duration": 21,
    "start_time": "2024-12-26T11:36:42.600Z"
   },
   {
    "duration": 21,
    "start_time": "2024-12-26T11:36:42.624Z"
   },
   {
    "duration": 15,
    "start_time": "2024-12-26T11:36:42.646Z"
   },
   {
    "duration": 41,
    "start_time": "2024-12-26T11:36:42.664Z"
   },
   {
    "duration": 4,
    "start_time": "2024-12-26T11:36:42.706Z"
   },
   {
    "duration": 35,
    "start_time": "2024-12-26T11:36:42.712Z"
   },
   {
    "duration": 5,
    "start_time": "2024-12-26T11:36:42.749Z"
   },
   {
    "duration": 8,
    "start_time": "2024-12-26T11:36:42.755Z"
   },
   {
    "duration": 4,
    "start_time": "2024-12-26T11:36:42.765Z"
   },
   {
    "duration": 51,
    "start_time": "2024-12-26T11:36:42.770Z"
   },
   {
    "duration": 9,
    "start_time": "2024-12-26T11:36:42.822Z"
   },
   {
    "duration": 15,
    "start_time": "2024-12-26T11:36:42.832Z"
   },
   {
    "duration": 16,
    "start_time": "2024-12-26T11:36:42.849Z"
   },
   {
    "duration": 24,
    "start_time": "2024-12-26T11:36:42.866Z"
   },
   {
    "duration": 22,
    "start_time": "2024-12-26T11:36:42.891Z"
   },
   {
    "duration": 3,
    "start_time": "2024-12-26T11:36:42.915Z"
   },
   {
    "duration": 13,
    "start_time": "2024-12-26T11:36:42.920Z"
   },
   {
    "duration": 6,
    "start_time": "2024-12-26T11:36:42.935Z"
   },
   {
    "duration": 5,
    "start_time": "2024-12-26T11:36:42.942Z"
   },
   {
    "duration": 37,
    "start_time": "2024-12-26T11:36:42.948Z"
   },
   {
    "duration": 44,
    "start_time": "2024-12-26T11:36:42.988Z"
   },
   {
    "duration": 9,
    "start_time": "2024-12-26T11:36:43.033Z"
   },
   {
    "duration": 13,
    "start_time": "2024-12-26T11:36:43.044Z"
   },
   {
    "duration": 19,
    "start_time": "2024-12-26T11:36:43.058Z"
   },
   {
    "duration": 69,
    "start_time": "2024-12-26T12:57:25.238Z"
   },
   {
    "duration": 14,
    "start_time": "2024-12-26T12:57:25.309Z"
   },
   {
    "duration": 33,
    "start_time": "2024-12-26T12:57:25.324Z"
   },
   {
    "duration": 8,
    "start_time": "2024-12-26T12:57:25.359Z"
   },
   {
    "duration": 41,
    "start_time": "2024-12-26T12:57:25.368Z"
   },
   {
    "duration": 3,
    "start_time": "2024-12-26T12:57:25.411Z"
   },
   {
    "duration": 33,
    "start_time": "2024-12-26T12:57:25.415Z"
   },
   {
    "duration": 28,
    "start_time": "2024-12-26T12:57:25.450Z"
   },
   {
    "duration": 6,
    "start_time": "2024-12-26T12:57:25.479Z"
   },
   {
    "duration": 16,
    "start_time": "2024-12-26T12:57:25.487Z"
   },
   {
    "duration": 58,
    "start_time": "2024-12-26T12:57:25.504Z"
   },
   {
    "duration": 16,
    "start_time": "2024-12-26T12:57:25.563Z"
   },
   {
    "duration": 4,
    "start_time": "2024-12-26T12:57:25.581Z"
   },
   {
    "duration": 18,
    "start_time": "2024-12-26T12:57:25.587Z"
   },
   {
    "duration": 59,
    "start_time": "2024-12-26T12:57:25.607Z"
   },
   {
    "duration": 21,
    "start_time": "2024-12-26T12:57:25.668Z"
   },
   {
    "duration": 4,
    "start_time": "2024-12-26T12:57:25.691Z"
   },
   {
    "duration": 9,
    "start_time": "2024-12-26T12:57:25.697Z"
   },
   {
    "duration": 6,
    "start_time": "2024-12-26T12:57:25.708Z"
   },
   {
    "duration": 10,
    "start_time": "2024-12-26T12:57:25.716Z"
   },
   {
    "duration": 13,
    "start_time": "2024-12-26T12:57:25.728Z"
   },
   {
    "duration": 3,
    "start_time": "2024-12-26T12:57:25.743Z"
   },
   {
    "duration": 14,
    "start_time": "2024-12-26T12:57:25.748Z"
   },
   {
    "duration": 45,
    "start_time": "2024-12-26T12:57:25.763Z"
   },
   {
    "duration": 0,
    "start_time": "2024-12-26T12:57:25.810Z"
   },
   {
    "duration": 0,
    "start_time": "2024-12-26T12:57:25.812Z"
   },
   {
    "duration": 0,
    "start_time": "2024-12-26T12:57:25.813Z"
   },
   {
    "duration": 68,
    "start_time": "2024-12-26T12:58:59.036Z"
   },
   {
    "duration": 14,
    "start_time": "2024-12-26T12:58:59.106Z"
   },
   {
    "duration": 14,
    "start_time": "2024-12-26T12:58:59.122Z"
   },
   {
    "duration": 10,
    "start_time": "2024-12-26T12:58:59.138Z"
   },
   {
    "duration": 54,
    "start_time": "2024-12-26T12:58:59.151Z"
   },
   {
    "duration": 3,
    "start_time": "2024-12-26T12:58:59.207Z"
   },
   {
    "duration": 19,
    "start_time": "2024-12-26T12:58:59.212Z"
   },
   {
    "duration": 4,
    "start_time": "2024-12-26T12:58:59.233Z"
   },
   {
    "duration": 7,
    "start_time": "2024-12-26T12:58:59.239Z"
   },
   {
    "duration": 4,
    "start_time": "2024-12-26T12:58:59.247Z"
   },
   {
    "duration": 49,
    "start_time": "2024-12-26T12:58:59.253Z"
   },
   {
    "duration": 9,
    "start_time": "2024-12-26T12:58:59.304Z"
   },
   {
    "duration": 4,
    "start_time": "2024-12-26T12:58:59.314Z"
   },
   {
    "duration": 11,
    "start_time": "2024-12-26T12:58:59.321Z"
   },
   {
    "duration": 18,
    "start_time": "2024-12-26T12:58:59.333Z"
   },
   {
    "duration": 39,
    "start_time": "2024-12-26T12:58:59.352Z"
   },
   {
    "duration": 4,
    "start_time": "2024-12-26T12:58:59.392Z"
   },
   {
    "duration": 12,
    "start_time": "2024-12-26T12:58:59.397Z"
   },
   {
    "duration": 6,
    "start_time": "2024-12-26T12:58:59.410Z"
   },
   {
    "duration": 3,
    "start_time": "2024-12-26T12:58:59.417Z"
   },
   {
    "duration": 21,
    "start_time": "2024-12-26T12:58:59.422Z"
   },
   {
    "duration": 4,
    "start_time": "2024-12-26T12:58:59.445Z"
   },
   {
    "duration": 18,
    "start_time": "2024-12-26T12:58:59.451Z"
   },
   {
    "duration": 65,
    "start_time": "2024-12-26T12:58:59.472Z"
   },
   {
    "duration": 9,
    "start_time": "2024-12-26T12:58:59.539Z"
   },
   {
    "duration": 8,
    "start_time": "2024-12-26T12:58:59.549Z"
   },
   {
    "duration": 29,
    "start_time": "2024-12-26T12:58:59.559Z"
   },
   {
    "duration": 68,
    "start_time": "2024-12-26T13:00:06.161Z"
   },
   {
    "duration": 14,
    "start_time": "2024-12-26T13:00:06.231Z"
   },
   {
    "duration": 34,
    "start_time": "2024-12-26T13:00:06.247Z"
   },
   {
    "duration": 17,
    "start_time": "2024-12-26T13:00:06.283Z"
   },
   {
    "duration": 68,
    "start_time": "2024-12-26T13:00:06.301Z"
   },
   {
    "duration": 2,
    "start_time": "2024-12-26T13:00:06.371Z"
   },
   {
    "duration": 51,
    "start_time": "2024-12-26T13:00:06.375Z"
   },
   {
    "duration": 31,
    "start_time": "2024-12-26T13:00:06.427Z"
   },
   {
    "duration": 60,
    "start_time": "2024-12-26T13:00:06.460Z"
   },
   {
    "duration": 7,
    "start_time": "2024-12-26T13:00:06.523Z"
   },
   {
    "duration": 46,
    "start_time": "2024-12-26T13:00:06.531Z"
   },
   {
    "duration": 21,
    "start_time": "2024-12-26T13:00:06.579Z"
   },
   {
    "duration": 16,
    "start_time": "2024-12-26T13:00:06.601Z"
   },
   {
    "duration": 59,
    "start_time": "2024-12-26T13:00:06.618Z"
   },
   {
    "duration": 67,
    "start_time": "2024-12-26T13:00:06.679Z"
   },
   {
    "duration": 52,
    "start_time": "2024-12-26T13:00:06.748Z"
   },
   {
    "duration": 11,
    "start_time": "2024-12-26T13:00:06.802Z"
   },
   {
    "duration": 17,
    "start_time": "2024-12-26T13:00:06.815Z"
   },
   {
    "duration": 5,
    "start_time": "2024-12-26T13:00:06.834Z"
   },
   {
    "duration": 40,
    "start_time": "2024-12-26T13:00:06.841Z"
   },
   {
    "duration": 18,
    "start_time": "2024-12-26T13:00:06.883Z"
   },
   {
    "duration": 14,
    "start_time": "2024-12-26T13:00:06.903Z"
   },
   {
    "duration": 6,
    "start_time": "2024-12-26T13:00:06.919Z"
   },
   {
    "duration": 46,
    "start_time": "2024-12-26T13:00:06.927Z"
   },
   {
    "duration": 11,
    "start_time": "2024-12-26T13:00:06.975Z"
   },
   {
    "duration": 99,
    "start_time": "2024-12-26T13:00:06.988Z"
   },
   {
    "duration": 27,
    "start_time": "2024-12-26T13:00:07.089Z"
   },
   {
    "duration": 68,
    "start_time": "2024-12-26T13:02:02.695Z"
   },
   {
    "duration": 14,
    "start_time": "2024-12-26T13:02:02.765Z"
   },
   {
    "duration": 23,
    "start_time": "2024-12-26T13:02:02.781Z"
   },
   {
    "duration": 22,
    "start_time": "2024-12-26T13:02:02.806Z"
   },
   {
    "duration": 32,
    "start_time": "2024-12-26T13:02:02.830Z"
   },
   {
    "duration": 3,
    "start_time": "2024-12-26T13:02:02.863Z"
   },
   {
    "duration": 29,
    "start_time": "2024-12-26T13:02:02.868Z"
   },
   {
    "duration": 51,
    "start_time": "2024-12-26T13:02:02.898Z"
   },
   {
    "duration": 43,
    "start_time": "2024-12-26T13:02:02.950Z"
   },
   {
    "duration": 69,
    "start_time": "2024-12-26T13:02:02.996Z"
   },
   {
    "duration": 51,
    "start_time": "2024-12-26T13:02:03.066Z"
   },
   {
    "duration": 8,
    "start_time": "2024-12-26T13:02:03.119Z"
   },
   {
    "duration": 3,
    "start_time": "2024-12-26T13:02:03.129Z"
   },
   {
    "duration": 25,
    "start_time": "2024-12-26T13:02:03.134Z"
   },
   {
    "duration": 18,
    "start_time": "2024-12-26T13:02:03.161Z"
   },
   {
    "duration": 29,
    "start_time": "2024-12-26T13:02:03.180Z"
   },
   {
    "duration": 18,
    "start_time": "2024-12-26T13:02:03.211Z"
   },
   {
    "duration": 9,
    "start_time": "2024-12-26T13:02:03.231Z"
   },
   {
    "duration": 6,
    "start_time": "2024-12-26T13:02:03.241Z"
   },
   {
    "duration": 3,
    "start_time": "2024-12-26T13:02:03.248Z"
   },
   {
    "duration": 9,
    "start_time": "2024-12-26T13:02:03.252Z"
   },
   {
    "duration": 3,
    "start_time": "2024-12-26T13:02:03.262Z"
   },
   {
    "duration": 23,
    "start_time": "2024-12-26T13:02:03.266Z"
   },
   {
    "duration": 25,
    "start_time": "2024-12-26T13:02:03.291Z"
   },
   {
    "duration": 21,
    "start_time": "2024-12-26T13:02:03.318Z"
   },
   {
    "duration": 9,
    "start_time": "2024-12-26T13:02:03.340Z"
   },
   {
    "duration": 9,
    "start_time": "2024-12-26T13:02:03.350Z"
   },
   {
    "duration": 69,
    "start_time": "2024-12-26T13:02:48.214Z"
   },
   {
    "duration": 14,
    "start_time": "2024-12-26T13:02:48.285Z"
   },
   {
    "duration": 13,
    "start_time": "2024-12-26T13:02:48.301Z"
   },
   {
    "duration": 9,
    "start_time": "2024-12-26T13:02:48.315Z"
   },
   {
    "duration": 30,
    "start_time": "2024-12-26T13:02:48.326Z"
   },
   {
    "duration": 3,
    "start_time": "2024-12-26T13:02:48.358Z"
   },
   {
    "duration": 26,
    "start_time": "2024-12-26T13:02:48.362Z"
   },
   {
    "duration": 56,
    "start_time": "2024-12-26T13:02:48.390Z"
   },
   {
    "duration": 14,
    "start_time": "2024-12-26T13:02:48.447Z"
   },
   {
    "duration": 5,
    "start_time": "2024-12-26T13:02:48.462Z"
   },
   {
    "duration": 31,
    "start_time": "2024-12-26T13:02:48.468Z"
   },
   {
    "duration": 9,
    "start_time": "2024-12-26T13:02:48.501Z"
   },
   {
    "duration": 20,
    "start_time": "2024-12-26T13:02:48.511Z"
   },
   {
    "duration": 12,
    "start_time": "2024-12-26T13:02:48.533Z"
   },
   {
    "duration": 18,
    "start_time": "2024-12-26T13:02:48.547Z"
   },
   {
    "duration": 23,
    "start_time": "2024-12-26T13:02:48.566Z"
   },
   {
    "duration": 3,
    "start_time": "2024-12-26T13:02:48.590Z"
   },
   {
    "duration": 13,
    "start_time": "2024-12-26T13:02:48.595Z"
   },
   {
    "duration": 6,
    "start_time": "2024-12-26T13:02:48.609Z"
   },
   {
    "duration": 6,
    "start_time": "2024-12-26T13:02:48.616Z"
   },
   {
    "duration": 12,
    "start_time": "2024-12-26T13:02:48.624Z"
   },
   {
    "duration": 3,
    "start_time": "2024-12-26T13:02:48.638Z"
   },
   {
    "duration": 84,
    "start_time": "2024-12-26T13:02:48.643Z"
   },
   {
    "duration": 0,
    "start_time": "2024-12-26T13:02:48.728Z"
   },
   {
    "duration": 0,
    "start_time": "2024-12-26T13:02:48.730Z"
   },
   {
    "duration": 0,
    "start_time": "2024-12-26T13:02:48.732Z"
   },
   {
    "duration": 0,
    "start_time": "2024-12-26T13:02:48.733Z"
   },
   {
    "duration": 67,
    "start_time": "2024-12-26T13:03:18.673Z"
   },
   {
    "duration": 14,
    "start_time": "2024-12-26T13:03:18.742Z"
   },
   {
    "duration": 15,
    "start_time": "2024-12-26T13:03:18.757Z"
   },
   {
    "duration": 14,
    "start_time": "2024-12-26T13:03:18.773Z"
   },
   {
    "duration": 28,
    "start_time": "2024-12-26T13:03:18.788Z"
   },
   {
    "duration": 3,
    "start_time": "2024-12-26T13:03:18.818Z"
   },
   {
    "duration": 17,
    "start_time": "2024-12-26T13:03:18.822Z"
   },
   {
    "duration": 12,
    "start_time": "2024-12-26T13:03:18.840Z"
   },
   {
    "duration": 19,
    "start_time": "2024-12-26T13:03:18.853Z"
   },
   {
    "duration": 14,
    "start_time": "2024-12-26T13:03:18.875Z"
   },
   {
    "duration": 33,
    "start_time": "2024-12-26T13:03:18.890Z"
   },
   {
    "duration": 9,
    "start_time": "2024-12-26T13:03:18.924Z"
   },
   {
    "duration": 6,
    "start_time": "2024-12-26T13:03:18.935Z"
   },
   {
    "duration": 26,
    "start_time": "2024-12-26T13:03:18.942Z"
   },
   {
    "duration": 36,
    "start_time": "2024-12-26T13:03:18.970Z"
   },
   {
    "duration": 19,
    "start_time": "2024-12-26T13:03:19.008Z"
   },
   {
    "duration": 13,
    "start_time": "2024-12-26T13:03:19.029Z"
   },
   {
    "duration": 39,
    "start_time": "2024-12-26T13:03:19.043Z"
   },
   {
    "duration": 5,
    "start_time": "2024-12-26T13:03:19.084Z"
   },
   {
    "duration": 4,
    "start_time": "2024-12-26T13:03:19.090Z"
   },
   {
    "duration": 17,
    "start_time": "2024-12-26T13:03:19.096Z"
   },
   {
    "duration": 3,
    "start_time": "2024-12-26T13:03:19.115Z"
   },
   {
    "duration": 3,
    "start_time": "2024-12-26T13:03:19.120Z"
   },
   {
    "duration": 2997,
    "start_time": "2024-12-26T13:03:19.125Z"
   },
   {
    "duration": 10,
    "start_time": "2024-12-26T13:03:22.123Z"
   },
   {
    "duration": 17,
    "start_time": "2024-12-26T13:03:22.134Z"
   },
   {
    "duration": 26,
    "start_time": "2024-12-26T13:03:22.153Z"
   },
   {
    "duration": 69,
    "start_time": "2024-12-26T13:04:18.750Z"
   },
   {
    "duration": 15,
    "start_time": "2024-12-26T13:04:18.821Z"
   },
   {
    "duration": 15,
    "start_time": "2024-12-26T13:04:18.837Z"
   },
   {
    "duration": 10,
    "start_time": "2024-12-26T13:04:18.853Z"
   },
   {
    "duration": 47,
    "start_time": "2024-12-26T13:04:18.865Z"
   },
   {
    "duration": 4,
    "start_time": "2024-12-26T13:04:18.913Z"
   },
   {
    "duration": 37,
    "start_time": "2024-12-26T13:04:18.919Z"
   },
   {
    "duration": 7,
    "start_time": "2024-12-26T13:04:18.957Z"
   },
   {
    "duration": 13,
    "start_time": "2024-12-26T13:04:18.966Z"
   },
   {
    "duration": 10,
    "start_time": "2024-12-26T13:04:18.981Z"
   },
   {
    "duration": 44,
    "start_time": "2024-12-26T13:04:18.992Z"
   },
   {
    "duration": 15,
    "start_time": "2024-12-26T13:04:19.038Z"
   },
   {
    "duration": 27,
    "start_time": "2024-12-26T13:04:19.054Z"
   },
   {
    "duration": 21,
    "start_time": "2024-12-26T13:04:19.083Z"
   },
   {
    "duration": 29,
    "start_time": "2024-12-26T13:04:19.106Z"
   },
   {
    "duration": 18,
    "start_time": "2024-12-26T13:04:19.137Z"
   },
   {
    "duration": 3,
    "start_time": "2024-12-26T13:04:19.157Z"
   },
   {
    "duration": 15,
    "start_time": "2024-12-26T13:04:19.161Z"
   },
   {
    "duration": 20,
    "start_time": "2024-12-26T13:04:19.177Z"
   },
   {
    "duration": 4,
    "start_time": "2024-12-26T13:04:19.198Z"
   },
   {
    "duration": 34,
    "start_time": "2024-12-26T13:04:19.203Z"
   },
   {
    "duration": 10,
    "start_time": "2024-12-26T13:04:19.239Z"
   },
   {
    "duration": 6,
    "start_time": "2024-12-26T13:04:19.251Z"
   },
   {
    "duration": 43,
    "start_time": "2024-12-26T13:04:19.259Z"
   },
   {
    "duration": 9,
    "start_time": "2024-12-26T13:04:19.303Z"
   },
   {
    "duration": 20,
    "start_time": "2024-12-26T13:04:19.314Z"
   },
   {
    "duration": 13,
    "start_time": "2024-12-26T13:04:19.335Z"
   },
   {
    "duration": 67,
    "start_time": "2024-12-26T13:05:33.560Z"
   },
   {
    "duration": 15,
    "start_time": "2024-12-26T13:05:33.630Z"
   },
   {
    "duration": 19,
    "start_time": "2024-12-26T13:05:33.647Z"
   },
   {
    "duration": 13,
    "start_time": "2024-12-26T13:05:33.668Z"
   },
   {
    "duration": 38,
    "start_time": "2024-12-26T13:05:33.682Z"
   },
   {
    "duration": 3,
    "start_time": "2024-12-26T13:05:33.721Z"
   },
   {
    "duration": 13,
    "start_time": "2024-12-26T13:05:33.725Z"
   },
   {
    "duration": 20,
    "start_time": "2024-12-26T13:05:33.739Z"
   },
   {
    "duration": 44,
    "start_time": "2024-12-26T13:05:33.761Z"
   },
   {
    "duration": 33,
    "start_time": "2024-12-26T13:05:33.808Z"
   },
   {
    "duration": 40,
    "start_time": "2024-12-26T13:05:33.842Z"
   },
   {
    "duration": 8,
    "start_time": "2024-12-26T13:05:33.883Z"
   },
   {
    "duration": 31,
    "start_time": "2024-12-26T13:05:33.893Z"
   },
   {
    "duration": 66,
    "start_time": "2024-12-26T13:05:33.926Z"
   },
   {
    "duration": 47,
    "start_time": "2024-12-26T13:05:33.993Z"
   },
   {
    "duration": 30,
    "start_time": "2024-12-26T13:05:34.041Z"
   },
   {
    "duration": 20,
    "start_time": "2024-12-26T13:05:34.072Z"
   },
   {
    "duration": 37,
    "start_time": "2024-12-26T13:05:34.093Z"
   },
   {
    "duration": 23,
    "start_time": "2024-12-26T13:05:34.131Z"
   },
   {
    "duration": 30,
    "start_time": "2024-12-26T13:05:34.155Z"
   },
   {
    "duration": 27,
    "start_time": "2024-12-26T13:05:34.186Z"
   },
   {
    "duration": 11,
    "start_time": "2024-12-26T13:05:34.215Z"
   },
   {
    "duration": 4,
    "start_time": "2024-12-26T13:05:34.228Z"
   },
   {
    "duration": 36,
    "start_time": "2024-12-26T13:05:34.233Z"
   },
   {
    "duration": 10,
    "start_time": "2024-12-26T13:05:34.270Z"
   },
   {
    "duration": 32,
    "start_time": "2024-12-26T13:05:34.282Z"
   },
   {
    "duration": 12,
    "start_time": "2024-12-26T13:05:34.316Z"
   },
   {
    "duration": 66,
    "start_time": "2024-12-26T13:06:01.370Z"
   },
   {
    "duration": 14,
    "start_time": "2024-12-26T13:06:01.438Z"
   },
   {
    "duration": 54,
    "start_time": "2024-12-26T13:06:01.453Z"
   },
   {
    "duration": 19,
    "start_time": "2024-12-26T13:06:01.508Z"
   },
   {
    "duration": 59,
    "start_time": "2024-12-26T13:06:01.528Z"
   },
   {
    "duration": 3,
    "start_time": "2024-12-26T13:06:01.589Z"
   },
   {
    "duration": 34,
    "start_time": "2024-12-26T13:06:01.593Z"
   },
   {
    "duration": 7,
    "start_time": "2024-12-26T13:06:01.629Z"
   },
   {
    "duration": 27,
    "start_time": "2024-12-26T13:06:01.637Z"
   },
   {
    "duration": 14,
    "start_time": "2024-12-26T13:06:01.666Z"
   },
   {
    "duration": 61,
    "start_time": "2024-12-26T13:06:01.681Z"
   },
   {
    "duration": 10,
    "start_time": "2024-12-26T13:06:01.743Z"
   },
   {
    "duration": 21,
    "start_time": "2024-12-26T13:06:01.754Z"
   },
   {
    "duration": 41,
    "start_time": "2024-12-26T13:06:01.776Z"
   },
   {
    "duration": 45,
    "start_time": "2024-12-26T13:06:01.819Z"
   },
   {
    "duration": 48,
    "start_time": "2024-12-26T13:06:01.865Z"
   },
   {
    "duration": 53,
    "start_time": "2024-12-26T13:06:01.915Z"
   },
   {
    "duration": 40,
    "start_time": "2024-12-26T13:06:01.970Z"
   },
   {
    "duration": 45,
    "start_time": "2024-12-26T13:06:02.011Z"
   },
   {
    "duration": 7,
    "start_time": "2024-12-26T13:06:02.057Z"
   },
   {
    "duration": 10,
    "start_time": "2024-12-26T13:06:02.065Z"
   },
   {
    "duration": 36,
    "start_time": "2024-12-26T13:06:02.076Z"
   },
   {
    "duration": 25,
    "start_time": "2024-12-26T13:06:02.113Z"
   },
   {
    "duration": 35,
    "start_time": "2024-12-26T13:06:02.140Z"
   },
   {
    "duration": 54,
    "start_time": "2024-12-26T13:06:02.177Z"
   },
   {
    "duration": 35,
    "start_time": "2024-12-26T13:06:02.233Z"
   },
   {
    "duration": 43,
    "start_time": "2024-12-26T13:06:02.270Z"
   },
   {
    "duration": 15,
    "start_time": "2024-12-26T13:10:34.157Z"
   },
   {
    "duration": 13,
    "start_time": "2024-12-26T13:11:58.603Z"
   },
   {
    "duration": 67,
    "start_time": "2024-12-26T13:12:49.177Z"
   },
   {
    "duration": 14,
    "start_time": "2024-12-26T13:12:49.246Z"
   },
   {
    "duration": 22,
    "start_time": "2024-12-26T13:12:49.261Z"
   },
   {
    "duration": 9,
    "start_time": "2024-12-26T13:12:49.284Z"
   },
   {
    "duration": 33,
    "start_time": "2024-12-26T13:12:49.294Z"
   },
   {
    "duration": 3,
    "start_time": "2024-12-26T13:12:49.329Z"
   },
   {
    "duration": 22,
    "start_time": "2024-12-26T13:12:49.333Z"
   },
   {
    "duration": 7,
    "start_time": "2024-12-26T13:12:49.357Z"
   },
   {
    "duration": 15,
    "start_time": "2024-12-26T13:12:49.366Z"
   },
   {
    "duration": 26,
    "start_time": "2024-12-26T13:12:49.383Z"
   },
   {
    "duration": 45,
    "start_time": "2024-12-26T13:12:49.411Z"
   },
   {
    "duration": 14,
    "start_time": "2024-12-26T13:12:49.458Z"
   },
   {
    "duration": 5,
    "start_time": "2024-12-26T13:12:49.474Z"
   },
   {
    "duration": 14,
    "start_time": "2024-12-26T13:12:49.481Z"
   },
   {
    "duration": 20,
    "start_time": "2024-12-26T13:12:49.496Z"
   },
   {
    "duration": 18,
    "start_time": "2024-12-26T13:12:49.517Z"
   },
   {
    "duration": 3,
    "start_time": "2024-12-26T13:12:49.537Z"
   },
   {
    "duration": 14,
    "start_time": "2024-12-26T13:12:49.541Z"
   },
   {
    "duration": 4,
    "start_time": "2024-12-26T13:12:49.557Z"
   },
   {
    "duration": 8,
    "start_time": "2024-12-26T13:12:49.563Z"
   },
   {
    "duration": 8,
    "start_time": "2024-12-26T13:12:49.586Z"
   },
   {
    "duration": 4,
    "start_time": "2024-12-26T13:12:49.595Z"
   },
   {
    "duration": 4,
    "start_time": "2024-12-26T13:12:49.600Z"
   },
   {
    "duration": 15,
    "start_time": "2024-12-26T13:12:49.605Z"
   },
   {
    "duration": 29,
    "start_time": "2024-12-26T13:12:49.621Z"
   },
   {
    "duration": 22,
    "start_time": "2024-12-26T13:12:49.651Z"
   },
   {
    "duration": 11,
    "start_time": "2024-12-26T13:12:49.674Z"
   },
   {
    "duration": 2,
    "start_time": "2024-12-26T13:13:28.152Z"
   },
   {
    "duration": 67,
    "start_time": "2024-12-26T13:13:30.437Z"
   },
   {
    "duration": 20,
    "start_time": "2024-12-26T13:13:30.506Z"
   },
   {
    "duration": 43,
    "start_time": "2024-12-26T13:13:30.527Z"
   },
   {
    "duration": 32,
    "start_time": "2024-12-26T13:13:30.572Z"
   },
   {
    "duration": 35,
    "start_time": "2024-12-26T13:13:30.606Z"
   },
   {
    "duration": 2,
    "start_time": "2024-12-26T13:13:30.643Z"
   },
   {
    "duration": 22,
    "start_time": "2024-12-26T13:13:30.647Z"
   },
   {
    "duration": 25,
    "start_time": "2024-12-26T13:13:30.670Z"
   },
   {
    "duration": 16,
    "start_time": "2024-12-26T13:13:30.697Z"
   },
   {
    "duration": 11,
    "start_time": "2024-12-26T13:13:30.716Z"
   },
   {
    "duration": 59,
    "start_time": "2024-12-26T13:13:30.729Z"
   },
   {
    "duration": 10,
    "start_time": "2024-12-26T13:13:30.789Z"
   },
   {
    "duration": 22,
    "start_time": "2024-12-26T13:13:30.801Z"
   },
   {
    "duration": 14,
    "start_time": "2024-12-26T13:13:30.825Z"
   },
   {
    "duration": 45,
    "start_time": "2024-12-26T13:13:30.841Z"
   },
   {
    "duration": 38,
    "start_time": "2024-12-26T13:13:30.888Z"
   },
   {
    "duration": 4,
    "start_time": "2024-12-26T13:13:30.927Z"
   },
   {
    "duration": 19,
    "start_time": "2024-12-26T13:13:30.932Z"
   },
   {
    "duration": 5,
    "start_time": "2024-12-26T13:13:30.952Z"
   },
   {
    "duration": 7,
    "start_time": "2024-12-26T13:13:30.959Z"
   },
   {
    "duration": 32,
    "start_time": "2024-12-26T13:13:30.967Z"
   },
   {
    "duration": 14,
    "start_time": "2024-12-26T13:13:31.000Z"
   },
   {
    "duration": 8,
    "start_time": "2024-12-26T13:13:31.015Z"
   },
   {
    "duration": 32,
    "start_time": "2024-12-26T13:13:31.025Z"
   },
   {
    "duration": 116,
    "start_time": "2024-12-26T13:13:31.059Z"
   },
   {
    "duration": 20,
    "start_time": "2024-12-26T13:13:31.176Z"
   },
   {
    "duration": 32,
    "start_time": "2024-12-26T13:13:31.197Z"
   },
   {
    "duration": 67,
    "start_time": "2024-12-26T13:13:59.162Z"
   },
   {
    "duration": 14,
    "start_time": "2024-12-26T13:13:59.230Z"
   },
   {
    "duration": 31,
    "start_time": "2024-12-26T13:13:59.246Z"
   },
   {
    "duration": 9,
    "start_time": "2024-12-26T13:13:59.279Z"
   },
   {
    "duration": 30,
    "start_time": "2024-12-26T13:13:59.290Z"
   },
   {
    "duration": 3,
    "start_time": "2024-12-26T13:13:59.321Z"
   },
   {
    "duration": 15,
    "start_time": "2024-12-26T13:13:59.326Z"
   },
   {
    "duration": 4,
    "start_time": "2024-12-26T13:13:59.343Z"
   },
   {
    "duration": 11,
    "start_time": "2024-12-26T13:13:59.349Z"
   },
   {
    "duration": 22,
    "start_time": "2024-12-26T13:13:59.364Z"
   },
   {
    "duration": 33,
    "start_time": "2024-12-26T13:13:59.388Z"
   },
   {
    "duration": 16,
    "start_time": "2024-12-26T13:13:59.424Z"
   },
   {
    "duration": 6,
    "start_time": "2024-12-26T13:13:59.441Z"
   },
   {
    "duration": 40,
    "start_time": "2024-12-26T13:13:59.449Z"
   },
   {
    "duration": 18,
    "start_time": "2024-12-26T13:13:59.490Z"
   },
   {
    "duration": 72,
    "start_time": "2024-12-26T13:13:59.510Z"
   },
   {
    "duration": 3,
    "start_time": "2024-12-26T13:13:59.584Z"
   },
   {
    "duration": 14,
    "start_time": "2024-12-26T13:13:59.588Z"
   },
   {
    "duration": 5,
    "start_time": "2024-12-26T13:13:59.603Z"
   },
   {
    "duration": 4,
    "start_time": "2024-12-26T13:13:59.609Z"
   },
   {
    "duration": 9,
    "start_time": "2024-12-26T13:13:59.614Z"
   },
   {
    "duration": 3,
    "start_time": "2024-12-26T13:13:59.624Z"
   },
   {
    "duration": 3,
    "start_time": "2024-12-26T13:13:59.629Z"
   },
   {
    "duration": 16,
    "start_time": "2024-12-26T13:13:59.634Z"
   },
   {
    "duration": 36,
    "start_time": "2024-12-26T13:13:59.651Z"
   },
   {
    "duration": 8,
    "start_time": "2024-12-26T13:13:59.689Z"
   },
   {
    "duration": 12,
    "start_time": "2024-12-26T13:13:59.699Z"
   },
   {
    "duration": 68,
    "start_time": "2024-12-26T13:14:56.756Z"
   },
   {
    "duration": 15,
    "start_time": "2024-12-26T13:14:56.826Z"
   },
   {
    "duration": 14,
    "start_time": "2024-12-26T13:14:56.842Z"
   },
   {
    "duration": 8,
    "start_time": "2024-12-26T13:14:56.858Z"
   },
   {
    "duration": 46,
    "start_time": "2024-12-26T13:14:56.868Z"
   },
   {
    "duration": 3,
    "start_time": "2024-12-26T13:14:56.915Z"
   },
   {
    "duration": 11,
    "start_time": "2024-12-26T13:14:56.920Z"
   },
   {
    "duration": 23,
    "start_time": "2024-12-26T13:14:56.933Z"
   },
   {
    "duration": 32,
    "start_time": "2024-12-26T13:14:56.957Z"
   },
   {
    "duration": 24,
    "start_time": "2024-12-26T13:14:56.991Z"
   },
   {
    "duration": 42,
    "start_time": "2024-12-26T13:14:57.017Z"
   },
   {
    "duration": 9,
    "start_time": "2024-12-26T13:14:57.060Z"
   },
   {
    "duration": 5,
    "start_time": "2024-12-26T13:14:57.070Z"
   },
   {
    "duration": 15,
    "start_time": "2024-12-26T13:14:57.077Z"
   },
   {
    "duration": 19,
    "start_time": "2024-12-26T13:14:57.093Z"
   },
   {
    "duration": 51,
    "start_time": "2024-12-26T13:14:57.113Z"
   },
   {
    "duration": 3,
    "start_time": "2024-12-26T13:14:57.166Z"
   },
   {
    "duration": 11,
    "start_time": "2024-12-26T13:14:57.170Z"
   },
   {
    "duration": 7,
    "start_time": "2024-12-26T13:14:57.183Z"
   },
   {
    "duration": 4,
    "start_time": "2024-12-26T13:14:57.191Z"
   },
   {
    "duration": 10,
    "start_time": "2024-12-26T13:14:57.196Z"
   },
   {
    "duration": 5,
    "start_time": "2024-12-26T13:14:57.207Z"
   },
   {
    "duration": 4,
    "start_time": "2024-12-26T13:14:57.213Z"
   },
   {
    "duration": 16,
    "start_time": "2024-12-26T13:14:57.218Z"
   },
   {
    "duration": 12,
    "start_time": "2024-12-26T13:14:57.235Z"
   },
   {
    "duration": 43,
    "start_time": "2024-12-26T13:14:57.249Z"
   },
   {
    "duration": 14,
    "start_time": "2024-12-26T13:14:57.294Z"
   },
   {
    "duration": 68,
    "start_time": "2024-12-26T13:15:45.971Z"
   },
   {
    "duration": 14,
    "start_time": "2024-12-26T13:15:46.040Z"
   },
   {
    "duration": 14,
    "start_time": "2024-12-26T13:15:46.056Z"
   },
   {
    "duration": 15,
    "start_time": "2024-12-26T13:15:46.072Z"
   },
   {
    "duration": 32,
    "start_time": "2024-12-26T13:15:46.088Z"
   },
   {
    "duration": 3,
    "start_time": "2024-12-26T13:15:46.122Z"
   },
   {
    "duration": 16,
    "start_time": "2024-12-26T13:15:46.127Z"
   },
   {
    "duration": 5,
    "start_time": "2024-12-26T13:15:46.145Z"
   },
   {
    "duration": 22,
    "start_time": "2024-12-26T13:15:46.151Z"
   },
   {
    "duration": 14,
    "start_time": "2024-12-26T13:15:46.186Z"
   },
   {
    "duration": 62,
    "start_time": "2024-12-26T13:15:46.202Z"
   },
   {
    "duration": 10,
    "start_time": "2024-12-26T13:15:46.266Z"
   },
   {
    "duration": 33,
    "start_time": "2024-12-26T13:15:46.278Z"
   },
   {
    "duration": 21,
    "start_time": "2024-12-26T13:15:46.312Z"
   },
   {
    "duration": 18,
    "start_time": "2024-12-26T13:15:46.335Z"
   },
   {
    "duration": 18,
    "start_time": "2024-12-26T13:15:46.355Z"
   },
   {
    "duration": 3,
    "start_time": "2024-12-26T13:15:46.375Z"
   },
   {
    "duration": 11,
    "start_time": "2024-12-26T13:15:46.379Z"
   },
   {
    "duration": 6,
    "start_time": "2024-12-26T13:15:46.392Z"
   },
   {
    "duration": 3,
    "start_time": "2024-12-26T13:15:46.399Z"
   },
   {
    "duration": 12,
    "start_time": "2024-12-26T13:15:46.403Z"
   },
   {
    "duration": 3,
    "start_time": "2024-12-26T13:15:46.417Z"
   },
   {
    "duration": 4,
    "start_time": "2024-12-26T13:15:46.421Z"
   },
   {
    "duration": 22,
    "start_time": "2024-12-26T13:15:46.426Z"
   },
   {
    "duration": 11,
    "start_time": "2024-12-26T13:15:46.450Z"
   },
   {
    "duration": 46,
    "start_time": "2024-12-26T13:15:46.462Z"
   },
   {
    "duration": 51,
    "start_time": "2024-12-26T13:15:46.509Z"
   },
   {
    "duration": 66,
    "start_time": "2024-12-26T13:16:34.849Z"
   },
   {
    "duration": 16,
    "start_time": "2024-12-26T13:16:34.917Z"
   },
   {
    "duration": 32,
    "start_time": "2024-12-26T13:16:34.935Z"
   },
   {
    "duration": 12,
    "start_time": "2024-12-26T13:16:34.970Z"
   },
   {
    "duration": 45,
    "start_time": "2024-12-26T13:16:34.984Z"
   },
   {
    "duration": 4,
    "start_time": "2024-12-26T13:16:35.031Z"
   },
   {
    "duration": 14,
    "start_time": "2024-12-26T13:16:35.036Z"
   },
   {
    "duration": 23,
    "start_time": "2024-12-26T13:16:35.052Z"
   },
   {
    "duration": 27,
    "start_time": "2024-12-26T13:16:35.077Z"
   },
   {
    "duration": 41,
    "start_time": "2024-12-26T13:16:35.108Z"
   },
   {
    "duration": 31,
    "start_time": "2024-12-26T13:16:35.151Z"
   },
   {
    "duration": 12,
    "start_time": "2024-12-26T13:16:35.184Z"
   },
   {
    "duration": 19,
    "start_time": "2024-12-26T13:16:35.197Z"
   },
   {
    "duration": 36,
    "start_time": "2024-12-26T13:16:35.217Z"
   },
   {
    "duration": 26,
    "start_time": "2024-12-26T13:16:35.255Z"
   },
   {
    "duration": 19,
    "start_time": "2024-12-26T13:16:35.282Z"
   },
   {
    "duration": 11,
    "start_time": "2024-12-26T13:16:35.302Z"
   },
   {
    "duration": 23,
    "start_time": "2024-12-26T13:16:35.314Z"
   },
   {
    "duration": 6,
    "start_time": "2024-12-26T13:16:35.338Z"
   },
   {
    "duration": 3,
    "start_time": "2024-12-26T13:16:35.345Z"
   },
   {
    "duration": 8,
    "start_time": "2024-12-26T13:16:35.350Z"
   },
   {
    "duration": 26,
    "start_time": "2024-12-26T13:16:35.359Z"
   },
   {
    "duration": 27,
    "start_time": "2024-12-26T13:16:35.387Z"
   },
   {
    "duration": 11,
    "start_time": "2024-12-26T13:16:35.416Z"
   },
   {
    "duration": 12,
    "start_time": "2024-12-26T13:16:35.429Z"
   },
   {
    "duration": 9,
    "start_time": "2024-12-26T13:16:35.443Z"
   },
   {
    "duration": 12,
    "start_time": "2024-12-26T13:16:35.453Z"
   },
   {
    "duration": 68,
    "start_time": "2024-12-26T13:20:37.293Z"
   },
   {
    "duration": 14,
    "start_time": "2024-12-26T13:20:37.363Z"
   },
   {
    "duration": 14,
    "start_time": "2024-12-26T13:20:37.378Z"
   },
   {
    "duration": 9,
    "start_time": "2024-12-26T13:20:37.394Z"
   },
   {
    "duration": 30,
    "start_time": "2024-12-26T13:20:37.404Z"
   },
   {
    "duration": 3,
    "start_time": "2024-12-26T13:20:37.435Z"
   },
   {
    "duration": 9,
    "start_time": "2024-12-26T13:20:37.440Z"
   },
   {
    "duration": 4,
    "start_time": "2024-12-26T13:20:37.450Z"
   },
   {
    "duration": 31,
    "start_time": "2024-12-26T13:20:37.455Z"
   },
   {
    "duration": 4,
    "start_time": "2024-12-26T13:20:37.489Z"
   },
   {
    "duration": 31,
    "start_time": "2024-12-26T13:20:37.495Z"
   },
   {
    "duration": 9,
    "start_time": "2024-12-26T13:20:37.527Z"
   },
   {
    "duration": 50,
    "start_time": "2024-12-26T13:20:37.537Z"
   },
   {
    "duration": 11,
    "start_time": "2024-12-26T13:20:37.589Z"
   },
   {
    "duration": 22,
    "start_time": "2024-12-26T13:20:37.602Z"
   },
   {
    "duration": 18,
    "start_time": "2024-12-26T13:20:37.626Z"
   },
   {
    "duration": 3,
    "start_time": "2024-12-26T13:20:37.646Z"
   },
   {
    "duration": 10,
    "start_time": "2024-12-26T13:20:37.651Z"
   },
   {
    "duration": 27,
    "start_time": "2024-12-26T13:20:37.663Z"
   },
   {
    "duration": 15,
    "start_time": "2024-12-26T13:20:37.692Z"
   },
   {
    "duration": 13,
    "start_time": "2024-12-26T13:20:37.709Z"
   },
   {
    "duration": 2,
    "start_time": "2024-12-26T13:20:37.724Z"
   },
   {
    "duration": 3,
    "start_time": "2024-12-26T13:20:37.728Z"
   },
   {
    "duration": 14,
    "start_time": "2024-12-26T13:20:37.733Z"
   },
   {
    "duration": 17,
    "start_time": "2024-12-26T13:20:37.749Z"
   },
   {
    "duration": 20,
    "start_time": "2024-12-26T13:20:37.767Z"
   },
   {
    "duration": 10,
    "start_time": "2024-12-26T13:20:37.789Z"
   },
   {
    "duration": 69,
    "start_time": "2024-12-26T13:22:51.844Z"
   },
   {
    "duration": 14,
    "start_time": "2024-12-26T13:22:51.915Z"
   },
   {
    "duration": 29,
    "start_time": "2024-12-26T13:22:51.931Z"
   },
   {
    "duration": 63,
    "start_time": "2024-12-26T13:22:51.962Z"
   },
   {
    "duration": 33,
    "start_time": "2024-12-26T13:22:52.027Z"
   },
   {
    "duration": 3,
    "start_time": "2024-12-26T13:22:52.061Z"
   },
   {
    "duration": 20,
    "start_time": "2024-12-26T13:22:52.065Z"
   },
   {
    "duration": 17,
    "start_time": "2024-12-26T13:22:52.086Z"
   },
   {
    "duration": 14,
    "start_time": "2024-12-26T13:22:52.104Z"
   },
   {
    "duration": 4,
    "start_time": "2024-12-26T13:22:52.121Z"
   },
   {
    "duration": 37,
    "start_time": "2024-12-26T13:22:52.127Z"
   },
   {
    "duration": 10,
    "start_time": "2024-12-26T13:22:52.166Z"
   },
   {
    "duration": 9,
    "start_time": "2024-12-26T13:22:52.177Z"
   },
   {
    "duration": 10,
    "start_time": "2024-12-26T13:22:52.187Z"
   },
   {
    "duration": 23,
    "start_time": "2024-12-26T13:22:52.199Z"
   },
   {
    "duration": 18,
    "start_time": "2024-12-26T13:22:52.223Z"
   },
   {
    "duration": 36,
    "start_time": "2024-12-26T13:22:52.242Z"
   },
   {
    "duration": 18,
    "start_time": "2024-12-26T13:22:52.280Z"
   },
   {
    "duration": 14,
    "start_time": "2024-12-26T13:22:52.299Z"
   },
   {
    "duration": 3,
    "start_time": "2024-12-26T13:22:52.315Z"
   },
   {
    "duration": 9,
    "start_time": "2024-12-26T13:22:52.319Z"
   },
   {
    "duration": 5,
    "start_time": "2024-12-26T13:22:52.330Z"
   },
   {
    "duration": 5,
    "start_time": "2024-12-26T13:22:52.336Z"
   },
   {
    "duration": 24,
    "start_time": "2024-12-26T13:22:52.343Z"
   },
   {
    "duration": 25,
    "start_time": "2024-12-26T13:22:52.369Z"
   },
   {
    "duration": 10,
    "start_time": "2024-12-26T13:22:52.396Z"
   },
   {
    "duration": 12,
    "start_time": "2024-12-26T13:22:52.407Z"
   },
   {
    "duration": 66,
    "start_time": "2024-12-26T13:28:37.670Z"
   },
   {
    "duration": 15,
    "start_time": "2024-12-26T13:28:37.738Z"
   },
   {
    "duration": 25,
    "start_time": "2024-12-26T13:28:37.754Z"
   },
   {
    "duration": 14,
    "start_time": "2024-12-26T13:28:37.781Z"
   },
   {
    "duration": 30,
    "start_time": "2024-12-26T13:28:37.797Z"
   },
   {
    "duration": 3,
    "start_time": "2024-12-26T13:28:37.829Z"
   },
   {
    "duration": 10,
    "start_time": "2024-12-26T13:28:37.834Z"
   },
   {
    "duration": 4,
    "start_time": "2024-12-26T13:28:37.845Z"
   },
   {
    "duration": 6,
    "start_time": "2024-12-26T13:28:37.851Z"
   },
   {
    "duration": 30,
    "start_time": "2024-12-26T13:28:37.859Z"
   },
   {
    "duration": 34,
    "start_time": "2024-12-26T13:28:37.890Z"
   },
   {
    "duration": 8,
    "start_time": "2024-12-26T13:28:37.926Z"
   },
   {
    "duration": 13,
    "start_time": "2024-12-26T13:28:37.936Z"
   },
   {
    "duration": 13,
    "start_time": "2024-12-26T13:28:37.950Z"
   },
   {
    "duration": 37,
    "start_time": "2024-12-26T13:28:37.965Z"
   },
   {
    "duration": 31,
    "start_time": "2024-12-26T13:28:38.004Z"
   },
   {
    "duration": 3,
    "start_time": "2024-12-26T13:28:38.037Z"
   },
   {
    "duration": 30,
    "start_time": "2024-12-26T13:28:38.042Z"
   },
   {
    "duration": 19,
    "start_time": "2024-12-26T13:28:38.073Z"
   },
   {
    "duration": 26,
    "start_time": "2024-12-26T13:28:38.093Z"
   },
   {
    "duration": 9,
    "start_time": "2024-12-26T13:28:38.120Z"
   },
   {
    "duration": 4,
    "start_time": "2024-12-26T13:28:38.131Z"
   },
   {
    "duration": 4,
    "start_time": "2024-12-26T13:28:38.137Z"
   },
   {
    "duration": 25,
    "start_time": "2024-12-26T13:28:38.142Z"
   },
   {
    "duration": 12,
    "start_time": "2024-12-26T13:28:38.168Z"
   },
   {
    "duration": 12,
    "start_time": "2024-12-26T13:28:38.181Z"
   },
   {
    "duration": 18,
    "start_time": "2024-12-26T13:28:38.195Z"
   },
   {
    "duration": 68,
    "start_time": "2024-12-26T13:29:12.642Z"
   },
   {
    "duration": 15,
    "start_time": "2024-12-26T13:29:12.712Z"
   },
   {
    "duration": 18,
    "start_time": "2024-12-26T13:29:12.728Z"
   },
   {
    "duration": 20,
    "start_time": "2024-12-26T13:29:12.747Z"
   },
   {
    "duration": 39,
    "start_time": "2024-12-26T13:29:12.770Z"
   },
   {
    "duration": 3,
    "start_time": "2024-12-26T13:29:12.811Z"
   },
   {
    "duration": 16,
    "start_time": "2024-12-26T13:29:12.815Z"
   },
   {
    "duration": 5,
    "start_time": "2024-12-26T13:29:12.833Z"
   },
   {
    "duration": 10,
    "start_time": "2024-12-26T13:29:12.840Z"
   },
   {
    "duration": 4,
    "start_time": "2024-12-26T13:29:12.852Z"
   },
   {
    "duration": 67,
    "start_time": "2024-12-26T13:29:12.858Z"
   },
   {
    "duration": 10,
    "start_time": "2024-12-26T13:29:12.927Z"
   },
   {
    "duration": 4,
    "start_time": "2024-12-26T13:29:12.939Z"
   },
   {
    "duration": 10,
    "start_time": "2024-12-26T13:29:12.947Z"
   },
   {
    "duration": 41,
    "start_time": "2024-12-26T13:29:12.958Z"
   },
   {
    "duration": 19,
    "start_time": "2024-12-26T13:29:13.001Z"
   },
   {
    "duration": 4,
    "start_time": "2024-12-26T13:29:13.021Z"
   },
   {
    "duration": 19,
    "start_time": "2024-12-26T13:29:13.027Z"
   },
   {
    "duration": 7,
    "start_time": "2024-12-26T13:29:13.047Z"
   },
   {
    "duration": 4,
    "start_time": "2024-12-26T13:29:13.055Z"
   },
   {
    "duration": 9,
    "start_time": "2024-12-26T13:29:13.087Z"
   },
   {
    "duration": 17,
    "start_time": "2024-12-26T13:29:13.098Z"
   },
   {
    "duration": 4,
    "start_time": "2024-12-26T13:29:13.117Z"
   },
   {
    "duration": 16,
    "start_time": "2024-12-26T13:29:13.122Z"
   },
   {
    "duration": 14,
    "start_time": "2024-12-26T13:29:13.139Z"
   },
   {
    "duration": 33,
    "start_time": "2024-12-26T13:29:13.155Z"
   },
   {
    "duration": 10,
    "start_time": "2024-12-26T13:29:13.190Z"
   },
   {
    "duration": 82,
    "start_time": "2024-12-26T13:31:58.520Z"
   },
   {
    "duration": 14,
    "start_time": "2024-12-26T13:31:58.604Z"
   },
   {
    "duration": 18,
    "start_time": "2024-12-26T13:31:58.620Z"
   },
   {
    "duration": 9,
    "start_time": "2024-12-26T13:31:58.640Z"
   },
   {
    "duration": 48,
    "start_time": "2024-12-26T13:31:58.651Z"
   },
   {
    "duration": 3,
    "start_time": "2024-12-26T13:31:58.700Z"
   },
   {
    "duration": 12,
    "start_time": "2024-12-26T13:31:58.705Z"
   },
   {
    "duration": 4,
    "start_time": "2024-12-26T13:31:58.718Z"
   },
   {
    "duration": 8,
    "start_time": "2024-12-26T13:31:58.724Z"
   },
   {
    "duration": 4,
    "start_time": "2024-12-26T13:31:58.736Z"
   },
   {
    "duration": 63,
    "start_time": "2024-12-26T13:31:58.742Z"
   },
   {
    "duration": 9,
    "start_time": "2024-12-26T13:31:58.807Z"
   },
   {
    "duration": 5,
    "start_time": "2024-12-26T13:31:58.817Z"
   },
   {
    "duration": 11,
    "start_time": "2024-12-26T13:31:58.824Z"
   },
   {
    "duration": 18,
    "start_time": "2024-12-26T13:31:58.837Z"
   },
   {
    "duration": 43,
    "start_time": "2024-12-26T13:31:58.856Z"
   },
   {
    "duration": 3,
    "start_time": "2024-12-26T13:31:58.901Z"
   },
   {
    "duration": 14,
    "start_time": "2024-12-26T13:31:58.906Z"
   },
   {
    "duration": 6,
    "start_time": "2024-12-26T13:31:58.921Z"
   },
   {
    "duration": 10,
    "start_time": "2024-12-26T13:31:58.928Z"
   },
   {
    "duration": 10,
    "start_time": "2024-12-26T13:31:58.940Z"
   },
   {
    "duration": 4,
    "start_time": "2024-12-26T13:31:58.951Z"
   },
   {
    "duration": 39,
    "start_time": "2024-12-26T13:31:58.956Z"
   },
   {
    "duration": 20,
    "start_time": "2024-12-26T13:31:58.997Z"
   },
   {
    "duration": 8,
    "start_time": "2024-12-26T13:31:59.019Z"
   },
   {
    "duration": 9,
    "start_time": "2024-12-26T13:31:59.028Z"
   },
   {
    "duration": 66,
    "start_time": "2024-12-26T13:33:10.571Z"
   },
   {
    "duration": 13,
    "start_time": "2024-12-26T13:33:10.639Z"
   },
   {
    "duration": 14,
    "start_time": "2024-12-26T13:33:10.654Z"
   },
   {
    "duration": 17,
    "start_time": "2024-12-26T13:33:10.670Z"
   },
   {
    "duration": 29,
    "start_time": "2024-12-26T13:33:10.688Z"
   },
   {
    "duration": 3,
    "start_time": "2024-12-26T13:33:10.719Z"
   },
   {
    "duration": 8,
    "start_time": "2024-12-26T13:33:10.723Z"
   },
   {
    "duration": 7,
    "start_time": "2024-12-26T13:33:10.732Z"
   },
   {
    "duration": 5,
    "start_time": "2024-12-26T13:33:10.740Z"
   },
   {
    "duration": 6,
    "start_time": "2024-12-26T13:33:10.747Z"
   },
   {
    "duration": 53,
    "start_time": "2024-12-26T13:33:10.754Z"
   },
   {
    "duration": 9,
    "start_time": "2024-12-26T13:33:10.808Z"
   },
   {
    "duration": 3,
    "start_time": "2024-12-26T13:33:10.818Z"
   },
   {
    "duration": 21,
    "start_time": "2024-12-26T13:33:10.823Z"
   },
   {
    "duration": 20,
    "start_time": "2024-12-26T13:33:10.845Z"
   },
   {
    "duration": 26,
    "start_time": "2024-12-26T13:33:10.867Z"
   },
   {
    "duration": 4,
    "start_time": "2024-12-26T13:33:10.894Z"
   },
   {
    "duration": 19,
    "start_time": "2024-12-26T13:33:10.899Z"
   },
   {
    "duration": 6,
    "start_time": "2024-12-26T13:33:10.920Z"
   },
   {
    "duration": 3,
    "start_time": "2024-12-26T13:33:10.927Z"
   },
   {
    "duration": 27,
    "start_time": "2024-12-26T13:33:10.931Z"
   },
   {
    "duration": 13,
    "start_time": "2024-12-26T13:33:10.960Z"
   },
   {
    "duration": 3,
    "start_time": "2024-12-26T13:33:10.974Z"
   },
   {
    "duration": 11,
    "start_time": "2024-12-26T13:33:10.979Z"
   },
   {
    "duration": 8,
    "start_time": "2024-12-26T13:33:10.991Z"
   },
   {
    "duration": 21,
    "start_time": "2024-12-26T13:33:11.000Z"
   },
   {
    "duration": 68,
    "start_time": "2024-12-26T13:33:49.334Z"
   },
   {
    "duration": 14,
    "start_time": "2024-12-26T13:33:49.404Z"
   },
   {
    "duration": 21,
    "start_time": "2024-12-26T13:33:49.420Z"
   },
   {
    "duration": 13,
    "start_time": "2024-12-26T13:33:49.443Z"
   },
   {
    "duration": 55,
    "start_time": "2024-12-26T13:33:49.459Z"
   },
   {
    "duration": 3,
    "start_time": "2024-12-26T13:33:49.516Z"
   },
   {
    "duration": 14,
    "start_time": "2024-12-26T13:33:49.521Z"
   },
   {
    "duration": 7,
    "start_time": "2024-12-26T13:33:49.536Z"
   },
   {
    "duration": 15,
    "start_time": "2024-12-26T13:33:49.545Z"
   },
   {
    "duration": 5,
    "start_time": "2024-12-26T13:33:49.562Z"
   },
   {
    "duration": 43,
    "start_time": "2024-12-26T13:33:49.568Z"
   },
   {
    "duration": 50,
    "start_time": "2024-12-26T13:33:49.613Z"
   },
   {
    "duration": 14,
    "start_time": "2024-12-26T13:33:49.664Z"
   },
   {
    "duration": 21,
    "start_time": "2024-12-26T13:33:49.681Z"
   },
   {
    "duration": 46,
    "start_time": "2024-12-26T13:33:49.703Z"
   },
   {
    "duration": 18,
    "start_time": "2024-12-26T13:33:49.751Z"
   },
   {
    "duration": 3,
    "start_time": "2024-12-26T13:33:49.771Z"
   },
   {
    "duration": 11,
    "start_time": "2024-12-26T13:33:49.776Z"
   },
   {
    "duration": 12,
    "start_time": "2024-12-26T13:33:49.789Z"
   },
   {
    "duration": 3,
    "start_time": "2024-12-26T13:33:49.803Z"
   },
   {
    "duration": 10,
    "start_time": "2024-12-26T13:33:49.807Z"
   },
   {
    "duration": 14,
    "start_time": "2024-12-26T13:33:49.819Z"
   },
   {
    "duration": 13,
    "start_time": "2024-12-26T13:33:49.835Z"
   },
   {
    "duration": 27,
    "start_time": "2024-12-26T13:33:49.849Z"
   },
   {
    "duration": 9,
    "start_time": "2024-12-26T13:33:49.878Z"
   },
   {
    "duration": 9,
    "start_time": "2024-12-26T13:33:49.888Z"
   },
   {
    "duration": 65,
    "start_time": "2024-12-26T13:34:30.252Z"
   },
   {
    "duration": 14,
    "start_time": "2024-12-26T13:34:30.319Z"
   },
   {
    "duration": 36,
    "start_time": "2024-12-26T13:34:30.335Z"
   },
   {
    "duration": 21,
    "start_time": "2024-12-26T13:34:30.372Z"
   },
   {
    "duration": 36,
    "start_time": "2024-12-26T13:34:30.394Z"
   },
   {
    "duration": 2,
    "start_time": "2024-12-26T13:34:30.432Z"
   },
   {
    "duration": 63,
    "start_time": "2024-12-26T13:34:30.435Z"
   },
   {
    "duration": 8,
    "start_time": "2024-12-26T13:34:30.500Z"
   },
   {
    "duration": 26,
    "start_time": "2024-12-26T13:34:30.510Z"
   },
   {
    "duration": 106,
    "start_time": "2024-12-26T13:34:30.537Z"
   },
   {
    "duration": 52,
    "start_time": "2024-12-26T13:34:30.644Z"
   },
   {
    "duration": 18,
    "start_time": "2024-12-26T13:34:30.697Z"
   },
   {
    "duration": 10,
    "start_time": "2024-12-26T13:34:30.717Z"
   },
   {
    "duration": 28,
    "start_time": "2024-12-26T13:34:30.730Z"
   },
   {
    "duration": 84,
    "start_time": "2024-12-26T13:34:30.759Z"
   },
   {
    "duration": 20,
    "start_time": "2024-12-26T13:34:30.844Z"
   },
   {
    "duration": 9,
    "start_time": "2024-12-26T13:34:30.865Z"
   },
   {
    "duration": 39,
    "start_time": "2024-12-26T13:34:30.876Z"
   },
   {
    "duration": 21,
    "start_time": "2024-12-26T13:34:30.916Z"
   },
   {
    "duration": 29,
    "start_time": "2024-12-26T13:34:30.938Z"
   },
   {
    "duration": 29,
    "start_time": "2024-12-26T13:34:30.969Z"
   },
   {
    "duration": 2901,
    "start_time": "2024-12-26T13:34:31.000Z"
   },
   {
    "duration": 3,
    "start_time": "2024-12-26T13:34:33.902Z"
   },
   {
    "duration": 20,
    "start_time": "2024-12-26T13:34:33.906Z"
   },
   {
    "duration": 8,
    "start_time": "2024-12-26T13:34:33.927Z"
   },
   {
    "duration": 46,
    "start_time": "2024-12-26T13:34:33.937Z"
   },
   {
    "duration": 66,
    "start_time": "2024-12-26T13:34:45.824Z"
   },
   {
    "duration": 14,
    "start_time": "2024-12-26T13:34:45.892Z"
   },
   {
    "duration": 27,
    "start_time": "2024-12-26T13:34:45.907Z"
   },
   {
    "duration": 10,
    "start_time": "2024-12-26T13:34:45.936Z"
   },
   {
    "duration": 39,
    "start_time": "2024-12-26T13:34:45.947Z"
   },
   {
    "duration": 3,
    "start_time": "2024-12-26T13:34:45.988Z"
   },
   {
    "duration": 10,
    "start_time": "2024-12-26T13:34:45.993Z"
   },
   {
    "duration": 4,
    "start_time": "2024-12-26T13:34:46.005Z"
   },
   {
    "duration": 49,
    "start_time": "2024-12-26T13:34:46.011Z"
   },
   {
    "duration": 5,
    "start_time": "2024-12-26T13:34:46.063Z"
   },
   {
    "duration": 31,
    "start_time": "2024-12-26T13:34:46.069Z"
   },
   {
    "duration": 10,
    "start_time": "2024-12-26T13:34:46.101Z"
   },
   {
    "duration": 14,
    "start_time": "2024-12-26T13:34:46.112Z"
   },
   {
    "duration": 11,
    "start_time": "2024-12-26T13:34:46.128Z"
   },
   {
    "duration": 27,
    "start_time": "2024-12-26T13:34:46.141Z"
   },
   {
    "duration": 18,
    "start_time": "2024-12-26T13:34:46.169Z"
   },
   {
    "duration": 3,
    "start_time": "2024-12-26T13:34:46.189Z"
   },
   {
    "duration": 15,
    "start_time": "2024-12-26T13:34:46.193Z"
   },
   {
    "duration": 21,
    "start_time": "2024-12-26T13:34:46.209Z"
   },
   {
    "duration": 17,
    "start_time": "2024-12-26T13:34:46.231Z"
   },
   {
    "duration": 17,
    "start_time": "2024-12-26T13:34:46.249Z"
   },
   {
    "duration": 16,
    "start_time": "2024-12-26T13:34:46.268Z"
   },
   {
    "duration": 3,
    "start_time": "2024-12-26T13:34:46.285Z"
   },
   {
    "duration": 13,
    "start_time": "2024-12-26T13:34:46.289Z"
   },
   {
    "duration": 8,
    "start_time": "2024-12-26T13:34:46.304Z"
   },
   {
    "duration": 9,
    "start_time": "2024-12-26T13:34:46.314Z"
   },
   {
    "duration": 67,
    "start_time": "2024-12-26T13:35:18.616Z"
   },
   {
    "duration": 15,
    "start_time": "2024-12-26T13:35:18.685Z"
   },
   {
    "duration": 15,
    "start_time": "2024-12-26T13:35:18.702Z"
   },
   {
    "duration": 9,
    "start_time": "2024-12-26T13:35:18.720Z"
   },
   {
    "duration": 55,
    "start_time": "2024-12-26T13:35:18.731Z"
   },
   {
    "duration": 3,
    "start_time": "2024-12-26T13:35:18.788Z"
   },
   {
    "duration": 9,
    "start_time": "2024-12-26T13:35:18.793Z"
   },
   {
    "duration": 8,
    "start_time": "2024-12-26T13:35:18.803Z"
   },
   {
    "duration": 14,
    "start_time": "2024-12-26T13:35:18.813Z"
   },
   {
    "duration": 4,
    "start_time": "2024-12-26T13:35:18.830Z"
   },
   {
    "duration": 52,
    "start_time": "2024-12-26T13:35:18.836Z"
   },
   {
    "duration": 10,
    "start_time": "2024-12-26T13:35:18.889Z"
   },
   {
    "duration": 5,
    "start_time": "2024-12-26T13:35:18.901Z"
   },
   {
    "duration": 12,
    "start_time": "2024-12-26T13:35:18.907Z"
   },
   {
    "duration": 21,
    "start_time": "2024-12-26T13:35:18.920Z"
   },
   {
    "duration": 43,
    "start_time": "2024-12-26T13:35:18.943Z"
   },
   {
    "duration": 4,
    "start_time": "2024-12-26T13:35:18.988Z"
   },
   {
    "duration": 12,
    "start_time": "2024-12-26T13:35:18.994Z"
   },
   {
    "duration": 6,
    "start_time": "2024-12-26T13:35:19.008Z"
   },
   {
    "duration": 4,
    "start_time": "2024-12-26T13:35:19.016Z"
   },
   {
    "duration": 8,
    "start_time": "2024-12-26T13:35:19.022Z"
   },
   {
    "duration": 18,
    "start_time": "2024-12-26T13:35:19.032Z"
   },
   {
    "duration": 6,
    "start_time": "2024-12-26T13:35:19.051Z"
   },
   {
    "duration": 12,
    "start_time": "2024-12-26T13:35:19.087Z"
   },
   {
    "duration": 16,
    "start_time": "2024-12-26T13:35:19.100Z"
   },
   {
    "duration": 9,
    "start_time": "2024-12-26T13:35:19.118Z"
   },
   {
    "duration": 67,
    "start_time": "2024-12-26T13:37:04.655Z"
   },
   {
    "duration": 15,
    "start_time": "2024-12-26T13:37:04.724Z"
   },
   {
    "duration": 29,
    "start_time": "2024-12-26T13:37:04.741Z"
   },
   {
    "duration": 49,
    "start_time": "2024-12-26T13:37:04.772Z"
   },
   {
    "duration": 31,
    "start_time": "2024-12-26T13:37:04.823Z"
   },
   {
    "duration": 4,
    "start_time": "2024-12-26T13:37:04.856Z"
   },
   {
    "duration": 12,
    "start_time": "2024-12-26T13:37:04.861Z"
   },
   {
    "duration": 15,
    "start_time": "2024-12-26T13:37:04.875Z"
   },
   {
    "duration": 24,
    "start_time": "2024-12-26T13:37:04.891Z"
   },
   {
    "duration": 15,
    "start_time": "2024-12-26T13:37:04.917Z"
   },
   {
    "duration": 35,
    "start_time": "2024-12-26T13:37:04.934Z"
   },
   {
    "duration": 9,
    "start_time": "2024-12-26T13:37:04.970Z"
   },
   {
    "duration": 20,
    "start_time": "2024-12-26T13:37:04.981Z"
   },
   {
    "duration": 19,
    "start_time": "2024-12-26T13:37:05.002Z"
   },
   {
    "duration": 37,
    "start_time": "2024-12-26T13:37:05.023Z"
   },
   {
    "duration": 77,
    "start_time": "2024-12-26T13:37:05.061Z"
   },
   {
    "duration": 3,
    "start_time": "2024-12-26T13:37:05.139Z"
   },
   {
    "duration": 24,
    "start_time": "2024-12-26T13:37:05.144Z"
   },
   {
    "duration": 18,
    "start_time": "2024-12-26T13:37:05.170Z"
   },
   {
    "duration": 14,
    "start_time": "2024-12-26T13:37:05.190Z"
   },
   {
    "duration": 29,
    "start_time": "2024-12-26T13:37:05.205Z"
   },
   {
    "duration": 106,
    "start_time": "2024-12-26T13:37:05.235Z"
   },
   {
    "duration": 2,
    "start_time": "2024-12-26T13:37:05.342Z"
   },
   {
    "duration": 12,
    "start_time": "2024-12-26T13:37:05.346Z"
   },
   {
    "duration": 38,
    "start_time": "2024-12-26T13:37:05.360Z"
   },
   {
    "duration": 14,
    "start_time": "2024-12-26T13:37:05.400Z"
   },
   {
    "duration": 67,
    "start_time": "2024-12-26T13:37:43.900Z"
   },
   {
    "duration": 15,
    "start_time": "2024-12-26T13:37:43.969Z"
   },
   {
    "duration": 15,
    "start_time": "2024-12-26T13:37:43.985Z"
   },
   {
    "duration": 21,
    "start_time": "2024-12-26T13:37:44.002Z"
   },
   {
    "duration": 95,
    "start_time": "2024-12-26T13:37:44.024Z"
   },
   {
    "duration": 3,
    "start_time": "2024-12-26T13:37:44.121Z"
   },
   {
    "duration": 27,
    "start_time": "2024-12-26T13:37:44.126Z"
   },
   {
    "duration": 8,
    "start_time": "2024-12-26T13:37:44.155Z"
   },
   {
    "duration": 13,
    "start_time": "2024-12-26T13:37:44.165Z"
   },
   {
    "duration": 5,
    "start_time": "2024-12-26T13:37:44.181Z"
   },
   {
    "duration": 40,
    "start_time": "2024-12-26T13:37:44.187Z"
   },
   {
    "duration": 10,
    "start_time": "2024-12-26T13:37:44.229Z"
   },
   {
    "duration": 33,
    "start_time": "2024-12-26T13:37:44.241Z"
   },
   {
    "duration": 23,
    "start_time": "2024-12-26T13:37:44.276Z"
   },
   {
    "duration": 30,
    "start_time": "2024-12-26T13:37:44.301Z"
   },
   {
    "duration": 20,
    "start_time": "2024-12-26T13:37:44.333Z"
   },
   {
    "duration": 4,
    "start_time": "2024-12-26T13:37:44.355Z"
   },
   {
    "duration": 32,
    "start_time": "2024-12-26T13:37:44.360Z"
   },
   {
    "duration": 11,
    "start_time": "2024-12-26T13:37:44.394Z"
   },
   {
    "duration": 4,
    "start_time": "2024-12-26T13:37:44.407Z"
   },
   {
    "duration": 12,
    "start_time": "2024-12-26T13:37:44.413Z"
   },
   {
    "duration": 34,
    "start_time": "2024-12-26T13:37:44.426Z"
   },
   {
    "duration": 8,
    "start_time": "2024-12-26T13:37:44.461Z"
   },
   {
    "duration": 19,
    "start_time": "2024-12-26T13:37:44.470Z"
   },
   {
    "duration": 9,
    "start_time": "2024-12-26T13:37:44.491Z"
   },
   {
    "duration": 12,
    "start_time": "2024-12-26T13:37:44.502Z"
   },
   {
    "duration": 68,
    "start_time": "2024-12-26T13:38:35.918Z"
   },
   {
    "duration": 14,
    "start_time": "2024-12-26T13:38:35.988Z"
   },
   {
    "duration": 28,
    "start_time": "2024-12-26T13:38:36.003Z"
   },
   {
    "duration": 29,
    "start_time": "2024-12-26T13:38:36.034Z"
   },
   {
    "duration": 57,
    "start_time": "2024-12-26T13:38:36.065Z"
   },
   {
    "duration": 3,
    "start_time": "2024-12-26T13:38:36.123Z"
   },
   {
    "duration": 24,
    "start_time": "2024-12-26T13:38:36.127Z"
   },
   {
    "duration": 12,
    "start_time": "2024-12-26T13:38:36.152Z"
   },
   {
    "duration": 45,
    "start_time": "2024-12-26T13:38:36.165Z"
   },
   {
    "duration": 11,
    "start_time": "2024-12-26T13:38:36.213Z"
   },
   {
    "duration": 65,
    "start_time": "2024-12-26T13:38:36.225Z"
   },
   {
    "duration": 18,
    "start_time": "2024-12-26T13:38:36.292Z"
   },
   {
    "duration": 21,
    "start_time": "2024-12-26T13:38:36.312Z"
   },
   {
    "duration": 30,
    "start_time": "2024-12-26T13:38:36.335Z"
   },
   {
    "duration": 18,
    "start_time": "2024-12-26T13:38:36.366Z"
   },
   {
    "duration": 20,
    "start_time": "2024-12-26T13:38:36.385Z"
   },
   {
    "duration": 12,
    "start_time": "2024-12-26T13:38:36.407Z"
   },
   {
    "duration": 24,
    "start_time": "2024-12-26T13:38:36.420Z"
   },
   {
    "duration": 27,
    "start_time": "2024-12-26T13:38:36.446Z"
   },
   {
    "duration": 20,
    "start_time": "2024-12-26T13:38:36.475Z"
   },
   {
    "duration": 54,
    "start_time": "2024-12-26T13:38:36.497Z"
   },
   {
    "duration": 48,
    "start_time": "2024-12-26T13:38:36.552Z"
   },
   {
    "duration": 71,
    "start_time": "2024-12-26T13:38:36.602Z"
   },
   {
    "duration": 8,
    "start_time": "2024-12-26T13:38:36.675Z"
   },
   {
    "duration": 38,
    "start_time": "2024-12-26T13:38:36.685Z"
   },
   {
    "duration": 50,
    "start_time": "2024-12-26T13:38:36.725Z"
   },
   {
    "duration": 67,
    "start_time": "2024-12-26T13:40:10.931Z"
   },
   {
    "duration": 14,
    "start_time": "2024-12-26T13:40:11.000Z"
   },
   {
    "duration": 31,
    "start_time": "2024-12-26T13:40:11.015Z"
   },
   {
    "duration": 9,
    "start_time": "2024-12-26T13:40:11.047Z"
   },
   {
    "duration": 31,
    "start_time": "2024-12-26T13:40:11.058Z"
   },
   {
    "duration": 3,
    "start_time": "2024-12-26T13:40:11.090Z"
   },
   {
    "duration": 40,
    "start_time": "2024-12-26T13:40:11.095Z"
   },
   {
    "duration": 6,
    "start_time": "2024-12-26T13:40:11.136Z"
   },
   {
    "duration": 7,
    "start_time": "2024-12-26T13:40:11.143Z"
   },
   {
    "duration": 4,
    "start_time": "2024-12-26T13:40:11.151Z"
   },
   {
    "duration": 33,
    "start_time": "2024-12-26T13:40:11.156Z"
   },
   {
    "duration": 9,
    "start_time": "2024-12-26T13:40:11.191Z"
   },
   {
    "duration": 4,
    "start_time": "2024-12-26T13:40:11.202Z"
   },
   {
    "duration": 13,
    "start_time": "2024-12-26T13:40:11.210Z"
   },
   {
    "duration": 20,
    "start_time": "2024-12-26T13:40:11.225Z"
   },
   {
    "duration": 40,
    "start_time": "2024-12-26T13:40:11.247Z"
   },
   {
    "duration": 29,
    "start_time": "2024-12-26T13:40:11.288Z"
   },
   {
    "duration": 19,
    "start_time": "2024-12-26T13:40:11.319Z"
   },
   {
    "duration": 6,
    "start_time": "2024-12-26T13:40:11.340Z"
   },
   {
    "duration": 10,
    "start_time": "2024-12-26T13:40:11.348Z"
   },
   {
    "duration": 10,
    "start_time": "2024-12-26T13:40:11.359Z"
   },
   {
    "duration": 16,
    "start_time": "2024-12-26T13:40:11.370Z"
   },
   {
    "duration": 15,
    "start_time": "2024-12-26T13:40:11.388Z"
   },
   {
    "duration": 10,
    "start_time": "2024-12-26T13:40:11.405Z"
   },
   {
    "duration": 8,
    "start_time": "2024-12-26T13:40:11.416Z"
   },
   {
    "duration": 24,
    "start_time": "2024-12-26T13:40:11.426Z"
   },
   {
    "duration": 67,
    "start_time": "2024-12-26T13:45:02.791Z"
   },
   {
    "duration": 14,
    "start_time": "2024-12-26T13:45:02.860Z"
   },
   {
    "duration": 56,
    "start_time": "2024-12-26T13:45:02.875Z"
   },
   {
    "duration": 14,
    "start_time": "2024-12-26T13:45:02.933Z"
   },
   {
    "duration": 35,
    "start_time": "2024-12-26T13:45:02.949Z"
   },
   {
    "duration": 5,
    "start_time": "2024-12-26T13:45:02.986Z"
   },
   {
    "duration": 21,
    "start_time": "2024-12-26T13:45:02.993Z"
   },
   {
    "duration": 11,
    "start_time": "2024-12-26T13:45:03.015Z"
   },
   {
    "duration": 11,
    "start_time": "2024-12-26T13:45:03.028Z"
   },
   {
    "duration": 4,
    "start_time": "2024-12-26T13:45:03.043Z"
   },
   {
    "duration": 31,
    "start_time": "2024-12-26T13:45:03.049Z"
   },
   {
    "duration": 13,
    "start_time": "2024-12-26T13:45:03.082Z"
   },
   {
    "duration": 7,
    "start_time": "2024-12-26T13:45:03.097Z"
   },
   {
    "duration": 11,
    "start_time": "2024-12-26T13:45:03.105Z"
   },
   {
    "duration": 35,
    "start_time": "2024-12-26T13:45:03.118Z"
   },
   {
    "duration": 18,
    "start_time": "2024-12-26T13:45:03.155Z"
   },
   {
    "duration": 4,
    "start_time": "2024-12-26T13:45:03.186Z"
   },
   {
    "duration": 17,
    "start_time": "2024-12-26T13:45:03.191Z"
   },
   {
    "duration": 6,
    "start_time": "2024-12-26T13:45:03.209Z"
   },
   {
    "duration": 18,
    "start_time": "2024-12-26T13:45:03.216Z"
   },
   {
    "duration": 19,
    "start_time": "2024-12-26T13:45:03.235Z"
   },
   {
    "duration": 45,
    "start_time": "2024-12-26T13:45:03.256Z"
   },
   {
    "duration": 23,
    "start_time": "2024-12-26T13:45:03.302Z"
   },
   {
    "duration": 9,
    "start_time": "2024-12-26T13:45:03.326Z"
   },
   {
    "duration": 28,
    "start_time": "2024-12-26T13:45:03.336Z"
   },
   {
    "duration": 31,
    "start_time": "2024-12-26T13:45:03.365Z"
   },
   {
    "duration": 19,
    "start_time": "2024-12-26T13:45:03.397Z"
   },
   {
    "duration": 68,
    "start_time": "2024-12-26T13:46:34.876Z"
   },
   {
    "duration": 14,
    "start_time": "2024-12-26T13:46:34.946Z"
   },
   {
    "duration": 13,
    "start_time": "2024-12-26T13:46:34.962Z"
   },
   {
    "duration": 17,
    "start_time": "2024-12-26T13:46:34.977Z"
   },
   {
    "duration": 31,
    "start_time": "2024-12-26T13:46:34.995Z"
   },
   {
    "duration": 3,
    "start_time": "2024-12-26T13:46:35.028Z"
   },
   {
    "duration": 20,
    "start_time": "2024-12-26T13:46:35.032Z"
   },
   {
    "duration": 8,
    "start_time": "2024-12-26T13:46:35.053Z"
   },
   {
    "duration": 14,
    "start_time": "2024-12-26T13:46:35.062Z"
   },
   {
    "duration": 18,
    "start_time": "2024-12-26T13:46:35.078Z"
   },
   {
    "duration": 61,
    "start_time": "2024-12-26T13:46:35.097Z"
   },
   {
    "duration": 9,
    "start_time": "2024-12-26T13:46:35.159Z"
   },
   {
    "duration": 23,
    "start_time": "2024-12-26T13:46:35.170Z"
   },
   {
    "duration": 33,
    "start_time": "2024-12-26T13:46:35.195Z"
   },
   {
    "duration": 22,
    "start_time": "2024-12-26T13:46:35.229Z"
   },
   {
    "duration": 39,
    "start_time": "2024-12-26T13:46:35.253Z"
   },
   {
    "duration": 4,
    "start_time": "2024-12-26T13:46:35.294Z"
   },
   {
    "duration": 29,
    "start_time": "2024-12-26T13:46:35.299Z"
   },
   {
    "duration": 14,
    "start_time": "2024-12-26T13:46:35.329Z"
   },
   {
    "duration": 4,
    "start_time": "2024-12-26T13:46:35.345Z"
   },
   {
    "duration": 10,
    "start_time": "2024-12-26T13:46:35.350Z"
   },
   {
    "duration": 71,
    "start_time": "2024-12-26T13:46:35.361Z"
   },
   {
    "duration": 38,
    "start_time": "2024-12-26T13:46:35.434Z"
   },
   {
    "duration": 27,
    "start_time": "2024-12-26T13:46:35.473Z"
   },
   {
    "duration": 27,
    "start_time": "2024-12-26T13:46:35.501Z"
   },
   {
    "duration": 60,
    "start_time": "2024-12-26T13:46:35.530Z"
   },
   {
    "duration": 112,
    "start_time": "2024-12-26T13:46:35.592Z"
   },
   {
    "duration": 67,
    "start_time": "2024-12-26T13:58:52.729Z"
   },
   {
    "duration": 14,
    "start_time": "2024-12-26T13:58:52.798Z"
   },
   {
    "duration": 19,
    "start_time": "2024-12-26T13:58:52.813Z"
   },
   {
    "duration": 10,
    "start_time": "2024-12-26T13:58:52.835Z"
   },
   {
    "duration": 55,
    "start_time": "2024-12-26T13:58:52.847Z"
   },
   {
    "duration": 4,
    "start_time": "2024-12-26T13:58:52.904Z"
   },
   {
    "duration": 50,
    "start_time": "2024-12-26T13:58:52.910Z"
   },
   {
    "duration": 5,
    "start_time": "2024-12-26T13:58:52.962Z"
   },
   {
    "duration": 16,
    "start_time": "2024-12-26T13:58:52.968Z"
   },
   {
    "duration": 4,
    "start_time": "2024-12-26T13:58:52.987Z"
   },
   {
    "duration": 36,
    "start_time": "2024-12-26T13:58:52.993Z"
   },
   {
    "duration": 13,
    "start_time": "2024-12-26T13:58:53.031Z"
   },
   {
    "duration": 5,
    "start_time": "2024-12-26T13:58:53.046Z"
   },
   {
    "duration": 14,
    "start_time": "2024-12-26T13:58:53.052Z"
   },
   {
    "duration": 31,
    "start_time": "2024-12-26T13:58:53.068Z"
   },
   {
    "duration": 18,
    "start_time": "2024-12-26T13:58:53.100Z"
   },
   {
    "duration": 3,
    "start_time": "2024-12-26T13:58:53.120Z"
   },
   {
    "duration": 28,
    "start_time": "2024-12-26T13:58:53.125Z"
   },
   {
    "duration": 5,
    "start_time": "2024-12-26T13:58:53.155Z"
   },
   {
    "duration": 20,
    "start_time": "2024-12-26T13:58:53.161Z"
   },
   {
    "duration": 13,
    "start_time": "2024-12-26T13:58:53.183Z"
   },
   {
    "duration": 33,
    "start_time": "2024-12-26T13:58:53.197Z"
   },
   {
    "duration": 25,
    "start_time": "2024-12-26T13:58:53.232Z"
   },
   {
    "duration": 146,
    "start_time": "2024-12-26T13:58:53.259Z"
   },
   {
    "duration": 0,
    "start_time": "2024-12-26T13:58:53.407Z"
   },
   {
    "duration": 0,
    "start_time": "2024-12-26T13:58:53.408Z"
   },
   {
    "duration": 0,
    "start_time": "2024-12-26T13:58:53.409Z"
   },
   {
    "duration": 68,
    "start_time": "2024-12-26T14:07:06.290Z"
   },
   {
    "duration": 13,
    "start_time": "2024-12-26T14:07:06.360Z"
   },
   {
    "duration": 50,
    "start_time": "2024-12-26T14:07:06.374Z"
   },
   {
    "duration": 37,
    "start_time": "2024-12-26T14:07:06.426Z"
   },
   {
    "duration": 57,
    "start_time": "2024-12-26T14:07:06.465Z"
   },
   {
    "duration": 14,
    "start_time": "2024-12-26T14:07:06.524Z"
   },
   {
    "duration": 56,
    "start_time": "2024-12-26T14:07:06.540Z"
   },
   {
    "duration": 54,
    "start_time": "2024-12-26T14:07:06.598Z"
   },
   {
    "duration": 15,
    "start_time": "2024-12-26T14:07:06.654Z"
   },
   {
    "duration": 73,
    "start_time": "2024-12-26T14:07:06.671Z"
   },
   {
    "duration": 66,
    "start_time": "2024-12-26T14:07:06.745Z"
   },
   {
    "duration": 8,
    "start_time": "2024-12-26T14:07:06.813Z"
   },
   {
    "duration": 5,
    "start_time": "2024-12-26T14:07:06.822Z"
   },
   {
    "duration": 12,
    "start_time": "2024-12-26T14:07:06.828Z"
   },
   {
    "duration": 20,
    "start_time": "2024-12-26T14:07:06.841Z"
   },
   {
    "duration": 30,
    "start_time": "2024-12-26T14:07:06.863Z"
   },
   {
    "duration": 4,
    "start_time": "2024-12-26T14:07:06.894Z"
   },
   {
    "duration": 25,
    "start_time": "2024-12-26T14:07:06.899Z"
   },
   {
    "duration": 24,
    "start_time": "2024-12-26T14:07:06.926Z"
   },
   {
    "duration": 13,
    "start_time": "2024-12-26T14:07:06.952Z"
   },
   {
    "duration": 13,
    "start_time": "2024-12-26T14:07:06.967Z"
   },
   {
    "duration": 30,
    "start_time": "2024-12-26T14:07:06.982Z"
   },
   {
    "duration": 37,
    "start_time": "2024-12-26T14:07:07.013Z"
   },
   {
    "duration": 12,
    "start_time": "2024-12-26T14:07:07.052Z"
   },
   {
    "duration": 46,
    "start_time": "2024-12-26T14:07:07.066Z"
   },
   {
    "duration": 11,
    "start_time": "2024-12-26T14:07:07.114Z"
   },
   {
    "duration": 13,
    "start_time": "2024-12-26T14:07:07.126Z"
   },
   {
    "duration": 68,
    "start_time": "2024-12-26T14:07:53.018Z"
   },
   {
    "duration": 14,
    "start_time": "2024-12-26T14:07:53.088Z"
   },
   {
    "duration": 16,
    "start_time": "2024-12-26T14:07:53.104Z"
   },
   {
    "duration": 9,
    "start_time": "2024-12-26T14:07:53.122Z"
   },
   {
    "duration": 29,
    "start_time": "2024-12-26T14:07:53.132Z"
   },
   {
    "duration": 3,
    "start_time": "2024-12-26T14:07:53.163Z"
   },
   {
    "duration": 7,
    "start_time": "2024-12-26T14:07:53.187Z"
   },
   {
    "duration": 3,
    "start_time": "2024-12-26T14:07:53.196Z"
   },
   {
    "duration": 8,
    "start_time": "2024-12-26T14:07:53.201Z"
   },
   {
    "duration": 4,
    "start_time": "2024-12-26T14:07:53.211Z"
   },
   {
    "duration": 30,
    "start_time": "2024-12-26T14:07:53.217Z"
   },
   {
    "duration": 38,
    "start_time": "2024-12-26T14:07:53.249Z"
   },
   {
    "duration": 5,
    "start_time": "2024-12-26T14:07:53.289Z"
   },
   {
    "duration": 14,
    "start_time": "2024-12-26T14:07:53.296Z"
   },
   {
    "duration": 19,
    "start_time": "2024-12-26T14:07:53.311Z"
   },
   {
    "duration": 17,
    "start_time": "2024-12-26T14:07:53.332Z"
   },
   {
    "duration": 4,
    "start_time": "2024-12-26T14:07:53.350Z"
   },
   {
    "duration": 42,
    "start_time": "2024-12-26T14:07:53.356Z"
   },
   {
    "duration": 14,
    "start_time": "2024-12-26T14:07:53.400Z"
   },
   {
    "duration": 4,
    "start_time": "2024-12-26T14:07:53.416Z"
   },
   {
    "duration": 9,
    "start_time": "2024-12-26T14:07:53.421Z"
   },
   {
    "duration": 16,
    "start_time": "2024-12-26T14:07:53.432Z"
   },
   {
    "duration": 45,
    "start_time": "2024-12-26T14:07:53.450Z"
   },
   {
    "duration": 15,
    "start_time": "2024-12-26T14:07:53.497Z"
   },
   {
    "duration": 10,
    "start_time": "2024-12-26T14:07:53.514Z"
   },
   {
    "duration": 10,
    "start_time": "2024-12-26T14:07:53.525Z"
   },
   {
    "duration": 14,
    "start_time": "2024-12-26T14:07:53.536Z"
   },
   {
    "duration": 67,
    "start_time": "2024-12-26T14:09:10.826Z"
   },
   {
    "duration": 14,
    "start_time": "2024-12-26T14:09:10.895Z"
   },
   {
    "duration": 15,
    "start_time": "2024-12-26T14:09:10.910Z"
   },
   {
    "duration": 9,
    "start_time": "2024-12-26T14:09:10.927Z"
   },
   {
    "duration": 31,
    "start_time": "2024-12-26T14:09:10.938Z"
   },
   {
    "duration": 3,
    "start_time": "2024-12-26T14:09:10.986Z"
   },
   {
    "duration": 11,
    "start_time": "2024-12-26T14:09:10.991Z"
   },
   {
    "duration": 16,
    "start_time": "2024-12-26T14:09:11.004Z"
   },
   {
    "duration": 6,
    "start_time": "2024-12-26T14:09:11.021Z"
   },
   {
    "duration": 6,
    "start_time": "2024-12-26T14:09:11.030Z"
   },
   {
    "duration": 32,
    "start_time": "2024-12-26T14:09:11.038Z"
   },
   {
    "duration": 10,
    "start_time": "2024-12-26T14:09:11.086Z"
   },
   {
    "duration": 4,
    "start_time": "2024-12-26T14:09:11.098Z"
   },
   {
    "duration": 13,
    "start_time": "2024-12-26T14:09:11.104Z"
   },
   {
    "duration": 18,
    "start_time": "2024-12-26T14:09:11.118Z"
   },
   {
    "duration": 17,
    "start_time": "2024-12-26T14:09:11.138Z"
   },
   {
    "duration": 30,
    "start_time": "2024-12-26T14:09:11.157Z"
   },
   {
    "duration": 9,
    "start_time": "2024-12-26T14:09:11.189Z"
   },
   {
    "duration": 11,
    "start_time": "2024-12-26T14:09:11.199Z"
   },
   {
    "duration": 3,
    "start_time": "2024-12-26T14:09:11.212Z"
   },
   {
    "duration": 24,
    "start_time": "2024-12-26T14:09:11.216Z"
   },
   {
    "duration": 15,
    "start_time": "2024-12-26T14:09:11.242Z"
   },
   {
    "duration": 28,
    "start_time": "2024-12-26T14:09:11.258Z"
   },
   {
    "duration": 17,
    "start_time": "2024-12-26T14:09:11.288Z"
   },
   {
    "duration": 9,
    "start_time": "2024-12-26T14:09:11.306Z"
   },
   {
    "duration": 8,
    "start_time": "2024-12-26T14:09:11.316Z"
   },
   {
    "duration": 9,
    "start_time": "2024-12-26T14:09:11.326Z"
   },
   {
    "duration": 68,
    "start_time": "2024-12-26T14:16:49.643Z"
   },
   {
    "duration": 15,
    "start_time": "2024-12-26T14:16:49.712Z"
   },
   {
    "duration": 61,
    "start_time": "2024-12-26T14:16:49.728Z"
   },
   {
    "duration": 9,
    "start_time": "2024-12-26T14:16:49.791Z"
   },
   {
    "duration": 31,
    "start_time": "2024-12-26T14:16:49.801Z"
   },
   {
    "duration": 3,
    "start_time": "2024-12-26T14:16:49.834Z"
   },
   {
    "duration": 19,
    "start_time": "2024-12-26T14:16:49.839Z"
   },
   {
    "duration": 5,
    "start_time": "2024-12-26T14:16:49.859Z"
   },
   {
    "duration": 26,
    "start_time": "2024-12-26T14:16:49.865Z"
   },
   {
    "duration": 4,
    "start_time": "2024-12-26T14:16:49.894Z"
   },
   {
    "duration": 31,
    "start_time": "2024-12-26T14:16:49.900Z"
   },
   {
    "duration": 9,
    "start_time": "2024-12-26T14:16:49.933Z"
   },
   {
    "duration": 16,
    "start_time": "2024-12-26T14:16:49.943Z"
   },
   {
    "duration": 12,
    "start_time": "2024-12-26T14:16:49.961Z"
   },
   {
    "duration": 29,
    "start_time": "2024-12-26T14:16:49.974Z"
   },
   {
    "duration": 27,
    "start_time": "2024-12-26T14:16:50.004Z"
   },
   {
    "duration": 4,
    "start_time": "2024-12-26T14:16:50.032Z"
   },
   {
    "duration": 18,
    "start_time": "2024-12-26T14:16:50.038Z"
   },
   {
    "duration": 20,
    "start_time": "2024-12-26T14:16:50.058Z"
   },
   {
    "duration": 18,
    "start_time": "2024-12-26T14:16:50.079Z"
   },
   {
    "duration": 10,
    "start_time": "2024-12-26T14:16:50.098Z"
   },
   {
    "duration": 18,
    "start_time": "2024-12-26T14:16:50.110Z"
   },
   {
    "duration": 51,
    "start_time": "2024-12-26T14:16:50.130Z"
   },
   {
    "duration": 17,
    "start_time": "2024-12-26T14:16:50.183Z"
   },
   {
    "duration": 9,
    "start_time": "2024-12-26T14:16:50.202Z"
   },
   {
    "duration": 50,
    "start_time": "2024-12-26T14:16:50.213Z"
   },
   {
    "duration": 18,
    "start_time": "2024-12-26T14:16:50.265Z"
   },
   {
    "duration": 75,
    "start_time": "2024-12-26T14:17:49.114Z"
   },
   {
    "duration": 15,
    "start_time": "2024-12-26T14:17:49.192Z"
   },
   {
    "duration": 29,
    "start_time": "2024-12-26T14:17:49.209Z"
   },
   {
    "duration": 9,
    "start_time": "2024-12-26T14:17:49.240Z"
   },
   {
    "duration": 50,
    "start_time": "2024-12-26T14:17:49.250Z"
   },
   {
    "duration": 6,
    "start_time": "2024-12-26T14:17:49.301Z"
   },
   {
    "duration": 10,
    "start_time": "2024-12-26T14:17:49.308Z"
   },
   {
    "duration": 5,
    "start_time": "2024-12-26T14:17:49.319Z"
   },
   {
    "duration": 19,
    "start_time": "2024-12-26T14:17:49.326Z"
   },
   {
    "duration": 9,
    "start_time": "2024-12-26T14:17:49.348Z"
   },
   {
    "duration": 46,
    "start_time": "2024-12-26T14:17:49.358Z"
   },
   {
    "duration": 9,
    "start_time": "2024-12-26T14:17:49.405Z"
   },
   {
    "duration": 9,
    "start_time": "2024-12-26T14:17:49.415Z"
   },
   {
    "duration": 35,
    "start_time": "2024-12-26T14:17:49.426Z"
   },
   {
    "duration": 42,
    "start_time": "2024-12-26T14:17:49.463Z"
   },
   {
    "duration": 64,
    "start_time": "2024-12-26T14:17:49.507Z"
   },
   {
    "duration": 3,
    "start_time": "2024-12-26T14:17:49.572Z"
   },
   {
    "duration": 17,
    "start_time": "2024-12-26T14:17:49.577Z"
   },
   {
    "duration": 7,
    "start_time": "2024-12-26T14:17:49.596Z"
   },
   {
    "duration": 4,
    "start_time": "2024-12-26T14:17:49.606Z"
   },
   {
    "duration": 15,
    "start_time": "2024-12-26T14:17:49.611Z"
   },
   {
    "duration": 26,
    "start_time": "2024-12-26T14:17:49.628Z"
   },
   {
    "duration": 53,
    "start_time": "2024-12-26T14:17:49.656Z"
   },
   {
    "duration": 15,
    "start_time": "2024-12-26T14:17:49.711Z"
   },
   {
    "duration": 77,
    "start_time": "2024-12-26T14:17:49.727Z"
   },
   {
    "duration": 9,
    "start_time": "2024-12-26T14:17:49.806Z"
   },
   {
    "duration": 19,
    "start_time": "2024-12-26T14:17:49.816Z"
   },
   {
    "duration": 67,
    "start_time": "2024-12-26T14:18:25.394Z"
   },
   {
    "duration": 15,
    "start_time": "2024-12-26T14:18:25.463Z"
   },
   {
    "duration": 15,
    "start_time": "2024-12-26T14:18:25.479Z"
   },
   {
    "duration": 9,
    "start_time": "2024-12-26T14:18:25.496Z"
   },
   {
    "duration": 53,
    "start_time": "2024-12-26T14:18:25.506Z"
   },
   {
    "duration": 37,
    "start_time": "2024-12-26T14:18:25.561Z"
   },
   {
    "duration": 11,
    "start_time": "2024-12-26T14:18:25.601Z"
   },
   {
    "duration": 9,
    "start_time": "2024-12-26T14:18:25.614Z"
   },
   {
    "duration": 23,
    "start_time": "2024-12-26T14:18:25.627Z"
   },
   {
    "duration": 26,
    "start_time": "2024-12-26T14:18:25.654Z"
   },
   {
    "duration": 54,
    "start_time": "2024-12-26T14:18:25.682Z"
   },
   {
    "duration": 9,
    "start_time": "2024-12-26T14:18:25.738Z"
   },
   {
    "duration": 49,
    "start_time": "2024-12-26T14:18:25.749Z"
   },
   {
    "duration": 10,
    "start_time": "2024-12-26T14:18:25.800Z"
   },
   {
    "duration": 18,
    "start_time": "2024-12-26T14:18:25.811Z"
   },
   {
    "duration": 17,
    "start_time": "2024-12-26T14:18:25.831Z"
   },
   {
    "duration": 3,
    "start_time": "2024-12-26T14:18:25.850Z"
   },
   {
    "duration": 15,
    "start_time": "2024-12-26T14:18:25.855Z"
   },
   {
    "duration": 18,
    "start_time": "2024-12-26T14:18:25.871Z"
   },
   {
    "duration": 11,
    "start_time": "2024-12-26T14:18:25.892Z"
   },
   {
    "duration": 15,
    "start_time": "2024-12-26T14:18:25.906Z"
   },
   {
    "duration": 27,
    "start_time": "2024-12-26T14:18:25.922Z"
   },
   {
    "duration": 56,
    "start_time": "2024-12-26T14:18:25.951Z"
   },
   {
    "duration": 6,
    "start_time": "2024-12-26T14:18:26.009Z"
   },
   {
    "duration": 0,
    "start_time": "2024-12-26T14:18:26.017Z"
   },
   {
    "duration": 0,
    "start_time": "2024-12-26T14:18:26.019Z"
   },
   {
    "duration": 0,
    "start_time": "2024-12-26T14:18:26.020Z"
   },
   {
    "duration": 65,
    "start_time": "2024-12-26T14:18:40.942Z"
   },
   {
    "duration": 22,
    "start_time": "2024-12-26T14:18:41.010Z"
   },
   {
    "duration": 13,
    "start_time": "2024-12-26T14:18:41.034Z"
   },
   {
    "duration": 8,
    "start_time": "2024-12-26T14:18:41.049Z"
   },
   {
    "duration": 48,
    "start_time": "2024-12-26T14:18:41.059Z"
   },
   {
    "duration": 4,
    "start_time": "2024-12-26T14:18:41.108Z"
   },
   {
    "duration": 21,
    "start_time": "2024-12-26T14:18:41.113Z"
   },
   {
    "duration": 6,
    "start_time": "2024-12-26T14:18:41.135Z"
   },
   {
    "duration": 20,
    "start_time": "2024-12-26T14:18:41.142Z"
   },
   {
    "duration": 4,
    "start_time": "2024-12-26T14:18:41.165Z"
   },
   {
    "duration": 36,
    "start_time": "2024-12-26T14:18:41.171Z"
   },
   {
    "duration": 9,
    "start_time": "2024-12-26T14:18:41.209Z"
   },
   {
    "duration": 9,
    "start_time": "2024-12-26T14:18:41.219Z"
   },
   {
    "duration": 13,
    "start_time": "2024-12-26T14:18:41.229Z"
   },
   {
    "duration": 26,
    "start_time": "2024-12-26T14:18:41.243Z"
   },
   {
    "duration": 32,
    "start_time": "2024-12-26T14:18:41.270Z"
   },
   {
    "duration": 3,
    "start_time": "2024-12-26T14:18:41.304Z"
   },
   {
    "duration": 16,
    "start_time": "2024-12-26T14:18:41.309Z"
   },
   {
    "duration": 6,
    "start_time": "2024-12-26T14:18:41.327Z"
   },
   {
    "duration": 9,
    "start_time": "2024-12-26T14:18:41.334Z"
   },
   {
    "duration": 10,
    "start_time": "2024-12-26T14:18:41.344Z"
   },
   {
    "duration": 31,
    "start_time": "2024-12-26T14:18:41.355Z"
   },
   {
    "duration": 25,
    "start_time": "2024-12-26T14:18:41.388Z"
   },
   {
    "duration": 17,
    "start_time": "2024-12-26T14:18:41.415Z"
   },
   {
    "duration": 9,
    "start_time": "2024-12-26T14:18:41.433Z"
   },
   {
    "duration": 11,
    "start_time": "2024-12-26T14:18:41.444Z"
   },
   {
    "duration": 34,
    "start_time": "2024-12-26T14:18:41.457Z"
   },
   {
    "duration": 69,
    "start_time": "2024-12-26T14:19:53.925Z"
   },
   {
    "duration": 15,
    "start_time": "2024-12-26T14:19:53.996Z"
   },
   {
    "duration": 19,
    "start_time": "2024-12-26T14:19:54.013Z"
   },
   {
    "duration": 14,
    "start_time": "2024-12-26T14:19:54.034Z"
   },
   {
    "duration": 52,
    "start_time": "2024-12-26T14:19:54.051Z"
   },
   {
    "duration": 4,
    "start_time": "2024-12-26T14:19:54.104Z"
   },
   {
    "duration": 22,
    "start_time": "2024-12-26T14:19:54.110Z"
   },
   {
    "duration": 22,
    "start_time": "2024-12-26T14:19:54.134Z"
   },
   {
    "duration": 16,
    "start_time": "2024-12-26T14:19:54.158Z"
   },
   {
    "duration": 5,
    "start_time": "2024-12-26T14:19:54.176Z"
   },
   {
    "duration": 34,
    "start_time": "2024-12-26T14:19:54.183Z"
   },
   {
    "duration": 14,
    "start_time": "2024-12-26T14:19:54.219Z"
   },
   {
    "duration": 57,
    "start_time": "2024-12-26T14:19:54.235Z"
   },
   {
    "duration": 28,
    "start_time": "2024-12-26T14:19:54.294Z"
   },
   {
    "duration": 38,
    "start_time": "2024-12-26T14:19:54.324Z"
   },
   {
    "duration": 26,
    "start_time": "2024-12-26T14:19:54.364Z"
   },
   {
    "duration": 4,
    "start_time": "2024-12-26T14:19:54.392Z"
   },
   {
    "duration": 34,
    "start_time": "2024-12-26T14:19:54.398Z"
   },
   {
    "duration": 9,
    "start_time": "2024-12-26T14:19:54.434Z"
   },
   {
    "duration": 10,
    "start_time": "2024-12-26T14:19:54.445Z"
   },
   {
    "duration": 18,
    "start_time": "2024-12-26T14:19:54.457Z"
   },
   {
    "duration": 29,
    "start_time": "2024-12-26T14:19:54.477Z"
   },
   {
    "duration": 43,
    "start_time": "2024-12-26T14:19:54.508Z"
   },
   {
    "duration": 1161,
    "start_time": "2024-12-26T14:19:54.553Z"
   },
   {
    "duration": 0,
    "start_time": "2024-12-26T14:19:55.716Z"
   },
   {
    "duration": 0,
    "start_time": "2024-12-26T14:19:55.717Z"
   },
   {
    "duration": 1,
    "start_time": "2024-12-26T14:19:55.718Z"
   },
   {
    "duration": 79,
    "start_time": "2024-12-26T14:20:33.929Z"
   },
   {
    "duration": 15,
    "start_time": "2024-12-26T14:20:34.010Z"
   },
   {
    "duration": 17,
    "start_time": "2024-12-26T14:20:34.027Z"
   },
   {
    "duration": 19,
    "start_time": "2024-12-26T14:20:34.047Z"
   },
   {
    "duration": 33,
    "start_time": "2024-12-26T14:20:34.067Z"
   },
   {
    "duration": 4,
    "start_time": "2024-12-26T14:20:34.102Z"
   },
   {
    "duration": 30,
    "start_time": "2024-12-26T14:20:34.108Z"
   },
   {
    "duration": 14,
    "start_time": "2024-12-26T14:20:34.140Z"
   },
   {
    "duration": 7,
    "start_time": "2024-12-26T14:20:34.155Z"
   },
   {
    "duration": 4,
    "start_time": "2024-12-26T14:20:34.164Z"
   },
   {
    "duration": 44,
    "start_time": "2024-12-26T14:20:34.169Z"
   },
   {
    "duration": 20,
    "start_time": "2024-12-26T14:20:34.215Z"
   },
   {
    "duration": 52,
    "start_time": "2024-12-26T14:20:34.236Z"
   },
   {
    "duration": 25,
    "start_time": "2024-12-26T14:20:34.290Z"
   },
   {
    "duration": 35,
    "start_time": "2024-12-26T14:20:34.317Z"
   },
   {
    "duration": 23,
    "start_time": "2024-12-26T14:20:34.353Z"
   },
   {
    "duration": 4,
    "start_time": "2024-12-26T14:20:34.378Z"
   },
   {
    "duration": 24,
    "start_time": "2024-12-26T14:20:34.384Z"
   },
   {
    "duration": 10,
    "start_time": "2024-12-26T14:20:34.410Z"
   },
   {
    "duration": 5,
    "start_time": "2024-12-26T14:20:34.422Z"
   },
   {
    "duration": 12,
    "start_time": "2024-12-26T14:20:34.429Z"
   },
   {
    "duration": 28,
    "start_time": "2024-12-26T14:20:34.442Z"
   },
   {
    "duration": 55,
    "start_time": "2024-12-26T14:20:34.472Z"
   },
   {
    "duration": 15,
    "start_time": "2024-12-26T14:20:34.528Z"
   },
   {
    "duration": 38,
    "start_time": "2024-12-26T14:20:34.545Z"
   },
   {
    "duration": 25,
    "start_time": "2024-12-26T14:20:34.585Z"
   },
   {
    "duration": 16,
    "start_time": "2024-12-26T14:20:34.612Z"
   },
   {
    "duration": 67,
    "start_time": "2024-12-26T14:27:01.958Z"
   },
   {
    "duration": 14,
    "start_time": "2024-12-26T14:27:02.028Z"
   },
   {
    "duration": 66,
    "start_time": "2024-12-26T14:27:02.044Z"
   },
   {
    "duration": 27,
    "start_time": "2024-12-26T14:27:02.112Z"
   },
   {
    "duration": 60,
    "start_time": "2024-12-26T14:27:02.141Z"
   },
   {
    "duration": 3,
    "start_time": "2024-12-26T14:27:02.203Z"
   },
   {
    "duration": 19,
    "start_time": "2024-12-26T14:27:02.208Z"
   },
   {
    "duration": 7,
    "start_time": "2024-12-26T14:27:02.229Z"
   },
   {
    "duration": 79,
    "start_time": "2024-12-26T14:27:02.238Z"
   },
   {
    "duration": 14,
    "start_time": "2024-12-26T14:27:02.320Z"
   },
   {
    "duration": 48,
    "start_time": "2024-12-26T14:27:02.335Z"
   },
   {
    "duration": 9,
    "start_time": "2024-12-26T14:27:02.384Z"
   },
   {
    "duration": 41,
    "start_time": "2024-12-26T14:27:02.394Z"
   },
   {
    "duration": 29,
    "start_time": "2024-12-26T14:27:02.436Z"
   },
   {
    "duration": 55,
    "start_time": "2024-12-26T14:27:02.467Z"
   },
   {
    "duration": 53,
    "start_time": "2024-12-26T14:27:02.523Z"
   },
   {
    "duration": 16,
    "start_time": "2024-12-26T14:27:02.577Z"
   },
   {
    "duration": 36,
    "start_time": "2024-12-26T14:27:02.594Z"
   },
   {
    "duration": 24,
    "start_time": "2024-12-26T14:27:02.631Z"
   },
   {
    "duration": 18,
    "start_time": "2024-12-26T14:27:02.656Z"
   },
   {
    "duration": 40,
    "start_time": "2024-12-26T14:27:02.676Z"
   },
   {
    "duration": 49,
    "start_time": "2024-12-26T14:27:02.718Z"
   },
   {
    "duration": 37,
    "start_time": "2024-12-26T14:27:02.770Z"
   },
   {
    "duration": 17,
    "start_time": "2024-12-26T14:27:02.809Z"
   },
   {
    "duration": 10,
    "start_time": "2024-12-26T14:27:02.828Z"
   },
   {
    "duration": 9,
    "start_time": "2024-12-26T14:27:02.839Z"
   },
   {
    "duration": 37,
    "start_time": "2024-12-26T14:27:02.850Z"
   },
   {
    "duration": 66,
    "start_time": "2024-12-26T14:27:36.754Z"
   },
   {
    "duration": 14,
    "start_time": "2024-12-26T14:27:36.823Z"
   },
   {
    "duration": 36,
    "start_time": "2024-12-26T14:27:36.839Z"
   },
   {
    "duration": 19,
    "start_time": "2024-12-26T14:27:36.877Z"
   },
   {
    "duration": 35,
    "start_time": "2024-12-26T14:27:36.898Z"
   },
   {
    "duration": 4,
    "start_time": "2024-12-26T14:27:36.934Z"
   },
   {
    "duration": 17,
    "start_time": "2024-12-26T14:27:36.939Z"
   },
   {
    "duration": 15,
    "start_time": "2024-12-26T14:27:36.957Z"
   },
   {
    "duration": 27,
    "start_time": "2024-12-26T14:27:36.974Z"
   },
   {
    "duration": 4,
    "start_time": "2024-12-26T14:27:37.004Z"
   },
   {
    "duration": 33,
    "start_time": "2024-12-26T14:27:37.010Z"
   },
   {
    "duration": 9,
    "start_time": "2024-12-26T14:27:37.045Z"
   },
   {
    "duration": 13,
    "start_time": "2024-12-26T14:27:37.055Z"
   },
   {
    "duration": 16,
    "start_time": "2024-12-26T14:27:37.070Z"
   },
   {
    "duration": 25,
    "start_time": "2024-12-26T14:27:37.088Z"
   },
   {
    "duration": 26,
    "start_time": "2024-12-26T14:27:37.114Z"
   },
   {
    "duration": 27,
    "start_time": "2024-12-26T14:27:37.142Z"
   },
   {
    "duration": 16,
    "start_time": "2024-12-26T14:27:37.171Z"
   },
   {
    "duration": 6,
    "start_time": "2024-12-26T14:27:37.189Z"
   },
   {
    "duration": 3,
    "start_time": "2024-12-26T14:27:37.196Z"
   },
   {
    "duration": 10,
    "start_time": "2024-12-26T14:27:37.201Z"
   },
   {
    "duration": 16,
    "start_time": "2024-12-26T14:27:37.213Z"
   },
   {
    "duration": 28,
    "start_time": "2024-12-26T14:27:37.232Z"
   },
   {
    "duration": 40,
    "start_time": "2024-12-26T14:27:37.261Z"
   },
   {
    "duration": 0,
    "start_time": "2024-12-26T14:27:37.303Z"
   },
   {
    "duration": 0,
    "start_time": "2024-12-26T14:27:37.304Z"
   },
   {
    "duration": 0,
    "start_time": "2024-12-26T14:27:37.306Z"
   },
   {
    "duration": 67,
    "start_time": "2024-12-26T14:28:00.339Z"
   },
   {
    "duration": 14,
    "start_time": "2024-12-26T14:28:00.407Z"
   },
   {
    "duration": 20,
    "start_time": "2024-12-26T14:28:00.422Z"
   },
   {
    "duration": 35,
    "start_time": "2024-12-26T14:28:00.444Z"
   },
   {
    "duration": 51,
    "start_time": "2024-12-26T14:28:00.480Z"
   },
   {
    "duration": 18,
    "start_time": "2024-12-26T14:28:00.533Z"
   },
   {
    "duration": 45,
    "start_time": "2024-12-26T14:28:00.553Z"
   },
   {
    "duration": 41,
    "start_time": "2024-12-26T14:28:00.600Z"
   },
   {
    "duration": 13,
    "start_time": "2024-12-26T14:28:00.643Z"
   },
   {
    "duration": 18,
    "start_time": "2024-12-26T14:28:00.659Z"
   },
   {
    "duration": 59,
    "start_time": "2024-12-26T14:28:00.678Z"
   },
   {
    "duration": 8,
    "start_time": "2024-12-26T14:28:00.739Z"
   },
   {
    "duration": 31,
    "start_time": "2024-12-26T14:28:00.748Z"
   },
   {
    "duration": 52,
    "start_time": "2024-12-26T14:28:00.780Z"
   },
   {
    "duration": 73,
    "start_time": "2024-12-26T14:28:00.834Z"
   },
   {
    "duration": 20,
    "start_time": "2024-12-26T14:28:00.908Z"
   },
   {
    "duration": 4,
    "start_time": "2024-12-26T14:28:00.930Z"
   },
   {
    "duration": 28,
    "start_time": "2024-12-26T14:28:00.935Z"
   },
   {
    "duration": 5,
    "start_time": "2024-12-26T14:28:00.964Z"
   },
   {
    "duration": 18,
    "start_time": "2024-12-26T14:28:00.971Z"
   },
   {
    "duration": 15,
    "start_time": "2024-12-26T14:28:00.991Z"
   },
   {
    "duration": 30,
    "start_time": "2024-12-26T14:28:01.007Z"
   },
   {
    "duration": 35,
    "start_time": "2024-12-26T14:28:01.039Z"
   },
   {
    "duration": 16,
    "start_time": "2024-12-26T14:28:01.076Z"
   },
   {
    "duration": 31,
    "start_time": "2024-12-26T14:28:01.093Z"
   },
   {
    "duration": 11,
    "start_time": "2024-12-26T14:28:01.126Z"
   },
   {
    "duration": 10,
    "start_time": "2024-12-26T14:28:01.138Z"
   },
   {
    "duration": 66,
    "start_time": "2024-12-26T14:29:53.286Z"
   },
   {
    "duration": 14,
    "start_time": "2024-12-26T14:29:53.354Z"
   },
   {
    "duration": 14,
    "start_time": "2024-12-26T14:29:53.370Z"
   },
   {
    "duration": 8,
    "start_time": "2024-12-26T14:29:53.387Z"
   },
   {
    "duration": 50,
    "start_time": "2024-12-26T14:29:53.397Z"
   },
   {
    "duration": 3,
    "start_time": "2024-12-26T14:29:53.449Z"
   },
   {
    "duration": 14,
    "start_time": "2024-12-26T14:29:53.453Z"
   },
   {
    "duration": 6,
    "start_time": "2024-12-26T14:29:53.468Z"
   },
   {
    "duration": 10,
    "start_time": "2024-12-26T14:29:53.475Z"
   },
   {
    "duration": 4,
    "start_time": "2024-12-26T14:29:53.488Z"
   },
   {
    "duration": 42,
    "start_time": "2024-12-26T14:29:53.493Z"
   },
   {
    "duration": 9,
    "start_time": "2024-12-26T14:29:53.536Z"
   },
   {
    "duration": 20,
    "start_time": "2024-12-26T14:29:53.547Z"
   },
   {
    "duration": 22,
    "start_time": "2024-12-26T14:29:53.569Z"
   },
   {
    "duration": 88,
    "start_time": "2024-12-26T14:29:53.592Z"
   },
   {
    "duration": 52,
    "start_time": "2024-12-26T14:29:53.682Z"
   },
   {
    "duration": 10,
    "start_time": "2024-12-26T14:29:53.736Z"
   },
   {
    "duration": 26,
    "start_time": "2024-12-26T14:29:53.748Z"
   },
   {
    "duration": 17,
    "start_time": "2024-12-26T14:29:53.775Z"
   },
   {
    "duration": 16,
    "start_time": "2024-12-26T14:29:53.793Z"
   },
   {
    "duration": 13,
    "start_time": "2024-12-26T14:29:53.811Z"
   },
   {
    "duration": 15,
    "start_time": "2024-12-26T14:29:53.826Z"
   },
   {
    "duration": 34,
    "start_time": "2024-12-26T14:29:53.843Z"
   },
   {
    "duration": 16,
    "start_time": "2024-12-26T14:29:53.879Z"
   },
   {
    "duration": 10,
    "start_time": "2024-12-26T14:29:53.896Z"
   },
   {
    "duration": 23,
    "start_time": "2024-12-26T14:29:53.907Z"
   },
   {
    "duration": 28,
    "start_time": "2024-12-26T14:29:53.932Z"
   },
   {
    "duration": 79,
    "start_time": "2024-12-26T14:30:25.382Z"
   },
   {
    "duration": 15,
    "start_time": "2024-12-26T14:30:25.463Z"
   },
   {
    "duration": 25,
    "start_time": "2024-12-26T14:30:25.480Z"
   },
   {
    "duration": 9,
    "start_time": "2024-12-26T14:30:25.507Z"
   },
   {
    "duration": 36,
    "start_time": "2024-12-26T14:30:25.517Z"
   },
   {
    "duration": 3,
    "start_time": "2024-12-26T14:30:25.555Z"
   },
   {
    "duration": 29,
    "start_time": "2024-12-26T14:30:25.559Z"
   },
   {
    "duration": 7,
    "start_time": "2024-12-26T14:30:25.589Z"
   },
   {
    "duration": 8,
    "start_time": "2024-12-26T14:30:25.599Z"
   },
   {
    "duration": 6,
    "start_time": "2024-12-26T14:30:25.610Z"
   },
   {
    "duration": 37,
    "start_time": "2024-12-26T14:30:25.617Z"
   },
   {
    "duration": 36,
    "start_time": "2024-12-26T14:30:25.655Z"
   },
   {
    "duration": 5,
    "start_time": "2024-12-26T14:30:25.692Z"
   },
   {
    "duration": 29,
    "start_time": "2024-12-26T14:30:25.698Z"
   },
   {
    "duration": 21,
    "start_time": "2024-12-26T14:30:25.729Z"
   },
   {
    "duration": 19,
    "start_time": "2024-12-26T14:30:25.752Z"
   },
   {
    "duration": 32,
    "start_time": "2024-12-26T14:30:25.773Z"
   },
   {
    "duration": 16,
    "start_time": "2024-12-26T14:30:25.807Z"
   },
   {
    "duration": 9,
    "start_time": "2024-12-26T14:30:25.825Z"
   },
   {
    "duration": 17,
    "start_time": "2024-12-26T14:30:25.835Z"
   },
   {
    "duration": 22,
    "start_time": "2024-12-26T14:30:25.854Z"
   },
   {
    "duration": 16,
    "start_time": "2024-12-26T14:30:25.878Z"
   },
   {
    "duration": 31,
    "start_time": "2024-12-26T14:30:25.895Z"
   },
   {
    "duration": 15,
    "start_time": "2024-12-26T14:30:25.927Z"
   },
   {
    "duration": 19,
    "start_time": "2024-12-26T14:30:25.944Z"
   },
   {
    "duration": 8,
    "start_time": "2024-12-26T14:30:25.964Z"
   },
   {
    "duration": 11,
    "start_time": "2024-12-26T14:30:25.986Z"
   },
   {
    "duration": 70,
    "start_time": "2024-12-26T14:31:34.710Z"
   },
   {
    "duration": 16,
    "start_time": "2024-12-26T14:31:34.782Z"
   },
   {
    "duration": 95,
    "start_time": "2024-12-26T14:31:34.800Z"
   },
   {
    "duration": 24,
    "start_time": "2024-12-26T14:31:34.898Z"
   },
   {
    "duration": 41,
    "start_time": "2024-12-26T14:31:34.925Z"
   },
   {
    "duration": 3,
    "start_time": "2024-12-26T14:31:34.967Z"
   },
   {
    "duration": 26,
    "start_time": "2024-12-26T14:31:34.972Z"
   },
   {
    "duration": 18,
    "start_time": "2024-12-26T14:31:34.999Z"
   },
   {
    "duration": 20,
    "start_time": "2024-12-26T14:31:35.019Z"
   },
   {
    "duration": 21,
    "start_time": "2024-12-26T14:31:35.041Z"
   },
   {
    "duration": 35,
    "start_time": "2024-12-26T14:31:35.063Z"
   },
   {
    "duration": 9,
    "start_time": "2024-12-26T14:31:35.099Z"
   },
   {
    "duration": 19,
    "start_time": "2024-12-26T14:31:35.110Z"
   },
   {
    "duration": 35,
    "start_time": "2024-12-26T14:31:35.130Z"
   },
   {
    "duration": 44,
    "start_time": "2024-12-26T14:31:35.167Z"
   },
   {
    "duration": 30,
    "start_time": "2024-12-26T14:31:35.213Z"
   },
   {
    "duration": 11,
    "start_time": "2024-12-26T14:31:35.244Z"
   },
   {
    "duration": 14,
    "start_time": "2024-12-26T14:31:35.256Z"
   },
   {
    "duration": 18,
    "start_time": "2024-12-26T14:31:35.271Z"
   },
   {
    "duration": 3,
    "start_time": "2024-12-26T14:31:35.291Z"
   },
   {
    "duration": 20,
    "start_time": "2024-12-26T14:31:35.295Z"
   },
   {
    "duration": 32,
    "start_time": "2024-12-26T14:31:35.316Z"
   },
   {
    "duration": 33,
    "start_time": "2024-12-26T14:31:35.350Z"
   },
   {
    "duration": 16,
    "start_time": "2024-12-26T14:31:35.384Z"
   },
   {
    "duration": 15,
    "start_time": "2024-12-26T14:31:35.402Z"
   },
   {
    "duration": 17,
    "start_time": "2024-12-26T14:31:35.419Z"
   },
   {
    "duration": 18,
    "start_time": "2024-12-26T14:31:35.437Z"
   },
   {
    "duration": 66,
    "start_time": "2024-12-26T14:32:57.921Z"
   },
   {
    "duration": 15,
    "start_time": "2024-12-26T14:32:57.989Z"
   },
   {
    "duration": 30,
    "start_time": "2024-12-26T14:32:58.006Z"
   },
   {
    "duration": 19,
    "start_time": "2024-12-26T14:32:58.038Z"
   },
   {
    "duration": 36,
    "start_time": "2024-12-26T14:32:58.058Z"
   },
   {
    "duration": 3,
    "start_time": "2024-12-26T14:32:58.095Z"
   },
   {
    "duration": 9,
    "start_time": "2024-12-26T14:32:58.099Z"
   },
   {
    "duration": 3,
    "start_time": "2024-12-26T14:32:58.109Z"
   },
   {
    "duration": 8,
    "start_time": "2024-12-26T14:32:58.114Z"
   },
   {
    "duration": 4,
    "start_time": "2024-12-26T14:32:58.125Z"
   },
   {
    "duration": 64,
    "start_time": "2024-12-26T14:32:58.131Z"
   },
   {
    "duration": 9,
    "start_time": "2024-12-26T14:32:58.197Z"
   },
   {
    "duration": 4,
    "start_time": "2024-12-26T14:32:58.208Z"
   },
   {
    "duration": 13,
    "start_time": "2024-12-26T14:32:58.213Z"
   },
   {
    "duration": 21,
    "start_time": "2024-12-26T14:32:58.228Z"
   },
   {
    "duration": 41,
    "start_time": "2024-12-26T14:32:58.251Z"
   },
   {
    "duration": 42,
    "start_time": "2024-12-26T14:32:58.294Z"
   },
   {
    "duration": 10,
    "start_time": "2024-12-26T14:32:58.338Z"
   },
   {
    "duration": 10,
    "start_time": "2024-12-26T14:32:58.350Z"
   },
   {
    "duration": 3,
    "start_time": "2024-12-26T14:32:58.361Z"
   },
   {
    "duration": 9,
    "start_time": "2024-12-26T14:32:58.366Z"
   },
   {
    "duration": 16,
    "start_time": "2024-12-26T14:32:58.376Z"
   },
   {
    "duration": 25,
    "start_time": "2024-12-26T14:32:58.393Z"
   },
   {
    "duration": 16,
    "start_time": "2024-12-26T14:32:58.419Z"
   },
   {
    "duration": 16,
    "start_time": "2024-12-26T14:32:58.437Z"
   },
   {
    "duration": 8,
    "start_time": "2024-12-26T14:32:58.455Z"
   },
   {
    "duration": 9,
    "start_time": "2024-12-26T14:32:58.486Z"
   },
   {
    "duration": 69,
    "start_time": "2024-12-26T14:33:33.968Z"
   },
   {
    "duration": 13,
    "start_time": "2024-12-26T14:33:34.039Z"
   },
   {
    "duration": 41,
    "start_time": "2024-12-26T14:33:34.054Z"
   },
   {
    "duration": 8,
    "start_time": "2024-12-26T14:33:34.097Z"
   },
   {
    "duration": 51,
    "start_time": "2024-12-26T14:33:34.107Z"
   },
   {
    "duration": 13,
    "start_time": "2024-12-26T14:33:34.159Z"
   },
   {
    "duration": 24,
    "start_time": "2024-12-26T14:33:34.173Z"
   },
   {
    "duration": 12,
    "start_time": "2024-12-26T14:33:34.198Z"
   },
   {
    "duration": 8,
    "start_time": "2024-12-26T14:33:34.211Z"
   },
   {
    "duration": 4,
    "start_time": "2024-12-26T14:33:34.222Z"
   },
   {
    "duration": 29,
    "start_time": "2024-12-26T14:33:34.228Z"
   },
   {
    "duration": 10,
    "start_time": "2024-12-26T14:33:34.258Z"
   },
   {
    "duration": 55,
    "start_time": "2024-12-26T14:33:34.269Z"
   },
   {
    "duration": 11,
    "start_time": "2024-12-26T14:33:34.326Z"
   },
   {
    "duration": 32,
    "start_time": "2024-12-26T14:33:34.339Z"
   },
   {
    "duration": 17,
    "start_time": "2024-12-26T14:33:34.373Z"
   },
   {
    "duration": 9,
    "start_time": "2024-12-26T14:33:34.392Z"
   },
   {
    "duration": 14,
    "start_time": "2024-12-26T14:33:34.402Z"
   },
   {
    "duration": 8,
    "start_time": "2024-12-26T14:33:34.418Z"
   },
   {
    "duration": 4,
    "start_time": "2024-12-26T14:33:34.427Z"
   },
   {
    "duration": 23,
    "start_time": "2024-12-26T14:33:34.432Z"
   },
   {
    "duration": 15,
    "start_time": "2024-12-26T14:33:34.457Z"
   },
   {
    "duration": 46,
    "start_time": "2024-12-26T14:33:34.473Z"
   },
   {
    "duration": 17,
    "start_time": "2024-12-26T14:33:34.521Z"
   },
   {
    "duration": 15,
    "start_time": "2024-12-26T14:33:34.539Z"
   },
   {
    "duration": 8,
    "start_time": "2024-12-26T14:33:34.556Z"
   },
   {
    "duration": 31,
    "start_time": "2024-12-26T14:33:34.566Z"
   },
   {
    "duration": 67,
    "start_time": "2024-12-26T14:46:32.706Z"
   },
   {
    "duration": 14,
    "start_time": "2024-12-26T14:46:32.775Z"
   },
   {
    "duration": 20,
    "start_time": "2024-12-26T14:46:32.790Z"
   },
   {
    "duration": 10,
    "start_time": "2024-12-26T14:46:32.813Z"
   },
   {
    "duration": 61,
    "start_time": "2024-12-26T14:46:32.824Z"
   },
   {
    "duration": 18,
    "start_time": "2024-12-26T14:46:32.887Z"
   },
   {
    "duration": 52,
    "start_time": "2024-12-26T14:46:32.907Z"
   },
   {
    "duration": 4,
    "start_time": "2024-12-26T14:46:32.961Z"
   },
   {
    "duration": 29,
    "start_time": "2024-12-26T14:46:32.967Z"
   },
   {
    "duration": 5,
    "start_time": "2024-12-26T14:46:32.998Z"
   },
   {
    "duration": 49,
    "start_time": "2024-12-26T14:46:33.004Z"
   },
   {
    "duration": 9,
    "start_time": "2024-12-26T14:46:33.054Z"
   },
   {
    "duration": 4,
    "start_time": "2024-12-26T14:46:33.065Z"
   },
   {
    "duration": 18,
    "start_time": "2024-12-26T14:46:33.070Z"
   },
   {
    "duration": 20,
    "start_time": "2024-12-26T14:46:33.090Z"
   },
   {
    "duration": 19,
    "start_time": "2024-12-26T14:46:33.112Z"
   },
   {
    "duration": 3,
    "start_time": "2024-12-26T14:46:33.133Z"
   },
   {
    "duration": 18,
    "start_time": "2024-12-26T14:46:33.137Z"
   },
   {
    "duration": 11,
    "start_time": "2024-12-26T14:46:33.157Z"
   },
   {
    "duration": 16,
    "start_time": "2024-12-26T14:46:33.170Z"
   },
   {
    "duration": 17,
    "start_time": "2024-12-26T14:46:33.188Z"
   },
   {
    "duration": 36,
    "start_time": "2024-12-26T14:46:33.206Z"
   },
   {
    "duration": 43,
    "start_time": "2024-12-26T14:46:33.243Z"
   },
   {
    "duration": 16,
    "start_time": "2024-12-26T14:46:33.288Z"
   },
   {
    "duration": 40,
    "start_time": "2024-12-26T14:46:33.306Z"
   },
   {
    "duration": 9,
    "start_time": "2024-12-26T14:46:33.348Z"
   },
   {
    "duration": 33,
    "start_time": "2024-12-26T14:46:33.358Z"
   },
   {
    "duration": 66,
    "start_time": "2024-12-26T14:47:59.996Z"
   },
   {
    "duration": 14,
    "start_time": "2024-12-26T14:48:00.064Z"
   },
   {
    "duration": 46,
    "start_time": "2024-12-26T14:48:00.080Z"
   },
   {
    "duration": 28,
    "start_time": "2024-12-26T14:48:00.128Z"
   },
   {
    "duration": 69,
    "start_time": "2024-12-26T14:48:00.157Z"
   },
   {
    "duration": 21,
    "start_time": "2024-12-26T14:48:00.228Z"
   },
   {
    "duration": 25,
    "start_time": "2024-12-26T14:48:00.252Z"
   },
   {
    "duration": 71,
    "start_time": "2024-12-26T14:48:00.280Z"
   },
   {
    "duration": 109,
    "start_time": "2024-12-26T14:48:00.353Z"
   },
   {
    "duration": 32,
    "start_time": "2024-12-26T14:48:00.465Z"
   },
   {
    "duration": 70,
    "start_time": "2024-12-26T14:48:00.499Z"
   },
   {
    "duration": 9,
    "start_time": "2024-12-26T14:48:00.571Z"
   },
   {
    "duration": 13,
    "start_time": "2024-12-26T14:48:00.581Z"
   },
   {
    "duration": 27,
    "start_time": "2024-12-26T14:48:00.596Z"
   },
   {
    "duration": 19,
    "start_time": "2024-12-26T14:48:00.625Z"
   },
   {
    "duration": 21,
    "start_time": "2024-12-26T14:48:00.646Z"
   },
   {
    "duration": 25,
    "start_time": "2024-12-26T14:48:00.669Z"
   },
   {
    "duration": 35,
    "start_time": "2024-12-26T14:48:00.695Z"
   },
   {
    "duration": 7,
    "start_time": "2024-12-26T14:48:00.732Z"
   },
   {
    "duration": 3,
    "start_time": "2024-12-26T14:48:00.741Z"
   },
   {
    "duration": 10,
    "start_time": "2024-12-26T14:48:00.745Z"
   },
   {
    "duration": 15,
    "start_time": "2024-12-26T14:48:00.756Z"
   },
   {
    "duration": 45,
    "start_time": "2024-12-26T14:48:00.772Z"
   },
   {
    "duration": 16,
    "start_time": "2024-12-26T14:48:00.819Z"
   },
   {
    "duration": 19,
    "start_time": "2024-12-26T14:48:00.837Z"
   },
   {
    "duration": 8,
    "start_time": "2024-12-26T14:48:00.857Z"
   },
   {
    "duration": 73,
    "start_time": "2024-12-26T14:48:00.867Z"
   },
   {
    "duration": 71,
    "start_time": "2024-12-26T15:08:15.726Z"
   },
   {
    "duration": 15,
    "start_time": "2024-12-26T15:08:15.799Z"
   },
   {
    "duration": 57,
    "start_time": "2024-12-26T15:08:15.815Z"
   },
   {
    "duration": 8,
    "start_time": "2024-12-26T15:08:15.874Z"
   },
   {
    "duration": 33,
    "start_time": "2024-12-26T15:08:15.884Z"
   },
   {
    "duration": 3,
    "start_time": "2024-12-26T15:08:15.919Z"
   },
   {
    "duration": 58,
    "start_time": "2024-12-26T15:08:15.923Z"
   },
   {
    "duration": 4,
    "start_time": "2024-12-26T15:08:15.982Z"
   },
   {
    "duration": 8,
    "start_time": "2024-12-26T15:08:15.987Z"
   },
   {
    "duration": 12,
    "start_time": "2024-12-26T15:08:15.999Z"
   },
   {
    "duration": 56,
    "start_time": "2024-12-26T15:08:16.012Z"
   },
   {
    "duration": 9,
    "start_time": "2024-12-26T15:08:16.069Z"
   },
   {
    "duration": 17,
    "start_time": "2024-12-26T15:08:16.079Z"
   },
   {
    "duration": 11,
    "start_time": "2024-12-26T15:08:16.098Z"
   },
   {
    "duration": 25,
    "start_time": "2024-12-26T15:08:16.110Z"
   },
   {
    "duration": 19,
    "start_time": "2024-12-26T15:08:16.136Z"
   },
   {
    "duration": 4,
    "start_time": "2024-12-26T15:08:16.157Z"
   },
   {
    "duration": 42,
    "start_time": "2024-12-26T15:08:16.162Z"
   },
   {
    "duration": 9,
    "start_time": "2024-12-26T15:08:16.206Z"
   },
   {
    "duration": 32,
    "start_time": "2024-12-26T15:08:16.216Z"
   },
   {
    "duration": 13,
    "start_time": "2024-12-26T15:08:16.249Z"
   },
   {
    "duration": 18,
    "start_time": "2024-12-26T15:08:16.263Z"
   },
   {
    "duration": 43,
    "start_time": "2024-12-26T15:08:16.283Z"
   },
   {
    "duration": 16,
    "start_time": "2024-12-26T15:08:16.328Z"
   },
   {
    "duration": 30,
    "start_time": "2024-12-26T15:08:16.346Z"
   },
   {
    "duration": 29,
    "start_time": "2024-12-26T15:08:16.379Z"
   },
   {
    "duration": 10,
    "start_time": "2024-12-26T15:08:16.410Z"
   },
   {
    "duration": 79,
    "start_time": "2024-12-26T15:11:07.169Z"
   },
   {
    "duration": 15,
    "start_time": "2024-12-26T15:11:07.250Z"
   },
   {
    "duration": 31,
    "start_time": "2024-12-26T15:11:07.267Z"
   },
   {
    "duration": 8,
    "start_time": "2024-12-26T15:11:07.300Z"
   },
   {
    "duration": 30,
    "start_time": "2024-12-26T15:11:07.311Z"
   },
   {
    "duration": 3,
    "start_time": "2024-12-26T15:11:07.342Z"
   },
   {
    "duration": 8,
    "start_time": "2024-12-26T15:11:07.347Z"
   },
   {
    "duration": 4,
    "start_time": "2024-12-26T15:11:07.356Z"
   },
   {
    "duration": 30,
    "start_time": "2024-12-26T15:11:07.361Z"
   },
   {
    "duration": 13,
    "start_time": "2024-12-26T15:11:07.392Z"
   },
   {
    "duration": 33,
    "start_time": "2024-12-26T15:11:07.406Z"
   },
   {
    "duration": 9,
    "start_time": "2024-12-26T15:11:07.440Z"
   },
   {
    "duration": 18,
    "start_time": "2024-12-26T15:11:07.450Z"
   },
   {
    "duration": 23,
    "start_time": "2024-12-26T15:11:07.470Z"
   },
   {
    "duration": 22,
    "start_time": "2024-12-26T15:11:07.495Z"
   },
   {
    "duration": 17,
    "start_time": "2024-12-26T15:11:07.518Z"
   },
   {
    "duration": 3,
    "start_time": "2024-12-26T15:11:07.536Z"
   },
   {
    "duration": 9,
    "start_time": "2024-12-26T15:11:07.541Z"
   },
   {
    "duration": 5,
    "start_time": "2024-12-26T15:11:07.552Z"
   },
   {
    "duration": 3,
    "start_time": "2024-12-26T15:11:07.586Z"
   },
   {
    "duration": 15,
    "start_time": "2024-12-26T15:11:07.591Z"
   },
   {
    "duration": 15,
    "start_time": "2024-12-26T15:11:07.607Z"
   },
   {
    "duration": 27,
    "start_time": "2024-12-26T15:11:07.623Z"
   },
   {
    "duration": 42,
    "start_time": "2024-12-26T15:11:07.651Z"
   },
   {
    "duration": 18,
    "start_time": "2024-12-26T15:11:07.695Z"
   },
   {
    "duration": 87,
    "start_time": "2024-12-26T15:11:07.714Z"
   },
   {
    "duration": 0,
    "start_time": "2024-12-26T15:11:07.803Z"
   },
   {
    "duration": 68,
    "start_time": "2024-12-26T15:11:50.956Z"
   },
   {
    "duration": 15,
    "start_time": "2024-12-26T15:11:51.025Z"
   },
   {
    "duration": 27,
    "start_time": "2024-12-26T15:11:51.042Z"
   },
   {
    "duration": 37,
    "start_time": "2024-12-26T15:11:51.071Z"
   },
   {
    "duration": 37,
    "start_time": "2024-12-26T15:11:51.110Z"
   },
   {
    "duration": 3,
    "start_time": "2024-12-26T15:11:51.149Z"
   },
   {
    "duration": 21,
    "start_time": "2024-12-26T15:11:51.153Z"
   },
   {
    "duration": 6,
    "start_time": "2024-12-26T15:11:51.176Z"
   },
   {
    "duration": 6,
    "start_time": "2024-12-26T15:11:51.183Z"
   },
   {
    "duration": 4,
    "start_time": "2024-12-26T15:11:51.191Z"
   },
   {
    "duration": 31,
    "start_time": "2024-12-26T15:11:51.197Z"
   },
   {
    "duration": 9,
    "start_time": "2024-12-26T15:11:51.230Z"
   },
   {
    "duration": 5,
    "start_time": "2024-12-26T15:11:51.241Z"
   },
   {
    "duration": 10,
    "start_time": "2024-12-26T15:11:51.248Z"
   },
   {
    "duration": 38,
    "start_time": "2024-12-26T15:11:51.259Z"
   },
   {
    "duration": 18,
    "start_time": "2024-12-26T15:11:51.298Z"
   },
   {
    "duration": 3,
    "start_time": "2024-12-26T15:11:51.318Z"
   },
   {
    "duration": 14,
    "start_time": "2024-12-26T15:11:51.323Z"
   },
   {
    "duration": 5,
    "start_time": "2024-12-26T15:11:51.338Z"
   },
   {
    "duration": 3,
    "start_time": "2024-12-26T15:11:51.344Z"
   },
   {
    "duration": 37,
    "start_time": "2024-12-26T15:11:51.349Z"
   },
   {
    "duration": 15,
    "start_time": "2024-12-26T15:11:51.388Z"
   },
   {
    "duration": 32,
    "start_time": "2024-12-26T15:11:51.404Z"
   },
   {
    "duration": 17,
    "start_time": "2024-12-26T15:11:51.437Z"
   },
   {
    "duration": 34,
    "start_time": "2024-12-26T15:11:51.456Z"
   },
   {
    "duration": 22,
    "start_time": "2024-12-26T15:11:51.491Z"
   },
   {
    "duration": 9,
    "start_time": "2024-12-26T15:11:51.515Z"
   },
   {
    "duration": 69,
    "start_time": "2024-12-26T15:13:04.177Z"
   },
   {
    "duration": 15,
    "start_time": "2024-12-26T15:13:04.248Z"
   },
   {
    "duration": 31,
    "start_time": "2024-12-26T15:13:04.264Z"
   },
   {
    "duration": 17,
    "start_time": "2024-12-26T15:13:04.297Z"
   },
   {
    "duration": 40,
    "start_time": "2024-12-26T15:13:04.316Z"
   },
   {
    "duration": 3,
    "start_time": "2024-12-26T15:13:04.357Z"
   },
   {
    "duration": 29,
    "start_time": "2024-12-26T15:13:04.362Z"
   },
   {
    "duration": 10,
    "start_time": "2024-12-26T15:13:04.392Z"
   },
   {
    "duration": 47,
    "start_time": "2024-12-26T15:13:04.404Z"
   },
   {
    "duration": 37,
    "start_time": "2024-12-26T15:13:04.453Z"
   },
   {
    "duration": 58,
    "start_time": "2024-12-26T15:13:04.491Z"
   },
   {
    "duration": 11,
    "start_time": "2024-12-26T15:13:04.551Z"
   },
   {
    "duration": 21,
    "start_time": "2024-12-26T15:13:04.563Z"
   },
   {
    "duration": 16,
    "start_time": "2024-12-26T15:13:04.587Z"
   },
   {
    "duration": 48,
    "start_time": "2024-12-26T15:13:04.605Z"
   },
   {
    "duration": 43,
    "start_time": "2024-12-26T15:13:04.655Z"
   },
   {
    "duration": 9,
    "start_time": "2024-12-26T15:13:04.700Z"
   },
   {
    "duration": 26,
    "start_time": "2024-12-26T15:13:04.710Z"
   },
   {
    "duration": 39,
    "start_time": "2024-12-26T15:13:04.738Z"
   },
   {
    "duration": 26,
    "start_time": "2024-12-26T15:13:04.779Z"
   },
   {
    "duration": 19,
    "start_time": "2024-12-26T15:13:04.807Z"
   },
   {
    "duration": 37,
    "start_time": "2024-12-26T15:13:04.827Z"
   },
   {
    "duration": 30,
    "start_time": "2024-12-26T15:13:04.865Z"
   },
   {
    "duration": 16,
    "start_time": "2024-12-26T15:13:04.896Z"
   },
   {
    "duration": 17,
    "start_time": "2024-12-26T15:13:04.914Z"
   },
   {
    "duration": 18,
    "start_time": "2024-12-26T15:13:04.933Z"
   },
   {
    "duration": 33,
    "start_time": "2024-12-26T15:13:04.953Z"
   },
   {
    "duration": 69,
    "start_time": "2024-12-26T15:14:16.913Z"
   },
   {
    "duration": 14,
    "start_time": "2024-12-26T15:14:16.984Z"
   },
   {
    "duration": 20,
    "start_time": "2024-12-26T15:14:16.999Z"
   },
   {
    "duration": 17,
    "start_time": "2024-12-26T15:14:17.021Z"
   },
   {
    "duration": 32,
    "start_time": "2024-12-26T15:14:17.040Z"
   },
   {
    "duration": 3,
    "start_time": "2024-12-26T15:14:17.074Z"
   },
   {
    "duration": 14,
    "start_time": "2024-12-26T15:14:17.078Z"
   },
   {
    "duration": 5,
    "start_time": "2024-12-26T15:14:17.093Z"
   },
   {
    "duration": 12,
    "start_time": "2024-12-26T15:14:17.100Z"
   },
   {
    "duration": 8,
    "start_time": "2024-12-26T15:14:17.113Z"
   },
   {
    "duration": 32,
    "start_time": "2024-12-26T15:14:17.123Z"
   },
   {
    "duration": 31,
    "start_time": "2024-12-26T15:14:17.157Z"
   },
   {
    "duration": 4,
    "start_time": "2024-12-26T15:14:17.190Z"
   },
   {
    "duration": 14,
    "start_time": "2024-12-26T15:14:17.197Z"
   },
   {
    "duration": 36,
    "start_time": "2024-12-26T15:14:17.212Z"
   },
   {
    "duration": 27,
    "start_time": "2024-12-26T15:14:17.249Z"
   },
   {
    "duration": 3,
    "start_time": "2024-12-26T15:14:17.278Z"
   },
   {
    "duration": 15,
    "start_time": "2024-12-26T15:14:17.286Z"
   },
   {
    "duration": 10,
    "start_time": "2024-12-26T15:14:17.303Z"
   },
   {
    "duration": 25,
    "start_time": "2024-12-26T15:14:17.314Z"
   },
   {
    "duration": 10,
    "start_time": "2024-12-26T15:14:17.341Z"
   },
   {
    "duration": 34,
    "start_time": "2024-12-26T15:14:17.353Z"
   },
   {
    "duration": 31,
    "start_time": "2024-12-26T15:14:17.389Z"
   },
   {
    "duration": 18,
    "start_time": "2024-12-26T15:14:17.422Z"
   },
   {
    "duration": 40,
    "start_time": "2024-12-26T15:14:17.442Z"
   },
   {
    "duration": 26,
    "start_time": "2024-12-26T15:14:17.484Z"
   },
   {
    "duration": 10,
    "start_time": "2024-12-26T15:14:17.511Z"
   },
   {
    "duration": 68,
    "start_time": "2024-12-26T15:15:46.659Z"
   },
   {
    "duration": 15,
    "start_time": "2024-12-26T15:15:46.729Z"
   },
   {
    "duration": 15,
    "start_time": "2024-12-26T15:15:46.745Z"
   },
   {
    "duration": 25,
    "start_time": "2024-12-26T15:15:46.762Z"
   },
   {
    "duration": 30,
    "start_time": "2024-12-26T15:15:46.788Z"
   },
   {
    "duration": 2,
    "start_time": "2024-12-26T15:15:46.820Z"
   },
   {
    "duration": 9,
    "start_time": "2024-12-26T15:15:46.824Z"
   },
   {
    "duration": 4,
    "start_time": "2024-12-26T15:15:46.835Z"
   },
   {
    "duration": 7,
    "start_time": "2024-12-26T15:15:46.840Z"
   },
   {
    "duration": 12,
    "start_time": "2024-12-26T15:15:46.851Z"
   },
   {
    "duration": 31,
    "start_time": "2024-12-26T15:15:46.886Z"
   },
   {
    "duration": 10,
    "start_time": "2024-12-26T15:15:46.919Z"
   },
   {
    "duration": 4,
    "start_time": "2024-12-26T15:15:46.931Z"
   },
   {
    "duration": 12,
    "start_time": "2024-12-26T15:15:46.936Z"
   },
   {
    "duration": 44,
    "start_time": "2024-12-26T15:15:46.949Z"
   },
   {
    "duration": 18,
    "start_time": "2024-12-26T15:15:46.995Z"
   },
   {
    "duration": 3,
    "start_time": "2024-12-26T15:15:47.015Z"
   },
   {
    "duration": 9,
    "start_time": "2024-12-26T15:15:47.020Z"
   },
   {
    "duration": 6,
    "start_time": "2024-12-26T15:15:47.030Z"
   },
   {
    "duration": 6,
    "start_time": "2024-12-26T15:15:47.037Z"
   },
   {
    "duration": 9,
    "start_time": "2024-12-26T15:15:47.045Z"
   },
   {
    "duration": 44,
    "start_time": "2024-12-26T15:15:47.055Z"
   },
   {
    "duration": 68,
    "start_time": "2024-12-26T15:15:47.101Z"
   },
   {
    "duration": 18,
    "start_time": "2024-12-26T15:15:47.170Z"
   },
   {
    "duration": 19,
    "start_time": "2024-12-26T15:15:47.190Z"
   },
   {
    "duration": 21,
    "start_time": "2024-12-26T15:15:47.210Z"
   },
   {
    "duration": 11,
    "start_time": "2024-12-26T15:15:47.233Z"
   },
   {
    "duration": 69,
    "start_time": "2024-12-26T15:16:24.625Z"
   },
   {
    "duration": 15,
    "start_time": "2024-12-26T15:16:24.696Z"
   },
   {
    "duration": 14,
    "start_time": "2024-12-26T15:16:24.713Z"
   },
   {
    "duration": 9,
    "start_time": "2024-12-26T15:16:24.729Z"
   },
   {
    "duration": 55,
    "start_time": "2024-12-26T15:16:24.739Z"
   },
   {
    "duration": 3,
    "start_time": "2024-12-26T15:16:24.796Z"
   },
   {
    "duration": 30,
    "start_time": "2024-12-26T15:16:24.800Z"
   },
   {
    "duration": 4,
    "start_time": "2024-12-26T15:16:24.831Z"
   },
   {
    "duration": 7,
    "start_time": "2024-12-26T15:16:24.836Z"
   },
   {
    "duration": 4,
    "start_time": "2024-12-26T15:16:24.846Z"
   },
   {
    "duration": 41,
    "start_time": "2024-12-26T15:16:24.851Z"
   },
   {
    "duration": 9,
    "start_time": "2024-12-26T15:16:24.894Z"
   },
   {
    "duration": 22,
    "start_time": "2024-12-26T15:16:24.904Z"
   },
   {
    "duration": 15,
    "start_time": "2024-12-26T15:16:24.927Z"
   },
   {
    "duration": 30,
    "start_time": "2024-12-26T15:16:24.944Z"
   },
   {
    "duration": 17,
    "start_time": "2024-12-26T15:16:24.975Z"
   },
   {
    "duration": 40,
    "start_time": "2024-12-26T15:16:24.994Z"
   },
   {
    "duration": 12,
    "start_time": "2024-12-26T15:16:25.036Z"
   },
   {
    "duration": 5,
    "start_time": "2024-12-26T15:16:25.050Z"
   },
   {
    "duration": 11,
    "start_time": "2024-12-26T15:16:25.057Z"
   },
   {
    "duration": 10,
    "start_time": "2024-12-26T15:16:25.069Z"
   },
   {
    "duration": 15,
    "start_time": "2024-12-26T15:16:25.080Z"
   },
   {
    "duration": 26,
    "start_time": "2024-12-26T15:16:25.096Z"
   },
   {
    "duration": 16,
    "start_time": "2024-12-26T15:16:25.124Z"
   },
   {
    "duration": 17,
    "start_time": "2024-12-26T15:16:25.142Z"
   },
   {
    "duration": 44,
    "start_time": "2024-12-26T15:16:25.160Z"
   },
   {
    "duration": 9,
    "start_time": "2024-12-26T15:16:25.205Z"
   },
   {
    "duration": 78,
    "start_time": "2024-12-26T15:17:32.683Z"
   },
   {
    "duration": 16,
    "start_time": "2024-12-26T15:17:32.763Z"
   },
   {
    "duration": 19,
    "start_time": "2024-12-26T15:17:32.781Z"
   },
   {
    "duration": 15,
    "start_time": "2024-12-26T15:17:32.802Z"
   },
   {
    "duration": 34,
    "start_time": "2024-12-26T15:17:32.819Z"
   },
   {
    "duration": 3,
    "start_time": "2024-12-26T15:17:32.855Z"
   },
   {
    "duration": 29,
    "start_time": "2024-12-26T15:17:32.860Z"
   },
   {
    "duration": 5,
    "start_time": "2024-12-26T15:17:32.891Z"
   },
   {
    "duration": 33,
    "start_time": "2024-12-26T15:17:32.898Z"
   },
   {
    "duration": 22,
    "start_time": "2024-12-26T15:17:32.933Z"
   },
   {
    "duration": 43,
    "start_time": "2024-12-26T15:17:32.956Z"
   },
   {
    "duration": 51,
    "start_time": "2024-12-26T15:17:33.000Z"
   },
   {
    "duration": 14,
    "start_time": "2024-12-26T15:17:33.053Z"
   },
   {
    "duration": 31,
    "start_time": "2024-12-26T15:17:33.068Z"
   },
   {
    "duration": 50,
    "start_time": "2024-12-26T15:17:33.101Z"
   },
   {
    "duration": 18,
    "start_time": "2024-12-26T15:17:33.153Z"
   },
   {
    "duration": 3,
    "start_time": "2024-12-26T15:17:33.173Z"
   },
   {
    "duration": 16,
    "start_time": "2024-12-26T15:17:33.177Z"
   },
   {
    "duration": 6,
    "start_time": "2024-12-26T15:17:33.194Z"
   },
   {
    "duration": 21,
    "start_time": "2024-12-26T15:17:33.201Z"
   },
   {
    "duration": 13,
    "start_time": "2024-12-26T15:17:33.224Z"
   },
   {
    "duration": 23,
    "start_time": "2024-12-26T15:17:33.238Z"
   },
   {
    "duration": 27,
    "start_time": "2024-12-26T15:17:33.262Z"
   },
   {
    "duration": 17,
    "start_time": "2024-12-26T15:17:33.291Z"
   },
   {
    "duration": 18,
    "start_time": "2024-12-26T15:17:33.309Z"
   },
   {
    "duration": 21,
    "start_time": "2024-12-26T15:17:33.329Z"
   },
   {
    "duration": 36,
    "start_time": "2024-12-26T15:17:33.351Z"
   },
   {
    "duration": 70,
    "start_time": "2024-12-26T15:18:33.979Z"
   },
   {
    "duration": 15,
    "start_time": "2024-12-26T15:18:34.050Z"
   },
   {
    "duration": 17,
    "start_time": "2024-12-26T15:18:34.066Z"
   },
   {
    "duration": 17,
    "start_time": "2024-12-26T15:18:34.085Z"
   },
   {
    "duration": 36,
    "start_time": "2024-12-26T15:18:34.103Z"
   },
   {
    "duration": 3,
    "start_time": "2024-12-26T15:18:34.140Z"
   },
   {
    "duration": 15,
    "start_time": "2024-12-26T15:18:34.145Z"
   },
   {
    "duration": 13,
    "start_time": "2024-12-26T15:18:34.162Z"
   },
   {
    "duration": 13,
    "start_time": "2024-12-26T15:18:34.176Z"
   },
   {
    "duration": 20,
    "start_time": "2024-12-26T15:18:34.191Z"
   },
   {
    "duration": 43,
    "start_time": "2024-12-26T15:18:34.212Z"
   },
   {
    "duration": 15,
    "start_time": "2024-12-26T15:18:34.256Z"
   },
   {
    "duration": 16,
    "start_time": "2024-12-26T15:18:34.273Z"
   },
   {
    "duration": 31,
    "start_time": "2024-12-26T15:18:34.290Z"
   },
   {
    "duration": 22,
    "start_time": "2024-12-26T15:18:34.323Z"
   },
   {
    "duration": 17,
    "start_time": "2024-12-26T15:18:34.347Z"
   },
   {
    "duration": 3,
    "start_time": "2024-12-26T15:18:34.365Z"
   },
   {
    "duration": 21,
    "start_time": "2024-12-26T15:18:34.370Z"
   },
   {
    "duration": 20,
    "start_time": "2024-12-26T15:18:34.392Z"
   },
   {
    "duration": 89,
    "start_time": "2024-12-26T15:18:34.413Z"
   },
   {
    "duration": 28,
    "start_time": "2024-12-26T15:18:34.504Z"
   },
   {
    "duration": 36,
    "start_time": "2024-12-26T15:18:34.533Z"
   },
   {
    "duration": 27,
    "start_time": "2024-12-26T15:18:34.571Z"
   },
   {
    "duration": 17,
    "start_time": "2024-12-26T15:18:34.599Z"
   },
   {
    "duration": 16,
    "start_time": "2024-12-26T15:18:34.618Z"
   },
   {
    "duration": 21,
    "start_time": "2024-12-26T15:18:34.636Z"
   },
   {
    "duration": 32,
    "start_time": "2024-12-26T15:18:34.658Z"
   },
   {
    "duration": 70,
    "start_time": "2024-12-26T15:19:04.676Z"
   },
   {
    "duration": 15,
    "start_time": "2024-12-26T15:19:04.748Z"
   },
   {
    "duration": 41,
    "start_time": "2024-12-26T15:19:04.764Z"
   },
   {
    "duration": 9,
    "start_time": "2024-12-26T15:19:04.807Z"
   },
   {
    "duration": 38,
    "start_time": "2024-12-26T15:19:04.818Z"
   },
   {
    "duration": 3,
    "start_time": "2024-12-26T15:19:04.858Z"
   },
   {
    "duration": 24,
    "start_time": "2024-12-26T15:19:04.862Z"
   },
   {
    "duration": 13,
    "start_time": "2024-12-26T15:19:04.888Z"
   },
   {
    "duration": 8,
    "start_time": "2024-12-26T15:19:04.902Z"
   },
   {
    "duration": 17,
    "start_time": "2024-12-26T15:19:04.913Z"
   },
   {
    "duration": 43,
    "start_time": "2024-12-26T15:19:04.932Z"
   },
   {
    "duration": 22,
    "start_time": "2024-12-26T15:19:04.977Z"
   },
   {
    "duration": 66,
    "start_time": "2024-12-26T15:19:05.001Z"
   },
   {
    "duration": 30,
    "start_time": "2024-12-26T15:19:05.069Z"
   },
   {
    "duration": 29,
    "start_time": "2024-12-26T15:19:05.100Z"
   },
   {
    "duration": 17,
    "start_time": "2024-12-26T15:19:05.131Z"
   },
   {
    "duration": 3,
    "start_time": "2024-12-26T15:19:05.149Z"
   },
   {
    "duration": 33,
    "start_time": "2024-12-26T15:19:05.154Z"
   },
   {
    "duration": 12,
    "start_time": "2024-12-26T15:19:05.189Z"
   },
   {
    "duration": 21,
    "start_time": "2024-12-26T15:19:05.202Z"
   },
   {
    "duration": 10,
    "start_time": "2024-12-26T15:19:05.224Z"
   },
   {
    "duration": 27,
    "start_time": "2024-12-26T15:19:05.235Z"
   },
   {
    "duration": 37,
    "start_time": "2024-12-26T15:19:05.264Z"
   },
   {
    "duration": 17,
    "start_time": "2024-12-26T15:19:05.302Z"
   },
   {
    "duration": 21,
    "start_time": "2024-12-26T15:19:05.321Z"
   },
   {
    "duration": 35,
    "start_time": "2024-12-26T15:19:05.344Z"
   },
   {
    "duration": 15,
    "start_time": "2024-12-26T15:19:05.380Z"
   },
   {
    "duration": 68,
    "start_time": "2024-12-26T15:19:28.431Z"
   },
   {
    "duration": 16,
    "start_time": "2024-12-26T15:19:28.500Z"
   },
   {
    "duration": 16,
    "start_time": "2024-12-26T15:19:28.518Z"
   },
   {
    "duration": 8,
    "start_time": "2024-12-26T15:19:28.536Z"
   },
   {
    "duration": 47,
    "start_time": "2024-12-26T15:19:28.545Z"
   },
   {
    "duration": 3,
    "start_time": "2024-12-26T15:19:28.593Z"
   },
   {
    "duration": 14,
    "start_time": "2024-12-26T15:19:28.598Z"
   },
   {
    "duration": 5,
    "start_time": "2024-12-26T15:19:28.613Z"
   },
   {
    "duration": 6,
    "start_time": "2024-12-26T15:19:28.620Z"
   },
   {
    "duration": 4,
    "start_time": "2024-12-26T15:19:28.628Z"
   },
   {
    "duration": 52,
    "start_time": "2024-12-26T15:19:28.634Z"
   },
   {
    "duration": 10,
    "start_time": "2024-12-26T15:19:28.688Z"
   },
   {
    "duration": 4,
    "start_time": "2024-12-26T15:19:28.699Z"
   },
   {
    "duration": 15,
    "start_time": "2024-12-26T15:19:28.705Z"
   },
   {
    "duration": 19,
    "start_time": "2024-12-26T15:19:28.721Z"
   },
   {
    "duration": 17,
    "start_time": "2024-12-26T15:19:28.741Z"
   },
   {
    "duration": 4,
    "start_time": "2024-12-26T15:19:28.759Z"
   },
   {
    "duration": 10,
    "start_time": "2024-12-26T15:19:28.786Z"
   },
   {
    "duration": 7,
    "start_time": "2024-12-26T15:19:28.797Z"
   },
   {
    "duration": 4,
    "start_time": "2024-12-26T15:19:28.805Z"
   },
   {
    "duration": 10,
    "start_time": "2024-12-26T15:19:28.810Z"
   },
   {
    "duration": 18,
    "start_time": "2024-12-26T15:19:28.822Z"
   },
   {
    "duration": 46,
    "start_time": "2024-12-26T15:19:28.841Z"
   },
   {
    "duration": 17,
    "start_time": "2024-12-26T15:19:28.889Z"
   },
   {
    "duration": 18,
    "start_time": "2024-12-26T15:19:28.907Z"
   },
   {
    "duration": 21,
    "start_time": "2024-12-26T15:19:28.927Z"
   },
   {
    "duration": 37,
    "start_time": "2024-12-26T15:19:28.949Z"
   },
   {
    "duration": 81,
    "start_time": "2024-12-26T15:20:42.337Z"
   },
   {
    "duration": 14,
    "start_time": "2024-12-26T15:20:42.420Z"
   },
   {
    "duration": 37,
    "start_time": "2024-12-26T15:20:42.436Z"
   },
   {
    "duration": 9,
    "start_time": "2024-12-26T15:20:42.475Z"
   },
   {
    "duration": 30,
    "start_time": "2024-12-26T15:20:42.486Z"
   },
   {
    "duration": 3,
    "start_time": "2024-12-26T15:20:42.517Z"
   },
   {
    "duration": 8,
    "start_time": "2024-12-26T15:20:42.522Z"
   },
   {
    "duration": 14,
    "start_time": "2024-12-26T15:20:42.531Z"
   },
   {
    "duration": 5,
    "start_time": "2024-12-26T15:20:42.546Z"
   },
   {
    "duration": 4,
    "start_time": "2024-12-26T15:20:42.553Z"
   },
   {
    "duration": 49,
    "start_time": "2024-12-26T15:20:42.559Z"
   },
   {
    "duration": 10,
    "start_time": "2024-12-26T15:20:42.609Z"
   },
   {
    "duration": 6,
    "start_time": "2024-12-26T15:20:42.620Z"
   },
   {
    "duration": 16,
    "start_time": "2024-12-26T15:20:42.628Z"
   },
   {
    "duration": 37,
    "start_time": "2024-12-26T15:20:42.645Z"
   },
   {
    "duration": 18,
    "start_time": "2024-12-26T15:20:42.683Z"
   },
   {
    "duration": 3,
    "start_time": "2024-12-26T15:20:42.702Z"
   },
   {
    "duration": 9,
    "start_time": "2024-12-26T15:20:42.707Z"
   },
   {
    "duration": 7,
    "start_time": "2024-12-26T15:20:42.718Z"
   },
   {
    "duration": 13,
    "start_time": "2024-12-26T15:20:42.727Z"
   },
   {
    "duration": 19,
    "start_time": "2024-12-26T15:20:42.742Z"
   },
   {
    "duration": 15,
    "start_time": "2024-12-26T15:20:42.762Z"
   },
   {
    "duration": 31,
    "start_time": "2024-12-26T15:20:42.779Z"
   },
   {
    "duration": 18,
    "start_time": "2024-12-26T15:20:42.811Z"
   },
   {
    "duration": 17,
    "start_time": "2024-12-26T15:20:42.830Z"
   },
   {
    "duration": 49,
    "start_time": "2024-12-26T15:20:42.848Z"
   },
   {
    "duration": 10,
    "start_time": "2024-12-26T15:20:42.898Z"
   },
   {
    "duration": 68,
    "start_time": "2024-12-26T15:22:03.127Z"
   },
   {
    "duration": 14,
    "start_time": "2024-12-26T15:22:03.196Z"
   },
   {
    "duration": 31,
    "start_time": "2024-12-26T15:22:03.212Z"
   },
   {
    "duration": 33,
    "start_time": "2024-12-26T15:22:03.244Z"
   },
   {
    "duration": 37,
    "start_time": "2024-12-26T15:22:03.280Z"
   },
   {
    "duration": 4,
    "start_time": "2024-12-26T15:22:03.318Z"
   },
   {
    "duration": 12,
    "start_time": "2024-12-26T15:22:03.324Z"
   },
   {
    "duration": 10,
    "start_time": "2024-12-26T15:22:03.338Z"
   },
   {
    "duration": 9,
    "start_time": "2024-12-26T15:22:03.349Z"
   },
   {
    "duration": 14,
    "start_time": "2024-12-26T15:22:03.361Z"
   },
   {
    "duration": 44,
    "start_time": "2024-12-26T15:22:03.377Z"
   },
   {
    "duration": 9,
    "start_time": "2024-12-26T15:22:03.423Z"
   },
   {
    "duration": 10,
    "start_time": "2024-12-26T15:22:03.434Z"
   },
   {
    "duration": 33,
    "start_time": "2024-12-26T15:22:03.445Z"
   },
   {
    "duration": 41,
    "start_time": "2024-12-26T15:22:03.479Z"
   },
   {
    "duration": 19,
    "start_time": "2024-12-26T15:22:03.522Z"
   },
   {
    "duration": 3,
    "start_time": "2024-12-26T15:22:03.543Z"
   },
   {
    "duration": 17,
    "start_time": "2024-12-26T15:22:03.547Z"
   },
   {
    "duration": 23,
    "start_time": "2024-12-26T15:22:03.566Z"
   },
   {
    "duration": 25,
    "start_time": "2024-12-26T15:22:03.590Z"
   },
   {
    "duration": 22,
    "start_time": "2024-12-26T15:22:03.617Z"
   },
   {
    "duration": 29,
    "start_time": "2024-12-26T15:22:03.641Z"
   },
   {
    "duration": 51,
    "start_time": "2024-12-26T15:22:03.672Z"
   },
   {
    "duration": 17,
    "start_time": "2024-12-26T15:22:03.725Z"
   },
   {
    "duration": 27,
    "start_time": "2024-12-26T15:22:03.743Z"
   },
   {
    "duration": 55,
    "start_time": "2024-12-26T15:22:03.772Z"
   },
   {
    "duration": 10,
    "start_time": "2024-12-26T15:22:03.829Z"
   },
   {
    "duration": 80,
    "start_time": "2024-12-26T15:24:04.091Z"
   },
   {
    "duration": 15,
    "start_time": "2024-12-26T15:24:04.172Z"
   },
   {
    "duration": 15,
    "start_time": "2024-12-26T15:24:04.188Z"
   },
   {
    "duration": 9,
    "start_time": "2024-12-26T15:24:04.206Z"
   },
   {
    "duration": 34,
    "start_time": "2024-12-26T15:24:04.216Z"
   },
   {
    "duration": 3,
    "start_time": "2024-12-26T15:24:04.252Z"
   },
   {
    "duration": 34,
    "start_time": "2024-12-26T15:24:04.256Z"
   },
   {
    "duration": 5,
    "start_time": "2024-12-26T15:24:04.292Z"
   },
   {
    "duration": 17,
    "start_time": "2024-12-26T15:24:04.299Z"
   },
   {
    "duration": 9,
    "start_time": "2024-12-26T15:24:04.319Z"
   },
   {
    "duration": 33,
    "start_time": "2024-12-26T15:24:04.329Z"
   },
   {
    "duration": 9,
    "start_time": "2024-12-26T15:24:04.364Z"
   },
   {
    "duration": 30,
    "start_time": "2024-12-26T15:24:04.374Z"
   },
   {
    "duration": 15,
    "start_time": "2024-12-26T15:24:04.406Z"
   },
   {
    "duration": 29,
    "start_time": "2024-12-26T15:24:04.423Z"
   },
   {
    "duration": 74,
    "start_time": "2024-12-26T15:24:04.454Z"
   },
   {
    "duration": 8,
    "start_time": "2024-12-26T15:24:04.530Z"
   },
   {
    "duration": 28,
    "start_time": "2024-12-26T15:24:04.539Z"
   },
   {
    "duration": 13,
    "start_time": "2024-12-26T15:24:04.568Z"
   },
   {
    "duration": 7,
    "start_time": "2024-12-26T15:24:04.583Z"
   },
   {
    "duration": 32,
    "start_time": "2024-12-26T15:24:04.592Z"
   },
   {
    "duration": 18,
    "start_time": "2024-12-26T15:24:04.626Z"
   },
   {
    "duration": 50,
    "start_time": "2024-12-26T15:24:04.646Z"
   },
   {
    "duration": 17,
    "start_time": "2024-12-26T15:24:04.698Z"
   },
   {
    "duration": 31,
    "start_time": "2024-12-26T15:24:04.716Z"
   },
   {
    "duration": 18,
    "start_time": "2024-12-26T15:24:04.749Z"
   },
   {
    "duration": 26,
    "start_time": "2024-12-26T15:24:04.769Z"
   },
   {
    "duration": 69,
    "start_time": "2024-12-26T15:26:27.571Z"
   },
   {
    "duration": 13,
    "start_time": "2024-12-26T15:26:27.642Z"
   },
   {
    "duration": 13,
    "start_time": "2024-12-26T15:26:27.657Z"
   },
   {
    "duration": 22,
    "start_time": "2024-12-26T15:26:27.671Z"
   },
   {
    "duration": 29,
    "start_time": "2024-12-26T15:26:27.694Z"
   },
   {
    "duration": 3,
    "start_time": "2024-12-26T15:26:27.725Z"
   },
   {
    "duration": 7,
    "start_time": "2024-12-26T15:26:27.730Z"
   },
   {
    "duration": 4,
    "start_time": "2024-12-26T15:26:27.739Z"
   },
   {
    "duration": 6,
    "start_time": "2024-12-26T15:26:27.744Z"
   },
   {
    "duration": 37,
    "start_time": "2024-12-26T15:26:27.752Z"
   },
   {
    "duration": 30,
    "start_time": "2024-12-26T15:26:27.790Z"
   },
   {
    "duration": 9,
    "start_time": "2024-12-26T15:26:27.821Z"
   },
   {
    "duration": 7,
    "start_time": "2024-12-26T15:26:27.831Z"
   },
   {
    "duration": 10,
    "start_time": "2024-12-26T15:26:27.840Z"
   },
   {
    "duration": 42,
    "start_time": "2024-12-26T15:26:27.851Z"
   },
   {
    "duration": 18,
    "start_time": "2024-12-26T15:26:27.894Z"
   },
   {
    "duration": 3,
    "start_time": "2024-12-26T15:26:27.914Z"
   },
   {
    "duration": 10,
    "start_time": "2024-12-26T15:26:27.918Z"
   },
   {
    "duration": 7,
    "start_time": "2024-12-26T15:26:27.929Z"
   },
   {
    "duration": 3,
    "start_time": "2024-12-26T15:26:27.937Z"
   },
   {
    "duration": 9,
    "start_time": "2024-12-26T15:26:27.941Z"
   },
   {
    "duration": 50,
    "start_time": "2024-12-26T15:26:27.951Z"
   },
   {
    "duration": 47,
    "start_time": "2024-12-26T15:26:28.002Z"
   },
   {
    "duration": 17,
    "start_time": "2024-12-26T15:26:28.051Z"
   },
   {
    "duration": 17,
    "start_time": "2024-12-26T15:26:28.070Z"
   },
   {
    "duration": 89,
    "start_time": "2024-12-26T15:26:28.089Z"
   },
   {
    "duration": 0,
    "start_time": "2024-12-26T15:26:28.179Z"
   },
   {
    "duration": 68,
    "start_time": "2024-12-26T15:26:39.037Z"
   },
   {
    "duration": 14,
    "start_time": "2024-12-26T15:26:39.106Z"
   },
   {
    "duration": 13,
    "start_time": "2024-12-26T15:26:39.121Z"
   },
   {
    "duration": 8,
    "start_time": "2024-12-26T15:26:39.136Z"
   },
   {
    "duration": 60,
    "start_time": "2024-12-26T15:26:39.145Z"
   },
   {
    "duration": 3,
    "start_time": "2024-12-26T15:26:39.206Z"
   },
   {
    "duration": 10,
    "start_time": "2024-12-26T15:26:39.211Z"
   },
   {
    "duration": 4,
    "start_time": "2024-12-26T15:26:39.222Z"
   },
   {
    "duration": 6,
    "start_time": "2024-12-26T15:26:39.227Z"
   },
   {
    "duration": 4,
    "start_time": "2024-12-26T15:26:39.235Z"
   },
   {
    "duration": 61,
    "start_time": "2024-12-26T15:26:39.240Z"
   },
   {
    "duration": 8,
    "start_time": "2024-12-26T15:26:39.303Z"
   },
   {
    "duration": 3,
    "start_time": "2024-12-26T15:26:39.313Z"
   },
   {
    "duration": 9,
    "start_time": "2024-12-26T15:26:39.318Z"
   },
   {
    "duration": 17,
    "start_time": "2024-12-26T15:26:39.329Z"
   },
   {
    "duration": 49,
    "start_time": "2024-12-26T15:26:39.348Z"
   },
   {
    "duration": 3,
    "start_time": "2024-12-26T15:26:39.399Z"
   },
   {
    "duration": 29,
    "start_time": "2024-12-26T15:26:39.403Z"
   },
   {
    "duration": 8,
    "start_time": "2024-12-26T15:26:39.435Z"
   },
   {
    "duration": 4,
    "start_time": "2024-12-26T15:26:39.446Z"
   },
   {
    "duration": 12,
    "start_time": "2024-12-26T15:26:39.453Z"
   },
   {
    "duration": 36,
    "start_time": "2024-12-26T15:26:39.467Z"
   },
   {
    "duration": 36,
    "start_time": "2024-12-26T15:26:39.505Z"
   },
   {
    "duration": 18,
    "start_time": "2024-12-26T15:26:39.543Z"
   },
   {
    "duration": 36,
    "start_time": "2024-12-26T15:26:39.563Z"
   },
   {
    "duration": 57,
    "start_time": "2024-12-26T15:26:39.600Z"
   },
   {
    "duration": 0,
    "start_time": "2024-12-26T15:26:39.658Z"
   },
   {
    "duration": 67,
    "start_time": "2024-12-26T15:27:06.825Z"
   },
   {
    "duration": 14,
    "start_time": "2024-12-26T15:27:06.894Z"
   },
   {
    "duration": 29,
    "start_time": "2024-12-26T15:27:06.909Z"
   },
   {
    "duration": 16,
    "start_time": "2024-12-26T15:27:06.940Z"
   },
   {
    "duration": 31,
    "start_time": "2024-12-26T15:27:06.958Z"
   },
   {
    "duration": 3,
    "start_time": "2024-12-26T15:27:06.991Z"
   },
   {
    "duration": 31,
    "start_time": "2024-12-26T15:27:06.996Z"
   },
   {
    "duration": 12,
    "start_time": "2024-12-26T15:27:07.029Z"
   },
   {
    "duration": 82,
    "start_time": "2024-12-26T15:27:07.042Z"
   },
   {
    "duration": 9,
    "start_time": "2024-12-26T15:27:07.126Z"
   },
   {
    "duration": 41,
    "start_time": "2024-12-26T15:27:07.136Z"
   },
   {
    "duration": 12,
    "start_time": "2024-12-26T15:27:07.179Z"
   },
   {
    "duration": 5,
    "start_time": "2024-12-26T15:27:07.193Z"
   },
   {
    "duration": 21,
    "start_time": "2024-12-26T15:27:07.199Z"
   },
   {
    "duration": 20,
    "start_time": "2024-12-26T15:27:07.221Z"
   },
   {
    "duration": 18,
    "start_time": "2024-12-26T15:27:07.242Z"
   },
   {
    "duration": 24,
    "start_time": "2024-12-26T15:27:07.262Z"
   },
   {
    "duration": 17,
    "start_time": "2024-12-26T15:27:07.288Z"
   },
   {
    "duration": 8,
    "start_time": "2024-12-26T15:27:07.306Z"
   },
   {
    "duration": 4,
    "start_time": "2024-12-26T15:27:07.315Z"
   },
   {
    "duration": 9,
    "start_time": "2024-12-26T15:27:07.321Z"
   },
   {
    "duration": 15,
    "start_time": "2024-12-26T15:27:07.332Z"
   },
   {
    "duration": 59,
    "start_time": "2024-12-26T15:27:07.349Z"
   },
   {
    "duration": 18,
    "start_time": "2024-12-26T15:27:07.410Z"
   },
   {
    "duration": 19,
    "start_time": "2024-12-26T15:27:07.429Z"
   },
   {
    "duration": 39,
    "start_time": "2024-12-26T15:27:07.450Z"
   },
   {
    "duration": 11,
    "start_time": "2024-12-26T15:27:07.491Z"
   },
   {
    "duration": 67,
    "start_time": "2024-12-26T15:27:21.529Z"
   },
   {
    "duration": 14,
    "start_time": "2024-12-26T15:27:21.598Z"
   },
   {
    "duration": 44,
    "start_time": "2024-12-26T15:27:21.613Z"
   },
   {
    "duration": 19,
    "start_time": "2024-12-26T15:27:21.660Z"
   },
   {
    "duration": 78,
    "start_time": "2024-12-26T15:27:21.680Z"
   },
   {
    "duration": 7,
    "start_time": "2024-12-26T15:27:21.759Z"
   },
   {
    "duration": 15,
    "start_time": "2024-12-26T15:27:21.767Z"
   },
   {
    "duration": 30,
    "start_time": "2024-12-26T15:27:21.784Z"
   },
   {
    "duration": 28,
    "start_time": "2024-12-26T15:27:21.815Z"
   },
   {
    "duration": 28,
    "start_time": "2024-12-26T15:27:21.846Z"
   },
   {
    "duration": 61,
    "start_time": "2024-12-26T15:27:21.876Z"
   },
   {
    "duration": 69,
    "start_time": "2024-12-26T15:27:21.939Z"
   },
   {
    "duration": 30,
    "start_time": "2024-12-26T15:27:22.010Z"
   },
   {
    "duration": 23,
    "start_time": "2024-12-26T15:27:22.041Z"
   },
   {
    "duration": 24,
    "start_time": "2024-12-26T15:27:22.066Z"
   },
   {
    "duration": 21,
    "start_time": "2024-12-26T15:27:22.091Z"
   },
   {
    "duration": 4,
    "start_time": "2024-12-26T15:27:22.114Z"
   },
   {
    "duration": 30,
    "start_time": "2024-12-26T15:27:22.120Z"
   },
   {
    "duration": 7,
    "start_time": "2024-12-26T15:27:22.152Z"
   },
   {
    "duration": 9,
    "start_time": "2024-12-26T15:27:22.161Z"
   },
   {
    "duration": 22,
    "start_time": "2024-12-26T15:27:22.171Z"
   },
   {
    "duration": 28,
    "start_time": "2024-12-26T15:27:22.194Z"
   },
   {
    "duration": 25,
    "start_time": "2024-12-26T15:27:22.223Z"
   },
   {
    "duration": 23,
    "start_time": "2024-12-26T15:27:22.250Z"
   },
   {
    "duration": 42,
    "start_time": "2024-12-26T15:27:22.276Z"
   },
   {
    "duration": 32,
    "start_time": "2024-12-26T15:27:22.320Z"
   },
   {
    "duration": 15,
    "start_time": "2024-12-26T15:27:22.354Z"
   },
   {
    "duration": 68,
    "start_time": "2024-12-26T15:27:57.517Z"
   },
   {
    "duration": 14,
    "start_time": "2024-12-26T15:27:57.588Z"
   },
   {
    "duration": 14,
    "start_time": "2024-12-26T15:27:57.603Z"
   },
   {
    "duration": 9,
    "start_time": "2024-12-26T15:27:57.618Z"
   },
   {
    "duration": 57,
    "start_time": "2024-12-26T15:27:57.630Z"
   },
   {
    "duration": 4,
    "start_time": "2024-12-26T15:27:57.689Z"
   },
   {
    "duration": 15,
    "start_time": "2024-12-26T15:27:57.695Z"
   },
   {
    "duration": 4,
    "start_time": "2024-12-26T15:27:57.711Z"
   },
   {
    "duration": 5,
    "start_time": "2024-12-26T15:27:57.717Z"
   },
   {
    "duration": 6,
    "start_time": "2024-12-26T15:27:57.724Z"
   },
   {
    "duration": 44,
    "start_time": "2024-12-26T15:27:57.732Z"
   },
   {
    "duration": 9,
    "start_time": "2024-12-26T15:27:57.786Z"
   },
   {
    "duration": 8,
    "start_time": "2024-12-26T15:27:57.796Z"
   },
   {
    "duration": 12,
    "start_time": "2024-12-26T15:27:57.806Z"
   },
   {
    "duration": 24,
    "start_time": "2024-12-26T15:27:57.819Z"
   },
   {
    "duration": 17,
    "start_time": "2024-12-26T15:27:57.845Z"
   },
   {
    "duration": 3,
    "start_time": "2024-12-26T15:27:57.864Z"
   },
   {
    "duration": 9,
    "start_time": "2024-12-26T15:27:57.887Z"
   },
   {
    "duration": 11,
    "start_time": "2024-12-26T15:27:57.897Z"
   },
   {
    "duration": 9,
    "start_time": "2024-12-26T15:27:57.909Z"
   },
   {
    "duration": 15,
    "start_time": "2024-12-26T15:27:57.919Z"
   },
   {
    "duration": 40,
    "start_time": "2024-12-26T15:27:57.935Z"
   },
   {
    "duration": 68,
    "start_time": "2024-12-26T15:27:57.976Z"
   },
   {
    "duration": 16,
    "start_time": "2024-12-26T15:27:58.046Z"
   },
   {
    "duration": 16,
    "start_time": "2024-12-26T15:27:58.064Z"
   },
   {
    "duration": 16,
    "start_time": "2024-12-26T15:27:58.081Z"
   },
   {
    "duration": 9,
    "start_time": "2024-12-26T15:27:58.099Z"
   },
   {
    "duration": 68,
    "start_time": "2024-12-26T15:30:19.346Z"
   },
   {
    "duration": 19,
    "start_time": "2024-12-26T15:30:19.416Z"
   },
   {
    "duration": 35,
    "start_time": "2024-12-26T15:30:19.437Z"
   },
   {
    "duration": 28,
    "start_time": "2024-12-26T15:30:19.475Z"
   },
   {
    "duration": 43,
    "start_time": "2024-12-26T15:30:19.505Z"
   },
   {
    "duration": 4,
    "start_time": "2024-12-26T15:30:19.550Z"
   },
   {
    "duration": 29,
    "start_time": "2024-12-26T15:30:19.556Z"
   },
   {
    "duration": 19,
    "start_time": "2024-12-26T15:30:19.586Z"
   },
   {
    "duration": 28,
    "start_time": "2024-12-26T15:30:19.607Z"
   },
   {
    "duration": 17,
    "start_time": "2024-12-26T15:30:19.638Z"
   },
   {
    "duration": 74,
    "start_time": "2024-12-26T15:30:19.657Z"
   },
   {
    "duration": 24,
    "start_time": "2024-12-26T15:30:19.733Z"
   },
   {
    "duration": 8,
    "start_time": "2024-12-26T15:30:19.759Z"
   },
   {
    "duration": 16,
    "start_time": "2024-12-26T15:30:19.769Z"
   },
   {
    "duration": 21,
    "start_time": "2024-12-26T15:30:19.787Z"
   },
   {
    "duration": 26,
    "start_time": "2024-12-26T15:30:19.810Z"
   },
   {
    "duration": 3,
    "start_time": "2024-12-26T15:30:19.838Z"
   },
   {
    "duration": 11,
    "start_time": "2024-12-26T15:30:19.842Z"
   },
   {
    "duration": 17,
    "start_time": "2024-12-26T15:30:19.854Z"
   },
   {
    "duration": 4,
    "start_time": "2024-12-26T15:30:19.872Z"
   },
   {
    "duration": 21,
    "start_time": "2024-12-26T15:30:19.877Z"
   },
   {
    "duration": 17,
    "start_time": "2024-12-26T15:30:19.899Z"
   },
   {
    "duration": 36,
    "start_time": "2024-12-26T15:30:19.918Z"
   },
   {
    "duration": 18,
    "start_time": "2024-12-26T15:30:19.955Z"
   },
   {
    "duration": 71,
    "start_time": "2024-12-26T15:30:19.975Z"
   },
   {
    "duration": 40,
    "start_time": "2024-12-26T15:30:20.048Z"
   },
   {
    "duration": 10,
    "start_time": "2024-12-26T15:30:20.089Z"
   },
   {
    "duration": 484,
    "start_time": "2024-12-26T15:30:53.863Z"
   },
   {
    "duration": 21,
    "start_time": "2024-12-26T15:30:54.349Z"
   },
   {
    "duration": 13,
    "start_time": "2024-12-26T15:30:54.372Z"
   },
   {
    "duration": 10,
    "start_time": "2024-12-26T15:30:54.387Z"
   },
   {
    "duration": 32,
    "start_time": "2024-12-26T15:30:54.398Z"
   },
   {
    "duration": 3,
    "start_time": "2024-12-26T15:30:54.431Z"
   },
   {
    "duration": 11,
    "start_time": "2024-12-26T15:30:54.435Z"
   },
   {
    "duration": 15,
    "start_time": "2024-12-26T15:30:54.448Z"
   },
   {
    "duration": 25,
    "start_time": "2024-12-26T15:30:54.464Z"
   },
   {
    "duration": 4,
    "start_time": "2024-12-26T15:30:54.492Z"
   },
   {
    "duration": 32,
    "start_time": "2024-12-26T15:30:54.497Z"
   },
   {
    "duration": 9,
    "start_time": "2024-12-26T15:30:54.531Z"
   },
   {
    "duration": 3,
    "start_time": "2024-12-26T15:30:54.542Z"
   },
   {
    "duration": 11,
    "start_time": "2024-12-26T15:30:54.546Z"
   },
   {
    "duration": 46,
    "start_time": "2024-12-26T15:30:54.559Z"
   },
   {
    "duration": 17,
    "start_time": "2024-12-26T15:30:54.606Z"
   },
   {
    "duration": 3,
    "start_time": "2024-12-26T15:30:54.624Z"
   },
   {
    "duration": 9,
    "start_time": "2024-12-26T15:30:54.629Z"
   },
   {
    "duration": 16,
    "start_time": "2024-12-26T15:30:54.640Z"
   },
   {
    "duration": 6,
    "start_time": "2024-12-26T15:30:54.657Z"
   },
   {
    "duration": 28,
    "start_time": "2024-12-26T15:30:54.664Z"
   },
   {
    "duration": 15,
    "start_time": "2024-12-26T15:30:54.693Z"
   },
   {
    "duration": 29,
    "start_time": "2024-12-26T15:30:54.710Z"
   },
   {
    "duration": 18,
    "start_time": "2024-12-26T15:30:54.741Z"
   },
   {
    "duration": 43,
    "start_time": "2024-12-26T15:30:54.760Z"
   },
   {
    "duration": 19,
    "start_time": "2024-12-26T15:30:54.805Z"
   },
   {
    "duration": 10,
    "start_time": "2024-12-26T15:30:54.826Z"
   },
   {
    "duration": 69,
    "start_time": "2024-12-26T15:44:48.685Z"
   },
   {
    "duration": 14,
    "start_time": "2024-12-26T15:44:48.756Z"
   },
   {
    "duration": 22,
    "start_time": "2024-12-26T15:44:48.772Z"
   },
   {
    "duration": 10,
    "start_time": "2024-12-26T15:44:48.796Z"
   },
   {
    "duration": 33,
    "start_time": "2024-12-26T15:44:48.807Z"
   },
   {
    "duration": 3,
    "start_time": "2024-12-26T15:44:48.842Z"
   },
   {
    "duration": 15,
    "start_time": "2024-12-26T15:44:48.847Z"
   },
   {
    "duration": 24,
    "start_time": "2024-12-26T15:44:48.863Z"
   },
   {
    "duration": 5,
    "start_time": "2024-12-26T15:44:48.889Z"
   },
   {
    "duration": 10,
    "start_time": "2024-12-26T15:44:48.897Z"
   },
   {
    "duration": 31,
    "start_time": "2024-12-26T15:44:48.908Z"
   },
   {
    "duration": 10,
    "start_time": "2024-12-26T15:44:48.940Z"
   },
   {
    "duration": 3,
    "start_time": "2024-12-26T15:44:48.951Z"
   },
   {
    "duration": 38,
    "start_time": "2024-12-26T15:44:48.956Z"
   },
   {
    "duration": 40,
    "start_time": "2024-12-26T15:44:48.995Z"
   },
   {
    "duration": 31,
    "start_time": "2024-12-26T15:44:49.037Z"
   },
   {
    "duration": 3,
    "start_time": "2024-12-26T15:44:49.069Z"
   },
   {
    "duration": 23,
    "start_time": "2024-12-26T15:44:49.074Z"
   },
   {
    "duration": 6,
    "start_time": "2024-12-26T15:44:49.098Z"
   },
   {
    "duration": 3,
    "start_time": "2024-12-26T15:44:49.105Z"
   },
   {
    "duration": 11,
    "start_time": "2024-12-26T15:44:49.109Z"
   },
   {
    "duration": 17,
    "start_time": "2024-12-26T15:44:49.121Z"
   },
   {
    "duration": 72,
    "start_time": "2024-12-26T15:44:49.140Z"
   },
   {
    "duration": 18,
    "start_time": "2024-12-26T15:44:49.213Z"
   },
   {
    "duration": 21,
    "start_time": "2024-12-26T15:44:49.232Z"
   },
   {
    "duration": 44,
    "start_time": "2024-12-26T15:44:49.255Z"
   },
   {
    "duration": 9,
    "start_time": "2024-12-26T15:44:49.300Z"
   },
   {
    "duration": 67,
    "start_time": "2024-12-26T15:45:10.589Z"
   },
   {
    "duration": 14,
    "start_time": "2024-12-26T15:45:10.658Z"
   },
   {
    "duration": 19,
    "start_time": "2024-12-26T15:45:10.673Z"
   },
   {
    "duration": 9,
    "start_time": "2024-12-26T15:45:10.693Z"
   },
   {
    "duration": 31,
    "start_time": "2024-12-26T15:45:10.703Z"
   },
   {
    "duration": 4,
    "start_time": "2024-12-26T15:45:10.735Z"
   },
   {
    "duration": 10,
    "start_time": "2024-12-26T15:45:10.740Z"
   },
   {
    "duration": 7,
    "start_time": "2024-12-26T15:45:10.751Z"
   },
   {
    "duration": 29,
    "start_time": "2024-12-26T15:45:10.760Z"
   },
   {
    "duration": 15,
    "start_time": "2024-12-26T15:45:10.792Z"
   },
   {
    "duration": 33,
    "start_time": "2024-12-26T15:45:10.809Z"
   },
   {
    "duration": 9,
    "start_time": "2024-12-26T15:45:10.843Z"
   },
   {
    "duration": 3,
    "start_time": "2024-12-26T15:45:10.853Z"
   },
   {
    "duration": 11,
    "start_time": "2024-12-26T15:45:10.857Z"
   },
   {
    "duration": 39,
    "start_time": "2024-12-26T15:45:10.869Z"
   },
   {
    "duration": 22,
    "start_time": "2024-12-26T15:45:10.909Z"
   },
   {
    "duration": 3,
    "start_time": "2024-12-26T15:45:10.933Z"
   },
   {
    "duration": 11,
    "start_time": "2024-12-26T15:45:10.937Z"
   },
   {
    "duration": 20,
    "start_time": "2024-12-26T15:45:10.950Z"
   },
   {
    "duration": 15,
    "start_time": "2024-12-26T15:45:10.971Z"
   },
   {
    "duration": 28,
    "start_time": "2024-12-26T15:45:10.988Z"
   },
   {
    "duration": 20,
    "start_time": "2024-12-26T15:45:11.018Z"
   },
   {
    "duration": 28,
    "start_time": "2024-12-26T15:45:11.040Z"
   },
   {
    "duration": 18,
    "start_time": "2024-12-26T15:45:11.069Z"
   },
   {
    "duration": 33,
    "start_time": "2024-12-26T15:45:11.089Z"
   },
   {
    "duration": 28,
    "start_time": "2024-12-26T15:45:11.123Z"
   },
   {
    "duration": 65,
    "start_time": "2024-12-26T15:45:11.153Z"
   },
   {
    "duration": 70,
    "start_time": "2024-12-26T15:45:34.918Z"
   },
   {
    "duration": 14,
    "start_time": "2024-12-26T15:45:34.990Z"
   },
   {
    "duration": 28,
    "start_time": "2024-12-26T15:45:35.005Z"
   },
   {
    "duration": 17,
    "start_time": "2024-12-26T15:45:35.035Z"
   },
   {
    "duration": 36,
    "start_time": "2024-12-26T15:45:35.054Z"
   },
   {
    "duration": 3,
    "start_time": "2024-12-26T15:45:35.092Z"
   },
   {
    "duration": 23,
    "start_time": "2024-12-26T15:45:35.096Z"
   },
   {
    "duration": 11,
    "start_time": "2024-12-26T15:45:35.120Z"
   },
   {
    "duration": 4,
    "start_time": "2024-12-26T15:45:35.133Z"
   },
   {
    "duration": 33,
    "start_time": "2024-12-26T15:45:35.139Z"
   },
   {
    "duration": 44,
    "start_time": "2024-12-26T15:45:35.173Z"
   },
   {
    "duration": 42,
    "start_time": "2024-12-26T15:45:35.219Z"
   },
   {
    "duration": 4,
    "start_time": "2024-12-26T15:45:35.263Z"
   },
   {
    "duration": 30,
    "start_time": "2024-12-26T15:45:35.269Z"
   },
   {
    "duration": 47,
    "start_time": "2024-12-26T15:45:35.301Z"
   },
   {
    "duration": 17,
    "start_time": "2024-12-26T15:45:35.349Z"
   },
   {
    "duration": 17,
    "start_time": "2024-12-26T15:45:35.368Z"
   },
   {
    "duration": 33,
    "start_time": "2024-12-26T15:45:35.387Z"
   },
   {
    "duration": 9,
    "start_time": "2024-12-26T15:45:35.422Z"
   },
   {
    "duration": 21,
    "start_time": "2024-12-26T15:45:35.432Z"
   },
   {
    "duration": 20,
    "start_time": "2024-12-26T15:45:35.455Z"
   },
   {
    "duration": 68,
    "start_time": "2024-12-26T15:45:35.476Z"
   },
   {
    "duration": 67,
    "start_time": "2024-12-26T15:45:35.547Z"
   },
   {
    "duration": 33,
    "start_time": "2024-12-26T15:45:35.616Z"
   },
   {
    "duration": 19,
    "start_time": "2024-12-26T15:45:35.651Z"
   },
   {
    "duration": 49,
    "start_time": "2024-12-26T15:45:35.672Z"
   },
   {
    "duration": 19,
    "start_time": "2024-12-26T15:45:35.723Z"
   },
   {
    "duration": 70,
    "start_time": "2024-12-26T15:45:55.418Z"
   },
   {
    "duration": 14,
    "start_time": "2024-12-26T15:45:55.489Z"
   },
   {
    "duration": 14,
    "start_time": "2024-12-26T15:45:55.505Z"
   },
   {
    "duration": 13,
    "start_time": "2024-12-26T15:45:55.520Z"
   },
   {
    "duration": 52,
    "start_time": "2024-12-26T15:45:55.535Z"
   },
   {
    "duration": 4,
    "start_time": "2024-12-26T15:45:55.588Z"
   },
   {
    "duration": 10,
    "start_time": "2024-12-26T15:45:55.594Z"
   },
   {
    "duration": 6,
    "start_time": "2024-12-26T15:45:55.607Z"
   },
   {
    "duration": 8,
    "start_time": "2024-12-26T15:45:55.614Z"
   },
   {
    "duration": 9,
    "start_time": "2024-12-26T15:45:55.624Z"
   },
   {
    "duration": 65,
    "start_time": "2024-12-26T15:45:55.634Z"
   },
   {
    "duration": 9,
    "start_time": "2024-12-26T15:45:55.701Z"
   },
   {
    "duration": 3,
    "start_time": "2024-12-26T15:45:55.712Z"
   },
   {
    "duration": 10,
    "start_time": "2024-12-26T15:45:55.718Z"
   },
   {
    "duration": 34,
    "start_time": "2024-12-26T15:45:55.729Z"
   },
   {
    "duration": 25,
    "start_time": "2024-12-26T15:45:55.765Z"
   },
   {
    "duration": 3,
    "start_time": "2024-12-26T15:45:55.792Z"
   },
   {
    "duration": 23,
    "start_time": "2024-12-26T15:45:55.797Z"
   },
   {
    "duration": 7,
    "start_time": "2024-12-26T15:45:55.822Z"
   },
   {
    "duration": 41,
    "start_time": "2024-12-26T15:45:55.830Z"
   },
   {
    "duration": 9,
    "start_time": "2024-12-26T15:45:55.873Z"
   },
   {
    "duration": 15,
    "start_time": "2024-12-26T15:45:55.884Z"
   },
   {
    "duration": 33,
    "start_time": "2024-12-26T15:45:55.901Z"
   },
   {
    "duration": 29,
    "start_time": "2024-12-26T15:45:55.935Z"
   },
   {
    "duration": 22,
    "start_time": "2024-12-26T15:45:55.966Z"
   },
   {
    "duration": 25,
    "start_time": "2024-12-26T15:45:55.990Z"
   },
   {
    "duration": 10,
    "start_time": "2024-12-26T15:45:56.016Z"
   },
   {
    "duration": 70,
    "start_time": "2024-12-26T15:46:24.208Z"
   },
   {
    "duration": 14,
    "start_time": "2024-12-26T15:46:24.280Z"
   },
   {
    "duration": 16,
    "start_time": "2024-12-26T15:46:24.296Z"
   },
   {
    "duration": 9,
    "start_time": "2024-12-26T15:46:24.314Z"
   },
   {
    "duration": 46,
    "start_time": "2024-12-26T15:46:24.324Z"
   },
   {
    "duration": 3,
    "start_time": "2024-12-26T15:46:24.372Z"
   },
   {
    "duration": 15,
    "start_time": "2024-12-26T15:46:24.377Z"
   },
   {
    "duration": 7,
    "start_time": "2024-12-26T15:46:24.393Z"
   },
   {
    "duration": 9,
    "start_time": "2024-12-26T15:46:24.401Z"
   },
   {
    "duration": 4,
    "start_time": "2024-12-26T15:46:24.412Z"
   },
   {
    "duration": 30,
    "start_time": "2024-12-26T15:46:24.417Z"
   },
   {
    "duration": 8,
    "start_time": "2024-12-26T15:46:24.449Z"
   },
   {
    "duration": 29,
    "start_time": "2024-12-26T15:46:24.458Z"
   },
   {
    "duration": 18,
    "start_time": "2024-12-26T15:46:24.488Z"
   },
   {
    "duration": 21,
    "start_time": "2024-12-26T15:46:24.507Z"
   },
   {
    "duration": 16,
    "start_time": "2024-12-26T15:46:24.529Z"
   },
   {
    "duration": 55,
    "start_time": "2024-12-26T15:46:24.546Z"
   },
   {
    "duration": 13,
    "start_time": "2024-12-26T15:46:24.603Z"
   },
   {
    "duration": 11,
    "start_time": "2024-12-26T15:46:24.617Z"
   },
   {
    "duration": 9,
    "start_time": "2024-12-26T15:46:24.629Z"
   },
   {
    "duration": 16,
    "start_time": "2024-12-26T15:46:24.639Z"
   },
   {
    "duration": 14,
    "start_time": "2024-12-26T15:46:24.656Z"
   },
   {
    "duration": 26,
    "start_time": "2024-12-26T15:46:24.672Z"
   },
   {
    "duration": 17,
    "start_time": "2024-12-26T15:46:24.700Z"
   },
   {
    "duration": 17,
    "start_time": "2024-12-26T15:46:24.719Z"
   },
   {
    "duration": 23,
    "start_time": "2024-12-26T15:46:24.738Z"
   },
   {
    "duration": 31,
    "start_time": "2024-12-26T15:46:24.763Z"
   },
   {
    "duration": 70,
    "start_time": "2024-12-26T15:54:56.283Z"
   },
   {
    "duration": 15,
    "start_time": "2024-12-26T15:54:56.355Z"
   },
   {
    "duration": 18,
    "start_time": "2024-12-26T15:54:56.371Z"
   },
   {
    "duration": 9,
    "start_time": "2024-12-26T15:54:56.391Z"
   },
   {
    "duration": 48,
    "start_time": "2024-12-26T15:54:56.401Z"
   },
   {
    "duration": 3,
    "start_time": "2024-12-26T15:54:56.451Z"
   },
   {
    "duration": 20,
    "start_time": "2024-12-26T15:54:56.455Z"
   },
   {
    "duration": 7,
    "start_time": "2024-12-26T15:54:56.476Z"
   },
   {
    "duration": 10,
    "start_time": "2024-12-26T15:54:56.484Z"
   },
   {
    "duration": 5,
    "start_time": "2024-12-26T15:54:56.496Z"
   },
   {
    "duration": 60,
    "start_time": "2024-12-26T15:54:56.502Z"
   },
   {
    "duration": 9,
    "start_time": "2024-12-26T15:54:56.563Z"
   },
   {
    "duration": 16,
    "start_time": "2024-12-26T15:54:56.573Z"
   },
   {
    "duration": 11,
    "start_time": "2024-12-26T15:54:56.591Z"
   },
   {
    "duration": 34,
    "start_time": "2024-12-26T15:54:56.603Z"
   },
   {
    "duration": 18,
    "start_time": "2024-12-26T15:54:56.638Z"
   },
   {
    "duration": 3,
    "start_time": "2024-12-26T15:54:56.658Z"
   },
   {
    "duration": 32,
    "start_time": "2024-12-26T15:54:56.663Z"
   },
   {
    "duration": 6,
    "start_time": "2024-12-26T15:54:56.697Z"
   },
   {
    "duration": 19,
    "start_time": "2024-12-26T15:54:56.704Z"
   },
   {
    "duration": 16,
    "start_time": "2024-12-26T15:54:56.724Z"
   },
   {
    "duration": 15,
    "start_time": "2024-12-26T15:54:56.742Z"
   },
   {
    "duration": 40,
    "start_time": "2024-12-26T15:54:56.758Z"
   },
   {
    "duration": 17,
    "start_time": "2024-12-26T15:54:56.800Z"
   },
   {
    "duration": 26,
    "start_time": "2024-12-26T15:54:56.818Z"
   },
   {
    "duration": 30,
    "start_time": "2024-12-26T15:54:56.846Z"
   },
   {
    "duration": 26,
    "start_time": "2024-12-26T15:54:56.886Z"
   },
   {
    "duration": 67,
    "start_time": "2024-12-26T15:55:45.363Z"
   },
   {
    "duration": 13,
    "start_time": "2024-12-26T15:55:45.433Z"
   },
   {
    "duration": 30,
    "start_time": "2024-12-26T15:55:45.448Z"
   },
   {
    "duration": 8,
    "start_time": "2024-12-26T15:55:45.480Z"
   },
   {
    "duration": 32,
    "start_time": "2024-12-26T15:55:45.490Z"
   },
   {
    "duration": 4,
    "start_time": "2024-12-26T15:55:45.524Z"
   },
   {
    "duration": 9,
    "start_time": "2024-12-26T15:55:45.530Z"
   },
   {
    "duration": 13,
    "start_time": "2024-12-26T15:55:45.541Z"
   },
   {
    "duration": 6,
    "start_time": "2024-12-26T15:55:45.556Z"
   },
   {
    "duration": 24,
    "start_time": "2024-12-26T15:55:45.565Z"
   },
   {
    "duration": 63,
    "start_time": "2024-12-26T15:55:45.590Z"
   },
   {
    "duration": 9,
    "start_time": "2024-12-26T15:55:45.655Z"
   },
   {
    "duration": 7,
    "start_time": "2024-12-26T15:55:45.665Z"
   },
   {
    "duration": 13,
    "start_time": "2024-12-26T15:55:45.674Z"
   },
   {
    "duration": 23,
    "start_time": "2024-12-26T15:55:45.689Z"
   },
   {
    "duration": 15,
    "start_time": "2024-12-26T15:55:45.714Z"
   },
   {
    "duration": 3,
    "start_time": "2024-12-26T15:55:45.731Z"
   },
   {
    "duration": 32,
    "start_time": "2024-12-26T15:55:45.736Z"
   },
   {
    "duration": 5,
    "start_time": "2024-12-26T15:55:45.770Z"
   },
   {
    "duration": 3,
    "start_time": "2024-12-26T15:55:45.777Z"
   },
   {
    "duration": 20,
    "start_time": "2024-12-26T15:55:45.782Z"
   },
   {
    "duration": 17,
    "start_time": "2024-12-26T15:55:45.803Z"
   },
   {
    "duration": 30,
    "start_time": "2024-12-26T15:55:45.822Z"
   },
   {
    "duration": 18,
    "start_time": "2024-12-26T15:55:45.853Z"
   },
   {
    "duration": 22,
    "start_time": "2024-12-26T15:55:45.872Z"
   },
   {
    "duration": 24,
    "start_time": "2024-12-26T15:55:45.896Z"
   },
   {
    "duration": 24,
    "start_time": "2024-12-26T15:55:45.922Z"
   },
   {
    "duration": 70,
    "start_time": "2024-12-26T15:59:39.916Z"
   },
   {
    "duration": 15,
    "start_time": "2024-12-26T15:59:39.987Z"
   },
   {
    "duration": 54,
    "start_time": "2024-12-26T15:59:40.004Z"
   },
   {
    "duration": 9,
    "start_time": "2024-12-26T15:59:40.060Z"
   },
   {
    "duration": 39,
    "start_time": "2024-12-26T15:59:40.071Z"
   },
   {
    "duration": 3,
    "start_time": "2024-12-26T15:59:40.112Z"
   },
   {
    "duration": 15,
    "start_time": "2024-12-26T15:59:40.117Z"
   },
   {
    "duration": 18,
    "start_time": "2024-12-26T15:59:40.133Z"
   },
   {
    "duration": 7,
    "start_time": "2024-12-26T15:59:40.152Z"
   },
   {
    "duration": 8,
    "start_time": "2024-12-26T15:59:40.161Z"
   },
   {
    "duration": 31,
    "start_time": "2024-12-26T15:59:40.171Z"
   },
   {
    "duration": 10,
    "start_time": "2024-12-26T15:59:40.204Z"
   },
   {
    "duration": 4,
    "start_time": "2024-12-26T15:59:40.216Z"
   },
   {
    "duration": 11,
    "start_time": "2024-12-26T15:59:40.222Z"
   },
   {
    "duration": 31,
    "start_time": "2024-12-26T15:59:40.234Z"
   },
   {
    "duration": 33,
    "start_time": "2024-12-26T15:59:40.267Z"
   },
   {
    "duration": 4,
    "start_time": "2024-12-26T15:59:40.301Z"
   },
   {
    "duration": 12,
    "start_time": "2024-12-26T15:59:40.306Z"
   },
   {
    "duration": 6,
    "start_time": "2024-12-26T15:59:40.320Z"
   },
   {
    "duration": 4,
    "start_time": "2024-12-26T15:59:40.327Z"
   },
   {
    "duration": 9,
    "start_time": "2024-12-26T15:59:40.332Z"
   },
   {
    "duration": 15,
    "start_time": "2024-12-26T15:59:40.343Z"
   },
   {
    "duration": 53,
    "start_time": "2024-12-26T15:59:40.359Z"
   },
   {
    "duration": 17,
    "start_time": "2024-12-26T15:59:40.414Z"
   },
   {
    "duration": 18,
    "start_time": "2024-12-26T15:59:40.432Z"
   },
   {
    "duration": 46,
    "start_time": "2024-12-26T15:59:40.451Z"
   },
   {
    "duration": 31,
    "start_time": "2024-12-26T15:59:40.500Z"
   },
   {
    "duration": 70,
    "start_time": "2024-12-26T16:00:14.827Z"
   },
   {
    "duration": 14,
    "start_time": "2024-12-26T16:00:14.898Z"
   },
   {
    "duration": 42,
    "start_time": "2024-12-26T16:00:14.914Z"
   },
   {
    "duration": 9,
    "start_time": "2024-12-26T16:00:14.957Z"
   },
   {
    "duration": 29,
    "start_time": "2024-12-26T16:00:14.968Z"
   },
   {
    "duration": 4,
    "start_time": "2024-12-26T16:00:14.999Z"
   },
   {
    "duration": 57,
    "start_time": "2024-12-26T16:00:15.004Z"
   },
   {
    "duration": 25,
    "start_time": "2024-12-26T16:00:15.063Z"
   },
   {
    "duration": 20,
    "start_time": "2024-12-26T16:00:15.089Z"
   },
   {
    "duration": 17,
    "start_time": "2024-12-26T16:00:15.111Z"
   },
   {
    "duration": 51,
    "start_time": "2024-12-26T16:00:15.129Z"
   },
   {
    "duration": 8,
    "start_time": "2024-12-26T16:00:15.182Z"
   },
   {
    "duration": 83,
    "start_time": "2024-12-26T16:00:15.192Z"
   },
   {
    "duration": 23,
    "start_time": "2024-12-26T16:00:15.277Z"
   },
   {
    "duration": 30,
    "start_time": "2024-12-26T16:00:15.302Z"
   },
   {
    "duration": 27,
    "start_time": "2024-12-26T16:00:15.335Z"
   },
   {
    "duration": 5,
    "start_time": "2024-12-26T16:00:15.363Z"
   },
   {
    "duration": 26,
    "start_time": "2024-12-26T16:00:15.369Z"
   },
   {
    "duration": 5,
    "start_time": "2024-12-26T16:00:15.397Z"
   },
   {
    "duration": 18,
    "start_time": "2024-12-26T16:00:15.404Z"
   },
   {
    "duration": 57,
    "start_time": "2024-12-26T16:00:15.423Z"
   },
   {
    "duration": 26,
    "start_time": "2024-12-26T16:00:15.481Z"
   },
   {
    "duration": 41,
    "start_time": "2024-12-26T16:00:15.509Z"
   },
   {
    "duration": 25,
    "start_time": "2024-12-26T16:00:15.552Z"
   },
   {
    "duration": 25,
    "start_time": "2024-12-26T16:00:15.579Z"
   },
   {
    "duration": 28,
    "start_time": "2024-12-26T16:00:15.606Z"
   },
   {
    "duration": 36,
    "start_time": "2024-12-26T16:00:15.635Z"
   },
   {
    "duration": 69,
    "start_time": "2024-12-26T16:11:45.293Z"
   },
   {
    "duration": 36,
    "start_time": "2024-12-26T16:11:45.364Z"
   },
   {
    "duration": 25,
    "start_time": "2024-12-26T16:11:45.402Z"
   },
   {
    "duration": 9,
    "start_time": "2024-12-26T16:11:45.429Z"
   },
   {
    "duration": 46,
    "start_time": "2024-12-26T16:11:45.439Z"
   },
   {
    "duration": 3,
    "start_time": "2024-12-26T16:11:45.487Z"
   },
   {
    "duration": 13,
    "start_time": "2024-12-26T16:11:45.491Z"
   },
   {
    "duration": 4,
    "start_time": "2024-12-26T16:11:45.505Z"
   },
   {
    "duration": 5,
    "start_time": "2024-12-26T16:11:45.510Z"
   },
   {
    "duration": 20,
    "start_time": "2024-12-26T16:11:45.517Z"
   },
   {
    "duration": 51,
    "start_time": "2024-12-26T16:11:45.539Z"
   },
   {
    "duration": 13,
    "start_time": "2024-12-26T16:11:45.591Z"
   },
   {
    "duration": 19,
    "start_time": "2024-12-26T16:11:45.606Z"
   },
   {
    "duration": 14,
    "start_time": "2024-12-26T16:11:45.627Z"
   },
   {
    "duration": 27,
    "start_time": "2024-12-26T16:11:45.642Z"
   },
   {
    "duration": 18,
    "start_time": "2024-12-26T16:11:45.671Z"
   },
   {
    "duration": 3,
    "start_time": "2024-12-26T16:11:45.691Z"
   },
   {
    "duration": 34,
    "start_time": "2024-12-26T16:11:45.695Z"
   },
   {
    "duration": 9,
    "start_time": "2024-12-26T16:11:45.730Z"
   },
   {
    "duration": 3,
    "start_time": "2024-12-26T16:11:45.741Z"
   },
   {
    "duration": 16,
    "start_time": "2024-12-26T16:11:45.745Z"
   },
   {
    "duration": 22,
    "start_time": "2024-12-26T16:11:45.762Z"
   },
   {
    "duration": 26,
    "start_time": "2024-12-26T16:11:45.785Z"
   },
   {
    "duration": 16,
    "start_time": "2024-12-26T16:11:45.813Z"
   },
   {
    "duration": 17,
    "start_time": "2024-12-26T16:11:45.831Z"
   },
   {
    "duration": 47,
    "start_time": "2024-12-26T16:11:45.850Z"
   },
   {
    "duration": 28,
    "start_time": "2024-12-26T16:11:45.899Z"
   },
   {
    "duration": 537,
    "start_time": "2024-12-26T20:44:53.541Z"
   },
   {
    "duration": 22,
    "start_time": "2024-12-26T20:44:54.080Z"
   },
   {
    "duration": 16,
    "start_time": "2024-12-26T20:44:54.104Z"
   },
   {
    "duration": 11,
    "start_time": "2024-12-26T20:44:54.122Z"
   },
   {
    "duration": 69,
    "start_time": "2024-12-26T20:44:54.134Z"
   },
   {
    "duration": 3,
    "start_time": "2024-12-26T20:44:54.205Z"
   },
   {
    "duration": 26,
    "start_time": "2024-12-26T20:44:54.210Z"
   },
   {
    "duration": 19,
    "start_time": "2024-12-26T20:44:54.237Z"
   },
   {
    "duration": 26,
    "start_time": "2024-12-26T20:44:54.258Z"
   },
   {
    "duration": 10,
    "start_time": "2024-12-26T20:44:54.287Z"
   },
   {
    "duration": 54,
    "start_time": "2024-12-26T20:44:54.299Z"
   },
   {
    "duration": 10,
    "start_time": "2024-12-26T20:44:54.354Z"
   },
   {
    "duration": 19,
    "start_time": "2024-12-26T20:44:54.365Z"
   },
   {
    "duration": 55,
    "start_time": "2024-12-26T20:44:54.386Z"
   },
   {
    "duration": 39,
    "start_time": "2024-12-26T20:44:54.443Z"
   },
   {
    "duration": 23,
    "start_time": "2024-12-26T20:44:54.483Z"
   },
   {
    "duration": 99,
    "start_time": "2024-12-26T20:44:54.508Z"
   },
   {
    "duration": 37,
    "start_time": "2024-12-26T20:44:54.609Z"
   },
   {
    "duration": 10,
    "start_time": "2024-12-26T20:44:54.648Z"
   },
   {
    "duration": 6,
    "start_time": "2024-12-26T20:44:54.660Z"
   },
   {
    "duration": 41,
    "start_time": "2024-12-26T20:44:54.669Z"
   },
   {
    "duration": 16,
    "start_time": "2024-12-26T20:44:54.712Z"
   },
   {
    "duration": 61,
    "start_time": "2024-12-26T20:44:54.731Z"
   },
   {
    "duration": 20,
    "start_time": "2024-12-26T20:44:54.794Z"
   },
   {
    "duration": 19,
    "start_time": "2024-12-26T20:44:54.815Z"
   },
   {
    "duration": 26,
    "start_time": "2024-12-26T20:44:54.836Z"
   },
   {
    "duration": 38,
    "start_time": "2024-12-26T20:44:54.863Z"
   }
  ],
  "colab": {
   "name": "dpp_template_part2.ipynb",
   "provenance": []
  },
  "kernelspec": {
   "display_name": "Python 3 (ipykernel)",
   "language": "python",
   "name": "python3"
  },
  "language_info": {
   "codemirror_mode": {
    "name": "ipython",
    "version": 3
   },
   "file_extension": ".py",
   "mimetype": "text/x-python",
   "name": "python",
   "nbconvert_exporter": "python",
   "pygments_lexer": "ipython3",
   "version": "3.9.5"
  },
  "toc": {
   "base_numbering": 1,
   "nav_menu": {},
   "number_sections": true,
   "sideBar": true,
   "skip_h1_title": true,
   "title_cell": "Table of Contents",
   "title_sidebar": "Contents",
   "toc_cell": false,
   "toc_position": {
    "height": "calc(100% - 180px)",
    "left": "10px",
    "top": "150px",
    "width": "252.8px"
   },
   "toc_section_display": true,
   "toc_window_display": true
  }
 },
 "nbformat": 4,
 "nbformat_minor": 5
}
